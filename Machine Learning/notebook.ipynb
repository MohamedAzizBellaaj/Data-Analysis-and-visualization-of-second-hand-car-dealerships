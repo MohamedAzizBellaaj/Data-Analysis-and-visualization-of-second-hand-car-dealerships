{
 "cells": [
  {
   "cell_type": "code",
   "execution_count": 161,
   "metadata": {},
   "outputs": [],
   "source": [
    "import pandas as pd\n",
    "import numpy as np\n",
    "from sklearn.model_selection import train_test_split\n",
    "from sklearn.metrics import r2_score\n",
    "from sklearn.compose import ColumnTransformer\n",
    "from sklearn.pipeline import Pipeline\n",
    "from sklearn.impute import SimpleImputer\n",
    "from sklearn.preprocessing import OneHotEncoder\n",
    "from datetime import datetime\n",
    "from xgboost import XGBRegressor\n",
    "\n",
    "X = pd.read_csv(\"../Cleaning/new_clean_data.csv\", index_col=0)\n",
    "\n",
    "X.dropna(axis=0, subset=[\"price\"], inplace=True)\n",
    "y = X[\"price\"]\n",
    "X.drop([\"price\"], axis=1, inplace=True)\n"
   ]
  },
  {
   "attachments": {},
   "cell_type": "markdown",
   "metadata": {},
   "source": [
    "# Feature engineering\n"
   ]
  },
  {
   "attachments": {},
   "cell_type": "markdown",
   "metadata": {},
   "source": [
    "## Selecting categorical values\n"
   ]
  },
  {
   "cell_type": "code",
   "execution_count": 162,
   "metadata": {},
   "outputs": [
    {
     "data": {
      "text/plain": [
       "['brand', 'model', 'location', 'body_type', 'fuel', 'transmission', 'color']"
      ]
     },
     "execution_count": 162,
     "metadata": {},
     "output_type": "execute_result"
    }
   ],
   "source": [
    "categorical_cols = [cname for cname in X.columns if X[cname].dtype == \"object\"]\n",
    "categorical_cols\n"
   ]
  },
  {
   "attachments": {},
   "cell_type": "markdown",
   "metadata": {},
   "source": [
    "## Selecting numeric values\n"
   ]
  },
  {
   "cell_type": "code",
   "execution_count": 163,
   "metadata": {},
   "outputs": [
    {
     "data": {
      "text/plain": [
       "['mileage', 'year', 'power', 'engine_size']"
      ]
     },
     "execution_count": 163,
     "metadata": {},
     "output_type": "execute_result"
    }
   ],
   "source": [
    "numerical_cols = [\n",
    "    cname for cname in X.columns if X[cname].dtype in [\"int64\", \"float64\"]\n",
    "]\n",
    "numerical_cols\n"
   ]
  },
  {
   "cell_type": "code",
   "execution_count": 164,
   "metadata": {},
   "outputs": [],
   "source": [
    "from datetime import datetime\n",
    "\n",
    "now = datetime.now()\n",
    "# X[\"age\"] = now.year - X[\"year\"] + 1\n",
    "# X[\"mileage_over_year\"] = X[\"mileage\"] + X[\"age\"]\n"
   ]
  },
  {
   "cell_type": "code",
   "execution_count": 165,
   "metadata": {},
   "outputs": [
    {
     "name": "stdout",
     "output_type": "stream",
     "text": [
      "P-value (price, brand):  0.0\n",
      "P-value (price, model):  0.0\n",
      "P-value (price, location):  1.471872348992479e-08\n",
      "P-value (price, body_type):  1.9711353417429463e-15\n",
      "P-value (price, fuel):  0.0\n",
      "P-value (price, transmission):  1.7114094636921104e-217\n",
      "P-value (price, color):  1.0\n"
     ]
    }
   ],
   "source": [
    "from scipy.stats import chi2_contingency\n",
    "\n",
    "data = pd.concat([X, y], axis=1)\n",
    "for col in categorical_cols:\n",
    "    csq = chi2_contingency(pd.crosstab(data[\"price\"], data[col]))\n",
    "    print(f\"P-value (price, {col}): \", csq[1])\n"
   ]
  },
  {
   "cell_type": "code",
   "execution_count": 166,
   "metadata": {},
   "outputs": [
    {
     "data": {
      "text/plain": [
       "['brand', 'model', 'location', 'body_type', 'fuel', 'transmission', 'color']"
      ]
     },
     "execution_count": 166,
     "metadata": {},
     "output_type": "execute_result"
    }
   ],
   "source": [
    "categorical_cols"
   ]
  },
  {
   "attachments": {},
   "cell_type": "markdown",
   "metadata": {},
   "source": [
    "# Preprocessing\n"
   ]
  },
  {
   "attachments": {},
   "cell_type": "markdown",
   "metadata": {},
   "source": [
    "## Splitting data into Train, Validation and Test data\n"
   ]
  },
  {
   "cell_type": "code",
   "execution_count": 167,
   "metadata": {},
   "outputs": [],
   "source": [
    "X_train_full, X_valid_full, y_train, y_valid = train_test_split(\n",
    "    X, y, train_size=0.8, test_size=0.2, random_state=0\n",
    ")\n",
    "X_train_full, X_test_full, y_train, y_test = train_test_split(\n",
    "    X_train_full, y_train, test_size=0.25, random_state=0\n",
    ")\n"
   ]
  },
  {
   "attachments": {},
   "cell_type": "markdown",
   "metadata": {},
   "source": [
    "## Keep selected columns only\n"
   ]
  },
  {
   "cell_type": "code",
   "execution_count": 168,
   "metadata": {},
   "outputs": [],
   "source": [
    "my_cols = categorical_cols + numerical_cols\n",
    "X_train = X_train_full[my_cols].copy()\n",
    "X_valid = X_valid_full[my_cols].copy()\n",
    "X_test = X_test_full[my_cols].copy()\n"
   ]
  },
  {
   "attachments": {},
   "cell_type": "markdown",
   "metadata": {},
   "source": [
    "## Handling missing values\n"
   ]
  },
  {
   "cell_type": "code",
   "execution_count": 169,
   "metadata": {},
   "outputs": [],
   "source": [
    "# imputer for num data\n",
    "numerical_transformer = SimpleImputer(strategy=\"mean\")\n",
    "imputed_num_train = pd.DataFrame(\n",
    "    numerical_transformer.fit_transform(X_train[numerical_cols])\n",
    ")\n",
    "\n",
    "imputed_num_valid = pd.DataFrame(\n",
    "    numerical_transformer.transform(X_valid[numerical_cols])\n",
    ")\n",
    "\n",
    "imputed_num_test = pd.DataFrame(numerical_transformer.transform(X_test[numerical_cols]))\n",
    "# imputer for cat data\n",
    "categorical_transformer = SimpleImputer(strategy=\"most_frequent\")\n",
    "imputed_cat_train = pd.DataFrame(\n",
    "    categorical_transformer.fit_transform(X_train[categorical_cols])\n",
    ")\n",
    "\n",
    "imputed_cat_valid = pd.DataFrame(\n",
    "    categorical_transformer.transform(X_valid[categorical_cols])\n",
    ")\n",
    "\n",
    "imputed_cat_test = pd.DataFrame(\n",
    "    categorical_transformer.transform(X_test[categorical_cols])\n",
    ")\n",
    "\n",
    "imputed_num_train.columns = numerical_cols\n",
    "imputed_num_valid.columns = numerical_cols\n",
    "imputed_num_test.columns = numerical_cols\n",
    "\n",
    "imputed_cat_train.columns = categorical_cols\n",
    "imputed_cat_valid.columns = categorical_cols\n",
    "imputed_cat_test.columns = categorical_cols\n",
    "\n",
    "X_train = pd.concat([imputed_num_train, imputed_cat_train], axis=1)\n",
    "X_valid = pd.concat([imputed_num_valid, imputed_cat_valid], axis=1)\n",
    "X_test = pd.concat([imputed_num_test, imputed_cat_test], axis=1)"
   ]
  },
  {
   "attachments": {},
   "cell_type": "markdown",
   "metadata": {},
   "source": [
    "# One-hot encode the data\n"
   ]
  },
  {
   "cell_type": "code",
   "execution_count": 170,
   "metadata": {},
   "outputs": [
    {
     "name": "stderr",
     "output_type": "stream",
     "text": [
      "/home/azizb/anaconda3/envs/data-science/lib/python3.11/site-packages/sklearn/preprocessing/_encoders.py:868: FutureWarning: `sparse` was renamed to `sparse_output` in version 1.2 and will be removed in 1.4. `sparse_output` is ignored unless you leave `sparse` to its default value.\n",
      "  warnings.warn(\n"
     ]
    }
   ],
   "source": [
    "OH_encoder = OneHotEncoder(handle_unknown=\"ignore\", sparse=False)\n",
    "OH_X_train = pd.DataFrame(OH_encoder.fit_transform(X_train[categorical_cols]))\n",
    "OH_X_valid = pd.DataFrame(OH_encoder.transform(X_valid[categorical_cols]))\n",
    "OH_X_test = pd.DataFrame(OH_encoder.transform(X_test[categorical_cols]))\n",
    "OH_X_train.index = X_train.index\n",
    "OH_X_valid.index = X_valid.index\n",
    "OH_X_test.index = X_test.index\n",
    "\n",
    "num_X_train = X_train.drop(categorical_cols, axis=1)\n",
    "num_X_valid = X_valid.drop(categorical_cols, axis=1)\n",
    "num_X_test = X_test.drop(categorical_cols, axis=1)\n",
    "X_train = pd.concat([num_X_train, OH_X_train], axis=1)\n",
    "X_valid = pd.concat([num_X_valid, OH_X_valid], axis=1)\n",
    "X_test = pd.concat([num_X_test, OH_X_test], axis=1)\n"
   ]
  },
  {
   "attachments": {},
   "cell_type": "markdown",
   "metadata": {},
   "source": [
    "# Modeling\n"
   ]
  },
  {
   "attachments": {},
   "cell_type": "markdown",
   "metadata": {},
   "source": [
    "## Random Forest\n"
   ]
  },
  {
   "cell_type": "code",
   "execution_count": 171,
   "metadata": {},
   "outputs": [
    {
     "name": "stdout",
     "output_type": "stream",
     "text": [
      "0.7504133999023445\n"
     ]
    }
   ],
   "source": [
    "from sklearn.ensemble import RandomForestRegressor\n",
    "\n",
    "forest_model = RandomForestRegressor(random_state=7)\n",
    "X_train.columns = X_train.columns.astype(str)\n",
    "X_valid.columns = X_valid.columns.astype(str)\n",
    "forest_model.fit(X_train, y_train)\n",
    "\n",
    "preds = forest_model.predict(X_valid)\n",
    "print(r2_score(y_valid, preds))"
   ]
  },
  {
   "cell_type": "code",
   "execution_count": 172,
   "metadata": {},
   "outputs": [],
   "source": [
    "# Number of trees in random forest\n",
    "n_estimators = [int(x) for x in np.linspace(start=200, stop=2000, num=10)]\n",
    "# Number of features to consider at every split\n",
    "max_features = [\"auto\", \"sqrt\"]\n",
    "# Maximum number of levels in tree\n",
    "max_depth = [int(x) for x in np.linspace(10, 110, num=11)]\n",
    "max_depth.append(None)\n",
    "# Minimum number of samples required to split a node\n",
    "min_samples_split = [2, 5, 10]\n",
    "# Minimum number of samples required at each leaf node\n",
    "min_samples_leaf = [1, 2, 4]\n",
    "# Method of selecting samples for training each tree\n",
    "bootstrap = [True, False]\n",
    "# Create the random grid\n",
    "random_grid = {\n",
    "    \"n_estimators\": n_estimators,\n",
    "    \"max_features\": max_features,\n",
    "    \"max_depth\": max_depth,\n",
    "    \"min_samples_split\": min_samples_split,\n",
    "    \"min_samples_leaf\": min_samples_leaf,\n",
    "    \"bootstrap\": bootstrap,\n",
    "}"
   ]
  },
  {
   "cell_type": "code",
   "execution_count": 173,
   "metadata": {},
   "outputs": [
    {
     "name": "stdout",
     "output_type": "stream",
     "text": [
      "Fitting 2 folds for each of 10 candidates, totalling 20 fits\n"
     ]
    },
    {
     "name": "stderr",
     "output_type": "stream",
     "text": [
      "/home/azizb/anaconda3/envs/data-science/lib/python3.11/site-packages/sklearn/ensemble/_forest.py:413: FutureWarning: `max_features='auto'` has been deprecated in 1.1 and will be removed in 1.3. To keep the past behaviour, explicitly set `max_features=1.0` or remove this parameter as it is also the default value for RandomForestRegressors and ExtraTreesRegressors.\n",
      "  warn(\n",
      "/home/azizb/anaconda3/envs/data-science/lib/python3.11/site-packages/sklearn/ensemble/_forest.py:413: FutureWarning: `max_features='auto'` has been deprecated in 1.1 and will be removed in 1.3. To keep the past behaviour, explicitly set `max_features=1.0` or remove this parameter as it is also the default value for RandomForestRegressors and ExtraTreesRegressors.\n",
      "  warn(\n",
      "/home/azizb/anaconda3/envs/data-science/lib/python3.11/site-packages/sklearn/ensemble/_forest.py:413: FutureWarning: `max_features='auto'` has been deprecated in 1.1 and will be removed in 1.3. To keep the past behaviour, explicitly set `max_features=1.0` or remove this parameter as it is also the default value for RandomForestRegressors and ExtraTreesRegressors.\n",
      "  warn(\n",
      "/home/azizb/anaconda3/envs/data-science/lib/python3.11/site-packages/sklearn/ensemble/_forest.py:413: FutureWarning: `max_features='auto'` has been deprecated in 1.1 and will be removed in 1.3. To keep the past behaviour, explicitly set `max_features=1.0` or remove this parameter as it is also the default value for RandomForestRegressors and ExtraTreesRegressors.\n",
      "  warn(\n",
      "/home/azizb/anaconda3/envs/data-science/lib/python3.11/site-packages/sklearn/ensemble/_forest.py:413: FutureWarning: `max_features='auto'` has been deprecated in 1.1 and will be removed in 1.3. To keep the past behaviour, explicitly set `max_features=1.0` or remove this parameter as it is also the default value for RandomForestRegressors and ExtraTreesRegressors.\n",
      "  warn(\n",
      "/home/azizb/anaconda3/envs/data-science/lib/python3.11/site-packages/sklearn/ensemble/_forest.py:413: FutureWarning: `max_features='auto'` has been deprecated in 1.1 and will be removed in 1.3. To keep the past behaviour, explicitly set `max_features=1.0` or remove this parameter as it is also the default value for RandomForestRegressors and ExtraTreesRegressors.\n",
      "  warn(\n"
     ]
    },
    {
     "name": "stdout",
     "output_type": "stream",
     "text": [
      "[CV] END bootstrap=True, max_depth=10, max_features=sqrt, min_samples_leaf=2, min_samples_split=5, n_estimators=200; total time=   1.3s\n",
      "[CV] END bootstrap=True, max_depth=10, max_features=sqrt, min_samples_leaf=2, min_samples_split=5, n_estimators=200; total time=   1.4s\n"
     ]
    },
    {
     "name": "stderr",
     "output_type": "stream",
     "text": [
      "/home/azizb/anaconda3/envs/data-science/lib/python3.11/site-packages/sklearn/ensemble/_forest.py:413: FutureWarning: `max_features='auto'` has been deprecated in 1.1 and will be removed in 1.3. To keep the past behaviour, explicitly set `max_features=1.0` or remove this parameter as it is also the default value for RandomForestRegressors and ExtraTreesRegressors.\n",
      "  warn(\n",
      "/home/azizb/anaconda3/envs/data-science/lib/python3.11/site-packages/sklearn/ensemble/_forest.py:413: FutureWarning: `max_features='auto'` has been deprecated in 1.1 and will be removed in 1.3. To keep the past behaviour, explicitly set `max_features=1.0` or remove this parameter as it is also the default value for RandomForestRegressors and ExtraTreesRegressors.\n",
      "  warn(\n",
      "/home/azizb/anaconda3/envs/data-science/lib/python3.11/site-packages/sklearn/ensemble/_forest.py:413: FutureWarning: `max_features='auto'` has been deprecated in 1.1 and will be removed in 1.3. To keep the past behaviour, explicitly set `max_features=1.0` or remove this parameter as it is also the default value for RandomForestRegressors and ExtraTreesRegressors.\n",
      "  warn(\n"
     ]
    },
    {
     "name": "stdout",
     "output_type": "stream",
     "text": [
      "[CV] END bootstrap=True, max_depth=50, max_features=sqrt, min_samples_leaf=2, min_samples_split=10, n_estimators=200; total time=   1.6s\n",
      "[CV] END bootstrap=True, max_depth=50, max_features=sqrt, min_samples_leaf=2, min_samples_split=10, n_estimators=200; total time=   2.6s\n"
     ]
    },
    {
     "name": "stderr",
     "output_type": "stream",
     "text": [
      "/home/azizb/anaconda3/envs/data-science/lib/python3.11/site-packages/sklearn/ensemble/_forest.py:413: FutureWarning: `max_features='auto'` has been deprecated in 1.1 and will be removed in 1.3. To keep the past behaviour, explicitly set `max_features=1.0` or remove this parameter as it is also the default value for RandomForestRegressors and ExtraTreesRegressors.\n",
      "  warn(\n"
     ]
    },
    {
     "name": "stdout",
     "output_type": "stream",
     "text": [
      "[CV] END bootstrap=False, max_depth=90, max_features=sqrt, min_samples_leaf=4, min_samples_split=10, n_estimators=600; total time=   5.5s\n",
      "[CV] END bootstrap=False, max_depth=90, max_features=sqrt, min_samples_leaf=4, min_samples_split=10, n_estimators=600; total time=   6.9s\n",
      "[CV] END bootstrap=False, max_depth=60, max_features=sqrt, min_samples_leaf=1, min_samples_split=10, n_estimators=400; total time=   8.4s\n",
      "[CV] END bootstrap=False, max_depth=60, max_features=sqrt, min_samples_leaf=1, min_samples_split=10, n_estimators=400; total time=   8.6s\n",
      "[CV] END bootstrap=True, max_depth=30, max_features=sqrt, min_samples_leaf=1, min_samples_split=5, n_estimators=1400; total time=  17.3s\n",
      "[CV] END bootstrap=True, max_depth=30, max_features=sqrt, min_samples_leaf=1, min_samples_split=5, n_estimators=1400; total time=  17.4s\n",
      "[CV] END bootstrap=False, max_depth=60, max_features=auto, min_samples_leaf=2, min_samples_split=2, n_estimators=600; total time=  28.1s\n",
      "[CV] END bootstrap=False, max_depth=60, max_features=auto, min_samples_leaf=2, min_samples_split=2, n_estimators=600; total time=  28.7s\n",
      "[CV] END bootstrap=True, max_depth=100, max_features=auto, min_samples_leaf=4, min_samples_split=2, n_estimators=1200; total time=  28.6s\n",
      "[CV] END bootstrap=True, max_depth=100, max_features=auto, min_samples_leaf=4, min_samples_split=2, n_estimators=1200; total time=  28.7s\n",
      "[CV] END bootstrap=False, max_depth=80, max_features=auto, min_samples_leaf=1, min_samples_split=10, n_estimators=1000; total time=  39.2s\n",
      "[CV] END bootstrap=False, max_depth=80, max_features=auto, min_samples_leaf=1, min_samples_split=10, n_estimators=1000; total time=  40.1s\n",
      "[CV] END bootstrap=True, max_depth=50, max_features=auto, min_samples_leaf=2, min_samples_split=5, n_estimators=2000; total time=  42.3s\n",
      "[CV] END bootstrap=True, max_depth=50, max_features=auto, min_samples_leaf=2, min_samples_split=5, n_estimators=2000; total time=  43.6s\n",
      "[CV] END bootstrap=False, max_depth=50, max_features=auto, min_samples_leaf=2, min_samples_split=2, n_estimators=2000; total time=  57.8s\n",
      "[CV] END bootstrap=False, max_depth=50, max_features=auto, min_samples_leaf=2, min_samples_split=2, n_estimators=2000; total time= 1.0min\n"
     ]
    },
    {
     "name": "stderr",
     "output_type": "stream",
     "text": [
      "/home/azizb/anaconda3/envs/data-science/lib/python3.11/site-packages/sklearn/ensemble/_forest.py:413: FutureWarning: `max_features='auto'` has been deprecated in 1.1 and will be removed in 1.3. To keep the past behaviour, explicitly set `max_features=1.0` or remove this parameter as it is also the default value for RandomForestRegressors and ExtraTreesRegressors.\n",
      "  warn(\n"
     ]
    },
    {
     "data": {
      "text/plain": [
       "{'n_estimators': 2000,\n",
       " 'min_samples_split': 5,\n",
       " 'min_samples_leaf': 2,\n",
       " 'max_features': 'auto',\n",
       " 'max_depth': 50,\n",
       " 'bootstrap': True}"
      ]
     },
     "execution_count": 173,
     "metadata": {},
     "output_type": "execute_result"
    }
   ],
   "source": [
    "# Use the random grid to search for best hyperparameters\n",
    "# First create the base model to tune\n",
    "from sklearn.model_selection import RandomizedSearchCV\n",
    "\n",
    "rf = RandomForestRegressor()\n",
    "# Random search of parameters, using 3 fold cross validation,\n",
    "# search across 100 different combinations, and use all available cores\n",
    "rf_random = RandomizedSearchCV(\n",
    "    estimator=rf,\n",
    "    param_distributions=random_grid,\n",
    "    n_iter=10,\n",
    "    cv=2,\n",
    "    verbose=2,\n",
    "    random_state=42,\n",
    "    n_jobs=-1,\n",
    ")\n",
    "# Fit the random search model\n",
    "rf_random.fit(X_train, y_train)\n",
    "rf_random.best_params_"
   ]
  },
  {
   "cell_type": "code",
   "execution_count": 174,
   "metadata": {},
   "outputs": [],
   "source": [
    "best_random_rf_params = {\n",
    "    \"n_estimators\": 800,\n",
    "    \"min_samples_split\": 2,\n",
    "    \"min_samples_leaf\": 1,\n",
    "    \"max_features\": \"auto\",\n",
    "    \"max_depth\": 100,\n",
    "    \"bootstrap\": True,\n",
    "}\n"
   ]
  },
  {
   "cell_type": "code",
   "execution_count": 175,
   "metadata": {},
   "outputs": [
    {
     "name": "stdout",
     "output_type": "stream",
     "text": [
      "Fitting 2 folds for each of 288 candidates, totalling 576 fits\n",
      "[CV] END bootstrap=True, max_depth=80, max_features=2, min_samples_leaf=1, min_samples_split=8, n_estimators=400; total time=   4.7s\n",
      "[CV] END bootstrap=True, max_depth=80, max_features=2, min_samples_leaf=1, min_samples_split=8, n_estimators=400; total time=   4.7s\n",
      "[CV] END bootstrap=True, max_depth=80, max_features=2, min_samples_leaf=1, min_samples_split=10, n_estimators=400; total time=   5.0s\n",
      "[CV] END bootstrap=True, max_depth=80, max_features=2, min_samples_leaf=1, min_samples_split=10, n_estimators=400; total time=   5.0s\n",
      "[CV] END bootstrap=True, max_depth=80, max_features=2, min_samples_leaf=1, min_samples_split=10, n_estimators=600; total time=   5.3s\n",
      "[CV] END bootstrap=True, max_depth=80, max_features=2, min_samples_leaf=1, min_samples_split=8, n_estimators=600; total time=   6.0s\n",
      "[CV] END bootstrap=True, max_depth=80, max_features=2, min_samples_leaf=1, min_samples_split=8, n_estimators=600; total time=   6.7s\n",
      "[CV] END bootstrap=True, max_depth=80, max_features=2, min_samples_leaf=1, min_samples_split=10, n_estimators=600; total time=   6.9s\n",
      "[CV] END bootstrap=True, max_depth=80, max_features=2, min_samples_leaf=1, min_samples_split=8, n_estimators=800; total time=   7.5s\n",
      "[CV] END bootstrap=True, max_depth=80, max_features=2, min_samples_leaf=1, min_samples_split=10, n_estimators=800; total time=   7.6s\n",
      "[CV] END bootstrap=True, max_depth=80, max_features=2, min_samples_leaf=1, min_samples_split=8, n_estimators=800; total time=   7.9s\n",
      "[CV] END bootstrap=True, max_depth=80, max_features=2, min_samples_leaf=1, min_samples_split=10, n_estimators=800; total time=   7.9s\n",
      "[CV] END bootstrap=True, max_depth=80, max_features=2, min_samples_leaf=1, min_samples_split=12, n_estimators=400; total time=   3.6s\n",
      "[CV] END bootstrap=True, max_depth=80, max_features=2, min_samples_leaf=2, min_samples_split=8, n_estimators=400; total time=   0.8s\n",
      "[CV] END bootstrap=True, max_depth=80, max_features=2, min_samples_leaf=1, min_samples_split=12, n_estimators=400; total time=   3.7s\n",
      "[CV] END bootstrap=True, max_depth=80, max_features=2, min_samples_leaf=2, min_samples_split=8, n_estimators=400; total time=   0.8s\n",
      "[CV] END bootstrap=True, max_depth=80, max_features=2, min_samples_leaf=1, min_samples_split=10, n_estimators=1000; total time=   9.3s\n",
      "[CV] END bootstrap=True, max_depth=80, max_features=2, min_samples_leaf=1, min_samples_split=10, n_estimators=1000; total time=   9.6s\n",
      "[CV] END bootstrap=True, max_depth=80, max_features=2, min_samples_leaf=2, min_samples_split=8, n_estimators=600; total time=   1.8s\n",
      "[CV] END bootstrap=True, max_depth=80, max_features=2, min_samples_leaf=2, min_samples_split=8, n_estimators=600; total time=   1.9s\n",
      "[CV] END bootstrap=True, max_depth=80, max_features=2, min_samples_leaf=2, min_samples_split=8, n_estimators=800; total time=   1.9s\n",
      "[CV] END bootstrap=True, max_depth=80, max_features=2, min_samples_leaf=1, min_samples_split=12, n_estimators=600; total time=   5.3s\n",
      "[CV] END bootstrap=True, max_depth=80, max_features=2, min_samples_leaf=1, min_samples_split=12, n_estimators=600; total time=   5.4s\n",
      "[CV] END bootstrap=True, max_depth=80, max_features=2, min_samples_leaf=2, min_samples_split=10, n_estimators=400; total time=   1.1s\n",
      "[CV] END bootstrap=True, max_depth=80, max_features=2, min_samples_leaf=1, min_samples_split=8, n_estimators=1000; total time=  10.5s\n",
      "[CV] END bootstrap=True, max_depth=80, max_features=2, min_samples_leaf=2, min_samples_split=10, n_estimators=400; total time=   0.9s\n",
      "[CV] END bootstrap=True, max_depth=80, max_features=2, min_samples_leaf=1, min_samples_split=8, n_estimators=1000; total time=  10.6s\n",
      "[CV] END bootstrap=True, max_depth=80, max_features=2, min_samples_leaf=2, min_samples_split=8, n_estimators=800; total time=   2.4s\n",
      "[CV] END bootstrap=True, max_depth=80, max_features=2, min_samples_leaf=2, min_samples_split=8, n_estimators=1000; total time=   2.5s\n",
      "[CV] END bootstrap=True, max_depth=80, max_features=2, min_samples_leaf=1, min_samples_split=12, n_estimators=800; total time=   5.9s\n",
      "[CV] END bootstrap=True, max_depth=80, max_features=2, min_samples_leaf=2, min_samples_split=8, n_estimators=1000; total time=   3.0s\n",
      "[CV] END bootstrap=True, max_depth=80, max_features=2, min_samples_leaf=2, min_samples_split=10, n_estimators=600; total time=   1.7s\n",
      "[CV] END bootstrap=True, max_depth=80, max_features=2, min_samples_leaf=2, min_samples_split=12, n_estimators=400; total time=   1.0s\n",
      "[CV] END bootstrap=True, max_depth=80, max_features=2, min_samples_leaf=2, min_samples_split=12, n_estimators=400; total time=   1.1s\n",
      "[CV] END bootstrap=True, max_depth=80, max_features=2, min_samples_leaf=2, min_samples_split=10, n_estimators=600; total time=   1.9s\n",
      "[CV] END bootstrap=True, max_depth=80, max_features=2, min_samples_leaf=2, min_samples_split=10, n_estimators=800; total time=   2.0s\n",
      "[CV] END bootstrap=True, max_depth=80, max_features=2, min_samples_leaf=2, min_samples_split=12, n_estimators=600; total time=   1.7s\n",
      "[CV] END bootstrap=True, max_depth=80, max_features=2, min_samples_leaf=2, min_samples_split=12, n_estimators=600; total time=   1.8s\n",
      "[CV] END bootstrap=True, max_depth=80, max_features=2, min_samples_leaf=3, min_samples_split=8, n_estimators=400; total time=   0.9s\n",
      "[CV] END bootstrap=True, max_depth=80, max_features=2, min_samples_leaf=1, min_samples_split=12, n_estimators=800; total time=   6.7s\n",
      "[CV] END bootstrap=True, max_depth=80, max_features=2, min_samples_leaf=2, min_samples_split=12, n_estimators=800; total time=   1.9s\n",
      "[CV] END bootstrap=True, max_depth=80, max_features=2, min_samples_leaf=3, min_samples_split=8, n_estimators=400; total time=   1.2s\n",
      "[CV] END bootstrap=True, max_depth=80, max_features=2, min_samples_leaf=2, min_samples_split=10, n_estimators=800; total time=   3.0s\n",
      "[CV] END bootstrap=True, max_depth=80, max_features=2, min_samples_leaf=2, min_samples_split=10, n_estimators=1000; total time=   3.0s\n",
      "[CV] END bootstrap=True, max_depth=80, max_features=2, min_samples_leaf=3, min_samples_split=8, n_estimators=600; total time=   1.4s\n",
      "[CV] END bootstrap=True, max_depth=80, max_features=2, min_samples_leaf=3, min_samples_split=10, n_estimators=400; total time=   0.9s\n",
      "[CV] END bootstrap=True, max_depth=80, max_features=2, min_samples_leaf=3, min_samples_split=8, n_estimators=600; total time=   2.1s\n",
      "[CV] END bootstrap=True, max_depth=80, max_features=2, min_samples_leaf=2, min_samples_split=10, n_estimators=1000; total time=   3.6s\n",
      "[CV] END bootstrap=True, max_depth=80, max_features=2, min_samples_leaf=2, min_samples_split=12, n_estimators=800; total time=   2.7s\n",
      "[CV] END bootstrap=True, max_depth=80, max_features=2, min_samples_leaf=3, min_samples_split=10, n_estimators=400; total time=   1.2s\n",
      "[CV] END bootstrap=True, max_depth=80, max_features=2, min_samples_leaf=2, min_samples_split=12, n_estimators=1000; total time=   2.9s\n",
      "[CV] END bootstrap=True, max_depth=80, max_features=2, min_samples_leaf=2, min_samples_split=12, n_estimators=1000; total time=   2.8s\n",
      "[CV] END bootstrap=True, max_depth=80, max_features=2, min_samples_leaf=1, min_samples_split=12, n_estimators=1000; total time=   7.5s\n",
      "[CV] END bootstrap=True, max_depth=80, max_features=2, min_samples_leaf=3, min_samples_split=8, n_estimators=800; total time=   2.2s\n",
      "[CV] END bootstrap=True, max_depth=80, max_features=2, min_samples_leaf=3, min_samples_split=8, n_estimators=800; total time=   2.2s\n",
      "[CV] END bootstrap=True, max_depth=80, max_features=2, min_samples_leaf=3, min_samples_split=8, n_estimators=1000; total time=   2.3s\n",
      "[CV] END bootstrap=True, max_depth=80, max_features=2, min_samples_leaf=3, min_samples_split=10, n_estimators=600; total time=   1.7s\n",
      "[CV] END bootstrap=True, max_depth=80, max_features=2, min_samples_leaf=3, min_samples_split=12, n_estimators=400; total time=   1.1s\n",
      "[CV] END bootstrap=True, max_depth=80, max_features=2, min_samples_leaf=3, min_samples_split=10, n_estimators=600; total time=   1.6s\n",
      "[CV] END bootstrap=True, max_depth=80, max_features=2, min_samples_leaf=3, min_samples_split=10, n_estimators=800; total time=   1.7s\n",
      "[CV] END bootstrap=True, max_depth=80, max_features=2, min_samples_leaf=3, min_samples_split=10, n_estimators=800; total time=   1.7s\n",
      "[CV] END bootstrap=True, max_depth=80, max_features=2, min_samples_leaf=3, min_samples_split=8, n_estimators=1000; total time=   2.8s\n",
      "[CV] END bootstrap=True, max_depth=80, max_features=2, min_samples_leaf=1, min_samples_split=12, n_estimators=1000; total time=   8.8s\n",
      "[CV] END bootstrap=True, max_depth=80, max_features=2, min_samples_leaf=3, min_samples_split=12, n_estimators=400; total time=   1.5s\n",
      "[CV] END bootstrap=True, max_depth=80, max_features=2, min_samples_leaf=3, min_samples_split=12, n_estimators=600; total time=   1.5s\n",
      "[CV] END bootstrap=True, max_depth=80, max_features=2, min_samples_leaf=3, min_samples_split=12, n_estimators=600; total time=   1.5s\n",
      "[CV] END bootstrap=True, max_depth=80, max_features=2, min_samples_leaf=3, min_samples_split=12, n_estimators=800; total time=   1.7s\n",
      "[CV] END bootstrap=True, max_depth=80, max_features=2, min_samples_leaf=3, min_samples_split=12, n_estimators=800; total time=   1.9s\n",
      "[CV] END bootstrap=True, max_depth=80, max_features=2, min_samples_leaf=3, min_samples_split=10, n_estimators=1000; total time=   2.5s\n",
      "[CV] END bootstrap=True, max_depth=80, max_features=2, min_samples_leaf=3, min_samples_split=10, n_estimators=1000; total time=   2.6s\n",
      "[CV] END bootstrap=True, max_depth=80, max_features=2, min_samples_leaf=3, min_samples_split=12, n_estimators=1000; total time=   2.5s\n",
      "[CV] END bootstrap=True, max_depth=80, max_features=2, min_samples_leaf=3, min_samples_split=12, n_estimators=1000; total time=   2.6s\n",
      "[CV] END bootstrap=True, max_depth=80, max_features=3, min_samples_leaf=1, min_samples_split=8, n_estimators=400; total time=   4.1s\n",
      "[CV] END bootstrap=True, max_depth=80, max_features=3, min_samples_leaf=1, min_samples_split=8, n_estimators=400; total time=   4.5s\n",
      "[CV] END bootstrap=True, max_depth=80, max_features=3, min_samples_leaf=1, min_samples_split=10, n_estimators=400; total time=   4.3s\n",
      "[CV] END bootstrap=True, max_depth=80, max_features=3, min_samples_leaf=1, min_samples_split=8, n_estimators=600; total time=   5.4s\n",
      "[CV] END bootstrap=True, max_depth=80, max_features=3, min_samples_leaf=1, min_samples_split=10, n_estimators=400; total time=   5.1s\n",
      "[CV] END bootstrap=True, max_depth=80, max_features=3, min_samples_leaf=1, min_samples_split=10, n_estimators=600; total time=   5.0s\n",
      "[CV] END bootstrap=True, max_depth=80, max_features=3, min_samples_leaf=1, min_samples_split=8, n_estimators=600; total time=   6.2s\n",
      "[CV] END bootstrap=True, max_depth=80, max_features=3, min_samples_leaf=1, min_samples_split=10, n_estimators=600; total time=   5.8s\n",
      "[CV] END bootstrap=True, max_depth=80, max_features=3, min_samples_leaf=1, min_samples_split=8, n_estimators=800; total time=   7.0s\n",
      "[CV] END bootstrap=True, max_depth=80, max_features=3, min_samples_leaf=1, min_samples_split=12, n_estimators=400; total time=   4.0s\n",
      "[CV] END bootstrap=True, max_depth=80, max_features=3, min_samples_leaf=2, min_samples_split=8, n_estimators=400; total time=   0.9s\n",
      "[CV] END bootstrap=True, max_depth=80, max_features=3, min_samples_leaf=1, min_samples_split=12, n_estimators=400; total time=   4.5s\n",
      "[CV] END bootstrap=True, max_depth=80, max_features=3, min_samples_leaf=1, min_samples_split=8, n_estimators=800; total time=   8.6s\n",
      "[CV] END bootstrap=True, max_depth=80, max_features=3, min_samples_leaf=2, min_samples_split=8, n_estimators=400; total time=   1.4s\n",
      "[CV] END bootstrap=True, max_depth=80, max_features=3, min_samples_leaf=2, min_samples_split=8, n_estimators=600; total time=   1.5s\n",
      "[CV] END bootstrap=True, max_depth=80, max_features=3, min_samples_leaf=1, min_samples_split=8, n_estimators=1000; total time=   9.5s\n",
      "[CV] END bootstrap=True, max_depth=80, max_features=3, min_samples_leaf=1, min_samples_split=10, n_estimators=800; total time=   8.6s\n",
      "[CV] END bootstrap=True, max_depth=80, max_features=3, min_samples_leaf=1, min_samples_split=12, n_estimators=600; total time=   5.1s\n",
      "[CV] END bootstrap=True, max_depth=80, max_features=3, min_samples_leaf=2, min_samples_split=8, n_estimators=800; total time=   2.1s\n",
      "[CV] END bootstrap=True, max_depth=80, max_features=3, min_samples_leaf=1, min_samples_split=8, n_estimators=1000; total time=  10.5s\n",
      "[CV] END bootstrap=True, max_depth=80, max_features=3, min_samples_leaf=2, min_samples_split=10, n_estimators=400; total time=   1.2s\n",
      "[CV] END bootstrap=True, max_depth=80, max_features=3, min_samples_leaf=2, min_samples_split=8, n_estimators=600; total time=   2.4s\n",
      "[CV] END bootstrap=True, max_depth=80, max_features=3, min_samples_leaf=1, min_samples_split=10, n_estimators=800; total time=   9.9s\n",
      "[CV] END bootstrap=True, max_depth=80, max_features=3, min_samples_leaf=1, min_samples_split=10, n_estimators=1000; total time=   9.5s\n",
      "[CV] END bootstrap=True, max_depth=80, max_features=3, min_samples_leaf=2, min_samples_split=10, n_estimators=400; total time=   1.0s\n",
      "[CV] END bootstrap=True, max_depth=80, max_features=3, min_samples_leaf=1, min_samples_split=10, n_estimators=1000; total time=   9.4s\n",
      "[CV] END bootstrap=True, max_depth=80, max_features=3, min_samples_leaf=2, min_samples_split=8, n_estimators=800; total time=   2.4s\n",
      "[CV] END bootstrap=True, max_depth=80, max_features=3, min_samples_leaf=2, min_samples_split=8, n_estimators=1000; total time=   2.3s\n",
      "[CV] END bootstrap=True, max_depth=80, max_features=3, min_samples_leaf=1, min_samples_split=12, n_estimators=600; total time=   7.2s\n",
      "[CV] END bootstrap=True, max_depth=80, max_features=3, min_samples_leaf=2, min_samples_split=10, n_estimators=600; total time=   1.5s\n",
      "[CV] END bootstrap=True, max_depth=80, max_features=3, min_samples_leaf=2, min_samples_split=8, n_estimators=1000; total time=   2.7s\n",
      "[CV] END bootstrap=True, max_depth=80, max_features=3, min_samples_leaf=2, min_samples_split=12, n_estimators=400; total time=   1.0s\n",
      "[CV] END bootstrap=True, max_depth=80, max_features=3, min_samples_leaf=2, min_samples_split=12, n_estimators=400; total time=   1.0s\n",
      "[CV] END bootstrap=True, max_depth=80, max_features=3, min_samples_leaf=2, min_samples_split=10, n_estimators=600; total time=   1.8s\n",
      "[CV] END bootstrap=True, max_depth=80, max_features=3, min_samples_leaf=1, min_samples_split=12, n_estimators=800; total time=   7.2s\n",
      "[CV] END bootstrap=True, max_depth=80, max_features=3, min_samples_leaf=2, min_samples_split=12, n_estimators=600; total time=   1.6s\n",
      "[CV] END bootstrap=True, max_depth=80, max_features=3, min_samples_leaf=2, min_samples_split=12, n_estimators=600; total time=   1.4s\n",
      "[CV] END bootstrap=True, max_depth=80, max_features=3, min_samples_leaf=2, min_samples_split=10, n_estimators=800; total time=   2.3s\n",
      "[CV] END bootstrap=True, max_depth=80, max_features=3, min_samples_leaf=2, min_samples_split=10, n_estimators=800; total time=   2.2s\n",
      "[CV] END bootstrap=True, max_depth=80, max_features=3, min_samples_leaf=1, min_samples_split=12, n_estimators=800; total time=   7.5s\n",
      "[CV] END bootstrap=True, max_depth=80, max_features=3, min_samples_leaf=3, min_samples_split=8, n_estimators=400; total time=   1.0s\n",
      "[CV] END bootstrap=True, max_depth=80, max_features=3, min_samples_leaf=3, min_samples_split=8, n_estimators=400; total time=   1.1s\n",
      "[CV] END bootstrap=True, max_depth=80, max_features=3, min_samples_leaf=2, min_samples_split=10, n_estimators=1000; total time=   2.4s\n",
      "[CV] END bootstrap=True, max_depth=80, max_features=3, min_samples_leaf=2, min_samples_split=10, n_estimators=1000; total time=   2.8s\n",
      "[CV] END bootstrap=True, max_depth=80, max_features=3, min_samples_leaf=3, min_samples_split=8, n_estimators=600; total time=   1.4s\n",
      "[CV] END bootstrap=True, max_depth=80, max_features=3, min_samples_leaf=2, min_samples_split=12, n_estimators=800; total time=   1.9s\n",
      "[CV] END bootstrap=True, max_depth=80, max_features=3, min_samples_leaf=2, min_samples_split=12, n_estimators=800; total time=   2.2s\n",
      "[CV] END bootstrap=True, max_depth=80, max_features=3, min_samples_leaf=3, min_samples_split=10, n_estimators=400; total time=   1.0s\n",
      "[CV] END bootstrap=True, max_depth=80, max_features=3, min_samples_leaf=1, min_samples_split=12, n_estimators=1000; total time=   8.6s\n",
      "[CV] END bootstrap=True, max_depth=80, max_features=3, min_samples_leaf=3, min_samples_split=10, n_estimators=400; total time=   1.1s\n",
      "[CV] END bootstrap=True, max_depth=80, max_features=3, min_samples_leaf=2, min_samples_split=12, n_estimators=1000; total time=   2.4s\n",
      "[CV] END bootstrap=True, max_depth=80, max_features=3, min_samples_leaf=3, min_samples_split=8, n_estimators=600; total time=   1.7s\n",
      "[CV] END bootstrap=True, max_depth=80, max_features=3, min_samples_leaf=2, min_samples_split=12, n_estimators=1000; total time=   2.7s\n",
      "[CV] END bootstrap=True, max_depth=80, max_features=3, min_samples_leaf=3, min_samples_split=8, n_estimators=800; total time=   1.8s\n",
      "[CV] END bootstrap=True, max_depth=80, max_features=3, min_samples_leaf=3, min_samples_split=10, n_estimators=600; total time=   1.4s\n",
      "[CV] END bootstrap=True, max_depth=80, max_features=3, min_samples_leaf=3, min_samples_split=8, n_estimators=800; total time=   2.2s\n",
      "[CV] END bootstrap=True, max_depth=80, max_features=3, min_samples_leaf=3, min_samples_split=10, n_estimators=600; total time=   1.7s\n",
      "[CV] END bootstrap=True, max_depth=80, max_features=3, min_samples_leaf=1, min_samples_split=12, n_estimators=1000; total time=   8.8s\n",
      "[CV] END bootstrap=True, max_depth=80, max_features=3, min_samples_leaf=3, min_samples_split=12, n_estimators=400; total time=   1.1s\n",
      "[CV] END bootstrap=True, max_depth=80, max_features=3, min_samples_leaf=3, min_samples_split=12, n_estimators=400; total time=   1.1s\n",
      "[CV] END bootstrap=True, max_depth=80, max_features=3, min_samples_leaf=3, min_samples_split=8, n_estimators=1000; total time=   2.9s\n",
      "[CV] END bootstrap=True, max_depth=80, max_features=3, min_samples_leaf=3, min_samples_split=8, n_estimators=1000; total time=   2.8s\n",
      "[CV] END bootstrap=True, max_depth=80, max_features=3, min_samples_leaf=3, min_samples_split=10, n_estimators=800; total time=   2.1s\n",
      "[CV] END bootstrap=True, max_depth=80, max_features=3, min_samples_leaf=3, min_samples_split=10, n_estimators=800; total time=   2.1s\n",
      "[CV] END bootstrap=True, max_depth=80, max_features=3, min_samples_leaf=3, min_samples_split=12, n_estimators=600; total time=   1.5s\n",
      "[CV] END bootstrap=True, max_depth=80, max_features=3, min_samples_leaf=3, min_samples_split=12, n_estimators=600; total time=   1.8s\n",
      "[CV] END bootstrap=True, max_depth=80, max_features=3, min_samples_leaf=3, min_samples_split=10, n_estimators=1000; total time=   2.7s\n",
      "[CV] END bootstrap=True, max_depth=80, max_features=3, min_samples_leaf=3, min_samples_split=10, n_estimators=1000; total time=   3.1s\n",
      "[CV] END bootstrap=True, max_depth=80, max_features=3, min_samples_leaf=3, min_samples_split=12, n_estimators=1000; total time=   2.3s\n",
      "[CV] END bootstrap=True, max_depth=80, max_features=3, min_samples_leaf=3, min_samples_split=12, n_estimators=800; total time=   2.5s\n",
      "[CV] END bootstrap=True, max_depth=80, max_features=3, min_samples_leaf=3, min_samples_split=12, n_estimators=800; total time=   3.2s\n",
      "[CV] END bootstrap=True, max_depth=80, max_features=3, min_samples_leaf=3, min_samples_split=12, n_estimators=1000; total time=   2.9s\n",
      "[CV] END bootstrap=True, max_depth=90, max_features=2, min_samples_leaf=1, min_samples_split=8, n_estimators=400; total time=   3.7s\n",
      "[CV] END bootstrap=True, max_depth=90, max_features=2, min_samples_leaf=1, min_samples_split=8, n_estimators=400; total time=   3.9s\n",
      "[CV] END bootstrap=True, max_depth=90, max_features=2, min_samples_leaf=1, min_samples_split=10, n_estimators=400; total time=   3.4s\n",
      "[CV] END bootstrap=True, max_depth=90, max_features=2, min_samples_leaf=1, min_samples_split=10, n_estimators=400; total time=   4.1s\n",
      "[CV] END bootstrap=True, max_depth=90, max_features=2, min_samples_leaf=1, min_samples_split=8, n_estimators=600; total time=   6.2s\n",
      "[CV] END bootstrap=True, max_depth=90, max_features=2, min_samples_leaf=1, min_samples_split=8, n_estimators=600; total time=   6.3s\n",
      "[CV] END bootstrap=True, max_depth=90, max_features=2, min_samples_leaf=1, min_samples_split=10, n_estimators=600; total time=   5.6s\n",
      "[CV] END bootstrap=True, max_depth=90, max_features=2, min_samples_leaf=1, min_samples_split=12, n_estimators=400; total time=   3.6s\n",
      "[CV] END bootstrap=True, max_depth=90, max_features=2, min_samples_leaf=1, min_samples_split=12, n_estimators=400; total time=   4.1s\n",
      "[CV] END bootstrap=True, max_depth=90, max_features=2, min_samples_leaf=1, min_samples_split=10, n_estimators=600; total time=   6.7s\n",
      "[CV] END bootstrap=True, max_depth=90, max_features=2, min_samples_leaf=1, min_samples_split=10, n_estimators=800; total time=   6.7s\n",
      "[CV] END bootstrap=True, max_depth=90, max_features=2, min_samples_leaf=1, min_samples_split=10, n_estimators=800; total time=   7.0s\n",
      "[CV] END bootstrap=True, max_depth=90, max_features=2, min_samples_leaf=2, min_samples_split=8, n_estimators=400; total time=   1.2s\n",
      "[CV] END bootstrap=True, max_depth=90, max_features=2, min_samples_leaf=1, min_samples_split=12, n_estimators=600; total time=   5.2s\n",
      "[CV] END bootstrap=True, max_depth=90, max_features=2, min_samples_leaf=1, min_samples_split=8, n_estimators=1000; total time=   9.4s\n",
      "[CV] END bootstrap=True, max_depth=90, max_features=2, min_samples_leaf=1, min_samples_split=8, n_estimators=800; total time=   9.6s\n",
      "[CV] END bootstrap=True, max_depth=90, max_features=2, min_samples_leaf=1, min_samples_split=8, n_estimators=800; total time=   9.6s\n",
      "[CV] END bootstrap=True, max_depth=90, max_features=2, min_samples_leaf=2, min_samples_split=8, n_estimators=600; total time=   1.7s\n",
      "[CV] END bootstrap=True, max_depth=90, max_features=2, min_samples_leaf=2, min_samples_split=8, n_estimators=400; total time=   2.0s\n",
      "[CV] END bootstrap=True, max_depth=90, max_features=2, min_samples_leaf=2, min_samples_split=8, n_estimators=600; total time=   1.8s\n",
      "[CV] END bootstrap=True, max_depth=90, max_features=2, min_samples_leaf=1, min_samples_split=12, n_estimators=600; total time=   5.7s\n",
      "[CV] END bootstrap=True, max_depth=90, max_features=2, min_samples_leaf=1, min_samples_split=8, n_estimators=1000; total time=  10.2s\n",
      "[CV] END bootstrap=True, max_depth=90, max_features=2, min_samples_leaf=2, min_samples_split=10, n_estimators=400; total time=   1.0s\n",
      "[CV] END bootstrap=True, max_depth=90, max_features=2, min_samples_leaf=2, min_samples_split=10, n_estimators=400; total time=   1.2s\n",
      "[CV] END bootstrap=True, max_depth=90, max_features=2, min_samples_leaf=2, min_samples_split=8, n_estimators=800; total time=   2.3s\n",
      "[CV] END bootstrap=True, max_depth=90, max_features=2, min_samples_leaf=2, min_samples_split=8, n_estimators=800; total time=   2.2s\n",
      "[CV] END bootstrap=True, max_depth=90, max_features=2, min_samples_leaf=2, min_samples_split=10, n_estimators=600; total time=   1.8s\n",
      "[CV] END bootstrap=True, max_depth=90, max_features=2, min_samples_leaf=2, min_samples_split=10, n_estimators=600; total time=   1.7s\n",
      "[CV] END bootstrap=True, max_depth=90, max_features=2, min_samples_leaf=2, min_samples_split=8, n_estimators=1000; total time=   2.5s\n",
      "[CV] END bootstrap=True, max_depth=90, max_features=2, min_samples_leaf=1, min_samples_split=10, n_estimators=1000; total time=  10.0s\n",
      "[CV] END bootstrap=True, max_depth=90, max_features=2, min_samples_leaf=2, min_samples_split=12, n_estimators=400; total time=   0.9s\n",
      "[CV] END bootstrap=True, max_depth=90, max_features=2, min_samples_leaf=1, min_samples_split=10, n_estimators=1000; total time=   9.9s\n",
      "[CV] END bootstrap=True, max_depth=90, max_features=2, min_samples_leaf=2, min_samples_split=12, n_estimators=400; total time=   1.1s\n",
      "[CV] END bootstrap=True, max_depth=90, max_features=2, min_samples_leaf=2, min_samples_split=10, n_estimators=800; total time=   1.9s\n",
      "[CV] END bootstrap=True, max_depth=90, max_features=2, min_samples_leaf=2, min_samples_split=8, n_estimators=1000; total time=   2.9s\n",
      "[CV] END bootstrap=True, max_depth=90, max_features=2, min_samples_leaf=2, min_samples_split=10, n_estimators=800; total time=   2.2s\n",
      "[CV] END bootstrap=True, max_depth=90, max_features=2, min_samples_leaf=2, min_samples_split=10, n_estimators=1000; total time=   2.4s\n",
      "[CV] END bootstrap=True, max_depth=90, max_features=2, min_samples_leaf=3, min_samples_split=8, n_estimators=400; total time=   1.0s\n",
      "[CV] END bootstrap=True, max_depth=90, max_features=2, min_samples_leaf=1, min_samples_split=12, n_estimators=800; total time=   7.6s\n",
      "[CV] END bootstrap=True, max_depth=90, max_features=2, min_samples_leaf=3, min_samples_split=8, n_estimators=400; total time=   1.5s\n",
      "[CV] END bootstrap=True, max_depth=90, max_features=2, min_samples_leaf=2, min_samples_split=12, n_estimators=600; total time=   2.1s\n",
      "[CV] END bootstrap=True, max_depth=90, max_features=2, min_samples_leaf=2, min_samples_split=10, n_estimators=1000; total time=   2.9s\n",
      "[CV] END bootstrap=True, max_depth=90, max_features=2, min_samples_leaf=2, min_samples_split=12, n_estimators=800; total time=   2.0s\n",
      "[CV] END bootstrap=True, max_depth=90, max_features=2, min_samples_leaf=2, min_samples_split=12, n_estimators=600; total time=   2.1s\n",
      "[CV] END bootstrap=True, max_depth=90, max_features=2, min_samples_leaf=1, min_samples_split=12, n_estimators=800; total time=   8.0s\n",
      "[CV] END bootstrap=True, max_depth=90, max_features=2, min_samples_leaf=3, min_samples_split=8, n_estimators=600; total time=   1.6s\n",
      "[CV] END bootstrap=True, max_depth=90, max_features=2, min_samples_leaf=2, min_samples_split=12, n_estimators=800; total time=   2.2s\n",
      "[CV] END bootstrap=True, max_depth=90, max_features=2, min_samples_leaf=2, min_samples_split=12, n_estimators=1000; total time=   2.3s\n",
      "[CV] END bootstrap=True, max_depth=90, max_features=2, min_samples_leaf=3, min_samples_split=8, n_estimators=600; total time=   2.0s\n",
      "[CV] END bootstrap=True, max_depth=90, max_features=2, min_samples_leaf=3, min_samples_split=10, n_estimators=400; total time=   1.1s\n",
      "[CV] END bootstrap=True, max_depth=90, max_features=2, min_samples_leaf=3, min_samples_split=10, n_estimators=400; total time=   1.2s\n",
      "[CV] END bootstrap=True, max_depth=90, max_features=2, min_samples_leaf=3, min_samples_split=8, n_estimators=800; total time=   1.8s\n",
      "[CV] END bootstrap=True, max_depth=90, max_features=2, min_samples_leaf=1, min_samples_split=12, n_estimators=1000; total time=   8.5s\n",
      "[CV] END bootstrap=True, max_depth=90, max_features=2, min_samples_leaf=2, min_samples_split=12, n_estimators=1000; total time=   3.0s\n",
      "[CV] END bootstrap=True, max_depth=90, max_features=2, min_samples_leaf=3, min_samples_split=10, n_estimators=600; total time=   1.3s\n",
      "[CV] END bootstrap=True, max_depth=90, max_features=2, min_samples_leaf=3, min_samples_split=10, n_estimators=600; total time=   1.7s\n",
      "[CV] END bootstrap=True, max_depth=90, max_features=2, min_samples_leaf=3, min_samples_split=8, n_estimators=800; total time=   2.7s\n",
      "[CV] END bootstrap=True, max_depth=90, max_features=2, min_samples_leaf=3, min_samples_split=12, n_estimators=400; total time=   1.3s\n",
      "[CV] END bootstrap=True, max_depth=90, max_features=2, min_samples_leaf=3, min_samples_split=12, n_estimators=400; total time=   1.2s\n",
      "[CV] END bootstrap=True, max_depth=90, max_features=2, min_samples_leaf=3, min_samples_split=8, n_estimators=1000; total time=   2.8s\n",
      "[CV] END bootstrap=True, max_depth=90, max_features=2, min_samples_leaf=3, min_samples_split=10, n_estimators=800; total time=   2.2s\n",
      "[CV] END bootstrap=True, max_depth=90, max_features=2, min_samples_leaf=3, min_samples_split=12, n_estimators=600; total time=   1.3s\n",
      "[CV] END bootstrap=True, max_depth=90, max_features=2, min_samples_leaf=3, min_samples_split=10, n_estimators=800; total time=   2.2s\n",
      "[CV] END bootstrap=True, max_depth=90, max_features=2, min_samples_leaf=3, min_samples_split=10, n_estimators=1000; total time=   2.2s\n",
      "[CV] END bootstrap=True, max_depth=90, max_features=2, min_samples_leaf=3, min_samples_split=8, n_estimators=1000; total time=   2.8s\n",
      "[CV] END bootstrap=True, max_depth=90, max_features=2, min_samples_leaf=1, min_samples_split=12, n_estimators=1000; total time=   9.6s\n",
      "[CV] END bootstrap=True, max_depth=90, max_features=2, min_samples_leaf=3, min_samples_split=10, n_estimators=1000; total time=   2.2s\n",
      "[CV] END bootstrap=True, max_depth=90, max_features=2, min_samples_leaf=3, min_samples_split=12, n_estimators=600; total time=   1.8s\n",
      "[CV] END bootstrap=True, max_depth=90, max_features=2, min_samples_leaf=3, min_samples_split=12, n_estimators=800; total time=   2.0s\n",
      "[CV] END bootstrap=True, max_depth=90, max_features=2, min_samples_leaf=3, min_samples_split=12, n_estimators=800; total time=   2.1s\n",
      "[CV] END bootstrap=True, max_depth=90, max_features=2, min_samples_leaf=3, min_samples_split=12, n_estimators=1000; total time=   2.2s\n",
      "[CV] END bootstrap=True, max_depth=90, max_features=2, min_samples_leaf=3, min_samples_split=12, n_estimators=1000; total time=   2.9s\n",
      "[CV] END bootstrap=True, max_depth=90, max_features=3, min_samples_leaf=1, min_samples_split=8, n_estimators=400; total time=   4.0s\n",
      "[CV] END bootstrap=True, max_depth=90, max_features=3, min_samples_leaf=1, min_samples_split=8, n_estimators=400; total time=   4.1s\n",
      "[CV] END bootstrap=True, max_depth=90, max_features=3, min_samples_leaf=1, min_samples_split=10, n_estimators=400; total time=   4.3s\n",
      "[CV] END bootstrap=True, max_depth=90, max_features=3, min_samples_leaf=1, min_samples_split=10, n_estimators=400; total time=   4.4s\n",
      "[CV] END bootstrap=True, max_depth=90, max_features=3, min_samples_leaf=1, min_samples_split=10, n_estimators=600; total time=   5.7s\n",
      "[CV] END bootstrap=True, max_depth=90, max_features=3, min_samples_leaf=1, min_samples_split=8, n_estimators=600; total time=   6.7s\n",
      "[CV] END bootstrap=True, max_depth=90, max_features=3, min_samples_leaf=1, min_samples_split=8, n_estimators=600; total time=   7.1s\n",
      "[CV] END bootstrap=True, max_depth=90, max_features=3, min_samples_leaf=1, min_samples_split=12, n_estimators=400; total time=   3.5s\n",
      "[CV] END bootstrap=True, max_depth=90, max_features=3, min_samples_leaf=1, min_samples_split=10, n_estimators=600; total time=   6.9s\n",
      "[CV] END bootstrap=True, max_depth=90, max_features=3, min_samples_leaf=1, min_samples_split=10, n_estimators=800; total time=   7.6s\n",
      "[CV] END bootstrap=True, max_depth=90, max_features=3, min_samples_leaf=2, min_samples_split=8, n_estimators=400; total time=   1.2s\n",
      "[CV] END bootstrap=True, max_depth=90, max_features=3, min_samples_leaf=1, min_samples_split=12, n_estimators=400; total time=   5.1s\n",
      "[CV] END bootstrap=True, max_depth=90, max_features=3, min_samples_leaf=1, min_samples_split=8, n_estimators=800; total time=   8.8s\n",
      "[CV] END bootstrap=True, max_depth=90, max_features=3, min_samples_leaf=1, min_samples_split=10, n_estimators=800; total time=   8.4s\n",
      "[CV] END bootstrap=True, max_depth=90, max_features=3, min_samples_leaf=2, min_samples_split=8, n_estimators=400; total time=   0.9s\n",
      "[CV] END bootstrap=True, max_depth=90, max_features=3, min_samples_leaf=1, min_samples_split=8, n_estimators=1000; total time=  10.1s\n",
      "[CV] END bootstrap=True, max_depth=90, max_features=3, min_samples_leaf=2, min_samples_split=8, n_estimators=600; total time=   1.7s\n",
      "[CV] END bootstrap=True, max_depth=90, max_features=3, min_samples_leaf=1, min_samples_split=8, n_estimators=800; total time=  10.4s\n",
      "[CV] END bootstrap=True, max_depth=90, max_features=3, min_samples_leaf=1, min_samples_split=12, n_estimators=600; total time=   6.1s\n",
      "[CV] END bootstrap=True, max_depth=90, max_features=3, min_samples_leaf=2, min_samples_split=8, n_estimators=800; total time=   2.0s\n",
      "[CV] END bootstrap=True, max_depth=90, max_features=3, min_samples_leaf=2, min_samples_split=8, n_estimators=600; total time=   2.2s\n",
      "[CV] END bootstrap=True, max_depth=90, max_features=3, min_samples_leaf=1, min_samples_split=8, n_estimators=1000; total time=  11.1s\n",
      "[CV] END bootstrap=True, max_depth=90, max_features=3, min_samples_leaf=2, min_samples_split=10, n_estimators=400; total time=   0.9s\n",
      "[CV] END bootstrap=True, max_depth=90, max_features=3, min_samples_leaf=1, min_samples_split=12, n_estimators=600; total time=   6.8s\n",
      "[CV] END bootstrap=True, max_depth=90, max_features=3, min_samples_leaf=1, min_samples_split=10, n_estimators=1000; total time=  10.5s\n",
      "[CV] END bootstrap=True, max_depth=90, max_features=3, min_samples_leaf=2, min_samples_split=10, n_estimators=400; total time=   1.1s\n",
      "[CV] END bootstrap=True, max_depth=90, max_features=3, min_samples_leaf=2, min_samples_split=8, n_estimators=800; total time=   2.4s\n",
      "[CV] END bootstrap=True, max_depth=90, max_features=3, min_samples_leaf=2, min_samples_split=10, n_estimators=600; total time=   1.4s\n",
      "[CV] END bootstrap=True, max_depth=90, max_features=3, min_samples_leaf=2, min_samples_split=8, n_estimators=1000; total time=   2.8s\n",
      "[CV] END bootstrap=True, max_depth=90, max_features=3, min_samples_leaf=1, min_samples_split=12, n_estimators=800; total time=   6.2s\n",
      "[CV] END bootstrap=True, max_depth=90, max_features=3, min_samples_leaf=1, min_samples_split=10, n_estimators=1000; total time=   9.9s\n",
      "[CV] END bootstrap=True, max_depth=90, max_features=3, min_samples_leaf=2, min_samples_split=10, n_estimators=600; total time=   1.7s\n",
      "[CV] END bootstrap=True, max_depth=90, max_features=3, min_samples_leaf=2, min_samples_split=12, n_estimators=400; total time=   1.2s\n",
      "[CV] END bootstrap=True, max_depth=90, max_features=3, min_samples_leaf=2, min_samples_split=12, n_estimators=400; total time=   1.3s\n",
      "[CV] END bootstrap=True, max_depth=90, max_features=3, min_samples_leaf=2, min_samples_split=8, n_estimators=1000; total time=   2.9s\n",
      "[CV] END bootstrap=True, max_depth=90, max_features=3, min_samples_leaf=2, min_samples_split=10, n_estimators=800; total time=   2.3s\n",
      "[CV] END bootstrap=True, max_depth=90, max_features=3, min_samples_leaf=1, min_samples_split=12, n_estimators=800; total time=   6.9s\n",
      "[CV] END bootstrap=True, max_depth=90, max_features=3, min_samples_leaf=2, min_samples_split=10, n_estimators=800; total time=   2.1s[CV] END bootstrap=True, max_depth=90, max_features=3, min_samples_leaf=2, min_samples_split=12, n_estimators=600; total time=   1.6s\n",
      "\n",
      "[CV] END bootstrap=True, max_depth=90, max_features=3, min_samples_leaf=2, min_samples_split=12, n_estimators=600; total time=   1.5s\n",
      "[CV] END bootstrap=True, max_depth=90, max_features=3, min_samples_leaf=2, min_samples_split=10, n_estimators=1000; total time=   2.4s\n",
      "[CV] END bootstrap=True, max_depth=90, max_features=3, min_samples_leaf=3, min_samples_split=8, n_estimators=400; total time=   1.0s\n",
      "[CV] END bootstrap=True, max_depth=90, max_features=3, min_samples_leaf=2, min_samples_split=10, n_estimators=1000; total time=   2.8s\n",
      "[CV] END bootstrap=True, max_depth=90, max_features=3, min_samples_leaf=3, min_samples_split=8, n_estimators=400; total time=   1.2s\n",
      "[CV] END bootstrap=True, max_depth=90, max_features=3, min_samples_leaf=1, min_samples_split=12, n_estimators=1000; total time=   7.1s\n",
      "[CV] END bootstrap=True, max_depth=90, max_features=3, min_samples_leaf=2, min_samples_split=12, n_estimators=800; total time=   2.2s\n",
      "[CV] END bootstrap=True, max_depth=90, max_features=3, min_samples_leaf=2, min_samples_split=12, n_estimators=800; total time=   2.4s\n",
      "[CV] END bootstrap=True, max_depth=90, max_features=3, min_samples_leaf=3, min_samples_split=8, n_estimators=600; total time=   1.5s\n",
      "[CV] END bootstrap=True, max_depth=90, max_features=3, min_samples_leaf=2, min_samples_split=12, n_estimators=1000; total time=   2.5s\n",
      "[CV] END bootstrap=True, max_depth=90, max_features=3, min_samples_leaf=3, min_samples_split=8, n_estimators=600; total time=   1.8s\n",
      "[CV] END bootstrap=True, max_depth=90, max_features=3, min_samples_leaf=2, min_samples_split=12, n_estimators=1000; total time=   2.6s\n",
      "[CV] END bootstrap=True, max_depth=90, max_features=3, min_samples_leaf=3, min_samples_split=10, n_estimators=400; total time=   1.1s\n",
      "[CV] END bootstrap=True, max_depth=90, max_features=3, min_samples_leaf=3, min_samples_split=10, n_estimators=400; total time=   1.2s\n",
      "[CV] END bootstrap=True, max_depth=90, max_features=3, min_samples_leaf=3, min_samples_split=8, n_estimators=800; total time=   1.9s\n",
      "[CV] END bootstrap=True, max_depth=90, max_features=3, min_samples_leaf=3, min_samples_split=8, n_estimators=800; total time=   2.0s\n",
      "[CV] END bootstrap=True, max_depth=90, max_features=3, min_samples_leaf=1, min_samples_split=12, n_estimators=1000; total time=   8.4s\n",
      "[CV] END bootstrap=True, max_depth=90, max_features=3, min_samples_leaf=3, min_samples_split=8, n_estimators=1000; total time=   2.1s\n",
      "[CV] END bootstrap=True, max_depth=90, max_features=3, min_samples_leaf=3, min_samples_split=10, n_estimators=600; total time=   1.5s\n",
      "[CV] END bootstrap=True, max_depth=90, max_features=3, min_samples_leaf=3, min_samples_split=10, n_estimators=600; total time=   1.8s\n",
      "[CV] END bootstrap=True, max_depth=90, max_features=3, min_samples_leaf=3, min_samples_split=12, n_estimators=400; total time=   1.0s\n",
      "[CV] END bootstrap=True, max_depth=90, max_features=3, min_samples_leaf=3, min_samples_split=12, n_estimators=400; total time=   1.1s\n",
      "[CV] END bootstrap=True, max_depth=90, max_features=3, min_samples_leaf=3, min_samples_split=10, n_estimators=800; total time=   1.7s\n",
      "[CV] END bootstrap=True, max_depth=90, max_features=3, min_samples_leaf=3, min_samples_split=8, n_estimators=1000; total time=   2.4s\n",
      "[CV] END bootstrap=True, max_depth=90, max_features=3, min_samples_leaf=3, min_samples_split=12, n_estimators=600; total time=   1.4s\n",
      "[CV] END bootstrap=True, max_depth=90, max_features=3, min_samples_leaf=3, min_samples_split=10, n_estimators=800; total time=   1.9s\n",
      "[CV] END bootstrap=True, max_depth=90, max_features=3, min_samples_leaf=3, min_samples_split=12, n_estimators=600; total time=   1.4s\n",
      "[CV] END bootstrap=True, max_depth=90, max_features=3, min_samples_leaf=3, min_samples_split=10, n_estimators=1000; total time=   2.2s\n",
      "[CV] END bootstrap=True, max_depth=90, max_features=3, min_samples_leaf=3, min_samples_split=12, n_estimators=800; total time=   1.9s\n",
      "[CV] END bootstrap=True, max_depth=90, max_features=3, min_samples_leaf=3, min_samples_split=12, n_estimators=800; total time=   1.7s\n",
      "[CV] END bootstrap=True, max_depth=90, max_features=3, min_samples_leaf=3, min_samples_split=10, n_estimators=1000; total time=   2.4s\n",
      "[CV] END bootstrap=True, max_depth=90, max_features=3, min_samples_leaf=3, min_samples_split=12, n_estimators=1000; total time=   2.3s\n",
      "[CV] END bootstrap=True, max_depth=90, max_features=3, min_samples_leaf=3, min_samples_split=12, n_estimators=1000; total time=   2.3s\n",
      "[CV] END bootstrap=True, max_depth=100, max_features=2, min_samples_leaf=1, min_samples_split=8, n_estimators=400; total time=   3.1s\n",
      "[CV] END bootstrap=True, max_depth=100, max_features=2, min_samples_leaf=1, min_samples_split=8, n_estimators=400; total time=   4.1s\n",
      "[CV] END bootstrap=True, max_depth=100, max_features=2, min_samples_leaf=1, min_samples_split=10, n_estimators=400; total time=   3.8s\n",
      "[CV] END bootstrap=True, max_depth=100, max_features=2, min_samples_leaf=1, min_samples_split=10, n_estimators=400; total time=   4.1s\n",
      "[CV] END bootstrap=True, max_depth=100, max_features=2, min_samples_leaf=1, min_samples_split=10, n_estimators=600; total time=   5.0s\n",
      "[CV] END bootstrap=True, max_depth=100, max_features=2, min_samples_leaf=1, min_samples_split=12, n_estimators=400; total time=   3.7s\n",
      "[CV] END bootstrap=True, max_depth=100, max_features=2, min_samples_leaf=1, min_samples_split=8, n_estimators=600; total time=   6.9s\n",
      "[CV] END bootstrap=True, max_depth=100, max_features=2, min_samples_leaf=1, min_samples_split=12, n_estimators=400; total time=   3.6s\n",
      "[CV] END bootstrap=True, max_depth=100, max_features=2, min_samples_leaf=1, min_samples_split=8, n_estimators=600; total time=   7.6s\n",
      "[CV] END bootstrap=True, max_depth=100, max_features=2, min_samples_leaf=1, min_samples_split=10, n_estimators=600; total time=   6.9s\n",
      "[CV] END bootstrap=True, max_depth=100, max_features=2, min_samples_leaf=1, min_samples_split=8, n_estimators=800; total time=   8.1s\n",
      "[CV] END bootstrap=True, max_depth=100, max_features=2, min_samples_leaf=1, min_samples_split=10, n_estimators=800; total time=   7.1s\n",
      "[CV] END bootstrap=True, max_depth=100, max_features=2, min_samples_leaf=1, min_samples_split=8, n_estimators=800; total time=   8.1s\n",
      "[CV] END bootstrap=True, max_depth=100, max_features=2, min_samples_leaf=2, min_samples_split=8, n_estimators=400; total time=   1.1s\n",
      "[CV] END bootstrap=True, max_depth=100, max_features=2, min_samples_leaf=2, min_samples_split=8, n_estimators=400; total time=   1.6s\n",
      "[CV] END bootstrap=True, max_depth=100, max_features=2, min_samples_leaf=2, min_samples_split=8, n_estimators=600; total time=   1.5s\n",
      "[CV] END bootstrap=True, max_depth=100, max_features=2, min_samples_leaf=2, min_samples_split=8, n_estimators=600; total time=   1.5s\n",
      "[CV] END bootstrap=True, max_depth=100, max_features=2, min_samples_leaf=1, min_samples_split=10, n_estimators=800; total time=   9.0s\n",
      "[CV] END bootstrap=True, max_depth=100, max_features=2, min_samples_leaf=1, min_samples_split=12, n_estimators=600; total time=   6.0s\n",
      "[CV] END bootstrap=True, max_depth=100, max_features=2, min_samples_leaf=2, min_samples_split=8, n_estimators=800; total time=   2.1s\n",
      "[CV] END bootstrap=True, max_depth=100, max_features=2, min_samples_leaf=1, min_samples_split=8, n_estimators=1000; total time=  10.1s\n",
      "[CV] END bootstrap=True, max_depth=100, max_features=2, min_samples_leaf=2, min_samples_split=10, n_estimators=400; total time=   1.0s\n",
      "[CV] END bootstrap=True, max_depth=100, max_features=2, min_samples_leaf=2, min_samples_split=8, n_estimators=800; total time=   2.0s\n",
      "[CV] END bootstrap=True, max_depth=100, max_features=2, min_samples_leaf=1, min_samples_split=12, n_estimators=600; total time=   6.4s\n",
      "[CV] END bootstrap=True, max_depth=100, max_features=2, min_samples_leaf=2, min_samples_split=10, n_estimators=400; total time=   1.0s\n",
      "[CV] END bootstrap=True, max_depth=100, max_features=2, min_samples_leaf=1, min_samples_split=10, n_estimators=1000; total time=   9.3s\n",
      "[CV] END bootstrap=True, max_depth=100, max_features=2, min_samples_leaf=1, min_samples_split=8, n_estimators=1000; total time=  11.1s\n",
      "[CV] END bootstrap=True, max_depth=100, max_features=2, min_samples_leaf=1, min_samples_split=10, n_estimators=1000; total time=   9.6s\n",
      "[CV] END bootstrap=True, max_depth=100, max_features=2, min_samples_leaf=2, min_samples_split=8, n_estimators=1000; total time=   2.0s\n",
      "[CV] END bootstrap=True, max_depth=100, max_features=2, min_samples_leaf=2, min_samples_split=8, n_estimators=1000; total time=   2.5s\n",
      "[CV] END bootstrap=True, max_depth=100, max_features=2, min_samples_leaf=2, min_samples_split=10, n_estimators=600; total time=   1.4s\n",
      "[CV] END bootstrap=True, max_depth=100, max_features=2, min_samples_leaf=2, min_samples_split=10, n_estimators=600; total time=   1.4s\n",
      "[CV] END bootstrap=True, max_depth=100, max_features=2, min_samples_leaf=1, min_samples_split=12, n_estimators=800; total time=   6.0s\n",
      "[CV] END bootstrap=True, max_depth=100, max_features=2, min_samples_leaf=2, min_samples_split=12, n_estimators=400; total time=   1.1s\n",
      "[CV] END bootstrap=True, max_depth=100, max_features=2, min_samples_leaf=2, min_samples_split=12, n_estimators=400; total time=   1.1s\n",
      "[CV] END bootstrap=True, max_depth=100, max_features=2, min_samples_leaf=2, min_samples_split=10, n_estimators=800; total time=   2.1s\n",
      "[CV] END bootstrap=True, max_depth=100, max_features=2, min_samples_leaf=2, min_samples_split=10, n_estimators=800; total time=   2.1s\n",
      "[CV] END bootstrap=True, max_depth=100, max_features=2, min_samples_leaf=3, min_samples_split=8, n_estimators=400; total time=   1.0s\n",
      "[CV] END bootstrap=True, max_depth=100, max_features=2, min_samples_leaf=2, min_samples_split=12, n_estimators=600; total time=   1.7s\n",
      "[CV] END bootstrap=True, max_depth=100, max_features=2, min_samples_leaf=2, min_samples_split=12, n_estimators=600; total time=   2.0s\n",
      "[CV] END bootstrap=True, max_depth=100, max_features=2, min_samples_leaf=2, min_samples_split=12, n_estimators=800; total time=   1.9s\n",
      "[CV] END bootstrap=True, max_depth=100, max_features=2, min_samples_leaf=3, min_samples_split=8, n_estimators=400; total time=   1.5s\n",
      "[CV] END bootstrap=True, max_depth=100, max_features=2, min_samples_leaf=2, min_samples_split=10, n_estimators=1000; total time=   2.8s\n",
      "[CV] END bootstrap=True, max_depth=100, max_features=2, min_samples_leaf=3, min_samples_split=8, n_estimators=600; total time=   1.8s\n",
      "[CV] END bootstrap=True, max_depth=100, max_features=2, min_samples_leaf=2, min_samples_split=10, n_estimators=1000; total time=   3.2s\n",
      "[CV] END bootstrap=True, max_depth=100, max_features=2, min_samples_leaf=1, min_samples_split=12, n_estimators=800; total time=   7.9s\n",
      "[CV] END bootstrap=True, max_depth=100, max_features=2, min_samples_leaf=3, min_samples_split=10, n_estimators=400; total time=   0.9s\n",
      "[CV] END bootstrap=True, max_depth=100, max_features=2, min_samples_leaf=1, min_samples_split=12, n_estimators=1000; total time=   7.5s\n",
      "[CV] END bootstrap=True, max_depth=100, max_features=2, min_samples_leaf=3, min_samples_split=8, n_estimators=600; total time=   1.8s\n",
      "[CV] END bootstrap=True, max_depth=100, max_features=2, min_samples_leaf=2, min_samples_split=12, n_estimators=800; total time=   2.8s\n",
      "[CV] END bootstrap=True, max_depth=100, max_features=2, min_samples_leaf=2, min_samples_split=12, n_estimators=1000; total time=   3.0s\n",
      "[CV] END bootstrap=True, max_depth=100, max_features=2, min_samples_leaf=2, min_samples_split=12, n_estimators=1000; total time=   2.9s\n",
      "[CV] END bootstrap=True, max_depth=100, max_features=2, min_samples_leaf=3, min_samples_split=8, n_estimators=800; total time=   1.8s\n",
      "[CV] END bootstrap=True, max_depth=100, max_features=2, min_samples_leaf=3, min_samples_split=10, n_estimators=400; total time=   1.1s\n",
      "[CV] END bootstrap=True, max_depth=100, max_features=2, min_samples_leaf=1, min_samples_split=12, n_estimators=1000; total time=   7.6s\n",
      "[CV] END bootstrap=True, max_depth=100, max_features=2, min_samples_leaf=3, min_samples_split=8, n_estimators=800; total time=   2.4s\n",
      "[CV] END bootstrap=True, max_depth=100, max_features=2, min_samples_leaf=3, min_samples_split=12, n_estimators=400; total time=   1.0s\n",
      "[CV] END bootstrap=True, max_depth=100, max_features=2, min_samples_leaf=3, min_samples_split=10, n_estimators=600; total time=   1.6s\n",
      "[CV] END bootstrap=True, max_depth=100, max_features=2, min_samples_leaf=3, min_samples_split=12, n_estimators=400; total time=   1.1s\n",
      "[CV] END bootstrap=True, max_depth=100, max_features=2, min_samples_leaf=3, min_samples_split=10, n_estimators=600; total time=   1.5s\n",
      "[CV] END bootstrap=True, max_depth=100, max_features=2, min_samples_leaf=3, min_samples_split=8, n_estimators=1000; total time=   2.8s\n",
      "[CV] END bootstrap=True, max_depth=100, max_features=2, min_samples_leaf=3, min_samples_split=12, n_estimators=600; total time=   1.3s\n",
      "[CV] END bootstrap=True, max_depth=100, max_features=2, min_samples_leaf=3, min_samples_split=8, n_estimators=1000; total time=   2.7s\n",
      "[CV] END bootstrap=True, max_depth=100, max_features=2, min_samples_leaf=3, min_samples_split=12, n_estimators=600; total time=   1.7s\n",
      "[CV] END bootstrap=True, max_depth=100, max_features=2, min_samples_leaf=3, min_samples_split=10, n_estimators=800; total time=   2.1s\n",
      "[CV] END bootstrap=True, max_depth=100, max_features=2, min_samples_leaf=3, min_samples_split=10, n_estimators=800; total time=   2.1s\n",
      "[CV] END bootstrap=True, max_depth=100, max_features=2, min_samples_leaf=3, min_samples_split=10, n_estimators=1000; total time=   2.1s\n",
      "[CV] END bootstrap=True, max_depth=100, max_features=2, min_samples_leaf=3, min_samples_split=10, n_estimators=1000; total time=   2.2s\n",
      "[CV] END bootstrap=True, max_depth=100, max_features=2, min_samples_leaf=3, min_samples_split=12, n_estimators=800; total time=   1.9s\n",
      "[CV] END bootstrap=True, max_depth=100, max_features=2, min_samples_leaf=3, min_samples_split=12, n_estimators=800; total time=   2.2s\n",
      "[CV] END bootstrap=True, max_depth=100, max_features=2, min_samples_leaf=3, min_samples_split=12, n_estimators=1000; total time=   2.2s\n",
      "[CV] END bootstrap=True, max_depth=100, max_features=2, min_samples_leaf=3, min_samples_split=12, n_estimators=1000; total time=   2.4s\n",
      "[CV] END bootstrap=True, max_depth=100, max_features=3, min_samples_leaf=1, min_samples_split=8, n_estimators=400; total time=   4.1s\n",
      "[CV] END bootstrap=True, max_depth=100, max_features=3, min_samples_leaf=1, min_samples_split=8, n_estimators=400; total time=   4.5s\n",
      "[CV] END bootstrap=True, max_depth=100, max_features=3, min_samples_leaf=1, min_samples_split=10, n_estimators=400; total time=   4.6s\n",
      "[CV] END bootstrap=True, max_depth=100, max_features=3, min_samples_leaf=1, min_samples_split=10, n_estimators=400; total time=   4.8s\n",
      "[CV] END bootstrap=True, max_depth=100, max_features=3, min_samples_leaf=1, min_samples_split=8, n_estimators=600; total time=   5.9s\n",
      "[CV] END bootstrap=True, max_depth=100, max_features=3, min_samples_leaf=1, min_samples_split=10, n_estimators=600; total time=   5.4s\n",
      "[CV] END bootstrap=True, max_depth=100, max_features=3, min_samples_leaf=1, min_samples_split=10, n_estimators=600; total time=   5.5s\n",
      "[CV] END bootstrap=True, max_depth=100, max_features=3, min_samples_leaf=1, min_samples_split=8, n_estimators=600; total time=   7.0s\n",
      "[CV] END bootstrap=True, max_depth=100, max_features=3, min_samples_leaf=1, min_samples_split=12, n_estimators=400; total time=   3.5s\n",
      "[CV] END bootstrap=True, max_depth=100, max_features=3, min_samples_leaf=1, min_samples_split=12, n_estimators=400; total time=   3.8s\n",
      "[CV] END bootstrap=True, max_depth=100, max_features=3, min_samples_leaf=1, min_samples_split=8, n_estimators=800; total time=   8.0s\n",
      "[CV] END bootstrap=True, max_depth=100, max_features=3, min_samples_leaf=2, min_samples_split=8, n_estimators=400; total time=   1.1s\n",
      "[CV] END bootstrap=True, max_depth=100, max_features=3, min_samples_leaf=1, min_samples_split=10, n_estimators=800; total time=   7.8s\n",
      "[CV] END bootstrap=True, max_depth=100, max_features=3, min_samples_leaf=1, min_samples_split=8, n_estimators=800; total time=   8.9s\n",
      "[CV] END bootstrap=True, max_depth=100, max_features=3, min_samples_leaf=2, min_samples_split=8, n_estimators=400; total time=   1.1s\n",
      "[CV] END bootstrap=True, max_depth=100, max_features=3, min_samples_leaf=1, min_samples_split=10, n_estimators=800; total time=   8.1s\n",
      "[CV] END bootstrap=True, max_depth=100, max_features=3, min_samples_leaf=2, min_samples_split=8, n_estimators=600; total time=   1.5s\n",
      "[CV] END bootstrap=True, max_depth=100, max_features=3, min_samples_leaf=2, min_samples_split=8, n_estimators=600; total time=   1.5s\n",
      "[CV] END bootstrap=True, max_depth=100, max_features=3, min_samples_leaf=1, min_samples_split=12, n_estimators=600; total time=   5.1s\n",
      "[CV] END bootstrap=True, max_depth=100, max_features=3, min_samples_leaf=2, min_samples_split=10, n_estimators=400; total time=   0.8s\n",
      "[CV] END bootstrap=True, max_depth=100, max_features=3, min_samples_leaf=1, min_samples_split=10, n_estimators=1000; total time=   9.2s\n",
      "[CV] END bootstrap=True, max_depth=100, max_features=3, min_samples_leaf=1, min_samples_split=12, n_estimators=600; total time=   5.2s\n",
      "[CV] END bootstrap=True, max_depth=100, max_features=3, min_samples_leaf=1, min_samples_split=8, n_estimators=1000; total time=  10.5s\n",
      "[CV] END bootstrap=True, max_depth=100, max_features=3, min_samples_leaf=1, min_samples_split=10, n_estimators=1000; total time=   8.9s\n",
      "[CV] END bootstrap=True, max_depth=100, max_features=3, min_samples_leaf=2, min_samples_split=10, n_estimators=400; total time=   1.0s\n",
      "[CV] END bootstrap=True, max_depth=100, max_features=3, min_samples_leaf=2, min_samples_split=8, n_estimators=800; total time=   2.1s\n",
      "[CV] END bootstrap=True, max_depth=100, max_features=3, min_samples_leaf=1, min_samples_split=8, n_estimators=1000; total time=  10.6s\n",
      "[CV] END bootstrap=True, max_depth=100, max_features=3, min_samples_leaf=2, min_samples_split=8, n_estimators=800; total time=   2.3s\n",
      "[CV] END bootstrap=True, max_depth=100, max_features=3, min_samples_leaf=2, min_samples_split=10, n_estimators=600; total time=   1.2s\n",
      "[CV] END bootstrap=True, max_depth=100, max_features=3, min_samples_leaf=2, min_samples_split=12, n_estimators=400; total time=   1.0s\n",
      "[CV] END bootstrap=True, max_depth=100, max_features=3, min_samples_leaf=2, min_samples_split=8, n_estimators=1000; total time=   2.6s\n",
      "[CV] END bootstrap=True, max_depth=100, max_features=3, min_samples_leaf=2, min_samples_split=12, n_estimators=400; total time=   1.0s\n",
      "[CV] END bootstrap=True, max_depth=100, max_features=3, min_samples_leaf=2, min_samples_split=10, n_estimators=600; total time=   1.5s\n",
      "[CV] END bootstrap=True, max_depth=100, max_features=3, min_samples_leaf=2, min_samples_split=8, n_estimators=1000; total time=   2.7s\n",
      "[CV] END bootstrap=True, max_depth=100, max_features=3, min_samples_leaf=1, min_samples_split=12, n_estimators=800; total time=   6.4s\n",
      "[CV] END bootstrap=True, max_depth=100, max_features=3, min_samples_leaf=1, min_samples_split=12, n_estimators=800; total time=   6.1s\n",
      "[CV] END bootstrap=True, max_depth=100, max_features=3, min_samples_leaf=2, min_samples_split=10, n_estimators=800; total time=   1.8s\n",
      "[CV] END bootstrap=True, max_depth=100, max_features=3, min_samples_leaf=2, min_samples_split=12, n_estimators=600; total time=   1.6s\n",
      "[CV] END bootstrap=True, max_depth=100, max_features=3, min_samples_leaf=2, min_samples_split=10, n_estimators=800; total time=   2.1s\n",
      "[CV] END bootstrap=True, max_depth=100, max_features=3, min_samples_leaf=3, min_samples_split=8, n_estimators=400; total time=   1.0s\n",
      "[CV] END bootstrap=True, max_depth=100, max_features=3, min_samples_leaf=2, min_samples_split=12, n_estimators=600; total time=   1.7s\n",
      "[CV] END bootstrap=True, max_depth=100, max_features=3, min_samples_leaf=3, min_samples_split=8, n_estimators=400; total time=   1.0s\n",
      "[CV] END bootstrap=True, max_depth=100, max_features=3, min_samples_leaf=2, min_samples_split=10, n_estimators=1000; total time=   2.6s\n",
      "[CV] END bootstrap=True, max_depth=100, max_features=3, min_samples_leaf=2, min_samples_split=10, n_estimators=1000; total time=   2.7s\n",
      "[CV] END bootstrap=True, max_depth=100, max_features=3, min_samples_leaf=3, min_samples_split=8, n_estimators=600; total time=   1.4s\n",
      "[CV] END bootstrap=True, max_depth=100, max_features=3, min_samples_leaf=2, min_samples_split=12, n_estimators=800; total time=   1.8s\n",
      "[CV] END bootstrap=True, max_depth=100, max_features=3, min_samples_leaf=3, min_samples_split=8, n_estimators=600; total time=   1.4s\n",
      "[CV] END bootstrap=True, max_depth=100, max_features=3, min_samples_leaf=1, min_samples_split=12, n_estimators=1000; total time=   7.5s\n",
      "[CV] END bootstrap=True, max_depth=100, max_features=3, min_samples_leaf=2, min_samples_split=12, n_estimators=800; total time=   2.1s\n",
      "[CV] END bootstrap=True, max_depth=100, max_features=3, min_samples_leaf=3, min_samples_split=10, n_estimators=400; total time=   1.0s\n",
      "[CV] END bootstrap=True, max_depth=100, max_features=3, min_samples_leaf=3, min_samples_split=10, n_estimators=400; total time=   1.0s\n",
      "[CV] END bootstrap=True, max_depth=100, max_features=3, min_samples_leaf=3, min_samples_split=8, n_estimators=800; total time=   1.8s\n",
      "[CV] END bootstrap=True, max_depth=100, max_features=3, min_samples_leaf=2, min_samples_split=12, n_estimators=1000; total time=   2.5s\n",
      "[CV] END bootstrap=True, max_depth=100, max_features=3, min_samples_leaf=2, min_samples_split=12, n_estimators=1000; total time=   2.7s\n",
      "[CV] END bootstrap=True, max_depth=100, max_features=3, min_samples_leaf=1, min_samples_split=12, n_estimators=1000; total time=   7.9s\n",
      "[CV] END bootstrap=True, max_depth=100, max_features=3, min_samples_leaf=3, min_samples_split=12, n_estimators=400; total time=   0.9s\n",
      "[CV] END bootstrap=True, max_depth=100, max_features=3, min_samples_leaf=3, min_samples_split=10, n_estimators=600; total time=   1.6s\n",
      "[CV] END bootstrap=True, max_depth=100, max_features=3, min_samples_leaf=3, min_samples_split=10, n_estimators=600; total time=   1.5s\n",
      "[CV] END bootstrap=True, max_depth=100, max_features=3, min_samples_leaf=3, min_samples_split=8, n_estimators=800; total time=   2.1s\n",
      "[CV] END bootstrap=True, max_depth=100, max_features=3, min_samples_leaf=3, min_samples_split=12, n_estimators=400; total time=   1.0s\n",
      "[CV] END bootstrap=True, max_depth=100, max_features=3, min_samples_leaf=3, min_samples_split=10, n_estimators=800; total time=   1.8s\n",
      "[CV] END bootstrap=True, max_depth=100, max_features=3, min_samples_leaf=3, min_samples_split=10, n_estimators=800; total time=   1.8s\n",
      "[CV] END bootstrap=True, max_depth=100, max_features=3, min_samples_leaf=3, min_samples_split=8, n_estimators=1000; total time=   2.6s\n",
      "[CV] END bootstrap=True, max_depth=100, max_features=3, min_samples_leaf=3, min_samples_split=8, n_estimators=1000; total time=   2.5s\n",
      "[CV] END bootstrap=True, max_depth=100, max_features=3, min_samples_leaf=3, min_samples_split=12, n_estimators=600; total time=   1.3s\n",
      "[CV] END bootstrap=True, max_depth=100, max_features=3, min_samples_leaf=3, min_samples_split=12, n_estimators=600; total time=   1.5s\n",
      "[CV] END bootstrap=True, max_depth=100, max_features=3, min_samples_leaf=3, min_samples_split=10, n_estimators=1000; total time=   2.2s\n",
      "[CV] END bootstrap=True, max_depth=100, max_features=3, min_samples_leaf=3, min_samples_split=10, n_estimators=1000; total time=   2.3s\n",
      "[CV] END bootstrap=True, max_depth=100, max_features=3, min_samples_leaf=3, min_samples_split=12, n_estimators=800; total time=   1.7s\n",
      "[CV] END bootstrap=True, max_depth=100, max_features=3, min_samples_leaf=3, min_samples_split=12, n_estimators=800; total time=   2.0s\n",
      "[CV] END bootstrap=True, max_depth=100, max_features=3, min_samples_leaf=3, min_samples_split=12, n_estimators=1000; total time=   2.5s\n",
      "[CV] END bootstrap=True, max_depth=100, max_features=3, min_samples_leaf=3, min_samples_split=12, n_estimators=1000; total time=   2.3s\n",
      "[CV] END bootstrap=True, max_depth=110, max_features=2, min_samples_leaf=1, min_samples_split=8, n_estimators=400; total time=   4.0s\n",
      "[CV] END bootstrap=True, max_depth=110, max_features=2, min_samples_leaf=1, min_samples_split=10, n_estimators=400; total time=   3.5s[CV] END bootstrap=True, max_depth=110, max_features=2, min_samples_leaf=1, min_samples_split=8, n_estimators=400; total time=   4.0s\n",
      "\n",
      "[CV] END bootstrap=True, max_depth=110, max_features=2, min_samples_leaf=1, min_samples_split=10, n_estimators=400; total time=   4.0s\n",
      "[CV] END bootstrap=True, max_depth=110, max_features=2, min_samples_leaf=1, min_samples_split=10, n_estimators=600; total time=   4.8s\n",
      "[CV] END bootstrap=True, max_depth=110, max_features=2, min_samples_leaf=1, min_samples_split=8, n_estimators=600; total time=   6.3s\n",
      "[CV] END bootstrap=True, max_depth=110, max_features=2, min_samples_leaf=1, min_samples_split=8, n_estimators=600; total time=   6.3s\n",
      "[CV] END bootstrap=True, max_depth=110, max_features=2, min_samples_leaf=1, min_samples_split=10, n_estimators=600; total time=   5.5s\n",
      "[CV] END bootstrap=True, max_depth=110, max_features=2, min_samples_leaf=1, min_samples_split=12, n_estimators=400; total time=   3.1s\n",
      "[CV] END bootstrap=True, max_depth=110, max_features=2, min_samples_leaf=1, min_samples_split=8, n_estimators=800; total time=   6.8s\n",
      "[CV] END bootstrap=True, max_depth=110, max_features=2, min_samples_leaf=1, min_samples_split=12, n_estimators=400; total time=   3.7s\n",
      "[CV] END bootstrap=True, max_depth=110, max_features=2, min_samples_leaf=1, min_samples_split=10, n_estimators=800; total time=   6.7s\n",
      "[CV] END bootstrap=True, max_depth=110, max_features=2, min_samples_leaf=1, min_samples_split=8, n_estimators=800; total time=   7.7s\n",
      "[CV] END bootstrap=True, max_depth=110, max_features=2, min_samples_leaf=2, min_samples_split=8, n_estimators=400; total time=   0.9s\n",
      "[CV] END bootstrap=True, max_depth=110, max_features=2, min_samples_leaf=2, min_samples_split=8, n_estimators=400; total time=   0.9s\n",
      "[CV] END bootstrap=True, max_depth=110, max_features=2, min_samples_leaf=1, min_samples_split=10, n_estimators=800; total time=   7.5s\n",
      "[CV] END bootstrap=True, max_depth=110, max_features=2, min_samples_leaf=2, min_samples_split=8, n_estimators=600; total time=   1.3s\n",
      "[CV] END bootstrap=True, max_depth=110, max_features=2, min_samples_leaf=2, min_samples_split=8, n_estimators=600; total time=   1.5s\n",
      "[CV] END bootstrap=True, max_depth=110, max_features=2, min_samples_leaf=1, min_samples_split=12, n_estimators=600; total time=   5.5s\n",
      "[CV] END bootstrap=True, max_depth=110, max_features=2, min_samples_leaf=2, min_samples_split=8, n_estimators=800; total time=   1.7s\n",
      "[CV] END bootstrap=True, max_depth=110, max_features=2, min_samples_leaf=2, min_samples_split=8, n_estimators=800; total time=   1.8s\n",
      "[CV] END bootstrap=True, max_depth=110, max_features=2, min_samples_leaf=1, min_samples_split=12, n_estimators=600; total time=   5.1s\n",
      "[CV] END bootstrap=True, max_depth=110, max_features=2, min_samples_leaf=2, min_samples_split=10, n_estimators=400; total time=   0.8s\n",
      "[CV] END bootstrap=True, max_depth=110, max_features=2, min_samples_leaf=1, min_samples_split=8, n_estimators=1000; total time=   9.6s\n",
      "[CV] END bootstrap=True, max_depth=110, max_features=2, min_samples_leaf=2, min_samples_split=10, n_estimators=400; total time=   1.0s\n",
      "[CV] END bootstrap=True, max_depth=110, max_features=2, min_samples_leaf=2, min_samples_split=8, n_estimators=1000; total time=   2.1s\n",
      "[CV] END bootstrap=True, max_depth=110, max_features=2, min_samples_leaf=1, min_samples_split=8, n_estimators=1000; total time=  10.0s\n",
      "[CV] END bootstrap=True, max_depth=110, max_features=2, min_samples_leaf=1, min_samples_split=10, n_estimators=1000; total time=   8.3s\n",
      "[CV] END bootstrap=True, max_depth=110, max_features=2, min_samples_leaf=1, min_samples_split=10, n_estimators=1000; total time=   8.8s\n",
      "[CV] END bootstrap=True, max_depth=110, max_features=2, min_samples_leaf=2, min_samples_split=10, n_estimators=600; total time=   1.5s\n",
      "[CV] END bootstrap=True, max_depth=110, max_features=2, min_samples_leaf=2, min_samples_split=10, n_estimators=600; total time=   1.3s\n",
      "[CV] END bootstrap=True, max_depth=110, max_features=2, min_samples_leaf=2, min_samples_split=12, n_estimators=400; total time=   0.9s\n",
      "[CV] END bootstrap=True, max_depth=110, max_features=2, min_samples_leaf=2, min_samples_split=12, n_estimators=400; total time=   1.0s\n",
      "[CV] END bootstrap=True, max_depth=110, max_features=2, min_samples_leaf=2, min_samples_split=10, n_estimators=800; total time=   1.8s\n",
      "[CV] END bootstrap=True, max_depth=110, max_features=2, min_samples_leaf=1, min_samples_split=12, n_estimators=800; total time=   5.8s\n",
      "[CV] END bootstrap=True, max_depth=110, max_features=2, min_samples_leaf=2, min_samples_split=8, n_estimators=1000; total time=   2.6s\n",
      "[CV] END bootstrap=True, max_depth=110, max_features=2, min_samples_leaf=2, min_samples_split=12, n_estimators=600; total time=   1.4s\n",
      "[CV] END bootstrap=True, max_depth=110, max_features=2, min_samples_leaf=2, min_samples_split=12, n_estimators=600; total time=   1.5s\n",
      "[CV] END bootstrap=True, max_depth=110, max_features=2, min_samples_leaf=2, min_samples_split=10, n_estimators=800; total time=   2.2s\n",
      "[CV] END bootstrap=True, max_depth=110, max_features=2, min_samples_leaf=2, min_samples_split=10, n_estimators=1000; total time=   2.1s\n",
      "[CV] END bootstrap=True, max_depth=110, max_features=2, min_samples_leaf=3, min_samples_split=8, n_estimators=400; total time=   1.0s\n",
      "[CV] END bootstrap=True, max_depth=110, max_features=2, min_samples_leaf=3, min_samples_split=8, n_estimators=400; total time=   1.0s\n",
      "[CV] END bootstrap=True, max_depth=110, max_features=2, min_samples_leaf=2, min_samples_split=10, n_estimators=1000; total time=   2.5s\n",
      "[CV] END bootstrap=True, max_depth=110, max_features=2, min_samples_leaf=1, min_samples_split=12, n_estimators=800; total time=   6.6s\n",
      "[CV] END bootstrap=True, max_depth=110, max_features=2, min_samples_leaf=3, min_samples_split=8, n_estimators=600; total time=   1.3s\n",
      "[CV] END bootstrap=True, max_depth=110, max_features=2, min_samples_leaf=2, min_samples_split=12, n_estimators=800; total time=   2.0s\n",
      "[CV] END bootstrap=True, max_depth=110, max_features=2, min_samples_leaf=2, min_samples_split=12, n_estimators=800; total time=   2.0s\n",
      "[CV] END bootstrap=True, max_depth=110, max_features=2, min_samples_leaf=2, min_samples_split=12, n_estimators=1000; total time=   2.1s\n",
      "[CV] END bootstrap=True, max_depth=110, max_features=2, min_samples_leaf=3, min_samples_split=10, n_estimators=400; total time=   1.0s\n",
      "[CV] END bootstrap=True, max_depth=110, max_features=2, min_samples_leaf=3, min_samples_split=8, n_estimators=600; total time=   1.5s\n",
      "[CV] END bootstrap=True, max_depth=110, max_features=2, min_samples_leaf=2, min_samples_split=12, n_estimators=1000; total time=   2.2s\n",
      "[CV] END bootstrap=True, max_depth=110, max_features=2, min_samples_leaf=3, min_samples_split=10, n_estimators=400; total time=   0.9s\n",
      "[CV] END bootstrap=True, max_depth=110, max_features=2, min_samples_leaf=3, min_samples_split=8, n_estimators=800; total time=   1.8s\n",
      "[CV] END bootstrap=True, max_depth=110, max_features=2, min_samples_leaf=1, min_samples_split=12, n_estimators=1000; total time=   7.3s\n",
      "[CV] END bootstrap=True, max_depth=110, max_features=2, min_samples_leaf=3, min_samples_split=8, n_estimators=800; total time=   1.9s\n",
      "[CV] END bootstrap=True, max_depth=110, max_features=2, min_samples_leaf=3, min_samples_split=10, n_estimators=600; total time=   1.4s\n",
      "[CV] END bootstrap=True, max_depth=110, max_features=2, min_samples_leaf=3, min_samples_split=12, n_estimators=400; total time=   0.9s\n",
      "[CV] END bootstrap=True, max_depth=110, max_features=2, min_samples_leaf=3, min_samples_split=8, n_estimators=1000; total time=   2.1s\n",
      "[CV] END bootstrap=True, max_depth=110, max_features=2, min_samples_leaf=3, min_samples_split=12, n_estimators=400; total time=   1.0s\n",
      "[CV] END bootstrap=True, max_depth=110, max_features=2, min_samples_leaf=3, min_samples_split=10, n_estimators=600; total time=   1.4s\n",
      "[CV] END bootstrap=True, max_depth=110, max_features=2, min_samples_leaf=1, min_samples_split=12, n_estimators=1000; total time=   8.0s\n",
      "[CV] END bootstrap=True, max_depth=110, max_features=2, min_samples_leaf=3, min_samples_split=12, n_estimators=600; total time=   1.3s\n",
      "[CV] END bootstrap=True, max_depth=110, max_features=2, min_samples_leaf=3, min_samples_split=10, n_estimators=800; total time=   1.6s\n",
      "[CV] END bootstrap=True, max_depth=110, max_features=2, min_samples_leaf=3, min_samples_split=12, n_estimators=600; total time=   1.3s\n",
      "[CV] END bootstrap=True, max_depth=110, max_features=2, min_samples_leaf=3, min_samples_split=10, n_estimators=800; total time=   1.9s\n",
      "[CV] END bootstrap=True, max_depth=110, max_features=2, min_samples_leaf=3, min_samples_split=8, n_estimators=1000; total time=   2.8s\n",
      "[CV] END bootstrap=True, max_depth=110, max_features=2, min_samples_leaf=3, min_samples_split=10, n_estimators=1000; total time=   2.4s\n",
      "[CV] END bootstrap=True, max_depth=110, max_features=2, min_samples_leaf=3, min_samples_split=12, n_estimators=800; total time=   1.8s\n",
      "[CV] END bootstrap=True, max_depth=110, max_features=2, min_samples_leaf=3, min_samples_split=12, n_estimators=800; total time=   1.8s\n",
      "[CV] END bootstrap=True, max_depth=110, max_features=2, min_samples_leaf=3, min_samples_split=10, n_estimators=1000; total time=   2.5s\n",
      "[CV] END bootstrap=True, max_depth=110, max_features=2, min_samples_leaf=3, min_samples_split=12, n_estimators=1000; total time=   2.5s\n",
      "[CV] END bootstrap=True, max_depth=110, max_features=2, min_samples_leaf=3, min_samples_split=12, n_estimators=1000; total time=   2.5s\n",
      "[CV] END bootstrap=True, max_depth=110, max_features=3, min_samples_leaf=1, min_samples_split=8, n_estimators=400; total time=   3.3s\n",
      "[CV] END bootstrap=True, max_depth=110, max_features=3, min_samples_leaf=1, min_samples_split=8, n_estimators=400; total time=   3.4s\n",
      "[CV] END bootstrap=True, max_depth=110, max_features=3, min_samples_leaf=1, min_samples_split=10, n_estimators=400; total time=   3.7s\n",
      "[CV] END bootstrap=True, max_depth=110, max_features=3, min_samples_leaf=1, min_samples_split=10, n_estimators=400; total time=   4.1s\n",
      "[CV] END bootstrap=True, max_depth=110, max_features=3, min_samples_leaf=1, min_samples_split=8, n_estimators=600; total time=   6.3s\n",
      "[CV] END bootstrap=True, max_depth=110, max_features=3, min_samples_leaf=1, min_samples_split=8, n_estimators=600; total time=   6.2s\n",
      "[CV] END bootstrap=True, max_depth=110, max_features=3, min_samples_leaf=1, min_samples_split=12, n_estimators=400; total time=   3.2s\n",
      "[CV] END bootstrap=True, max_depth=110, max_features=3, min_samples_leaf=1, min_samples_split=12, n_estimators=400; total time=   3.2s\n",
      "[CV] END bootstrap=True, max_depth=110, max_features=3, min_samples_leaf=1, min_samples_split=10, n_estimators=600; total time=   5.4s\n",
      "[CV] END bootstrap=True, max_depth=110, max_features=3, min_samples_leaf=1, min_samples_split=8, n_estimators=800; total time=   6.7s\n",
      "[CV] END bootstrap=True, max_depth=110, max_features=3, min_samples_leaf=1, min_samples_split=10, n_estimators=600; total time=   6.3s\n",
      "[CV] END bootstrap=True, max_depth=110, max_features=3, min_samples_leaf=2, min_samples_split=8, n_estimators=400; total time=   0.9s\n",
      "[CV] END bootstrap=True, max_depth=110, max_features=3, min_samples_leaf=2, min_samples_split=8, n_estimators=400; total time=   1.1s\n",
      "[CV] END bootstrap=True, max_depth=110, max_features=3, min_samples_leaf=1, min_samples_split=8, n_estimators=800; total time=   8.3s\n",
      "[CV] END bootstrap=True, max_depth=110, max_features=3, min_samples_leaf=1, min_samples_split=10, n_estimators=800; total time=   7.1s\n",
      "[CV] END bootstrap=True, max_depth=110, max_features=3, min_samples_leaf=1, min_samples_split=8, n_estimators=1000; total time=   8.2s\n",
      "[CV] END bootstrap=True, max_depth=110, max_features=3, min_samples_leaf=1, min_samples_split=10, n_estimators=800; total time=   7.6s\n",
      "[CV] END bootstrap=True, max_depth=110, max_features=3, min_samples_leaf=2, min_samples_split=8, n_estimators=600; total time=   1.7s\n",
      "[CV] END bootstrap=True, max_depth=110, max_features=3, min_samples_leaf=2, min_samples_split=8, n_estimators=600; total time=   1.6s\n",
      "[CV] END bootstrap=True, max_depth=110, max_features=3, min_samples_leaf=1, min_samples_split=12, n_estimators=600; total time=   5.2s\n",
      "[CV] END bootstrap=True, max_depth=110, max_features=3, min_samples_leaf=1, min_samples_split=8, n_estimators=1000; total time=   9.3s\n",
      "[CV] END bootstrap=True, max_depth=110, max_features=3, min_samples_leaf=2, min_samples_split=8, n_estimators=800; total time=   2.0s\n",
      "[CV] END bootstrap=True, max_depth=110, max_features=3, min_samples_leaf=2, min_samples_split=10, n_estimators=400; total time=   1.0s\n",
      "[CV] END bootstrap=True, max_depth=110, max_features=3, min_samples_leaf=1, min_samples_split=12, n_estimators=600; total time=   5.4s\n",
      "[CV] END bootstrap=True, max_depth=110, max_features=3, min_samples_leaf=2, min_samples_split=8, n_estimators=800; total time=   2.1s\n",
      "[CV] END bootstrap=True, max_depth=110, max_features=3, min_samples_leaf=2, min_samples_split=10, n_estimators=400; total time=   1.5s\n",
      "[CV] END bootstrap=True, max_depth=110, max_features=3, min_samples_leaf=2, min_samples_split=10, n_estimators=600; total time=   1.4s\n",
      "[CV] END bootstrap=True, max_depth=110, max_features=3, min_samples_leaf=2, min_samples_split=8, n_estimators=1000; total time=   2.4s\n",
      "[CV] END bootstrap=True, max_depth=110, max_features=3, min_samples_leaf=2, min_samples_split=8, n_estimators=1000; total time=   2.4s\n",
      "[CV] END bootstrap=True, max_depth=110, max_features=3, min_samples_leaf=2, min_samples_split=10, n_estimators=600; total time=   1.6s\n",
      "[CV] END bootstrap=True, max_depth=110, max_features=3, min_samples_leaf=1, min_samples_split=10, n_estimators=1000; total time=   9.2s\n",
      "[CV] END bootstrap=True, max_depth=110, max_features=3, min_samples_leaf=1, min_samples_split=10, n_estimators=1000; total time=   9.4s\n",
      "[CV] END bootstrap=True, max_depth=110, max_features=3, min_samples_leaf=2, min_samples_split=12, n_estimators=400; total time=   1.2s\n",
      "[CV] END bootstrap=True, max_depth=110, max_features=3, min_samples_leaf=2, min_samples_split=12, n_estimators=400; total time=   1.2s\n",
      "[CV] END bootstrap=True, max_depth=110, max_features=3, min_samples_leaf=2, min_samples_split=10, n_estimators=800; total time=   2.1s\n",
      "[CV] END bootstrap=True, max_depth=110, max_features=3, min_samples_leaf=2, min_samples_split=10, n_estimators=800; total time=   2.1s\n",
      "[CV] END bootstrap=True, max_depth=110, max_features=3, min_samples_leaf=2, min_samples_split=12, n_estimators=600; total time=   1.2s\n",
      "[CV] END bootstrap=True, max_depth=110, max_features=3, min_samples_leaf=1, min_samples_split=12, n_estimators=800; total time=   6.0s\n",
      "[CV] END bootstrap=True, max_depth=110, max_features=3, min_samples_leaf=2, min_samples_split=12, n_estimators=600; total time=   1.6s\n",
      "[CV] END bootstrap=True, max_depth=110, max_features=3, min_samples_leaf=2, min_samples_split=10, n_estimators=1000; total time=   2.7s\n",
      "[CV] END bootstrap=True, max_depth=110, max_features=3, min_samples_leaf=2, min_samples_split=10, n_estimators=1000; total time=   2.7s\n",
      "[CV] END bootstrap=True, max_depth=110, max_features=3, min_samples_leaf=3, min_samples_split=8, n_estimators=400; total time=   1.1s\n",
      "[CV] END bootstrap=True, max_depth=110, max_features=3, min_samples_leaf=3, min_samples_split=8, n_estimators=400; total time=   1.1s\n",
      "[CV] END bootstrap=True, max_depth=110, max_features=3, min_samples_leaf=1, min_samples_split=12, n_estimators=800; total time=   6.9s\n",
      "[CV] END bootstrap=True, max_depth=110, max_features=3, min_samples_leaf=2, min_samples_split=12, n_estimators=800; total time=   2.2s\n",
      "[CV] END bootstrap=True, max_depth=110, max_features=3, min_samples_leaf=2, min_samples_split=12, n_estimators=800; total time=   2.1s\n",
      "[CV] END bootstrap=True, max_depth=110, max_features=3, min_samples_leaf=1, min_samples_split=12, n_estimators=1000; total time=   6.9s\n",
      "[CV] END bootstrap=True, max_depth=110, max_features=3, min_samples_leaf=3, min_samples_split=8, n_estimators=600; total time=   1.4s\n",
      "[CV] END bootstrap=True, max_depth=110, max_features=3, min_samples_leaf=3, min_samples_split=8, n_estimators=600; total time=   1.4s\n",
      "[CV] END bootstrap=True, max_depth=110, max_features=3, min_samples_leaf=1, min_samples_split=12, n_estimators=1000; total time=   7.0s\n",
      "[CV] END bootstrap=True, max_depth=110, max_features=3, min_samples_leaf=3, min_samples_split=8, n_estimators=800; total time=   1.6s\n",
      "[CV] END bootstrap=True, max_depth=110, max_features=3, min_samples_leaf=3, min_samples_split=10, n_estimators=400; total time=   1.0s\n",
      "[CV] END bootstrap=True, max_depth=110, max_features=3, min_samples_leaf=3, min_samples_split=10, n_estimators=400; total time=   1.0s\n",
      "[CV] END bootstrap=True, max_depth=110, max_features=3, min_samples_leaf=3, min_samples_split=8, n_estimators=800; total time=   1.7s\n",
      "[CV] END bootstrap=True, max_depth=110, max_features=3, min_samples_leaf=2, min_samples_split=12, n_estimators=1000; total time=   2.6s\n",
      "[CV] END bootstrap=True, max_depth=110, max_features=3, min_samples_leaf=2, min_samples_split=12, n_estimators=1000; total time=   2.6s\n",
      "[CV] END bootstrap=True, max_depth=110, max_features=3, min_samples_leaf=3, min_samples_split=12, n_estimators=400; total time=   1.0s\n",
      "[CV] END bootstrap=True, max_depth=110, max_features=3, min_samples_leaf=3, min_samples_split=10, n_estimators=600; total time=   1.5s\n",
      "[CV] END bootstrap=True, max_depth=110, max_features=3, min_samples_leaf=3, min_samples_split=12, n_estimators=400; total time=   0.9s\n",
      "[CV] END bootstrap=True, max_depth=110, max_features=3, min_samples_leaf=3, min_samples_split=10, n_estimators=600; total time=   1.5s\n",
      "[CV] END bootstrap=True, max_depth=110, max_features=3, min_samples_leaf=3, min_samples_split=8, n_estimators=1000; total time=   2.2s\n",
      "[CV] END bootstrap=True, max_depth=110, max_features=3, min_samples_leaf=3, min_samples_split=10, n_estimators=800; total time=   1.7s\n",
      "[CV] END bootstrap=True, max_depth=110, max_features=3, min_samples_leaf=3, min_samples_split=8, n_estimators=1000; total time=   2.2s\n",
      "[CV] END bootstrap=True, max_depth=110, max_features=3, min_samples_leaf=3, min_samples_split=10, n_estimators=800; total time=   1.8s\n",
      "[CV] END bootstrap=True, max_depth=110, max_features=3, min_samples_leaf=3, min_samples_split=12, n_estimators=600; total time=   1.2s\n",
      "[CV] END bootstrap=True, max_depth=110, max_features=3, min_samples_leaf=3, min_samples_split=12, n_estimators=600; total time=   1.2s\n",
      "[CV] END bootstrap=True, max_depth=110, max_features=3, min_samples_leaf=3, min_samples_split=10, n_estimators=1000; total time=   1.9s\n",
      "[CV] END bootstrap=True, max_depth=110, max_features=3, min_samples_leaf=3, min_samples_split=10, n_estimators=1000; total time=   1.9s\n",
      "[CV] END bootstrap=True, max_depth=110, max_features=3, min_samples_leaf=3, min_samples_split=12, n_estimators=800; total time=   1.4s\n",
      "[CV] END bootstrap=True, max_depth=110, max_features=3, min_samples_leaf=3, min_samples_split=12, n_estimators=800; total time=   1.3s\n",
      "[CV] END bootstrap=True, max_depth=110, max_features=3, min_samples_leaf=3, min_samples_split=12, n_estimators=1000; total time=   1.5s\n",
      "[CV] END bootstrap=True, max_depth=110, max_features=3, min_samples_leaf=3, min_samples_split=12, n_estimators=1000; total time=   1.3s\n"
     ]
    },
    {
     "data": {
      "text/plain": [
       "{'bootstrap': True,\n",
       " 'max_depth': 100,\n",
       " 'max_features': 3,\n",
       " 'min_samples_leaf': 1,\n",
       " 'min_samples_split': 8,\n",
       " 'n_estimators': 600}"
      ]
     },
     "execution_count": 175,
     "metadata": {},
     "output_type": "execute_result"
    }
   ],
   "source": [
    "from sklearn.model_selection import GridSearchCV\n",
    "\n",
    "# Create the parameter grid based on the results of random search\n",
    "param_grid = {\n",
    "    \"bootstrap\": [True],\n",
    "    \"max_depth\": [80, 90, 100, 110],\n",
    "    \"max_features\": [2, 3],\n",
    "    \"min_samples_leaf\": [1, 2, 3],\n",
    "    \"min_samples_split\": [8, 10, 12],\n",
    "    \"n_estimators\": [400, 600, 800, 1000],\n",
    "}\n",
    "# Create a based model\n",
    "rf = RandomForestRegressor()\n",
    "# Instantiate the grid search model\n",
    "grid_search = GridSearchCV(\n",
    "    estimator=rf, param_grid=param_grid, cv=2, n_jobs=-1, verbose=2\n",
    ")\n",
    "grid_search.fit(X_train, y_train)\n",
    "grid_search.best_params_\n"
   ]
  },
  {
   "cell_type": "code",
   "execution_count": 176,
   "metadata": {},
   "outputs": [
    {
     "name": "stdout",
     "output_type": "stream",
     "text": [
      "0.6106198416525495\n"
     ]
    }
   ],
   "source": [
    "best_cv_param = {\n",
    "    \"bootstrap\": True,\n",
    "    \"max_depth\": 100,\n",
    "    \"max_features\": 3,\n",
    "    \"min_samples_leaf\": 1,\n",
    "    \"min_samples_split\": 8,\n",
    "    \"n_estimators\": 600,\n",
    "}\n",
    "forest_model = RandomForestRegressor(\n",
    "    n_estimators=600,\n",
    "    min_samples_split=8,\n",
    "    min_samples_leaf=1,\n",
    "    max_features=3,\n",
    "    max_depth=100,\n",
    "    bootstrap= True,\n",
    ")\n",
    "forest_model.fit(X_train, y_train)\n",
    "preds = forest_model.predict(X_valid)\n",
    "print(r2_score(y_valid, preds))\n"
   ]
  },
  {
   "attachments": {},
   "cell_type": "markdown",
   "metadata": {},
   "source": [
    "## XGBRegressor\n"
   ]
  },
  {
   "cell_type": "code",
   "execution_count": 177,
   "metadata": {},
   "outputs": [
    {
     "data": {
      "text/html": [
       "<style>#sk-container-id-7 {color: black;background-color: white;}#sk-container-id-7 pre{padding: 0;}#sk-container-id-7 div.sk-toggleable {background-color: white;}#sk-container-id-7 label.sk-toggleable__label {cursor: pointer;display: block;width: 100%;margin-bottom: 0;padding: 0.3em;box-sizing: border-box;text-align: center;}#sk-container-id-7 label.sk-toggleable__label-arrow:before {content: \"▸\";float: left;margin-right: 0.25em;color: #696969;}#sk-container-id-7 label.sk-toggleable__label-arrow:hover:before {color: black;}#sk-container-id-7 div.sk-estimator:hover label.sk-toggleable__label-arrow:before {color: black;}#sk-container-id-7 div.sk-toggleable__content {max-height: 0;max-width: 0;overflow: hidden;text-align: left;background-color: #f0f8ff;}#sk-container-id-7 div.sk-toggleable__content pre {margin: 0.2em;color: black;border-radius: 0.25em;background-color: #f0f8ff;}#sk-container-id-7 input.sk-toggleable__control:checked~div.sk-toggleable__content {max-height: 200px;max-width: 100%;overflow: auto;}#sk-container-id-7 input.sk-toggleable__control:checked~label.sk-toggleable__label-arrow:before {content: \"▾\";}#sk-container-id-7 div.sk-estimator input.sk-toggleable__control:checked~label.sk-toggleable__label {background-color: #d4ebff;}#sk-container-id-7 div.sk-label input.sk-toggleable__control:checked~label.sk-toggleable__label {background-color: #d4ebff;}#sk-container-id-7 input.sk-hidden--visually {border: 0;clip: rect(1px 1px 1px 1px);clip: rect(1px, 1px, 1px, 1px);height: 1px;margin: -1px;overflow: hidden;padding: 0;position: absolute;width: 1px;}#sk-container-id-7 div.sk-estimator {font-family: monospace;background-color: #f0f8ff;border: 1px dotted black;border-radius: 0.25em;box-sizing: border-box;margin-bottom: 0.5em;}#sk-container-id-7 div.sk-estimator:hover {background-color: #d4ebff;}#sk-container-id-7 div.sk-parallel-item::after {content: \"\";width: 100%;border-bottom: 1px solid gray;flex-grow: 1;}#sk-container-id-7 div.sk-label:hover label.sk-toggleable__label {background-color: #d4ebff;}#sk-container-id-7 div.sk-serial::before {content: \"\";position: absolute;border-left: 1px solid gray;box-sizing: border-box;top: 0;bottom: 0;left: 50%;z-index: 0;}#sk-container-id-7 div.sk-serial {display: flex;flex-direction: column;align-items: center;background-color: white;padding-right: 0.2em;padding-left: 0.2em;position: relative;}#sk-container-id-7 div.sk-item {position: relative;z-index: 1;}#sk-container-id-7 div.sk-parallel {display: flex;align-items: stretch;justify-content: center;background-color: white;position: relative;}#sk-container-id-7 div.sk-item::before, #sk-container-id-7 div.sk-parallel-item::before {content: \"\";position: absolute;border-left: 1px solid gray;box-sizing: border-box;top: 0;bottom: 0;left: 50%;z-index: -1;}#sk-container-id-7 div.sk-parallel-item {display: flex;flex-direction: column;z-index: 1;position: relative;background-color: white;}#sk-container-id-7 div.sk-parallel-item:first-child::after {align-self: flex-end;width: 50%;}#sk-container-id-7 div.sk-parallel-item:last-child::after {align-self: flex-start;width: 50%;}#sk-container-id-7 div.sk-parallel-item:only-child::after {width: 0;}#sk-container-id-7 div.sk-dashed-wrapped {border: 1px dashed gray;margin: 0 0.4em 0.5em 0.4em;box-sizing: border-box;padding-bottom: 0.4em;background-color: white;}#sk-container-id-7 div.sk-label label {font-family: monospace;font-weight: bold;display: inline-block;line-height: 1.2em;}#sk-container-id-7 div.sk-label-container {text-align: center;}#sk-container-id-7 div.sk-container {/* jupyter's `normalize.less` sets `[hidden] { display: none; }` but bootstrap.min.css set `[hidden] { display: none !important; }` so we also need the `!important` here to be able to override the default hidden behavior on the sphinx rendered scikit-learn.org. See: https://github.com/scikit-learn/scikit-learn/issues/21755 */display: inline-block !important;position: relative;}#sk-container-id-7 div.sk-text-repr-fallback {display: none;}</style><div id=\"sk-container-id-7\" class=\"sk-top-container\"><div class=\"sk-text-repr-fallback\"><pre>XGBRegressor(base_score=None, booster=None, callbacks=None,\n",
       "             colsample_bylevel=None, colsample_bynode=None,\n",
       "             colsample_bytree=None, early_stopping_rounds=5,\n",
       "             enable_categorical=False, eval_metric=None, feature_types=None,\n",
       "             gamma=None, gpu_id=None, grow_policy=None, importance_type=None,\n",
       "             interaction_constraints=None, learning_rate=0.05, max_bin=None,\n",
       "             max_cat_threshold=None, max_cat_to_onehot=None,\n",
       "             max_delta_step=None, max_depth=None, max_leaves=None,\n",
       "             min_child_weight=None, missing=nan, monotone_constraints=None,\n",
       "             n_estimators=1000, n_jobs=4, num_parallel_tree=None,\n",
       "             predictor=None, random_state=None, ...)</pre><b>In a Jupyter environment, please rerun this cell to show the HTML representation or trust the notebook. <br />On GitHub, the HTML representation is unable to render, please try loading this page with nbviewer.org.</b></div><div class=\"sk-container\" hidden><div class=\"sk-item\"><div class=\"sk-estimator sk-toggleable\"><input class=\"sk-toggleable__control sk-hidden--visually\" id=\"sk-estimator-id-11\" type=\"checkbox\" checked><label for=\"sk-estimator-id-11\" class=\"sk-toggleable__label sk-toggleable__label-arrow\">XGBRegressor</label><div class=\"sk-toggleable__content\"><pre>XGBRegressor(base_score=None, booster=None, callbacks=None,\n",
       "             colsample_bylevel=None, colsample_bynode=None,\n",
       "             colsample_bytree=None, early_stopping_rounds=5,\n",
       "             enable_categorical=False, eval_metric=None, feature_types=None,\n",
       "             gamma=None, gpu_id=None, grow_policy=None, importance_type=None,\n",
       "             interaction_constraints=None, learning_rate=0.05, max_bin=None,\n",
       "             max_cat_threshold=None, max_cat_to_onehot=None,\n",
       "             max_delta_step=None, max_depth=None, max_leaves=None,\n",
       "             min_child_weight=None, missing=nan, monotone_constraints=None,\n",
       "             n_estimators=1000, n_jobs=4, num_parallel_tree=None,\n",
       "             predictor=None, random_state=None, ...)</pre></div></div></div></div></div>"
      ],
      "text/plain": [
       "XGBRegressor(base_score=None, booster=None, callbacks=None,\n",
       "             colsample_bylevel=None, colsample_bynode=None,\n",
       "             colsample_bytree=None, early_stopping_rounds=5,\n",
       "             enable_categorical=False, eval_metric=None, feature_types=None,\n",
       "             gamma=None, gpu_id=None, grow_policy=None, importance_type=None,\n",
       "             interaction_constraints=None, learning_rate=0.05, max_bin=None,\n",
       "             max_cat_threshold=None, max_cat_to_onehot=None,\n",
       "             max_delta_step=None, max_depth=None, max_leaves=None,\n",
       "             min_child_weight=None, missing=nan, monotone_constraints=None,\n",
       "             n_estimators=1000, n_jobs=4, num_parallel_tree=None,\n",
       "             predictor=None, random_state=None, ...)"
      ]
     },
     "execution_count": 177,
     "metadata": {},
     "output_type": "execute_result"
    }
   ],
   "source": [
    "xgb = XGBRegressor(\n",
    "    n_estimators=1000, early_stopping_rounds=5, learning_rate=0.05, n_jobs=4\n",
    ")\n",
    "xgb.fit(X_train, y_train, eval_set=[(X_valid, y_valid)], verbose=False)"
   ]
  },
  {
   "cell_type": "code",
   "execution_count": 178,
   "metadata": {},
   "outputs": [
    {
     "name": "stdout",
     "output_type": "stream",
     "text": [
      "0.7715243464460869\n"
     ]
    }
   ],
   "source": [
    "predictions = xgb.predict(X_valid)\n",
    "acc = r2_score(y_valid, predictions)\n",
    "print(acc)\n"
   ]
  },
  {
   "cell_type": "code",
   "execution_count": 179,
   "metadata": {},
   "outputs": [
    {
     "name": "stdout",
     "output_type": "stream",
     "text": [
      "Fitting 2 folds for each of 9 candidates, totalling 18 fits\n",
      "[19:45:52] WARNING: ../src/objective/regression_obj.cu:213: reg:linear is now deprecated in favor of reg:squarederror.\n",
      "[19:45:52] WARNING: ../src/objective/regression_obj.cu:213: reg:linear is now deprecated in favor of reg:squarederror.\n",
      "[19:45:52] WARNING: ../src/objective/regression_obj.cu:213: reg:linear is now deprecated in favor of reg:squarederror.\n",
      "[19:45:52] WARNING: ../src/objective/regression_obj.cu:213: reg:linear is now deprecated in favor of reg:squarederror.\n",
      "[19:45:52] WARNING: ../src/objective/regression_obj.cu:213: reg:linear is now deprecated in favor of reg:squarederror.\n",
      "[19:46:08] WARNING: ../src/objective/regression_obj.cu:213: reg:linear is now deprecated in favor of reg:squarederror.\n",
      "[19:46:08] WARNING: ../src/objective/regression_obj.cu:213: reg:linear is now deprecated in favor of reg:squarederror.\n",
      "[19:46:10] WARNING: ../src/objective/regression_obj.cu:213: reg:linear is now deprecated in favor of reg:squarederror.\n",
      "[19:46:10] WARNING: ../src/objective/regression_obj.cu:213: reg:linear is now deprecated in favor of reg:squarederror.\n",
      "[19:46:17] WARNING: ../src/objective/regression_obj.cu:213: reg:linear is now deprecated in favor of reg:squarederror.\n",
      "[19:46:21] WARNING: ../src/objective/regression_obj.cu:213: reg:linear is now deprecated in favor of reg:squarederror.\n",
      "[19:46:21] WARNING: ../src/objective/regression_obj.cu:213: reg:linear is now deprecated in favor of reg:squarederror.\n",
      "[19:46:22] WARNING: ../src/objective/regression_obj.cu:213: reg:linear is now deprecated in favor of reg:squarederror.\n",
      "[19:46:22] WARNING: ../src/objective/regression_obj.cu:213: reg:linear is now deprecated in favor of reg:squarederror.\n",
      "[19:46:27] WARNING: ../src/objective/regression_obj.cu:213: reg:linear is now deprecated in favor of reg:squarederror.\n",
      "[19:46:33] WARNING: ../src/objective/regression_obj.cu:213: reg:linear is now deprecated in favor of reg:squarederror.\n",
      "[19:46:33] WARNING: ../src/objective/regression_obj.cu:213: reg:linear is now deprecated in favor of reg:squarederror.\n",
      "[19:46:33] WARNING: ../src/objective/regression_obj.cu:213: reg:linear is now deprecated in favor of reg:squarederror.\n",
      "[19:46:41] WARNING: ../src/objective/regression_obj.cu:213: reg:linear is now deprecated in favor of reg:squarederror.\n",
      "0.7819658575716842\n",
      "{'colsample_bytree': 0.7, 'learning_rate': 0.05, 'max_depth': 5, 'min_child_weight': 4, 'n_estimators': 500, 'nthread': 4, 'objective': 'reg:linear', 'subsample': 0.7}\n"
     ]
    }
   ],
   "source": [
    "from sklearn.model_selection import GridSearchCV\n",
    "\n",
    "\n",
    "xgb1 = XGBRegressor()\n",
    "parameters = {\n",
    "    \"nthread\": [4],\n",
    "    \"objective\": [\"reg:linear\"],\n",
    "    \"learning_rate\": [0.03, 0.05, 0.07],\n",
    "    \"max_depth\": [5, 6, 7],\n",
    "    \"min_child_weight\": [4],\n",
    "    \"subsample\": [0.7],\n",
    "    \"colsample_bytree\": [0.7],\n",
    "    \"n_estimators\": [500],\n",
    "}\n",
    "\n",
    "xgb_grid = GridSearchCV(xgb1, parameters, cv=2, n_jobs=5, verbose=True)\n",
    "\n",
    "xgb_grid.fit(X_train, y_train)\n",
    "\n",
    "print(xgb_grid.best_score_)\n",
    "print(xgb_grid.best_params_)\n"
   ]
  },
  {
   "cell_type": "code",
   "execution_count": 180,
   "metadata": {},
   "outputs": [
    {
     "name": "stdout",
     "output_type": "stream",
     "text": [
      "[19:46:46] WARNING: ../src/objective/regression_obj.cu:213: reg:linear is now deprecated in favor of reg:squarederror.\n"
     ]
    },
    {
     "data": {
      "text/html": [
       "<style>#sk-container-id-8 {color: black;background-color: white;}#sk-container-id-8 pre{padding: 0;}#sk-container-id-8 div.sk-toggleable {background-color: white;}#sk-container-id-8 label.sk-toggleable__label {cursor: pointer;display: block;width: 100%;margin-bottom: 0;padding: 0.3em;box-sizing: border-box;text-align: center;}#sk-container-id-8 label.sk-toggleable__label-arrow:before {content: \"▸\";float: left;margin-right: 0.25em;color: #696969;}#sk-container-id-8 label.sk-toggleable__label-arrow:hover:before {color: black;}#sk-container-id-8 div.sk-estimator:hover label.sk-toggleable__label-arrow:before {color: black;}#sk-container-id-8 div.sk-toggleable__content {max-height: 0;max-width: 0;overflow: hidden;text-align: left;background-color: #f0f8ff;}#sk-container-id-8 div.sk-toggleable__content pre {margin: 0.2em;color: black;border-radius: 0.25em;background-color: #f0f8ff;}#sk-container-id-8 input.sk-toggleable__control:checked~div.sk-toggleable__content {max-height: 200px;max-width: 100%;overflow: auto;}#sk-container-id-8 input.sk-toggleable__control:checked~label.sk-toggleable__label-arrow:before {content: \"▾\";}#sk-container-id-8 div.sk-estimator input.sk-toggleable__control:checked~label.sk-toggleable__label {background-color: #d4ebff;}#sk-container-id-8 div.sk-label input.sk-toggleable__control:checked~label.sk-toggleable__label {background-color: #d4ebff;}#sk-container-id-8 input.sk-hidden--visually {border: 0;clip: rect(1px 1px 1px 1px);clip: rect(1px, 1px, 1px, 1px);height: 1px;margin: -1px;overflow: hidden;padding: 0;position: absolute;width: 1px;}#sk-container-id-8 div.sk-estimator {font-family: monospace;background-color: #f0f8ff;border: 1px dotted black;border-radius: 0.25em;box-sizing: border-box;margin-bottom: 0.5em;}#sk-container-id-8 div.sk-estimator:hover {background-color: #d4ebff;}#sk-container-id-8 div.sk-parallel-item::after {content: \"\";width: 100%;border-bottom: 1px solid gray;flex-grow: 1;}#sk-container-id-8 div.sk-label:hover label.sk-toggleable__label {background-color: #d4ebff;}#sk-container-id-8 div.sk-serial::before {content: \"\";position: absolute;border-left: 1px solid gray;box-sizing: border-box;top: 0;bottom: 0;left: 50%;z-index: 0;}#sk-container-id-8 div.sk-serial {display: flex;flex-direction: column;align-items: center;background-color: white;padding-right: 0.2em;padding-left: 0.2em;position: relative;}#sk-container-id-8 div.sk-item {position: relative;z-index: 1;}#sk-container-id-8 div.sk-parallel {display: flex;align-items: stretch;justify-content: center;background-color: white;position: relative;}#sk-container-id-8 div.sk-item::before, #sk-container-id-8 div.sk-parallel-item::before {content: \"\";position: absolute;border-left: 1px solid gray;box-sizing: border-box;top: 0;bottom: 0;left: 50%;z-index: -1;}#sk-container-id-8 div.sk-parallel-item {display: flex;flex-direction: column;z-index: 1;position: relative;background-color: white;}#sk-container-id-8 div.sk-parallel-item:first-child::after {align-self: flex-end;width: 50%;}#sk-container-id-8 div.sk-parallel-item:last-child::after {align-self: flex-start;width: 50%;}#sk-container-id-8 div.sk-parallel-item:only-child::after {width: 0;}#sk-container-id-8 div.sk-dashed-wrapped {border: 1px dashed gray;margin: 0 0.4em 0.5em 0.4em;box-sizing: border-box;padding-bottom: 0.4em;background-color: white;}#sk-container-id-8 div.sk-label label {font-family: monospace;font-weight: bold;display: inline-block;line-height: 1.2em;}#sk-container-id-8 div.sk-label-container {text-align: center;}#sk-container-id-8 div.sk-container {/* jupyter's `normalize.less` sets `[hidden] { display: none; }` but bootstrap.min.css set `[hidden] { display: none !important; }` so we also need the `!important` here to be able to override the default hidden behavior on the sphinx rendered scikit-learn.org. See: https://github.com/scikit-learn/scikit-learn/issues/21755 */display: inline-block !important;position: relative;}#sk-container-id-8 div.sk-text-repr-fallback {display: none;}</style><div id=\"sk-container-id-8\" class=\"sk-top-container\"><div class=\"sk-text-repr-fallback\"><pre>XGBRegressor(base_score=None, booster=None, callbacks=None,\n",
       "             colsample_bylevel=None, colsample_bynode=None,\n",
       "             colsample_bytree=0.7, early_stopping_rounds=None,\n",
       "             enable_categorical=False, eval_metric=None, feature_types=None,\n",
       "             gamma=None, gpu_id=None, grow_policy=None, importance_type=None,\n",
       "             interaction_constraints=None, learning_rate=0.03, max_bin=None,\n",
       "             max_cat_threshold=None, max_cat_to_onehot=None,\n",
       "             max_delta_step=None, max_depth=5, max_leaves=None,\n",
       "             min_child_weight=4, missing=nan, monotone_constraints=None,\n",
       "             n_estimators=500, n_jobs=None, nthread=4, num_parallel_tree=None,\n",
       "             objective=&#x27;reg:linear&#x27;, ...)</pre><b>In a Jupyter environment, please rerun this cell to show the HTML representation or trust the notebook. <br />On GitHub, the HTML representation is unable to render, please try loading this page with nbviewer.org.</b></div><div class=\"sk-container\" hidden><div class=\"sk-item\"><div class=\"sk-estimator sk-toggleable\"><input class=\"sk-toggleable__control sk-hidden--visually\" id=\"sk-estimator-id-12\" type=\"checkbox\" checked><label for=\"sk-estimator-id-12\" class=\"sk-toggleable__label sk-toggleable__label-arrow\">XGBRegressor</label><div class=\"sk-toggleable__content\"><pre>XGBRegressor(base_score=None, booster=None, callbacks=None,\n",
       "             colsample_bylevel=None, colsample_bynode=None,\n",
       "             colsample_bytree=0.7, early_stopping_rounds=None,\n",
       "             enable_categorical=False, eval_metric=None, feature_types=None,\n",
       "             gamma=None, gpu_id=None, grow_policy=None, importance_type=None,\n",
       "             interaction_constraints=None, learning_rate=0.03, max_bin=None,\n",
       "             max_cat_threshold=None, max_cat_to_onehot=None,\n",
       "             max_delta_step=None, max_depth=5, max_leaves=None,\n",
       "             min_child_weight=4, missing=nan, monotone_constraints=None,\n",
       "             n_estimators=500, n_jobs=None, nthread=4, num_parallel_tree=None,\n",
       "             objective=&#x27;reg:linear&#x27;, ...)</pre></div></div></div></div></div>"
      ],
      "text/plain": [
       "XGBRegressor(base_score=None, booster=None, callbacks=None,\n",
       "             colsample_bylevel=None, colsample_bynode=None,\n",
       "             colsample_bytree=0.7, early_stopping_rounds=None,\n",
       "             enable_categorical=False, eval_metric=None, feature_types=None,\n",
       "             gamma=None, gpu_id=None, grow_policy=None, importance_type=None,\n",
       "             interaction_constraints=None, learning_rate=0.03, max_bin=None,\n",
       "             max_cat_threshold=None, max_cat_to_onehot=None,\n",
       "             max_delta_step=None, max_depth=5, max_leaves=None,\n",
       "             min_child_weight=4, missing=nan, monotone_constraints=None,\n",
       "             n_estimators=500, n_jobs=None, nthread=4, num_parallel_tree=None,\n",
       "             objective='reg:linear', ...)"
      ]
     },
     "execution_count": 180,
     "metadata": {},
     "output_type": "execute_result"
    }
   ],
   "source": [
    "best_xgb_param = {\n",
    "    \"colsample_bytree\": 0.7,\n",
    "    \"learning_rate\": 0.03,\n",
    "    \"max_depth\": 5,\n",
    "    \"min_child_weight\": 4,\n",
    "    \"n_estimators\": 500,\n",
    "    \"nthread\": 4,\n",
    "    \"objective\": \"reg:linear\",\n",
    "    \"silent\": 1,\n",
    "    \"subsample\": 0.7,\n",
    "}\n",
    "xgb = XGBRegressor(\n",
    "    colsample_bytree=0.7,\n",
    "    learning_rate=0.03,\n",
    "    max_depth=5,\n",
    "    min_child_weight=4,\n",
    "    n_estimators=500,\n",
    "    nthread=4,\n",
    "    objective=\"reg:linear\",\n",
    "    subsample=0.7,\n",
    ")\n",
    "xgb.fit(X_train, y_train, eval_set=[(X_valid, y_valid)], verbose=False)\n"
   ]
  },
  {
   "cell_type": "code",
   "execution_count": 181,
   "metadata": {},
   "outputs": [
    {
     "name": "stdout",
     "output_type": "stream",
     "text": [
      "0.7767935322847682\n"
     ]
    }
   ],
   "source": [
    "predictions = xgb.predict(X_valid)\n",
    "acc = r2_score(y_valid, predictions)\n",
    "print(acc)"
   ]
  },
  {
   "attachments": {},
   "cell_type": "markdown",
   "metadata": {},
   "source": [
    "## Ridge\n"
   ]
  },
  {
   "cell_type": "code",
   "execution_count": 182,
   "metadata": {},
   "outputs": [
    {
     "name": "stdout",
     "output_type": "stream",
     "text": [
      "Fitting 5 folds for each of 28 candidates, totalling 140 fits\n"
     ]
    },
    {
     "name": "stderr",
     "output_type": "stream",
     "text": [
      "/home/azizb/anaconda3/envs/data-science/lib/python3.11/site-packages/sklearn/linear_model/_ridge.py:216: LinAlgWarning: Ill-conditioned matrix (rcond=3.54319e-18): result may not be accurate.\n",
      "  return linalg.solve(A, Xy, assume_a=\"pos\", overwrite_a=True).T\n",
      "/home/azizb/anaconda3/envs/data-science/lib/python3.11/site-packages/sklearn/linear_model/_ridge.py:216: LinAlgWarning: Ill-conditioned matrix (rcond=1.88188e-18): result may not be accurate.\n",
      "  return linalg.solve(A, Xy, assume_a=\"pos\", overwrite_a=True).T\n",
      "/home/azizb/anaconda3/envs/data-science/lib/python3.11/site-packages/sklearn/linear_model/_ridge.py:216: LinAlgWarning: Ill-conditioned matrix (rcond=1.7563e-18): result may not be accurate.\n",
      "  return linalg.solve(A, Xy, assume_a=\"pos\", overwrite_a=True).T\n",
      "/home/azizb/anaconda3/envs/data-science/lib/python3.11/site-packages/sklearn/linear_model/_ridge.py:216: LinAlgWarning: Ill-conditioned matrix (rcond=3.81603e-18): result may not be accurate.\n",
      "  return linalg.solve(A, Xy, assume_a=\"pos\", overwrite_a=True).T\n",
      "/home/azizb/anaconda3/envs/data-science/lib/python3.11/site-packages/sklearn/linear_model/_ridge.py:216: LinAlgWarning: Ill-conditioned matrix (rcond=1.81473e-18): result may not be accurate.\n",
      "  return linalg.solve(A, Xy, assume_a=\"pos\", overwrite_a=True).T\n",
      "/home/azizb/anaconda3/envs/data-science/lib/python3.11/site-packages/sklearn/linear_model/_ridge.py:216: LinAlgWarning: Ill-conditioned matrix (rcond=3.53008e-17): result may not be accurate.\n",
      "  return linalg.solve(A, Xy, assume_a=\"pos\", overwrite_a=True).T\n",
      "/home/azizb/anaconda3/envs/data-science/lib/python3.11/site-packages/sklearn/linear_model/_ridge.py:216: LinAlgWarning: Ill-conditioned matrix (rcond=1.88175e-17): result may not be accurate.\n",
      "  return linalg.solve(A, Xy, assume_a=\"pos\", overwrite_a=True).T\n",
      "/home/azizb/anaconda3/envs/data-science/lib/python3.11/site-packages/sklearn/linear_model/_ridge.py:216: LinAlgWarning: Ill-conditioned matrix (rcond=1.7561e-17): result may not be accurate.\n",
      "  return linalg.solve(A, Xy, assume_a=\"pos\", overwrite_a=True).T\n",
      "/home/azizb/anaconda3/envs/data-science/lib/python3.11/site-packages/sklearn/linear_model/_ridge.py:216: LinAlgWarning: Ill-conditioned matrix (rcond=3.80923e-17): result may not be accurate.\n",
      "  return linalg.solve(A, Xy, assume_a=\"pos\", overwrite_a=True).T\n",
      "/home/azizb/anaconda3/envs/data-science/lib/python3.11/site-packages/sklearn/linear_model/_ridge.py:216: LinAlgWarning: Ill-conditioned matrix (rcond=1.81354e-17): result may not be accurate.\n",
      "  return linalg.solve(A, Xy, assume_a=\"pos\", overwrite_a=True).T\n"
     ]
    },
    {
     "data": {
      "text/html": [
       "<style>#sk-container-id-9 {color: black;background-color: white;}#sk-container-id-9 pre{padding: 0;}#sk-container-id-9 div.sk-toggleable {background-color: white;}#sk-container-id-9 label.sk-toggleable__label {cursor: pointer;display: block;width: 100%;margin-bottom: 0;padding: 0.3em;box-sizing: border-box;text-align: center;}#sk-container-id-9 label.sk-toggleable__label-arrow:before {content: \"▸\";float: left;margin-right: 0.25em;color: #696969;}#sk-container-id-9 label.sk-toggleable__label-arrow:hover:before {color: black;}#sk-container-id-9 div.sk-estimator:hover label.sk-toggleable__label-arrow:before {color: black;}#sk-container-id-9 div.sk-toggleable__content {max-height: 0;max-width: 0;overflow: hidden;text-align: left;background-color: #f0f8ff;}#sk-container-id-9 div.sk-toggleable__content pre {margin: 0.2em;color: black;border-radius: 0.25em;background-color: #f0f8ff;}#sk-container-id-9 input.sk-toggleable__control:checked~div.sk-toggleable__content {max-height: 200px;max-width: 100%;overflow: auto;}#sk-container-id-9 input.sk-toggleable__control:checked~label.sk-toggleable__label-arrow:before {content: \"▾\";}#sk-container-id-9 div.sk-estimator input.sk-toggleable__control:checked~label.sk-toggleable__label {background-color: #d4ebff;}#sk-container-id-9 div.sk-label input.sk-toggleable__control:checked~label.sk-toggleable__label {background-color: #d4ebff;}#sk-container-id-9 input.sk-hidden--visually {border: 0;clip: rect(1px 1px 1px 1px);clip: rect(1px, 1px, 1px, 1px);height: 1px;margin: -1px;overflow: hidden;padding: 0;position: absolute;width: 1px;}#sk-container-id-9 div.sk-estimator {font-family: monospace;background-color: #f0f8ff;border: 1px dotted black;border-radius: 0.25em;box-sizing: border-box;margin-bottom: 0.5em;}#sk-container-id-9 div.sk-estimator:hover {background-color: #d4ebff;}#sk-container-id-9 div.sk-parallel-item::after {content: \"\";width: 100%;border-bottom: 1px solid gray;flex-grow: 1;}#sk-container-id-9 div.sk-label:hover label.sk-toggleable__label {background-color: #d4ebff;}#sk-container-id-9 div.sk-serial::before {content: \"\";position: absolute;border-left: 1px solid gray;box-sizing: border-box;top: 0;bottom: 0;left: 50%;z-index: 0;}#sk-container-id-9 div.sk-serial {display: flex;flex-direction: column;align-items: center;background-color: white;padding-right: 0.2em;padding-left: 0.2em;position: relative;}#sk-container-id-9 div.sk-item {position: relative;z-index: 1;}#sk-container-id-9 div.sk-parallel {display: flex;align-items: stretch;justify-content: center;background-color: white;position: relative;}#sk-container-id-9 div.sk-item::before, #sk-container-id-9 div.sk-parallel-item::before {content: \"\";position: absolute;border-left: 1px solid gray;box-sizing: border-box;top: 0;bottom: 0;left: 50%;z-index: -1;}#sk-container-id-9 div.sk-parallel-item {display: flex;flex-direction: column;z-index: 1;position: relative;background-color: white;}#sk-container-id-9 div.sk-parallel-item:first-child::after {align-self: flex-end;width: 50%;}#sk-container-id-9 div.sk-parallel-item:last-child::after {align-self: flex-start;width: 50%;}#sk-container-id-9 div.sk-parallel-item:only-child::after {width: 0;}#sk-container-id-9 div.sk-dashed-wrapped {border: 1px dashed gray;margin: 0 0.4em 0.5em 0.4em;box-sizing: border-box;padding-bottom: 0.4em;background-color: white;}#sk-container-id-9 div.sk-label label {font-family: monospace;font-weight: bold;display: inline-block;line-height: 1.2em;}#sk-container-id-9 div.sk-label-container {text-align: center;}#sk-container-id-9 div.sk-container {/* jupyter's `normalize.less` sets `[hidden] { display: none; }` but bootstrap.min.css set `[hidden] { display: none !important; }` so we also need the `!important` here to be able to override the default hidden behavior on the sphinx rendered scikit-learn.org. See: https://github.com/scikit-learn/scikit-learn/issues/21755 */display: inline-block !important;position: relative;}#sk-container-id-9 div.sk-text-repr-fallback {display: none;}</style><div id=\"sk-container-id-9\" class=\"sk-top-container\"><div class=\"sk-text-repr-fallback\"><pre>GridSearchCV(cv=5, estimator=Ridge(),\n",
       "             param_grid={&#x27;alpha&#x27;: [0.0001, 0.001, 0.01, 0.05, 0.1, 0.2, 0.3,\n",
       "                                   0.4, 0.5, 0.6, 0.7, 0.8, 0.9, 1.0, 2.0, 3.0,\n",
       "                                   4.0, 5.0, 6.0, 7.0, 8.0, 9.0, 10.0, 20, 50,\n",
       "                                   100, 500, 1000]},\n",
       "             return_train_score=True, verbose=1)</pre><b>In a Jupyter environment, please rerun this cell to show the HTML representation or trust the notebook. <br />On GitHub, the HTML representation is unable to render, please try loading this page with nbviewer.org.</b></div><div class=\"sk-container\" hidden><div class=\"sk-item sk-dashed-wrapped\"><div class=\"sk-label-container\"><div class=\"sk-label sk-toggleable\"><input class=\"sk-toggleable__control sk-hidden--visually\" id=\"sk-estimator-id-13\" type=\"checkbox\" ><label for=\"sk-estimator-id-13\" class=\"sk-toggleable__label sk-toggleable__label-arrow\">GridSearchCV</label><div class=\"sk-toggleable__content\"><pre>GridSearchCV(cv=5, estimator=Ridge(),\n",
       "             param_grid={&#x27;alpha&#x27;: [0.0001, 0.001, 0.01, 0.05, 0.1, 0.2, 0.3,\n",
       "                                   0.4, 0.5, 0.6, 0.7, 0.8, 0.9, 1.0, 2.0, 3.0,\n",
       "                                   4.0, 5.0, 6.0, 7.0, 8.0, 9.0, 10.0, 20, 50,\n",
       "                                   100, 500, 1000]},\n",
       "             return_train_score=True, verbose=1)</pre></div></div></div><div class=\"sk-parallel\"><div class=\"sk-parallel-item\"><div class=\"sk-item\"><div class=\"sk-label-container\"><div class=\"sk-label sk-toggleable\"><input class=\"sk-toggleable__control sk-hidden--visually\" id=\"sk-estimator-id-14\" type=\"checkbox\" ><label for=\"sk-estimator-id-14\" class=\"sk-toggleable__label sk-toggleable__label-arrow\">estimator: Ridge</label><div class=\"sk-toggleable__content\"><pre>Ridge()</pre></div></div></div><div class=\"sk-serial\"><div class=\"sk-item\"><div class=\"sk-estimator sk-toggleable\"><input class=\"sk-toggleable__control sk-hidden--visually\" id=\"sk-estimator-id-15\" type=\"checkbox\" ><label for=\"sk-estimator-id-15\" class=\"sk-toggleable__label sk-toggleable__label-arrow\">Ridge</label><div class=\"sk-toggleable__content\"><pre>Ridge()</pre></div></div></div></div></div></div></div></div></div></div>"
      ],
      "text/plain": [
       "GridSearchCV(cv=5, estimator=Ridge(),\n",
       "             param_grid={'alpha': [0.0001, 0.001, 0.01, 0.05, 0.1, 0.2, 0.3,\n",
       "                                   0.4, 0.5, 0.6, 0.7, 0.8, 0.9, 1.0, 2.0, 3.0,\n",
       "                                   4.0, 5.0, 6.0, 7.0, 8.0, 9.0, 10.0, 20, 50,\n",
       "                                   100, 500, 1000]},\n",
       "             return_train_score=True, verbose=1)"
      ]
     },
     "execution_count": 182,
     "metadata": {},
     "output_type": "execute_result"
    }
   ],
   "source": [
    "from sklearn.linear_model import Ridge\n",
    "\n",
    "\n",
    "params = {\n",
    "    \"alpha\": [\n",
    "        0.0001,\n",
    "        0.001,\n",
    "        0.01,\n",
    "        0.05,\n",
    "        0.1,\n",
    "        0.2,\n",
    "        0.3,\n",
    "        0.4,\n",
    "        0.5,\n",
    "        0.6,\n",
    "        0.7,\n",
    "        0.8,\n",
    "        0.9,\n",
    "        1.0,\n",
    "        2.0,\n",
    "        3.0,\n",
    "        4.0,\n",
    "        5.0,\n",
    "        6.0,\n",
    "        7.0,\n",
    "        8.0,\n",
    "        9.0,\n",
    "        10.0,\n",
    "        20,\n",
    "        50,\n",
    "        100,\n",
    "        500,\n",
    "        1000,\n",
    "    ]\n",
    "}\n",
    "\n",
    "ridge = Ridge()\n",
    "folds = 5\n",
    "grid_cv_model = GridSearchCV(\n",
    "    estimator=ridge, param_grid=params, cv=folds, return_train_score=True, verbose=1\n",
    ")\n",
    "grid_cv_model.fit(X_train, y_train)\n"
   ]
  },
  {
   "cell_type": "code",
   "execution_count": 183,
   "metadata": {},
   "outputs": [
    {
     "name": "stdout",
     "output_type": "stream",
     "text": [
      "0.6891855544227831\n"
     ]
    }
   ],
   "source": [
    "print(grid_cv_model.best_score_)"
   ]
  },
  {
   "attachments": {},
   "cell_type": "markdown",
   "metadata": {},
   "source": [
    "## decision tree\n"
   ]
  },
  {
   "cell_type": "code",
   "execution_count": 184,
   "metadata": {},
   "outputs": [],
   "source": [
    "from sklearn.tree import DecisionTreeRegressor\n",
    "\n",
    "\n",
    "dt = DecisionTreeRegressor()\n",
    "\n",
    "params = {\"max_depth\": [1, 2, 3, 5, 10, 15, 16, 17, 20]}\n",
    "\n",
    "\n",
    "grid = GridSearchCV(estimator=dt, param_grid=params, cv=3)\n",
    "\n",
    "tree_reg = grid.fit(X_train, y_train)\n"
   ]
  },
  {
   "cell_type": "code",
   "execution_count": 185,
   "metadata": {},
   "outputs": [
    {
     "name": "stdout",
     "output_type": "stream",
     "text": [
      "{'max_depth': 15}\n"
     ]
    },
    {
     "data": {
      "text/plain": [
       "0.6704771258519971"
      ]
     },
     "execution_count": 185,
     "metadata": {},
     "output_type": "execute_result"
    }
   ],
   "source": [
    "print(grid.best_params_)\n",
    "grid.best_score_\n"
   ]
  },
  {
   "cell_type": "code",
   "execution_count": 186,
   "metadata": {},
   "outputs": [
    {
     "name": "stdout",
     "output_type": "stream",
     "text": [
      "Fitting 3 folds for each of 2 candidates, totalling 6 fits\n"
     ]
    }
   ],
   "source": [
    "from sklearn.linear_model import LinearRegression\n",
    "\n",
    "\n",
    "model = LinearRegression()\n",
    "parameters = {\"fit_intercept\": [False], \"copy_X\": [True, False]}\n",
    "gs = GridSearchCV(\n",
    "    estimator=model,\n",
    "    param_grid=parameters,\n",
    "    cv=3,\n",
    "    n_jobs=-1,\n",
    "    verbose=1,\n",
    "    return_train_score=True,\n",
    ")\n",
    "lin_reg = gs.fit(X_train, y_train)\n"
   ]
  },
  {
   "cell_type": "code",
   "execution_count": 187,
   "metadata": {},
   "outputs": [
    {
     "data": {
      "text/plain": [
       "-15730146.154580802"
      ]
     },
     "execution_count": 187,
     "metadata": {},
     "output_type": "execute_result"
    }
   ],
   "source": [
    "gs.best_score_"
   ]
  },
  {
   "attachments": {},
   "cell_type": "markdown",
   "metadata": {},
   "source": [
    "# XGBoost is the most performant of these models so we will use it\n"
   ]
  },
  {
   "cell_type": "code",
   "execution_count": 188,
   "metadata": {},
   "outputs": [
    {
     "name": "stdout",
     "output_type": "stream",
     "text": [
      "0.778584023057209\n"
     ]
    }
   ],
   "source": [
    "xgb = XGBRegressor(\n",
    "    n_estimators=1000, early_stopping_rounds=5, learning_rate=0.05, n_jobs=4\n",
    ")\n",
    "xgb.fit(X_train, y_train, eval_set=[(X_valid, y_valid)], verbose=False)\n",
    "predictions = xgb.predict(X_test)\n",
    "acc = r2_score(y_test, predictions)\n",
    "print(acc)"
   ]
  },
  {
   "attachments": {},
   "cell_type": "markdown",
   "metadata": {},
   "source": [
    "# Saving the model\n"
   ]
  },
  {
   "cell_type": "code",
   "execution_count": 189,
   "metadata": {},
   "outputs": [],
   "source": [
    "xgb.save_model(\"model.xgb\")"
   ]
  }
 ],
 "metadata": {
  "kernelspec": {
   "display_name": "data-science",
   "language": "python",
   "name": "python3"
  },
  "language_info": {
   "codemirror_mode": {
    "name": "ipython",
    "version": 3
   },
   "file_extension": ".py",
   "mimetype": "text/x-python",
   "name": "python",
   "nbconvert_exporter": "python",
   "pygments_lexer": "ipython3",
   "version": "3.10.2"
  },
  "orig_nbformat": 4
 },
 "nbformat": 4,
 "nbformat_minor": 2
}
