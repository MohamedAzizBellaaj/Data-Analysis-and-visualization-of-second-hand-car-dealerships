{
 "cells": [
  {
   "cell_type": "code",
   "execution_count": 8,
   "metadata": {},
   "outputs": [],
   "source": [
    "import pandas as pd"
   ]
  },
  {
   "cell_type": "code",
   "execution_count": 9,
   "metadata": {},
   "outputs": [],
   "source": [
    "data1 = pd.read_csv(\"data/reformated_data1.csv\", index_col=0)\n",
    "data2 = pd.read_csv(\"data/reformated_data2.csv\", index_col=0)\n",
    "data3 = pd.read_csv(\"data/reformated_data3.csv\", index_col=0)"
   ]
  },
  {
   "cell_type": "code",
   "execution_count": 10,
   "metadata": {},
   "outputs": [
    {
     "name": "stdout",
     "output_type": "stream",
     "text": [
      "<class 'pandas.core.frame.DataFrame'>\n",
      "Index: 3336 entries, volkswagen to kia\n",
      "Data columns (total 14 columns):\n",
      " #   Column        Non-Null Count  Dtype  \n",
      "---  ------        --------------  -----  \n",
      " 0   modele        3336 non-null   object \n",
      " 1   prix          3336 non-null   int64  \n",
      " 2   kilometrage   3336 non-null   int64  \n",
      " 3   annee         3336 non-null   object \n",
      " 4   localisation  3336 non-null   object \n",
      " 5   date_ajout    3336 non-null   object \n",
      " 6   description   2484 non-null   object \n",
      " 7   carrosserie   3336 non-null   object \n",
      " 8   energie       3336 non-null   object \n",
      " 9   puissance     3336 non-null   int64  \n",
      " 10  boite         3336 non-null   object \n",
      " 11  transmission  3336 non-null   object \n",
      " 12  couleur       3336 non-null   object \n",
      " 13  prix_neuve    1955 non-null   float64\n",
      "dtypes: float64(1), int64(3), object(10)\n",
      "memory usage: 390.9+ KB\n"
     ]
    }
   ],
   "source": [
    "data1.info()"
   ]
  },
  {
   "cell_type": "code",
   "execution_count": 11,
   "metadata": {},
   "outputs": [
    {
     "name": "stdout",
     "output_type": "stream",
     "text": [
      "<class 'pandas.core.frame.DataFrame'>\n",
      "Index: 220 entries, Ford to Mercedes\n",
      "Data columns (total 13 columns):\n",
      " #   Column       Non-Null Count  Dtype  \n",
      "---  ------       --------------  -----  \n",
      " 0   modele       220 non-null    object \n",
      " 1   prix         220 non-null    int64  \n",
      " 2   kilometrage  220 non-null    int64  \n",
      " 3   annee        220 non-null    int64  \n",
      " 4   localisaton  220 non-null    object \n",
      " 5   cylindree    0 non-null      float64\n",
      " 6   description  220 non-null    object \n",
      " 7   carrosserie  0 non-null      float64\n",
      " 8   energie      220 non-null    object \n",
      " 9   puissance    220 non-null    object \n",
      " 10  boite        220 non-null    object \n",
      " 11  couleur      209 non-null    object \n",
      " 12  prix_neuve   0 non-null      float64\n",
      "dtypes: float64(3), int64(3), object(7)\n",
      "memory usage: 24.1+ KB\n"
     ]
    }
   ],
   "source": [
    "data2.info()"
   ]
  },
  {
   "cell_type": "code",
   "execution_count": 12,
   "metadata": {},
   "outputs": [
    {
     "name": "stdout",
     "output_type": "stream",
     "text": [
      "<class 'pandas.core.frame.DataFrame'>\n",
      "Int64Index: 5881 entries, 0 to 5880\n",
      "Data columns (total 13 columns):\n",
      " #   Column        Non-Null Count  Dtype  \n",
      "---  ------        --------------  -----  \n",
      " 0   prix          5876 non-null   float64\n",
      " 1   localisation  5865 non-null   object \n",
      " 2   description   5876 non-null   object \n",
      " 3   kilometrage   5855 non-null   float64\n",
      " 4   couleur       5855 non-null   object \n",
      " 5   annee         5855 non-null   object \n",
      " 6   cylindree     5855 non-null   object \n",
      " 7   boite         5855 non-null   object \n",
      " 8   marque        5855 non-null   object \n",
      " 9   modele        5855 non-null   object \n",
      " 10  puissance     5855 non-null   float64\n",
      " 11  carrosserie   5855 non-null   object \n",
      " 12  energie       5855 non-null   object \n",
      "dtypes: float64(3), object(10)\n",
      "memory usage: 643.2+ KB\n"
     ]
    }
   ],
   "source": [
    "data3.info()"
   ]
  }
 ],
 "metadata": {
  "kernelspec": {
   "display_name": "data-science",
   "language": "python",
   "name": "python3"
  },
  "language_info": {
   "codemirror_mode": {
    "name": "ipython",
    "version": 3
   },
   "file_extension": ".py",
   "mimetype": "text/x-python",
   "name": "python",
   "nbconvert_exporter": "python",
   "pygments_lexer": "ipython3",
   "version": "3.11.0"
  },
  "orig_nbformat": 4
 },
 "nbformat": 4,
 "nbformat_minor": 2
}
