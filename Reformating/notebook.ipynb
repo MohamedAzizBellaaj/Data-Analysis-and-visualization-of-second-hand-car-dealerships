{
 "cells": [
  {
   "cell_type": "code",
   "execution_count": 5,
   "metadata": {},
   "outputs": [
    {
     "name": "stdout",
     "output_type": "stream",
     "text": [
      "<class 'pandas.core.frame.DataFrame'>\n",
      "Int64Index: 5881 entries, 0 to 5880\n",
      "Data columns (total 16 columns):\n",
      " #   Column               Non-Null Count  Dtype  \n",
      "---  ------               --------------  -----  \n",
      " 0   title                5876 non-null   object \n",
      " 1   price                5876 non-null   float64\n",
      " 2   location             5865 non-null   object \n",
      " 3   description          5876 non-null   object \n",
      " 4   link                 5881 non-null   object \n",
      " 5   Kilométrage          5855 non-null   float64\n",
      " 6   Couleur du véhicule  5855 non-null   object \n",
      " 7   Etat du véhicule     5855 non-null   object \n",
      " 8   Année                5855 non-null   object \n",
      " 9   Cylindrée            5855 non-null   object \n",
      " 10  Boite                5855 non-null   object \n",
      " 11  Marque               5855 non-null   object \n",
      " 12  Modèle               5855 non-null   object \n",
      " 13  Puissance fiscale    5855 non-null   float64\n",
      " 14  Type de carrosserie  5855 non-null   object \n",
      " 15  Carburant            5855 non-null   object \n",
      "dtypes: float64(3), object(13)\n",
      "memory usage: 781.1+ KB\n"
     ]
    }
   ],
   "source": [
    "import pandas as pd\n",
    "\n",
    "df = pd.read_csv(\"data.csv\", index_col=0)\n",
    "df.info()\n"
   ]
  },
  {
   "cell_type": "code",
   "execution_count": 6,
   "metadata": {},
   "outputs": [
    {
     "name": "stdout",
     "output_type": "stream",
     "text": [
      "<class 'pandas.core.frame.DataFrame'>\n",
      "Int64Index: 5881 entries, 0 to 5880\n",
      "Data columns (total 16 columns):\n",
      " #   Column            Non-Null Count  Dtype  \n",
      "---  ------            --------------  -----  \n",
      " 0   title             5876 non-null   object \n",
      " 1   prix              5876 non-null   float64\n",
      " 2   localisation      5865 non-null   object \n",
      " 3   description       5876 non-null   object \n",
      " 4   link              5881 non-null   object \n",
      " 5   kilometrage       5855 non-null   float64\n",
      " 6   couleur           5855 non-null   object \n",
      " 7   Etat du véhicule  5855 non-null   object \n",
      " 8   annee             5855 non-null   object \n",
      " 9   cylindree         5855 non-null   object \n",
      " 10  boite             5855 non-null   object \n",
      " 11  marque            5855 non-null   object \n",
      " 12  modele            5855 non-null   object \n",
      " 13  puissance         5855 non-null   float64\n",
      " 14  carrosserie       5855 non-null   object \n",
      " 15  energie           5855 non-null   object \n",
      "dtypes: float64(3), object(13)\n",
      "memory usage: 781.1+ KB\n"
     ]
    }
   ],
   "source": [
    "# Transform to new schema:\n",
    "# 'marque', 'modele', 'prix','kilometrage',\"annee\",\"localisaton\",'cylindree','description','carrosserie','energie','puissance','boite','couleur', \"prix_neuve\"\n",
    "# First rename the columns\n",
    "df.rename(\n",
    "    columns={\n",
    "        \"Marque\": \"marque\",\n",
    "        \"Modèle\": \"modele\",\n",
    "        \"price\": \"prix\",\n",
    "        \"Kilométrage\": \"kilometrage\",\n",
    "        \"Année\": \"annee\",\n",
    "        \"location\": \"localisation\",\n",
    "        \"Cylindrée\": \"cylindree\",\n",
    "        \"Type de carrosserie\": \"carrosserie\",\n",
    "        \"Carburant\": \"energie\",\n",
    "        \"Puissance fiscale\": \"puissance\",\n",
    "        \"Boite\": \"boite\",\n",
    "        \"Couleur du véhicule\": \"couleur\",\n",
    "    },\n",
    "    inplace=True,\n",
    ")\n",
    "df.info()\n"
   ]
  },
  {
   "cell_type": "code",
   "execution_count": 7,
   "metadata": {},
   "outputs": [
    {
     "name": "stdout",
     "output_type": "stream",
     "text": [
      "<class 'pandas.core.frame.DataFrame'>\n",
      "Int64Index: 5881 entries, 0 to 5880\n",
      "Data columns (total 13 columns):\n",
      " #   Column        Non-Null Count  Dtype  \n",
      "---  ------        --------------  -----  \n",
      " 0   prix          5876 non-null   float64\n",
      " 1   localisation  5865 non-null   object \n",
      " 2   description   5876 non-null   object \n",
      " 3   kilometrage   5855 non-null   float64\n",
      " 4   couleur       5855 non-null   object \n",
      " 5   annee         5855 non-null   object \n",
      " 6   cylindree     5855 non-null   object \n",
      " 7   boite         5855 non-null   object \n",
      " 8   marque        5855 non-null   object \n",
      " 9   modele        5855 non-null   object \n",
      " 10  puissance     5855 non-null   float64\n",
      " 11  carrosserie   5855 non-null   object \n",
      " 12  energie       5855 non-null   object \n",
      "dtypes: float64(3), object(10)\n",
      "memory usage: 643.2+ KB\n"
     ]
    }
   ],
   "source": [
    "df.drop(columns=[\"title\", \"link\", \"Etat du véhicule\"], inplace=True)\n",
    "df.info()\n"
   ]
  },
  {
   "cell_type": "code",
   "execution_count": 8,
   "metadata": {},
   "outputs": [],
   "source": [
    "df.to_csv(\"reformated_data.csv\")"
   ]
  }
 ],
 "metadata": {
  "kernelspec": {
   "display_name": "data-science",
   "language": "python",
   "name": "python3"
  },
  "language_info": {
   "codemirror_mode": {
    "name": "ipython",
    "version": 3
   },
   "file_extension": ".py",
   "mimetype": "text/x-python",
   "name": "python",
   "nbconvert_exporter": "python",
   "pygments_lexer": "ipython3",
   "version": "3.11.0"
  },
  "orig_nbformat": 4
 },
 "nbformat": 4,
 "nbformat_minor": 2
}
