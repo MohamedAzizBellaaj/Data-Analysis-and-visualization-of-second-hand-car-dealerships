{
 "cells": [
  {
   "cell_type": "code",
   "execution_count": 56,
   "metadata": {},
   "outputs": [
    {
     "name": "stdout",
     "output_type": "stream",
     "text": [
      "<class 'pandas.core.frame.DataFrame'>\n",
      "Int64Index: 9437 entries, 0 to 5880\n",
      "Data columns (total 14 columns):\n",
      " #   Column        Non-Null Count  Dtype  \n",
      "---  ------        --------------  -----  \n",
      " 0   marque        9411 non-null   object \n",
      " 1   modele        9411 non-null   object \n",
      " 2   prix          9432 non-null   float64\n",
      " 3   kilometrage   9411 non-null   float64\n",
      " 4   annee         9411 non-null   object \n",
      " 5   localisation  9421 non-null   object \n",
      " 6   date_ajout    3336 non-null   object \n",
      " 7   carrosserie   9191 non-null   object \n",
      " 8   energie       9411 non-null   object \n",
      " 9   puissance     9411 non-null   object \n",
      " 10  boite         9411 non-null   object \n",
      " 11  couleur       9400 non-null   object \n",
      " 12  prix_neuve    1955 non-null   float64\n",
      " 13  cylindree     5855 non-null   object \n",
      "dtypes: float64(3), object(11)\n",
      "memory usage: 1.1+ MB\n"
     ]
    }
   ],
   "source": [
    "import pandas as pd\n",
    "import numpy as np\n",
    "\n",
    "cars = pd.read_csv(\"./concatenated_data.csv\", index_col=0)\n",
    "del cars[\"description\"]\n",
    "cars.info()\n"
   ]
  },
  {
   "cell_type": "code",
   "execution_count": 57,
   "metadata": {},
   "outputs": [],
   "source": [
    "# prix -> abs(prix)\n",
    "\n",
    "cars[\"prix\"] = abs(cars[\"prix\"])\n"
   ]
  },
  {
   "cell_type": "code",
   "execution_count": 58,
   "metadata": {},
   "outputs": [],
   "source": [
    "# If prix is 0 -> prix = nan\n",
    "prix_is_0 = cars[\"prix\"] == 0\n",
    "cars.loc[prix_is_0, \"prix\"] = np.nan\n"
   ]
  },
  {
   "cell_type": "code",
   "execution_count": 59,
   "metadata": {},
   "outputs": [],
   "source": [
    "# If prix less than 500 -> prix *= 1000\n",
    "\n",
    "prix_less_than_1000 = cars[\"prix\"] <= 500\n",
    "cars.loc[prix_less_than_1000, \"prix\"] *= 1000\n"
   ]
  },
  {
   "cell_type": "code",
   "execution_count": 60,
   "metadata": {},
   "outputs": [],
   "source": [
    "# If prix over 1 000 000 -> prix = nan\n",
    "prix_over_1000000 = cars[\"prix\"] >= 1000000\n",
    "cars.loc[prix_over_1000000, \"prix\"] = np.nan\n"
   ]
  },
  {
   "cell_type": "code",
   "execution_count": 61,
   "metadata": {},
   "outputs": [],
   "source": [
    "# kilometrage -> abs(kilometrage)\n",
    "\n",
    "cars[\"kilometrage\"] = abs(cars[\"kilometrage\"])\n"
   ]
  },
  {
   "cell_type": "code",
   "execution_count": 62,
   "metadata": {},
   "outputs": [],
   "source": [
    "# If kilometrage < 10 -> kilometrage = nan\n",
    "\n",
    "kilometrage_less_than_10 = cars[\"kilometrage\"] < 10\n",
    "cars.loc[kilometrage_less_than_10, \"kilometrage\"] = np.nan\n"
   ]
  },
  {
   "cell_type": "code",
   "execution_count": 63,
   "metadata": {},
   "outputs": [],
   "source": [
    "# If kilometrage <= 1000 -> kilometrage *= 1000\n",
    "\n",
    "kilometrage_less_than_1000 = cars[\"kilometrage\"] <= 1000\n",
    "cars.loc[kilometrage_less_than_1000, \"kilometrage\"] *= 1000\n"
   ]
  },
  {
   "cell_type": "code",
   "execution_count": 64,
   "metadata": {},
   "outputs": [],
   "source": [
    "# If kilometrage >= 1 000 000 -> kilometrage = nan\n",
    "\n",
    "kilometrage_over_1000000 = cars[\"kilometrage\"] >= 1000000\n",
    "cars.loc[kilometrage_over_1000000, \"kilometrage\"] = np.nan\n"
   ]
  },
  {
   "cell_type": "code",
   "execution_count": 65,
   "metadata": {},
   "outputs": [],
   "source": [
    "# Applying str.title() to each column\n",
    "\n",
    "for col in cars.columns:\n",
    "    if cars[col].dtype == \"object\":\n",
    "        cars[col] = cars[col].str.title()\n"
   ]
  },
  {
   "cell_type": "code",
   "execution_count": 66,
   "metadata": {},
   "outputs": [
    {
     "name": "stdout",
     "output_type": "stream",
     "text": [
      "['Ariana' 'Tunis' 'Ben Arous' 'Bizerte' 'Monastir' 'Béja' 'La Manouba'\n",
      " 'Sousse' 'Nabeul' 'Sidi Bouzid' 'Gafsa' 'Kairouan' 'Sfax' 'Mahdia'\n",
      " 'Tozeur' 'Médenine' 'Kasserine' 'Le Kef' 'Gabès' 'Zaghouan' 'Jendouba'\n",
      " 'Kébili' 'Siliana' 'Manouba' 'Gabes' 'Tataouine' nan] 27\n"
     ]
    }
   ],
   "source": [
    "# Exploring the values of cars[\"localisation\"]\n",
    "\n",
    "localisation_values = cars[\"localisation\"].unique()\n",
    "print(localisation_values, len(localisation_values))\n"
   ]
  },
  {
   "cell_type": "code",
   "execution_count": 67,
   "metadata": {},
   "outputs": [],
   "source": [
    "# Unify and fix the locations' names\n",
    "\n",
    "my_dict = {\n",
    "    \"Béja\": \"Beja\",\n",
    "    \"La Manouba\": \"Manouba\",\n",
    "    \"Gabès\": \"Gabes\",\n",
    "    \"Médenine\": \"Medenine\",\n",
    "    \"Kébili\": \"Kebili\",\n",
    "}\n",
    "cars.replace({\"localisation\": my_dict}, inplace=True)\n"
   ]
  },
  {
   "cell_type": "code",
   "execution_count": 68,
   "metadata": {},
   "outputs": [
    {
     "name": "stdout",
     "output_type": "stream",
     "text": [
      "['Blanc' 'Rouge' 'Noir' 'Gris Shark' 'Beige' 'Bleu' 'Gris Argent'\n",
      " 'Gris Anthracite' 'Autre' 'Orange' 'Marron' 'Vert' 'Jaune' 'Aubergine'\n",
      " 'Bleu Roi' 'Gris' 'Bronze' 'Gris Métallisé' 'Gris Foncé' 'Gris Titanuim'\n",
      " 'Bleu Gris' 'Noire' 'Miel' 'Blanc Cristal' nan 'Bleu/Gris' 'Mauve Gris'\n",
      " 'Gris Charbon' '*****' 'Blanche' 'Grise' 'Verte' 'Bleu Métallisée'\n",
      " 'Grise Metalisee' 'Bleu Métallisé' 'Gris Magnetic' 'Gris Clair Métallisé'\n",
      " \"Feuille D'Argent\" 'Maran' 'Grise Métallisée' 'Rouge Bordeaux' 'Camel'\n",
      " 'Grenadine' 'Titanium' 'Champagne' 'Multicolore' 'Argent' 'Doré' 'Violet'\n",
      " 'Corail'] 50\n"
     ]
    },
    {
     "data": {
      "text/plain": [
       "37"
      ]
     },
     "execution_count": 68,
     "metadata": {},
     "output_type": "execute_result"
    }
   ],
   "source": [
    "# Exploring the values of cars[\"couleur\"]\n",
    "\n",
    "localisation_values = cars[\"couleur\"].unique()\n",
    "print(localisation_values, len(localisation_values))\n",
    "len(cars[cars[\"couleur\"].isna()])\n"
   ]
  },
  {
   "cell_type": "code",
   "execution_count": 69,
   "metadata": {},
   "outputs": [],
   "source": [
    "# Unify and fix the values of cars[\"couleur\"]\n",
    "\n",
    "my_dict = {\n",
    "    \"Blanche\": \"Blanc\",\n",
    "    \"Blanc Cristal\": \"Blanc\",\n",
    "    \"Grise\": \"Gris\",\n",
    "    \"Gris Métallisé\": \"Gris\",\n",
    "    \"Grise Metalisee\": \"Gris\",\n",
    "    \"Grise Métallisée\": \"Gris\",\n",
    "    \"Gris Clair Métallisé\": \"Gris\",\n",
    "    \"Gris Foncé\": \"Gris\",\n",
    "    \"Gris Charbon\": \"Gris\",\n",
    "    \"Gris Magnetic\": \"Gris\",\n",
    "    \"Bleu Gris\": \"Bleu\",\n",
    "    \"Bleu/Gris\": \"Bleu\",\n",
    "    \"Bleu Roi\": \"Bleu\",\n",
    "    \"Bleu Métallisée\": \"Bleu\",\n",
    "    \"Gris Titanium\": \"Argent\",\n",
    "    \"Gris Titanuim\": \"Argent\",\n",
    "    \"Gris Argent\": \"Argent\",\n",
    "    \"Feuille D'Argent\": \"Argent\",\n",
    "    \"Titanium\": \"Argent\",\n",
    "    \"Miel\": \"Jaune\",\n",
    "    \"Champagne\": \"Jaune\",\n",
    "    \"Grenadine\": \"Rouge\",\n",
    "    \"Rouge Bordeaux\": \"Rouge\",\n",
    "    \"Mauve Gris\": \"Violet\",\n",
    "    \"Aubergine\": \"Violet\",\n",
    "    \"Noire\": \"Noir\",\n",
    "    \"Maran\": \"Marron\",\n",
    "    \"Corail\": \"Orange\",\n",
    "}\n",
    "cars.replace({\"couleur\": my_dict}, inplace=True)\n"
   ]
  },
  {
   "cell_type": "code",
   "execution_count": 70,
   "metadata": {},
   "outputs": [],
   "source": [
    "# If couleur is \"*****\" -> couleur = nan\n",
    "\n",
    "specified_couleur = cars[\"couleur\"] == \"*****\"\n",
    "cars[specified_couleur] = np.nan\n"
   ]
  },
  {
   "cell_type": "code",
   "execution_count": 71,
   "metadata": {},
   "outputs": [],
   "source": [
    "# Remove month from year in the annee column and convert it to float\n",
    "\n",
    "contains_hyphen = cars[\"annee\"].str.contains(\"-\") & cars[\"annee\"].notna()\n",
    "cars.loc[contains_hyphen, \"annee\"] = cars.loc[contains_hyphen, \"annee\"].apply(\n",
    "    lambda string: string.split(\"-\")[1]\n",
    ")\n",
    "contains_point = cars[\"annee\"].str.contains(\"[.]\") & cars[\"annee\"].notna()\n",
    "cars.loc[contains_point, \"annee\"] = cars.loc[contains_point, \"annee\"].apply(\n",
    "    lambda string: string.split(\".\")[-1]\n",
    ")\n",
    "cars[\"annee\"] = cars[\"annee\"].astype(np.float64)\n"
   ]
  },
  {
   "cell_type": "code",
   "execution_count": 72,
   "metadata": {},
   "outputs": [],
   "source": [
    "# If 10<= annee <= 23 -> annee += 2000, if 60 <= annee -> annee += 1900, else annee = nan\n",
    "\n",
    "annee_between_0_and_23 = (cars[\"annee\"] >= 10) & (cars[\"annee\"] <= 23)\n",
    "cars.loc[annee_between_0_and_23, \"annee\"] += 2000\n",
    "annee_more_than_60 = (cars[\"annee\"] >= 60) & (cars[\"annee\"] <= 99)\n",
    "cars.loc[annee_more_than_60, \"annee\"] += 1900\n",
    "correct_annee = (cars[\"annee\"] >= 1960) & (cars[\"annee\"] <= 2023)\n",
    "cars.loc[~correct_annee, \"annee\"] = np.nan\n"
   ]
  },
  {
   "cell_type": "code",
   "execution_count": 73,
   "metadata": {},
   "outputs": [],
   "source": [
    "# Convert N.D to nan in the \"puissance\" column\n",
    "\n",
    "puissance_is_ND = cars[\"puissance\"] == \"N.D\"\n",
    "cars.loc[puissance_is_ND, \"puissance\"] = np.nan\n"
   ]
  },
  {
   "cell_type": "code",
   "execution_count": 74,
   "metadata": {},
   "outputs": [],
   "source": [
    "# Convert the column puissance to float\n",
    "\n",
    "contains_CV = cars[\"puissance\"].str.contains(\"C\") & cars[\"puissance\"].notna()\n",
    "cars.loc[contains_CV, \"puissance\"] = cars.loc[contains_CV, \"puissance\"].apply(\n",
    "    lambda string: string.split()[0]\n",
    ")\n",
    "cars[\"puissance\"] = cars[\"puissance\"].astype(np.float64)\n"
   ]
  },
  {
   "cell_type": "code",
   "execution_count": 75,
   "metadata": {},
   "outputs": [],
   "source": [
    "# If puissance > 200 -> puissance = nan\n",
    "\n",
    "puissance_over_200 = cars[\"puissance\"] > 200\n",
    "cars.loc[puissance_over_200, \"puissance\"] = np.nan\n"
   ]
  },
  {
   "cell_type": "code",
   "execution_count": 76,
   "metadata": {},
   "outputs": [],
   "source": [
    "# Convert the column cylindree to float\n",
    "\n",
    "contains_symbol = cars[\"cylindree\"].str.contains(\"[><]\") & cars[\"cylindree\"].notna()\n",
    "cars.loc[contains_symbol, \"cylindree\"] = cars.loc[contains_symbol, \"cylindree\"].apply(\n",
    "    lambda string: string[1:]\n",
    ")\n",
    "cars.loc[cars[\"cylindree\"].notna(), \"cylindree\"] = cars.loc[\n",
    "    cars[\"cylindree\"].notna(), \"cylindree\"\n",
    "].apply(lambda string: string[:-1])\n",
    "cars[\"cylindree\"] = cars[\"cylindree\"].astype(np.float64)\n"
   ]
  },
  {
   "cell_type": "code",
   "execution_count": 77,
   "metadata": {},
   "outputs": [
    {
     "name": "stderr",
     "output_type": "stream",
     "text": [
      "/tmp/ipykernel_12179/1039345655.py:3: UserWarning: Parsing dates in DD/MM/YYYY format when dayfirst=False (the default) was specified. This may lead to inconsistently parsed dates! Specify a format to ensure consistent parsing.\n",
      "  cars[\"date_ajout\"] = pd.to_datetime(cars[\"date_ajout\"])\n"
     ]
    }
   ],
   "source": [
    "# Turn date_ajout column to datetime\n",
    "\n",
    "cars[\"date_ajout\"] = pd.to_datetime(cars[\"date_ajout\"])\n"
   ]
  },
  {
   "cell_type": "code",
   "execution_count": 78,
   "metadata": {},
   "outputs": [
    {
     "data": {
      "text/html": [
       "<div>\n",
       "<style scoped>\n",
       "    .dataframe tbody tr th:only-of-type {\n",
       "        vertical-align: middle;\n",
       "    }\n",
       "\n",
       "    .dataframe tbody tr th {\n",
       "        vertical-align: top;\n",
       "    }\n",
       "\n",
       "    .dataframe thead th {\n",
       "        text-align: right;\n",
       "    }\n",
       "</style>\n",
       "<table border=\"1\" class=\"dataframe\">\n",
       "  <thead>\n",
       "    <tr style=\"text-align: right;\">\n",
       "      <th></th>\n",
       "      <th>marque</th>\n",
       "      <th>modele</th>\n",
       "      <th>prix</th>\n",
       "      <th>kilometrage</th>\n",
       "      <th>annee</th>\n",
       "      <th>localisation</th>\n",
       "      <th>date_ajout</th>\n",
       "      <th>carrosserie</th>\n",
       "      <th>energie</th>\n",
       "      <th>puissance</th>\n",
       "      <th>boite</th>\n",
       "      <th>couleur</th>\n",
       "      <th>prix_neuve</th>\n",
       "      <th>cylindree</th>\n",
       "    </tr>\n",
       "  </thead>\n",
       "  <tbody>\n",
       "    <tr>\n",
       "      <th>0</th>\n",
       "      <td>Volkswagen</td>\n",
       "      <td>T Roc</td>\n",
       "      <td>98000.0</td>\n",
       "      <td>100000.0</td>\n",
       "      <td>2020.0</td>\n",
       "      <td>Ariana</td>\n",
       "      <td>2023-03-27</td>\n",
       "      <td>Autres</td>\n",
       "      <td>Essence</td>\n",
       "      <td>6.0</td>\n",
       "      <td>Manuelle</td>\n",
       "      <td>Blanc</td>\n",
       "      <td>NaN</td>\n",
       "      <td>NaN</td>\n",
       "    </tr>\n",
       "    <tr>\n",
       "      <th>1</th>\n",
       "      <td>Mg</td>\n",
       "      <td>Zs</td>\n",
       "      <td>68000.0</td>\n",
       "      <td>100000.0</td>\n",
       "      <td>2019.0</td>\n",
       "      <td>Ariana</td>\n",
       "      <td>2023-03-27</td>\n",
       "      <td>Autres</td>\n",
       "      <td>Essence</td>\n",
       "      <td>7.0</td>\n",
       "      <td>Automatique</td>\n",
       "      <td>Rouge</td>\n",
       "      <td>81950.0</td>\n",
       "      <td>NaN</td>\n",
       "    </tr>\n",
       "    <tr>\n",
       "      <th>2</th>\n",
       "      <td>Kia</td>\n",
       "      <td>Cerato 5P</td>\n",
       "      <td>37000.0</td>\n",
       "      <td>115500.0</td>\n",
       "      <td>2013.0</td>\n",
       "      <td>Tunis</td>\n",
       "      <td>2023-03-27</td>\n",
       "      <td>Berline</td>\n",
       "      <td>Essence</td>\n",
       "      <td>8.0</td>\n",
       "      <td>Automatique</td>\n",
       "      <td>Noir</td>\n",
       "      <td>NaN</td>\n",
       "      <td>NaN</td>\n",
       "    </tr>\n",
       "    <tr>\n",
       "      <th>3</th>\n",
       "      <td>Kia</td>\n",
       "      <td>Sportage</td>\n",
       "      <td>98000.0</td>\n",
       "      <td>127000.0</td>\n",
       "      <td>2018.0</td>\n",
       "      <td>Ariana</td>\n",
       "      <td>2023-03-27</td>\n",
       "      <td>4 X 4</td>\n",
       "      <td>Diesel</td>\n",
       "      <td>6.0</td>\n",
       "      <td>Manuelle</td>\n",
       "      <td>Noir</td>\n",
       "      <td>136480.0</td>\n",
       "      <td>NaN</td>\n",
       "    </tr>\n",
       "    <tr>\n",
       "      <th>4</th>\n",
       "      <td>Audi</td>\n",
       "      <td>A4</td>\n",
       "      <td>42000.0</td>\n",
       "      <td>184000.0</td>\n",
       "      <td>2011.0</td>\n",
       "      <td>Ben Arous</td>\n",
       "      <td>2023-03-27</td>\n",
       "      <td>Berline</td>\n",
       "      <td>Essence</td>\n",
       "      <td>7.0</td>\n",
       "      <td>Automatique</td>\n",
       "      <td>Noir</td>\n",
       "      <td>185000.0</td>\n",
       "      <td>NaN</td>\n",
       "    </tr>\n",
       "    <tr>\n",
       "      <th>...</th>\n",
       "      <td>...</td>\n",
       "      <td>...</td>\n",
       "      <td>...</td>\n",
       "      <td>...</td>\n",
       "      <td>...</td>\n",
       "      <td>...</td>\n",
       "      <td>...</td>\n",
       "      <td>...</td>\n",
       "      <td>...</td>\n",
       "      <td>...</td>\n",
       "      <td>...</td>\n",
       "      <td>...</td>\n",
       "      <td>...</td>\n",
       "      <td>...</td>\n",
       "    </tr>\n",
       "    <tr>\n",
       "      <th>5876</th>\n",
       "      <td>Toyota</td>\n",
       "      <td>Aygo</td>\n",
       "      <td>35000.0</td>\n",
       "      <td>30000.0</td>\n",
       "      <td>2021.0</td>\n",
       "      <td>Manouba</td>\n",
       "      <td>NaT</td>\n",
       "      <td>Compacte</td>\n",
       "      <td>Essence</td>\n",
       "      <td>4.0</td>\n",
       "      <td>Manuelle</td>\n",
       "      <td>Gris</td>\n",
       "      <td>NaN</td>\n",
       "      <td>1.0</td>\n",
       "    </tr>\n",
       "    <tr>\n",
       "      <th>5877</th>\n",
       "      <td>Autres</td>\n",
       "      <td>Autres</td>\n",
       "      <td>95000.0</td>\n",
       "      <td>28200.0</td>\n",
       "      <td>2021.0</td>\n",
       "      <td>Ariana</td>\n",
       "      <td>NaT</td>\n",
       "      <td>4 X 4</td>\n",
       "      <td>Essence</td>\n",
       "      <td>9.0</td>\n",
       "      <td>Automatique</td>\n",
       "      <td>Noir</td>\n",
       "      <td>NaN</td>\n",
       "      <td>1.5</td>\n",
       "    </tr>\n",
       "    <tr>\n",
       "      <th>5878</th>\n",
       "      <td>Toyota</td>\n",
       "      <td>Yaris</td>\n",
       "      <td>23500.0</td>\n",
       "      <td>178000.0</td>\n",
       "      <td>2008.0</td>\n",
       "      <td>Nabeul</td>\n",
       "      <td>NaT</td>\n",
       "      <td>Autres</td>\n",
       "      <td>Essence</td>\n",
       "      <td>4.0</td>\n",
       "      <td>Manuelle</td>\n",
       "      <td>Gris</td>\n",
       "      <td>NaN</td>\n",
       "      <td>1.2</td>\n",
       "    </tr>\n",
       "    <tr>\n",
       "      <th>5879</th>\n",
       "      <td>Nissan</td>\n",
       "      <td>Qashqai</td>\n",
       "      <td>35000.0</td>\n",
       "      <td>258000.0</td>\n",
       "      <td>2011.0</td>\n",
       "      <td>Ben Arous</td>\n",
       "      <td>NaT</td>\n",
       "      <td>4 X 4</td>\n",
       "      <td>Diesel</td>\n",
       "      <td>6.0</td>\n",
       "      <td>Manuelle</td>\n",
       "      <td>Noir</td>\n",
       "      <td>NaN</td>\n",
       "      <td>1.2</td>\n",
       "    </tr>\n",
       "    <tr>\n",
       "      <th>5880</th>\n",
       "      <td>Mercedes-Benz</td>\n",
       "      <td>190</td>\n",
       "      <td>123111.0</td>\n",
       "      <td>450000.0</td>\n",
       "      <td>1994.0</td>\n",
       "      <td>Sfax</td>\n",
       "      <td>NaT</td>\n",
       "      <td>Compacte</td>\n",
       "      <td>Essence</td>\n",
       "      <td>NaN</td>\n",
       "      <td>Manuelle</td>\n",
       "      <td>Marron</td>\n",
       "      <td>NaN</td>\n",
       "      <td>3.0</td>\n",
       "    </tr>\n",
       "  </tbody>\n",
       "</table>\n",
       "<p>6058 rows × 14 columns</p>\n",
       "</div>"
      ],
      "text/plain": [
       "             marque     modele      prix  kilometrage   annee localisation  \\\n",
       "0        Volkswagen      T Roc   98000.0     100000.0  2020.0       Ariana   \n",
       "1                Mg         Zs   68000.0     100000.0  2019.0       Ariana   \n",
       "2               Kia  Cerato 5P   37000.0     115500.0  2013.0        Tunis   \n",
       "3               Kia   Sportage   98000.0     127000.0  2018.0       Ariana   \n",
       "4              Audi         A4   42000.0     184000.0  2011.0    Ben Arous   \n",
       "...             ...        ...       ...          ...     ...          ...   \n",
       "5876         Toyota       Aygo   35000.0      30000.0  2021.0      Manouba   \n",
       "5877         Autres     Autres   95000.0      28200.0  2021.0       Ariana   \n",
       "5878         Toyota      Yaris   23500.0     178000.0  2008.0       Nabeul   \n",
       "5879         Nissan    Qashqai   35000.0     258000.0  2011.0    Ben Arous   \n",
       "5880  Mercedes-Benz        190  123111.0     450000.0  1994.0         Sfax   \n",
       "\n",
       "     date_ajout carrosserie  energie  puissance        boite couleur  \\\n",
       "0    2023-03-27      Autres  Essence        6.0     Manuelle   Blanc   \n",
       "1    2023-03-27      Autres  Essence        7.0  Automatique   Rouge   \n",
       "2    2023-03-27     Berline  Essence        8.0  Automatique    Noir   \n",
       "3    2023-03-27       4 X 4   Diesel        6.0     Manuelle    Noir   \n",
       "4    2023-03-27     Berline  Essence        7.0  Automatique    Noir   \n",
       "...         ...         ...      ...        ...          ...     ...   \n",
       "5876        NaT    Compacte  Essence        4.0     Manuelle    Gris   \n",
       "5877        NaT       4 X 4  Essence        9.0  Automatique    Noir   \n",
       "5878        NaT      Autres  Essence        4.0     Manuelle    Gris   \n",
       "5879        NaT       4 X 4   Diesel        6.0     Manuelle    Noir   \n",
       "5880        NaT    Compacte  Essence        NaN     Manuelle  Marron   \n",
       "\n",
       "      prix_neuve  cylindree  \n",
       "0            NaN        NaN  \n",
       "1        81950.0        NaN  \n",
       "2            NaN        NaN  \n",
       "3       136480.0        NaN  \n",
       "4       185000.0        NaN  \n",
       "...          ...        ...  \n",
       "5876         NaN        1.0  \n",
       "5877         NaN        1.5  \n",
       "5878         NaN        1.2  \n",
       "5879         NaN        1.2  \n",
       "5880         NaN        3.0  \n",
       "\n",
       "[6058 rows x 14 columns]"
      ]
     },
     "execution_count": 78,
     "metadata": {},
     "output_type": "execute_result"
    }
   ],
   "source": [
    "# Dropping duplicates\n",
    "\n",
    "cars.drop_duplicates()\n"
   ]
  },
  {
   "cell_type": "code",
   "execution_count": 79,
   "metadata": {},
   "outputs": [],
   "source": [
    "cars.to_csv(\"./new_clean_data.csv\")\n"
   ]
  }
 ],
 "metadata": {
  "kernelspec": {
   "display_name": "data-science",
   "language": "python",
   "name": "python3"
  },
  "language_info": {
   "codemirror_mode": {
    "name": "ipython",
    "version": 3
   },
   "file_extension": ".py",
   "mimetype": "text/x-python",
   "name": "python",
   "nbconvert_exporter": "python",
   "pygments_lexer": "ipython3",
   "version": "3.11.0"
  },
  "orig_nbformat": 4,
  "vscode": {
   "interpreter": {
    "hash": "dc2bd3b27271d03bf2eec87812cad119e0cb1920e9796b1f5a29990c3e7b9536"
   }
  }
 },
 "nbformat": 4,
 "nbformat_minor": 2
}
