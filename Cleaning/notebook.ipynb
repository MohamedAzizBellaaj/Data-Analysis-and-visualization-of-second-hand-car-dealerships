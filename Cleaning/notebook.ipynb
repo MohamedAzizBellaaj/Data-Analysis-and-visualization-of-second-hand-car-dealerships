{
  "cells": [
    {
      "cell_type": "code",
      "execution_count": 1,
      "metadata": {},
      "outputs": [
        {
          "name": "stdout",
          "output_type": "stream",
          "text": [
            "<class 'pandas.core.frame.DataFrame'>\n",
            "Int64Index: 9437 entries, 0 to 5880\n",
            "Data columns (total 14 columns):\n",
            " #   Column        Non-Null Count  Dtype  \n",
            "---  ------        --------------  -----  \n",
            " 0   marque        9411 non-null   object \n",
            " 1   modele        9411 non-null   object \n",
            " 2   prix          9432 non-null   float64\n",
            " 3   kilometrage   9411 non-null   float64\n",
            " 4   annee         9411 non-null   object \n",
            " 5   localisation  9421 non-null   object \n",
            " 6   date_ajout    3336 non-null   object \n",
            " 7   carrosserie   9191 non-null   object \n",
            " 8   energie       9411 non-null   object \n",
            " 9   puissance     9411 non-null   object \n",
            " 10  boite         9411 non-null   object \n",
            " 11  couleur       9400 non-null   object \n",
            " 12  prix_neuve    1955 non-null   float64\n",
            " 13  cylindree     5855 non-null   object \n",
            "dtypes: float64(3), object(11)\n",
            "memory usage: 1.1+ MB\n"
          ]
        }
      ],
      "source": [
        "import pandas as pd\n",
        "import numpy as np\n",
        "import seaborn as sns\n",
        "import matplotlib.pyplot as plt\n",
        "\n",
        "cars = pd.read_csv(\"./concatenated_data.csv\", index_col=0)\n",
        "del cars[\"description\"]\n",
        "cars.info()\n"
      ]
    },
    {
      "cell_type": "code",
      "execution_count": 2,
      "metadata": {},
      "outputs": [],
      "source": [
        "# prix -> abs(prix)\n",
        "\n",
        "cars[\"prix\"] = abs(cars[\"prix\"])\n"
      ]
    },
    {
      "cell_type": "code",
      "execution_count": 3,
      "metadata": {},
      "outputs": [],
      "source": [
        "# If prix is 0 -> prix = nan\n",
        "prix_is_0 = cars[\"prix\"] == 0\n",
        "cars.loc[prix_is_0, \"prix\"] = np.nan\n"
      ]
    },
    {
      "cell_type": "code",
      "execution_count": 4,
      "metadata": {},
      "outputs": [],
      "source": [
        "# If prix less than 500 -> prix *= 1000\n",
        "\n",
        "prix_less_than_1000 = cars[\"prix\"] <= 500\n",
        "cars.loc[prix_less_than_1000, \"prix\"] *= 1000\n"
      ]
    },
    {
      "cell_type": "code",
      "execution_count": 5,
      "metadata": {},
      "outputs": [],
      "source": [
        "# If prix over 1_000_000 -> prix = nan\n",
        "\n",
        "prix_over_1000000 = cars[\"prix\"] >= 1e8\n",
        "cars.loc[prix_over_1000000, \"prix\"] = np.nan\n"
      ]
    },
    {
      "cell_type": "code",
      "execution_count": 6,
      "metadata": {},
      "outputs": [
        {
          "data": {
            "image/png": "[encoded data removed]",
            "text/plain": [
              "<Figure size 640x480 with 1 Axes>"
            ]
          },
          "metadata": {},
          "output_type": "display_data"
        }
      ],
      "source": [
        "ax = sns.boxplot(data=cars[[\"prix\"]], orient=\"h\")\n",
        "ax.ticklabel_format(style=\"plain\", axis=\"x\")\n",
        "plt.show()\n"
      ]
    },
    {
      "cell_type": "code",
      "execution_count": 7,
      "metadata": {},
      "outputs": [
        {
          "name": "stdout",
          "output_type": "stream",
          "text": [
            "-43250.0\n"
          ]
        }
      ],
      "source": [
        "q1 = np.percentile(cars.loc[cars[\"prix\"].notna(), \"prix\"], 25)\n",
        "q3 = np.percentile(cars.loc[cars[\"prix\"].notna(), \"prix\"], 75)\n",
        "\n",
        "iqr = q3 - q1\n",
        "\n",
        "lower_bound = q1 - 1.5 * iqr\n",
        "upper_bound = q3 + 1.5 * iqr\n",
        "print(lower_bound)\n"
      ]
    },
    {
      "cell_type": "code",
      "execution_count": 8,
      "metadata": {},
      "outputs": [
        {
          "data": {
            "image/png": "[encoded data removed]",
            "text/plain": [
              "<Figure size 640x480 with 1 Axes>"
            ]
          },
          "metadata": {},
          "output_type": "display_data"
        }
      ],
      "source": [
        "cars[\"prix\"].hist(bins=5)\n",
        "plt.show()\n"
      ]
    },
    {
      "cell_type": "code",
      "execution_count": 9,
      "metadata": {},
      "outputs": [
        {
          "data": {
            "text/html": [
              "<div>\n",
              "<style scoped>\n",
              "    .dataframe tbody tr th:only-of-type {\n",
              "        vertical-align: middle;\n",
              "    }\n",
              "\n",
              "    .dataframe tbody tr th {\n",
              "        vertical-align: top;\n",
              "    }\n",
              "\n",
              "    .dataframe thead th {\n",
              "        text-align: right;\n",
              "    }\n",
              "</style>\n",
              "<table border=\"1\" class=\"dataframe\">\n",
              "  <thead>\n",
              "    <tr style=\"text-align: right;\">\n",
              "      <th></th>\n",
              "      <th>marque</th>\n",
              "      <th>modele</th>\n",
              "      <th>prix</th>\n",
              "      <th>kilometrage</th>\n",
              "      <th>annee</th>\n",
              "      <th>localisation</th>\n",
              "      <th>date_ajout</th>\n",
              "      <th>carrosserie</th>\n",
              "      <th>energie</th>\n",
              "      <th>puissance</th>\n",
              "      <th>boite</th>\n",
              "      <th>couleur</th>\n",
              "      <th>prix_neuve</th>\n",
              "      <th>cylindree</th>\n",
              "    </tr>\n",
              "  </thead>\n",
              "  <tbody>\n",
              "    <tr>\n",
              "      <th>122</th>\n",
              "      <td>jaguar</td>\n",
              "      <td>f pace</td>\n",
              "      <td>450000.0</td>\n",
              "      <td>28000.0</td>\n",
              "      <td>01-2018</td>\n",
              "      <td>Tunis</td>\n",
              "      <td>27.03.2023</td>\n",
              "      <td>4 x 4</td>\n",
              "      <td>Essence</td>\n",
              "      <td>24</td>\n",
              "      <td>Automatique</td>\n",
              "      <td>Blanc</td>\n",
              "      <td>390000.0</td>\n",
              "      <td>NaN</td>\n",
              "    </tr>\n",
              "    <tr>\n",
              "      <th>561</th>\n",
              "      <td>porsche</td>\n",
              "      <td>macan</td>\n",
              "      <td>465000.0</td>\n",
              "      <td>7500.0</td>\n",
              "      <td>05-2022</td>\n",
              "      <td>Sfax</td>\n",
              "      <td>26.03.2023</td>\n",
              "      <td>4 x 4</td>\n",
              "      <td>Essence</td>\n",
              "      <td>17</td>\n",
              "      <td>Automatique</td>\n",
              "      <td>Bleu</td>\n",
              "      <td>427500.0</td>\n",
              "      <td>NaN</td>\n",
              "    </tr>\n",
              "    <tr>\n",
              "      <th>575</th>\n",
              "      <td>mercedes benz</td>\n",
              "      <td>gle coupe</td>\n",
              "      <td>550000.0</td>\n",
              "      <td>50000.0</td>\n",
              "      <td>07-2021</td>\n",
              "      <td>Sfax</td>\n",
              "      <td>26.03.2023</td>\n",
              "      <td>4 x 4</td>\n",
              "      <td>Essence</td>\n",
              "      <td>12</td>\n",
              "      <td>Automatique</td>\n",
              "      <td>Blanc</td>\n",
              "      <td>540000.0</td>\n",
              "      <td>NaN</td>\n",
              "    </tr>\n",
              "    <tr>\n",
              "      <th>641</th>\n",
              "      <td>porsche</td>\n",
              "      <td>cayenne</td>\n",
              "      <td>480000.0</td>\n",
              "      <td>60000.0</td>\n",
              "      <td>01-2020</td>\n",
              "      <td>Ariana</td>\n",
              "      <td>25.03.2023</td>\n",
              "      <td>4 x 4</td>\n",
              "      <td>Essence</td>\n",
              "      <td>23</td>\n",
              "      <td>Automatique</td>\n",
              "      <td>Noir</td>\n",
              "      <td>570000.0</td>\n",
              "      <td>NaN</td>\n",
              "    </tr>\n",
              "    <tr>\n",
              "      <th>659</th>\n",
              "      <td>bmw</td>\n",
              "      <td>x5</td>\n",
              "      <td>485000.0</td>\n",
              "      <td>34000.0</td>\n",
              "      <td>01-2020</td>\n",
              "      <td>Tunis</td>\n",
              "      <td>25.03.2023</td>\n",
              "      <td>4 x 4</td>\n",
              "      <td>Essence</td>\n",
              "      <td>23</td>\n",
              "      <td>Automatique</td>\n",
              "      <td>Blanc</td>\n",
              "      <td>NaN</td>\n",
              "      <td>NaN</td>\n",
              "    </tr>\n",
              "    <tr>\n",
              "      <th>...</th>\n",
              "      <td>...</td>\n",
              "      <td>...</td>\n",
              "      <td>...</td>\n",
              "      <td>...</td>\n",
              "      <td>...</td>\n",
              "      <td>...</td>\n",
              "      <td>...</td>\n",
              "      <td>...</td>\n",
              "      <td>...</td>\n",
              "      <td>...</td>\n",
              "      <td>...</td>\n",
              "      <td>...</td>\n",
              "      <td>...</td>\n",
              "      <td>...</td>\n",
              "    </tr>\n",
              "    <tr>\n",
              "      <th>5692</th>\n",
              "      <td>Citroen</td>\n",
              "      <td>Berlingo</td>\n",
              "      <td>17000000.0</td>\n",
              "      <td>300.0</td>\n",
              "      <td>2009</td>\n",
              "      <td>Mahdia</td>\n",
              "      <td>NaN</td>\n",
              "      <td>Autres</td>\n",
              "      <td>Diesel</td>\n",
              "      <td>7.0</td>\n",
              "      <td>Manuelle</td>\n",
              "      <td>Blanc</td>\n",
              "      <td>NaN</td>\n",
              "      <td>1.2L</td>\n",
              "    </tr>\n",
              "    <tr>\n",
              "      <th>5746</th>\n",
              "      <td>Opel</td>\n",
              "      <td>Corsa</td>\n",
              "      <td>11000000.0</td>\n",
              "      <td>378000.0</td>\n",
              "      <td>1996</td>\n",
              "      <td>Monastir</td>\n",
              "      <td>NaN</td>\n",
              "      <td>Autres</td>\n",
              "      <td>Essence</td>\n",
              "      <td>1.2</td>\n",
              "      <td>Manuelle</td>\n",
              "      <td>Vert</td>\n",
              "      <td>NaN</td>\n",
              "      <td>&gt;4.0L</td>\n",
              "    </tr>\n",
              "    <tr>\n",
              "      <th>5783</th>\n",
              "      <td>Dacia</td>\n",
              "      <td>Logan MCV</td>\n",
              "      <td>98400717.0</td>\n",
              "      <td>130000.0</td>\n",
              "      <td>2016</td>\n",
              "      <td>Tunis</td>\n",
              "      <td>NaN</td>\n",
              "      <td>Monospace</td>\n",
              "      <td>Essence</td>\n",
              "      <td>5.0</td>\n",
              "      <td>Manuelle</td>\n",
              "      <td>Blanc</td>\n",
              "      <td>NaN</td>\n",
              "      <td>1.2L</td>\n",
              "    </tr>\n",
              "    <tr>\n",
              "      <th>5833</th>\n",
              "      <td>Ford</td>\n",
              "      <td>Focus C-MAX</td>\n",
              "      <td>19000000.0</td>\n",
              "      <td>200000.0</td>\n",
              "      <td>2007</td>\n",
              "      <td>Sfax</td>\n",
              "      <td>NaN</td>\n",
              "      <td>Berline</td>\n",
              "      <td>Essence</td>\n",
              "      <td>6.0</td>\n",
              "      <td>Manuelle</td>\n",
              "      <td>Noir</td>\n",
              "      <td>NaN</td>\n",
              "      <td>1.4L</td>\n",
              "    </tr>\n",
              "    <tr>\n",
              "      <th>5849</th>\n",
              "      <td>Volkswagen</td>\n",
              "      <td>Jetta</td>\n",
              "      <td>65000000.0</td>\n",
              "      <td>60000.0</td>\n",
              "      <td>2018</td>\n",
              "      <td>Ben Arous</td>\n",
              "      <td>NaN</td>\n",
              "      <td>Berline</td>\n",
              "      <td>Essence</td>\n",
              "      <td>7.0</td>\n",
              "      <td>Manuelle</td>\n",
              "      <td>Noir</td>\n",
              "      <td>NaN</td>\n",
              "      <td>1.6L</td>\n",
              "    </tr>\n",
              "  </tbody>\n",
              "</table>\n",
              "<p>210 rows × 14 columns</p>\n",
              "</div>"
            ],
            "text/plain": [
              "             marque       modele        prix  kilometrage    annee  \\\n",
              "122          jaguar       f pace    450000.0      28000.0  01-2018   \n",
              "561         porsche        macan    465000.0       7500.0  05-2022   \n",
              "575   mercedes benz    gle coupe    550000.0      50000.0  07-2021   \n",
              "641         porsche      cayenne    480000.0      60000.0  01-2020   \n",
              "659             bmw           x5    485000.0      34000.0  01-2020   \n",
              "...             ...          ...         ...          ...      ...   \n",
              "5692        Citroen     Berlingo  17000000.0        300.0     2009   \n",
              "5746           Opel        Corsa  11000000.0     378000.0     1996   \n",
              "5783          Dacia    Logan MCV  98400717.0     130000.0     2016   \n",
              "5833           Ford  Focus C-MAX  19000000.0     200000.0     2007   \n",
              "5849     Volkswagen        Jetta  65000000.0      60000.0     2018   \n",
              "\n",
              "     localisation  date_ajout carrosserie  energie puissance        boite  \\\n",
              "122         Tunis  27.03.2023       4 x 4  Essence        24  Automatique   \n",
              "561          Sfax  26.03.2023       4 x 4  Essence        17  Automatique   \n",
              "575          Sfax  26.03.2023       4 x 4  Essence        12  Automatique   \n",
              "641        Ariana  25.03.2023       4 x 4  Essence        23  Automatique   \n",
              "659         Tunis  25.03.2023       4 x 4  Essence        23  Automatique   \n",
              "...           ...         ...         ...      ...       ...          ...   \n",
              "5692       Mahdia         NaN      Autres   Diesel       7.0     Manuelle   \n",
              "5746     Monastir         NaN      Autres  Essence       1.2     Manuelle   \n",
              "5783        Tunis         NaN   Monospace  Essence       5.0     Manuelle   \n",
              "5833         Sfax         NaN     Berline  Essence       6.0     Manuelle   \n",
              "5849    Ben Arous         NaN     Berline  Essence       7.0     Manuelle   \n",
              "\n",
              "     couleur  prix_neuve cylindree  \n",
              "122    Blanc    390000.0       NaN  \n",
              "561     Bleu    427500.0       NaN  \n",
              "575    Blanc    540000.0       NaN  \n",
              "641     Noir    570000.0       NaN  \n",
              "659    Blanc         NaN       NaN  \n",
              "...      ...         ...       ...  \n",
              "5692   Blanc         NaN      1.2L  \n",
              "5746    Vert         NaN     >4.0L  \n",
              "5783   Blanc         NaN      1.2L  \n",
              "5833    Noir         NaN      1.4L  \n",
              "5849    Noir         NaN      1.6L  \n",
              "\n",
              "[210 rows x 14 columns]"
            ]
          },
          "execution_count": 9,
          "metadata": {},
          "output_type": "execute_result"
        }
      ],
      "source": [
        "cars.loc[cars[\"prix\"] > 400_000]\n"
      ]
    },
    {
      "cell_type": "code",
      "execution_count": 10,
      "metadata": {},
      "outputs": [
        {
          "data": {
            "image/png": "[encoded data removed]",
            "text/plain": [
              "<Figure size 640x480 with 1 Axes>"
            ]
          },
          "metadata": {},
          "output_type": "display_data"
        }
      ],
      "source": [
        "sns.boxplot(data=cars[[\"prix\"]], orient=\"h\")\n",
        "plt.show()\n"
      ]
    },
    {
      "cell_type": "code",
      "execution_count": 11,
      "metadata": {},
      "outputs": [],
      "source": [
        "# kilometrage -> abs(kilometrage)\n",
        "\n",
        "cars[\"kilometrage\"] = abs(cars[\"kilometrage\"])\n"
      ]
    },
    {
      "cell_type": "code",
      "execution_count": 12,
      "metadata": {},
      "outputs": [],
      "source": [
        "# If kilometrage < 10 -> kilometrage = nan\n",
        "\n",
        "kilometrage_less_than_10 = cars[\"kilometrage\"] < 10\n",
        "cars.loc[kilometrage_less_than_10, \"kilometrage\"] = np.nan\n"
      ]
    },
    {
      "cell_type": "code",
      "execution_count": 13,
      "metadata": {},
      "outputs": [],
      "source": [
        "# If kilometrage <= 1000 -> kilometrage *= 1000\n",
        "\n",
        "kilometrage_less_than_1000 = cars[\"kilometrage\"] <= 1000\n",
        "cars.loc[kilometrage_less_than_1000, \"kilometrage\"] *= 1000\n"
      ]
    },
    {
      "cell_type": "code",
      "execution_count": 14,
      "metadata": {},
      "outputs": [],
      "source": [
        "# If kilometrage >= 1 000 000 -> kilometrage = nan\n",
        "\n",
        "kilometrage_over_1000000 = cars[\"kilometrage\"] >= 1000000\n",
        "cars.loc[kilometrage_over_1000000, \"kilometrage\"] = np.nan\n"
      ]
    },
    {
      "cell_type": "code",
      "execution_count": 15,
      "metadata": {},
      "outputs": [],
      "source": [
        "# Applying str.title() to each column\n",
        "\n",
        "for col in cars.columns:\n",
        "    if cars[col].dtype == \"object\":\n",
        "        cars[col] = cars[col].str.title()\n"
      ]
    },
    {
      "cell_type": "code",
      "execution_count": 16,
      "metadata": {},
      "outputs": [
        {
          "name": "stdout",
          "output_type": "stream",
          "text": [
            "['Ariana' 'Tunis' 'Ben Arous' 'Bizerte' 'Monastir' 'Béja' 'La Manouba'\n",
            " 'Sousse' 'Nabeul' 'Sidi Bouzid' 'Gafsa' 'Kairouan' 'Sfax' 'Mahdia'\n",
            " 'Tozeur' 'Médenine' 'Kasserine' 'Le Kef' 'Gabès' 'Zaghouan' 'Jendouba'\n",
            " 'Kébili' 'Siliana' 'Manouba' 'Gabes' 'Tataouine' nan] 27\n"
          ]
        }
      ],
      "source": [
        "# Exploring the values of \"localisation\" column\n",
        "\n",
        "localisation_values = cars[\"localisation\"].unique()\n",
        "print(localisation_values, len(localisation_values))\n"
      ]
    },
    {
      "cell_type": "code",
      "execution_count": 17,
      "metadata": {},
      "outputs": [],
      "source": [
        "# Unify and fix the values of the \"localisation\" column\n",
        "\n",
        "my_dict = {\n",
        "    \"Béja\": \"Beja\",\n",
        "    \"La Manouba\": \"Manouba\",\n",
        "    \"Gabès\": \"Gabes\",\n",
        "    \"Médenine\": \"Medenine\",\n",
        "    \"Kébili\": \"Kebili\",\n",
        "}\n",
        "cars.replace({\"localisation\": my_dict}, inplace=True)\n"
      ]
    },
    {
      "cell_type": "code",
      "execution_count": 18,
      "metadata": {},
      "outputs": [
        {
          "name": "stdout",
          "output_type": "stream",
          "text": [
            "['Blanc' 'Rouge' 'Noir' 'Gris Shark' 'Beige' 'Bleu' 'Gris Argent'\n",
            " 'Gris Anthracite' 'Autre' 'Orange' 'Marron' 'Vert' 'Jaune' 'Aubergine'\n",
            " 'Bleu Roi' 'Gris' 'Bronze' 'Gris Métallisé' 'Gris Foncé' 'Gris Titanuim'\n",
            " 'Bleu Gris' 'Noire' 'Miel' 'Blanc Cristal' nan 'Bleu/Gris' 'Mauve Gris'\n",
            " 'Gris Charbon' '*****' 'Blanche' 'Grise' 'Verte' 'Bleu Métallisée'\n",
            " 'Grise Metalisee' 'Bleu Métallisé' 'Gris Magnetic' 'Gris Clair Métallisé'\n",
            " \"Feuille D'Argent\" 'Maran' 'Grise Métallisée' 'Rouge Bordeaux' 'Camel'\n",
            " 'Grenadine' 'Titanium' 'Champagne' 'Multicolore' 'Argent' 'Doré' 'Violet'\n",
            " 'Corail'] 50\n"
          ]
        },
        {
          "data": {
            "text/plain": [
              "37"
            ]
          },
          "execution_count": 18,
          "metadata": {},
          "output_type": "execute_result"
        }
      ],
      "source": [
        "# Exploring the values of the \"couleur\" column\n",
        "\n",
        "localisation_values = cars[\"couleur\"].unique()\n",
        "print(localisation_values, len(localisation_values))\n",
        "len(cars[cars[\"couleur\"].isna()])\n"
      ]
    },
    {
      "cell_type": "code",
      "execution_count": 19,
      "metadata": {},
      "outputs": [],
      "source": [
        "# Unify and fix the values of the \"couleur\" column\n",
        "\n",
        "my_dict = {\n",
        "    \"Blanche\": \"Blanc\",\n",
        "    \"Blanc Cristal\": \"Blanc\",\n",
        "    \"Grise\": \"Gris\",\n",
        "    \"Gris Métallisé\": \"Gris\",\n",
        "    \"Grise Metalisee\": \"Gris\",\n",
        "    \"Grise Métallisée\": \"Gris\",\n",
        "    \"Gris Clair Métallisé\": \"Gris\",\n",
        "    \"Gris Foncé\": \"Gris\",\n",
        "    \"Gris Charbon\": \"Gris\",\n",
        "    \"Gris Magnetic\": \"Gris\",\n",
        "    \"Bleu Gris\": \"Bleu\",\n",
        "    \"Bleu/Gris\": \"Bleu\",\n",
        "    \"Bleu Roi\": \"Bleu\",\n",
        "    \"Bleu Métallisée\": \"Bleu\",\n",
        "    \"Gris Titanium\": \"Argent\",\n",
        "    \"Gris Titanuim\": \"Argent\",\n",
        "    \"Gris Argent\": \"Argent\",\n",
        "    \"Feuille D'Argent\": \"Argent\",\n",
        "    \"Titanium\": \"Argent\",\n",
        "    \"Miel\": \"Jaune\",\n",
        "    \"Champagne\": \"Jaune\",\n",
        "    \"Grenadine\": \"Rouge\",\n",
        "    \"Rouge Bordeaux\": \"Rouge\",\n",
        "    \"Mauve Gris\": \"Violet\",\n",
        "    \"Aubergine\": \"Violet\",\n",
        "    \"Noire\": \"Noir\",\n",
        "    \"Maran\": \"Marron\",\n",
        "    \"Corail\": \"Orange\",\n",
        "}\n",
        "cars.replace({\"couleur\": my_dict}, inplace=True)\n"
      ]
    },
    {
      "cell_type": "code",
      "execution_count": 20,
      "metadata": {},
      "outputs": [],
      "source": [
        "# If couleur is \"*****\" -> couleur = nan\n",
        "\n",
        "specified_couleur = cars[\"couleur\"] == \"*****\"\n",
        "cars[specified_couleur] = np.nan"
      ]
    },
    {
      "cell_type": "code",
      "execution_count": 21,
      "metadata": {},
      "outputs": [],
      "source": [
        "# Remove month from year in the \"annee\" column and convert it to float\n",
        "\n",
        "contains_hyphen = cars[\"annee\"].str.contains(\"-\") & cars[\"annee\"].notna()\n",
        "cars.loc[contains_hyphen, \"annee\"] = cars.loc[contains_hyphen, \"annee\"].apply(\n",
        "    lambda string: string.split(\"-\")[1]\n",
        ")\n",
        "contains_point = cars[\"annee\"].str.contains(\"[.]\") & cars[\"annee\"].notna()\n",
        "cars.loc[contains_point, \"annee\"] = cars.loc[contains_point, \"annee\"].apply(\n",
        "    lambda string: string.split(\".\")[-1]\n",
        ")\n",
        "cars[\"annee\"] = cars[\"annee\"].astype(np.float64)"
      ]
    },
    {
      "cell_type": "code",
      "execution_count": 22,
      "metadata": {},
      "outputs": [],
      "source": [
        "# If 10<= annee <= 23 -> annee += 2000, if 60 <= annee -> annee += 1900, else annee = nan\n",
        "\n",
        "annee_between_0_and_23 = (cars[\"annee\"] >= 10) & (cars[\"annee\"] <= 23)\n",
        "cars.loc[annee_between_0_and_23, \"annee\"] += 2000\n",
        "annee_more_than_60 = (cars[\"annee\"] >= 60) & (cars[\"annee\"] <= 99)\n",
        "cars.loc[annee_more_than_60, \"annee\"] += 1900\n",
        "correct_annee = (cars[\"annee\"] >= 1960) & (cars[\"annee\"] <= 2023)\n",
        "cars.loc[~correct_annee, \"annee\"] = np.nan\n"
      ]
    },
    {
      "cell_type": "code",
      "execution_count": 23,
      "metadata": {},
      "outputs": [],
      "source": [
        "# Convert N.D to nan in the \"puissance\" column\n",
        "\n",
        "puissance_is_ND = cars[\"puissance\"] == \"N.D\"\n",
        "cars.loc[puissance_is_ND, \"puissance\"] = np.nan"
      ]
    },
    {
      "cell_type": "code",
      "execution_count": 24,
      "metadata": {},
      "outputs": [],
      "source": [
        "# Convert the column \"puissance\" to float\n",
        "\n",
        "contains_CV = cars[\"puissance\"].str.contains(\"C\") & cars[\"puissance\"].notna()\n",
        "cars.loc[contains_CV, \"puissance\"] = cars.loc[contains_CV, \"puissance\"].apply(\n",
        "    lambda string: string.split()[0]\n",
        ")\n",
        "cars[\"puissance\"] = cars[\"puissance\"].astype(np.float64)\n"
      ]
    },
    {
      "cell_type": "code",
      "execution_count": 25,
      "metadata": {},
      "outputs": [],
      "source": [
        "# If puissance > 200 -> puissance = nan\n",
        "\n",
        "puissance_over_200 = cars[\"puissance\"] > 200\n",
        "cars.loc[puissance_over_200, \"puissance\"] = np.nan\n"
      ]
    },
    {
      "cell_type": "code",
      "execution_count": 26,
      "metadata": {},
      "outputs": [],
      "source": [
        "# Convert the column \"cylindree\" to float\n",
        "\n",
        "contains_symbol = cars[\"cylindree\"].str.contains(\"[><]\") & cars[\"cylindree\"].notna()\n",
        "cars.loc[contains_symbol, \"cylindree\"] = cars.loc[contains_symbol, \"cylindree\"].apply(\n",
        "    lambda string: string[1:]\n",
        ")\n",
        "cars.loc[cars[\"cylindree\"].notna(), \"cylindree\"] = cars.loc[\n",
        "    cars[\"cylindree\"].notna(), \"cylindree\"\n",
        "].apply(lambda string: string[:-1])\n",
        "cars[\"cylindree\"] = cars[\"cylindree\"].astype(np.float64)\n"
      ]
    },
    {
      "cell_type": "code",
      "execution_count": 27,
      "metadata": {},
      "outputs": [
        {
          "name": "stderr",
          "output_type": "stream",
          "text": [
            "/tmp/ipykernel_8150/294925154.py:3: UserWarning: Parsing dates in DD/MM/YYYY format when dayfirst=False (the default) was specified. This may lead to inconsistently parsed dates! Specify a format to ensure consistent parsing.\n",
            "  cars[\"date_ajout\"] = pd.to_datetime(cars[\"date_ajout\"])\n"
          ]
        }
      ],
      "source": [
        "# Turn \"date_ajout\" column to datetime\n",
        "\n",
        "cars[\"date_ajout\"] = pd.to_datetime(cars[\"date_ajout\"])"
      ]
    },
    {
      "cell_type": "code",
      "execution_count": 28,
      "metadata": {},
      "outputs": [],
      "source": [
        "# Dropping duplicates\n",
        "\n",
        "cars.drop_duplicates(inplace=True)\n"
      ]
    },
    {
      "cell_type": "code",
      "execution_count": 29,
      "metadata": {},
      "outputs": [
        {
          "name": "stdout",
          "output_type": "stream",
          "text": [
            "<class 'pandas.core.frame.DataFrame'>\n",
            "Int64Index: 6058 entries, 0 to 5880\n",
            "Data columns (total 14 columns):\n",
            " #   Column        Non-Null Count  Dtype         \n",
            "---  ------        --------------  -----         \n",
            " 0   marque        6050 non-null   object        \n",
            " 1   modele        6050 non-null   object        \n",
            " 2   prix          5663 non-null   float64       \n",
            " 3   kilometrage   5806 non-null   float64       \n",
            " 4   annee         5994 non-null   float64       \n",
            " 5   localisation  6046 non-null   object        \n",
            " 6   date_ajout    3316 non-null   datetime64[ns]\n",
            " 7   carrosserie   5832 non-null   object        \n",
            " 8   energie       6050 non-null   object        \n",
            " 9   puissance     6002 non-null   float64       \n",
            " 10  boite         6050 non-null   object        \n",
            " 11  couleur       6039 non-null   object        \n",
            " 12  prix_neuve    1938 non-null   float64       \n",
            " 13  cylindree     2516 non-null   float64       \n",
            "dtypes: datetime64[ns](1), float64(6), object(7)\n",
            "memory usage: 709.9+ KB\n"
          ]
        }
      ],
      "source": [
        "cars.to_csv(\"./new_clean_data.csv\")\n",
        "cars.info()\n"
      ]
    }
  ],
  "metadata": {
    "kernelspec": {
      "display_name": "data-science",
      "language": "python",
      "name": "python3"
    },
    "language_info": {
      "codemirror_mode": {
        "name": "ipython",
        "version": 3
      },
      "file_extension": ".py",
      "mimetype": "text/x-python",
      "name": "python",
      "nbconvert_exporter": "python",
      "pygments_lexer": "ipython3",
      "version": "3.11.2"
    },
    "orig_nbformat": 4,
    "vscode": {
      "interpreter": {
        "hash": "dc2bd3b27271d03bf2eec87812cad119e0cb1920e9796b1f5a29990c3e7b9536"
      }
    }
  },
  "nbformat": 4,
  "nbformat_minor": 2
}
