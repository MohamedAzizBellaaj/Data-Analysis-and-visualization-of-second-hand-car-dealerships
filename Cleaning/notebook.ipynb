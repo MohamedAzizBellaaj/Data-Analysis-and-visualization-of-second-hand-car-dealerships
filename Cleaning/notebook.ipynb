{
 "cells": [
  {
   "cell_type": "code",
   "execution_count": 1111,
   "metadata": {},
   "outputs": [],
   "source": [
    "import pandas as pd\n",
    "import numpy as np\n",
    "\n",
    "cars = pd.read_csv(\"./concatenated_data.csv\", index_col=0)\n",
    "del cars[\"description\"]\n"
   ]
  },
  {
   "cell_type": "code",
   "execution_count": 1112,
   "metadata": {},
   "outputs": [],
   "source": [
    "# prix -> abs(prix)\n",
    "\n",
    "cars[\"prix\"] = abs(cars[\"prix\"])\n"
   ]
  },
  {
   "cell_type": "code",
   "execution_count": 1113,
   "metadata": {},
   "outputs": [],
   "source": [
    "# kilometrage -> abs(kilometrage)\n",
    "\n",
    "cars[\"kilometrage\"] = abs(cars[\"kilometrage\"])\n"
   ]
  },
  {
   "cell_type": "code",
   "execution_count": 1114,
   "metadata": {},
   "outputs": [],
   "source": [
    "# if less than 500 -> *= 1000\n",
    "\n",
    "less_than_1000 = cars[\"prix\"] <= 500\n",
    "cars.loc[less_than_1000, \"prix\"] *= 1000\n"
   ]
  },
  {
   "cell_type": "code",
   "execution_count": 1115,
   "metadata": {},
   "outputs": [],
   "source": [
    "# if over 1 000 000 -> turn prix to nan\n",
    "over_1000000 = cars[\"prix\"] >= 1000000\n",
    "cars.loc[over_1000000, \"prix\"] = np.nan\n"
   ]
  },
  {
   "cell_type": "code",
   "execution_count": 1116,
   "metadata": {},
   "outputs": [],
   "source": [
    "# if prix is 0 -> turn prix to nan\n",
    "prix_is_0 = cars[\"prix\"] == 0\n",
    "cars.loc[prix_is_0, \"prix\"] = np.nan\n"
   ]
  },
  {
   "cell_type": "code",
   "execution_count": 1117,
   "metadata": {},
   "outputs": [],
   "source": [
    "# if kilometrage >= 1 000 000 -> turn to nan\n",
    "\n",
    "kilometrage_more_than_1000000 = cars[\"kilometrage\"] >= 1000000\n",
    "cars.loc[kilometrage_more_than_1000000, \"kilometrage\"] = np.nan\n"
   ]
  },
  {
   "cell_type": "code",
   "execution_count": 1118,
   "metadata": {},
   "outputs": [],
   "source": [
    "# applying str.title() to each column\n",
    "\n",
    "for col in cars.columns:\n",
    "    if cars[col].dtype == \"object\":\n",
    "        cars[col] = cars[col].str.title()\n"
   ]
  },
  {
   "cell_type": "code",
   "execution_count": 1119,
   "metadata": {},
   "outputs": [
    {
     "name": "stdout",
     "output_type": "stream",
     "text": [
      "['Ariana' 'Tunis' 'Ben Arous' 'Bizerte' 'Monastir' 'Béja' 'La Manouba'\n",
      " 'Sousse' 'Nabeul' 'Sidi Bouzid' 'Gafsa' 'Kairouan' 'Sfax' 'Mahdia'\n",
      " 'Tozeur' 'Médenine' 'Kasserine' 'Le Kef' 'Gabès' 'Zaghouan' 'Jendouba'\n",
      " 'Kébili' 'Siliana' 'Manouba' 'Gabes' 'Tataouine' nan] 27\n"
     ]
    }
   ],
   "source": [
    "# exploring the values of cars[\"localisation\"]\n",
    "\n",
    "localisation_values = cars[\"localisation\"].unique()\n",
    "print(localisation_values, len(localisation_values))\n"
   ]
  },
  {
   "cell_type": "code",
   "execution_count": 1120,
   "metadata": {},
   "outputs": [],
   "source": [
    "# fix locations' names\n",
    "\n",
    "my_dict = {\n",
    "    \"Béja\": \"Beja\",\n",
    "    \"La Manouba\": \"Manouba\",\n",
    "    \"Gabès\": \"Gabes\",\n",
    "    \"Médenine\": \"Medenine\",\n",
    "    \"Kébili\": \"Kebili\",\n",
    "}\n",
    "cars.replace({\"localisation\": my_dict}, inplace=True)\n"
   ]
  },
  {
   "cell_type": "code",
   "execution_count": 1121,
   "metadata": {},
   "outputs": [],
   "source": [
    "# remove month from year in the column annee and convert it to float64\n",
    "\n",
    "contains_hyphen = cars[\"annee\"].str.contains(\"-\") & cars[\"annee\"].notna()\n",
    "cars.loc[contains_hyphen, \"annee\"] = cars.loc[contains_hyphen, \"annee\"].apply(\n",
    "    lambda string: string.split(\"-\")[1]\n",
    ")\n",
    "contains_point = cars[\"annee\"].str.contains(\"[.]\") & cars[\"annee\"].notna()\n",
    "cars.loc[contains_point, \"annee\"] = cars.loc[contains_point, \"annee\"].apply(\n",
    "    lambda string: string.split(\".\")[-1]\n",
    ")\n",
    "cars[\"annee\"] = cars[\"annee\"].astype(np.float64)\n"
   ]
  },
  {
   "cell_type": "code",
   "execution_count": 1122,
   "metadata": {},
   "outputs": [],
   "source": [
    "# if 10<= annee <= 23 -> annee + 2000, if 60 <= annee -> annee + 1900, else turn to nan\n",
    "\n",
    "annee_between_0_and_23 = (cars[\"annee\"] >= 10) & (cars[\"annee\"] <= 23)\n",
    "cars.loc[annee_between_0_and_23, \"annee\"] += 2000\n",
    "annee_more_than_60 = (cars[\"annee\"] >= 60) & (cars[\"annee\"] <= 99)\n",
    "cars.loc[annee_more_than_60, \"annee\"] += 1900\n",
    "correct_annee = (cars[\"annee\"] >= 1960) & (cars[\"annee\"] <= 2023)\n",
    "cars.loc[~correct_annee, \"annee\"] = np.nan\n"
   ]
  },
  {
   "cell_type": "code",
   "execution_count": 1123,
   "metadata": {},
   "outputs": [],
   "source": [
    "# convert N.D to nan in the \"puissance\" column\n",
    "\n",
    "is_ND = cars[\"puissance\"] == \"N.D\"\n",
    "cars.loc[is_ND, \"puissance\"] = np.nan\n"
   ]
  },
  {
   "cell_type": "code",
   "execution_count": 1124,
   "metadata": {},
   "outputs": [],
   "source": [
    "# convert the column puissance to float\n",
    "\n",
    "contains_CV = cars[\"puissance\"].str.contains(\"C\") & cars[\"puissance\"].notna()\n",
    "cars.loc[contains_CV, \"puissance\"] = cars.loc[contains_CV, \"puissance\"].apply(\n",
    "    lambda string: string.split()[0]\n",
    ")\n",
    "cars[\"puissance\"] = cars[\"puissance\"].astype(np.float64)\n"
   ]
  },
  {
   "cell_type": "code",
   "execution_count": 1125,
   "metadata": {},
   "outputs": [],
   "source": [
    "# if puissance > 200 -> turn to nan\n",
    "\n",
    "puissance_more_than_200 = cars[\"puissance\"] > 200\n",
    "cars.loc[puissance_more_than_200, \"puissance\"] = np.nan\n"
   ]
  },
  {
   "cell_type": "code",
   "execution_count": 1126,
   "metadata": {},
   "outputs": [],
   "source": [
    "# convert the column cylindree to float\n",
    "\n",
    "contains_symbol = cars[\"cylindree\"].str.contains(\"[><]\") & cars[\"cylindree\"].notna()\n",
    "cars.loc[contains_symbol, \"cylindree\"] = cars.loc[contains_symbol, \"cylindree\"].apply(\n",
    "    lambda string: string[1:]\n",
    ")\n",
    "cars.loc[cars[\"cylindree\"].notna(), \"cylindree\"] = cars.loc[\n",
    "    cars[\"cylindree\"].notna(), \"cylindree\"\n",
    "].apply(lambda string: string[:-1])\n",
    "cars[\"cylindree\"] = cars[\"cylindree\"].astype(np.float64)\n"
   ]
  },
  {
   "cell_type": "code",
   "execution_count": 1127,
   "metadata": {},
   "outputs": [],
   "source": [
    "cars.to_csv(\"new_clean_data.csv\")\n"
   ]
  }
 ],
 "metadata": {
  "kernelspec": {
   "display_name": "data-science",
   "language": "python",
   "name": "python3"
  },
  "language_info": {
   "codemirror_mode": {
    "name": "ipython",
    "version": 3
   },
   "file_extension": ".py",
   "mimetype": "text/x-python",
   "name": "python",
   "nbconvert_exporter": "python",
   "pygments_lexer": "ipython3",
   "version": "3.11.0"
  },
  "orig_nbformat": 4
 },
 "nbformat": 4,
 "nbformat_minor": 2
}
