{
  "cells": [
    {
      "cell_type": "code",
      "execution_count": 274,
      "metadata": {},
      "outputs": [
        {
          "name": "stdout",
          "output_type": "stream",
          "text": [
            "<class 'pandas.core.frame.DataFrame'>\n",
            "Int64Index: 9437 entries, 0 to 5880\n",
            "Data columns (total 14 columns):\n",
            " #   Column        Non-Null Count  Dtype  \n",
            "---  ------        --------------  -----  \n",
            " 0   brand         9411 non-null   object \n",
            " 1   model         9411 non-null   object \n",
            " 2   price         9432 non-null   float64\n",
            " 3   mileage       9411 non-null   float64\n",
            " 4   year          9411 non-null   object \n",
            " 5   location      9421 non-null   object \n",
            " 6   date_added    3336 non-null   object \n",
            " 7   body_type     9191 non-null   object \n",
            " 8   fuel          9411 non-null   object \n",
            " 9   power         9411 non-null   object \n",
            " 10  transmission  9411 non-null   object \n",
            " 11  color         9400 non-null   object \n",
            " 12  price_new     1955 non-null   float64\n",
            " 13  engine_size   5855 non-null   object \n",
            "dtypes: float64(3), object(11)\n",
            "memory usage: 1.1+ MB\n"
          ]
        }
      ],
      "source": [
        "import pandas as pd\n",
        "import numpy as np\n",
        "import seaborn as sns\n",
        "import matplotlib.pyplot as plt\n",
        "from thefuzz import fuzz\n",
        "from thefuzz import process\n",
        "\n",
        "cars = pd.read_csv(\"./concatenated_data.csv\", index_col=0)\n",
        "del cars[\"description\"]\n",
        "cars.columns = [\n",
        "    \"brand\",\n",
        "    \"model\",\n",
        "    \"price\",\n",
        "    \"mileage\",\n",
        "    \"year\",\n",
        "    \"location\",\n",
        "    \"date_added\",\n",
        "    \"body_type\",\n",
        "    \"fuel\",\n",
        "    \"power\",\n",
        "    \"transmission\",\n",
        "    \"color\",\n",
        "    \"price_new\",\n",
        "    \"engine_size\",\n",
        "]\n",
        "cars.info()\n"
      ]
    },
    {
      "attachments": {},
      "cell_type": "markdown",
      "metadata": {},
      "source": [
        "# Overview\n"
      ]
    },
    {
      "cell_type": "code",
      "execution_count": 275,
      "metadata": {},
      "outputs": [
        {
          "data": {
            "text/html": [
              "<div>\n",
              "<style scoped>\n",
              "    .dataframe tbody tr th:only-of-type {\n",
              "        vertical-align: middle;\n",
              "    }\n",
              "\n",
              "    .dataframe tbody tr th {\n",
              "        vertical-align: top;\n",
              "    }\n",
              "\n",
              "    .dataframe thead th {\n",
              "        text-align: right;\n",
              "    }\n",
              "</style>\n",
              "<table border=\"1\" class=\"dataframe\">\n",
              "  <thead>\n",
              "    <tr style=\"text-align: right;\">\n",
              "      <th></th>\n",
              "      <th>price</th>\n",
              "      <th>mileage</th>\n",
              "      <th>price_new</th>\n",
              "    </tr>\n",
              "  </thead>\n",
              "  <tbody>\n",
              "    <tr>\n",
              "      <th>count</th>\n",
              "      <td>9.432000e+03</td>\n",
              "      <td>9.411000e+03</td>\n",
              "      <td>1955.000000</td>\n",
              "    </tr>\n",
              "    <tr>\n",
              "      <th>mean</th>\n",
              "      <td>3.309366e+07</td>\n",
              "      <td>2.361327e+12</td>\n",
              "      <td>171507.106905</td>\n",
              "    </tr>\n",
              "    <tr>\n",
              "      <th>std</th>\n",
              "      <td>1.645900e+09</td>\n",
              "      <td>1.619689e+14</td>\n",
              "      <td>136366.008481</td>\n",
              "    </tr>\n",
              "    <tr>\n",
              "      <th>min</th>\n",
              "      <td>-1.000000e+00</td>\n",
              "      <td>-2.200000e+05</td>\n",
              "      <td>29510.000000</td>\n",
              "    </tr>\n",
              "    <tr>\n",
              "      <th>25%</th>\n",
              "      <td>8.000000e+03</td>\n",
              "      <td>2.400000e+04</td>\n",
              "      <td>79990.000000</td>\n",
              "    </tr>\n",
              "    <tr>\n",
              "      <th>50%</th>\n",
              "      <td>3.300000e+04</td>\n",
              "      <td>1.010000e+05</td>\n",
              "      <td>136480.000000</td>\n",
              "    </tr>\n",
              "    <tr>\n",
              "      <th>75%</th>\n",
              "      <td>5.992500e+04</td>\n",
              "      <td>1.800000e+05</td>\n",
              "      <td>215000.000000</td>\n",
              "    </tr>\n",
              "    <tr>\n",
              "      <th>max</th>\n",
              "      <td>1.111111e+11</td>\n",
              "      <td>1.111111e+16</td>\n",
              "      <td>908000.000000</td>\n",
              "    </tr>\n",
              "  </tbody>\n",
              "</table>\n",
              "</div>"
            ],
            "text/plain": [
              "              price       mileage      price_new\n",
              "count  9.432000e+03  9.411000e+03    1955.000000\n",
              "mean   3.309366e+07  2.361327e+12  171507.106905\n",
              "std    1.645900e+09  1.619689e+14  136366.008481\n",
              "min   -1.000000e+00 -2.200000e+05   29510.000000\n",
              "25%    8.000000e+03  2.400000e+04   79990.000000\n",
              "50%    3.300000e+04  1.010000e+05  136480.000000\n",
              "75%    5.992500e+04  1.800000e+05  215000.000000\n",
              "max    1.111111e+11  1.111111e+16  908000.000000"
            ]
          },
          "execution_count": 275,
          "metadata": {},
          "output_type": "execute_result"
        }
      ],
      "source": [
        "cars.describe()"
      ]
    },
    {
      "cell_type": "code",
      "execution_count": 276,
      "metadata": {},
      "outputs": [],
      "source": [
        "def summary_statistics(dataset):\n",
        "    print(\" summary statistics\")\n",
        "    mean = np.round(np.mean(dataset), 2)\n",
        "    median = np.round(np.nanmedian(dataset), 2)\n",
        "    min_value = np.round(dataset.min(), 2)\n",
        "    max_value = np.round(dataset.max(), 2)\n",
        "    q1 = np.round(dataset.quantile(0.25), 2)\n",
        "    q3 = np.round(dataset.quantile(0.75), 2)\n",
        "    # Interquartile range\n",
        "    iqr = np.round(q3 - q1, 2)\n",
        "    print(\"Min: %s\" % min_value)\n",
        "    print(\"Mean: %s\" % mean)\n",
        "    print(\"Max: %s\" % max_value)\n",
        "    print(\"25th percentile: %s\" % q1)\n",
        "    print(\"Median: %s\" % median)\n",
        "    print(\"75th percentile: %s\" % q3)\n",
        "    print(\"Interquartile range (IQR): %s\" % iqr)\n"
      ]
    },
    {
      "attachments": {},
      "cell_type": "markdown",
      "metadata": {},
      "source": [
        "# Strings\n"
      ]
    },
    {
      "attachments": {},
      "cell_type": "markdown",
      "metadata": {},
      "source": [
        "Applying str.title() to each column and specifying the field datatype\n"
      ]
    },
    {
      "cell_type": "code",
      "execution_count": 277,
      "metadata": {},
      "outputs": [],
      "source": [
        "for col in cars.columns:\n",
        "    if cars[col].dtype == \"object\":\n",
        "        cars[col] = cars[col].str.title()\n"
      ]
    },
    {
      "cell_type": "code",
      "execution_count": 278,
      "metadata": {},
      "outputs": [],
      "source": [
        "def explore_strings(df, column):\n",
        "    # Specifying the field datatype\n",
        "    df[column] = df[column].fillna(\"\").astype(str)\n",
        "    strings = df[column].unique()\n",
        "    print(f\"distinct {column}s : \", strings)\n",
        "    print(f\"number of distinct {column}s : \", len(strings) - 1)  # do not count \"\"\n",
        "    return strings\n"
      ]
    },
    {
      "attachments": {},
      "cell_type": "markdown",
      "metadata": {},
      "source": [
        "## Location\n"
      ]
    },
    {
      "attachments": {},
      "cell_type": "markdown",
      "metadata": {},
      "source": [
        "Exploring the values of \"location\" column\n"
      ]
    },
    {
      "cell_type": "code",
      "execution_count": 279,
      "metadata": {},
      "outputs": [
        {
          "name": "stdout",
          "output_type": "stream",
          "text": [
            "distinct locations :  ['Ariana' 'Tunis' 'Ben Arous' 'Bizerte' 'Monastir' 'Béja' 'La Manouba'\n",
            " 'Sousse' 'Nabeul' 'Sidi Bouzid' 'Gafsa' 'Kairouan' 'Sfax' 'Mahdia'\n",
            " 'Tozeur' 'Médenine' 'Kasserine' 'Le Kef' 'Gabès' 'Zaghouan' 'Jendouba'\n",
            " 'Kébili' 'Siliana' 'Manouba' 'Gabes' 'Tataouine' '']\n",
            "number of distinct locations :  26\n"
          ]
        }
      ],
      "source": [
        "locations = explore_strings(cars, \"location\")\n"
      ]
    },
    {
      "cell_type": "code",
      "execution_count": 280,
      "metadata": {},
      "outputs": [],
      "source": [
        "def get_matches(df, column, string_to_match, min_ratio=50):\n",
        "    strings = df[column].unique()\n",
        "\n",
        "    # get the top 10 closest matches to our input string\n",
        "    matches = process.extract(\n",
        "        string_to_match, strings, limit=10, scorer=fuzz.token_sort_ratio\n",
        "    )\n",
        "    # only get matches with a ratio >= min_ratio\n",
        "    close_matches = [matches[0] for matches in matches if matches[1] >= min_ratio]\n",
        "    return close_matches\n"
      ]
    },
    {
      "cell_type": "code",
      "execution_count": 281,
      "metadata": {},
      "outputs": [],
      "source": [
        "def explore_matches(df, column, ratio=60):\n",
        "    strings = df[column].unique()\n",
        "    seen = set()\n",
        "    for s in strings:\n",
        "        if s in seen:\n",
        "            continue\n",
        "        if s == \"\":\n",
        "            continue\n",
        "        close_matches = get_matches(df, column, s, ratio)\n",
        "        seen.update(close_matches)\n",
        "        if len(close_matches) >= 2:\n",
        "            print(f\"close matches of {s}: {close_matches}\")\n"
      ]
    },
    {
      "cell_type": "code",
      "execution_count": 282,
      "metadata": {},
      "outputs": [
        {
          "name": "stdout",
          "output_type": "stream",
          "text": [
            "close matches of Ariana: ['Ariana', 'Siliana']\n",
            "close matches of La Manouba: ['La Manouba', 'Manouba']\n",
            "close matches of Gafsa: ['Gafsa', 'Gabès', 'Gabes']\n",
            "close matches of Kairouan: ['Kairouan', 'Zaghouan']\n",
            "close matches of Jendouba: ['Jendouba', 'Manouba']\n"
          ]
        }
      ],
      "source": [
        "explore_matches(cars, \"location\")\n"
      ]
    },
    {
      "attachments": {},
      "cell_type": "markdown",
      "metadata": {},
      "source": [
        "Unify and fix the values of the \"location\" column\n"
      ]
    },
    {
      "cell_type": "code",
      "execution_count": 283,
      "metadata": {},
      "outputs": [],
      "source": [
        "my_dict = {\"La Manouba\": \"Manouba\", \"Gabès\": \"Gabes\"}\n",
        "cars.replace({\"location\": my_dict}, inplace=True)\n"
      ]
    },
    {
      "cell_type": "code",
      "execution_count": 284,
      "metadata": {},
      "outputs": [
        {
          "name": "stdout",
          "output_type": "stream",
          "text": [
            "distinct locations :  ['Ariana' 'Tunis' 'Ben Arous' 'Bizerte' 'Monastir' 'Béja' 'Manouba'\n",
            " 'Sousse' 'Nabeul' 'Sidi Bouzid' 'Gafsa' 'Kairouan' 'Sfax' 'Mahdia'\n",
            " 'Tozeur' 'Médenine' 'Kasserine' 'Le Kef' 'Gabes' 'Zaghouan' 'Jendouba'\n",
            " 'Kébili' 'Siliana' 'Tataouine' '']\n",
            "number of distinct locations :  24\n"
          ]
        }
      ],
      "source": [
        "locations = explore_strings(cars, \"location\")\n"
      ]
    },
    {
      "attachments": {},
      "cell_type": "markdown",
      "metadata": {},
      "source": [
        "## Color\n"
      ]
    },
    {
      "cell_type": "code",
      "execution_count": 285,
      "metadata": {},
      "outputs": [
        {
          "name": "stdout",
          "output_type": "stream",
          "text": [
            "distinct colors :  ['Blanc' 'Rouge' 'Noir' 'Gris Shark' 'Beige' 'Bleu' 'Gris Argent'\n",
            " 'Gris Anthracite' 'Autre' 'Orange' 'Marron' 'Vert' 'Jaune' 'Aubergine'\n",
            " 'Bleu Roi' 'Gris' 'Bronze' 'Gris Métallisé' 'Gris Foncé' 'Gris Titanuim'\n",
            " 'Bleu Gris' 'Noire' 'Miel' 'Blanc Cristal' '' 'Bleu/Gris' 'Mauve Gris'\n",
            " 'Gris Charbon' '*****' 'Blanche' 'Grise' 'Verte' 'Bleu Métallisée'\n",
            " 'Grise Metalisee' 'Bleu Métallisé' 'Gris Magnetic' 'Gris Clair Métallisé'\n",
            " \"Feuille D'Argent\" 'Maran' 'Grise Métallisée' 'Rouge Bordeaux' 'Camel'\n",
            " 'Grenadine' 'Titanium' 'Champagne' 'Multicolore' 'Argent' 'Doré' 'Violet'\n",
            " 'Corail']\n",
            "number of distinct colors :  49\n"
          ]
        }
      ],
      "source": [
        "colors = explore_strings(cars, \"color\")\n"
      ]
    },
    {
      "attachments": {},
      "cell_type": "markdown",
      "metadata": {},
      "source": [
        "Brouillon\n"
      ]
    },
    {
      "cell_type": "code",
      "execution_count": 286,
      "metadata": {},
      "outputs": [
        {
          "data": {
            "text/plain": [
              "[('Gris', 100),\n",
              " ('Grise', 89),\n",
              " ('Gris Foncé', 62),\n",
              " ('Bleu Gris', 62),\n",
              " ('Bleu/Gris', 62),\n",
              " ('Gris Shark', 57),\n",
              " ('Mauve Gris', 57),\n",
              " ('Gris Argent', 53),\n",
              " ('Gris Métallisé', 50),\n",
              " ('Gris Charbon', 50),\n",
              " ('Gris Titanuim', 47),\n",
              " ('Gris Magnetic', 47),\n",
              " ('Grenadine', 46),\n",
              " ('Grise Métallisée', 44),\n",
              " ('Gris Anthracite', 42),\n",
              " ('Grise Metalisee', 42),\n",
              " ('Corail', 40),\n",
              " ('Gris Clair Métallisé', 36),\n",
              " ('Blanc Cristal', 35),\n",
              " ('Bleu Roi', 33)]"
            ]
          },
          "execution_count": 286,
          "metadata": {},
          "output_type": "execute_result"
        }
      ],
      "source": [
        "# get all the words that match \"gris\"\n",
        "matches = process.extract(\"gris\", colors, limit=20, scorer=fuzz.token_sort_ratio)\n",
        "# take a look at them to choose min_ratio\n",
        "matches\n"
      ]
    },
    {
      "cell_type": "code",
      "execution_count": 287,
      "metadata": {},
      "outputs": [
        {
          "name": "stdout",
          "output_type": "stream",
          "text": [
            "42\n"
          ]
        },
        {
          "data": {
            "text/plain": [
              "[('Gris', 80),\n",
              " ('Grise', 73),\n",
              " ('Gris Argent', 71),\n",
              " ('Gris Foncé', 67),\n",
              " ('Bleu Gris', 67),\n",
              " ('Bleu/Gris', 67),\n",
              " ('Gris Charbon', 67),\n",
              " ('Gris Anthracite', 57),\n",
              " ('Blanc Cristal', 53),\n",
              " ('Gris Shark', 50),\n",
              " ('Mauve Gris', 50),\n",
              " ('Gris Clair Métallisé', 50),\n",
              " ('Gris Métallisé', 44),\n",
              " ('Bleu Roi', 43),\n",
              " ('Gris Titanuim', 42),\n",
              " ('Gris Magnetic', 42),\n",
              " ('Aubergine', 40),\n",
              " ('Grise Métallisée', 40),\n",
              " ('Grenadine', 40),\n",
              " ('Grise Metalisee', 38),\n",
              " ('Autre', 36),\n",
              " ('Maran', 36),\n",
              " ('Orange', 33),\n",
              " ('Marron', 33),\n",
              " ('Bleu Métallisé', 33),\n",
              " ('Argent', 33),\n",
              " ('Corail', 33),\n",
              " ('Bleu Métallisée', 32),\n",
              " ('Rouge Bordeaux', 30),\n",
              " ('Titanium', 29)]"
            ]
          },
          "execution_count": 287,
          "metadata": {},
          "output_type": "execute_result"
        }
      ],
      "source": [
        "colors_gris = [\"gris\" if c.lower().startswith(\"gris\") else c for c in colors]\n",
        "\n",
        "colors_gris = [c[:-4] if c.lower().endswith(\"gris\") else c for c in colors_gris]\n",
        "\n",
        "matches = process.extract(\"Gris a\", colors, limit=30, scorer=fuzz.token_sort_ratio)\n",
        "score = fuzz.token_sort_ratio(\"gris \", \"Gris Anthracite\")\n",
        "print(score)\n",
        "matches"
      ]
    },
    {
      "cell_type": "code",
      "execution_count": 288,
      "metadata": {},
      "outputs": [],
      "source": [
        "def replace_matches_in_column(df, column, string_to_match, min_ratio=47):\n",
        "    # only get matches with a ratio > 90\n",
        "    close_matches = get_matches(df, column, string_to_match, min_ratio)\n",
        "\n",
        "    # get the rows of all the close matches in our dataframe\n",
        "    rows_with_matches = df[column].isin(close_matches)\n",
        "\n",
        "    # replace all rows with close matches with the input matches\n",
        "    df.loc[rows_with_matches, column] = string_to_match\n",
        "\n",
        "    # let us know the function's done\n",
        "    print(\"All done!\")\n"
      ]
    },
    {
      "cell_type": "code",
      "execution_count": 289,
      "metadata": {},
      "outputs": [],
      "source": [
        "def replace_colors(df, column, color):\n",
        "    shades = [c for c in column if c.lower().strip().startswith(color)]\n",
        "    rows_with_matches = df[\"color\"].isin(shades)\n",
        "    df.loc[rows_with_matches, \"color\"] = color.title()\n"
      ]
    },
    {
      "cell_type": "code",
      "execution_count": 290,
      "metadata": {},
      "outputs": [],
      "source": [
        "replace_colors(cars, colors, \"gris\")\n",
        "replace_colors(cars, colors, \"bleu\")\n",
        "replace_colors(cars, colors, \"blanc\")\n",
        "replace_colors(cars, colors, \"vert\")\n",
        "replace_colors(cars, colors, \"rouge\")\n",
        "replace_colors(cars, colors, \"noir\")"
      ]
    },
    {
      "attachments": {},
      "cell_type": "markdown",
      "metadata": {},
      "source": [
        "Unify and fix the values of the \"color\" column\n"
      ]
    },
    {
      "cell_type": "code",
      "execution_count": 291,
      "metadata": {},
      "outputs": [],
      "source": [
        "my_dict = {\n",
        "    \"Argent\": \"Gris\",\n",
        "    \"Feuille D'Argent\": \"Gris\",\n",
        "    \"Titanium\": \"Gris\",\n",
        "    \"Miel\": \"Doré\",\n",
        "    \"Champagne\": \"Jaune\",\n",
        "    \"Grenadine\": \"Rouge\",\n",
        "    \"Rouge Bordeaux\": \"Rouge\",\n",
        "    \"Mauve Gris\": \"Mauve\",\n",
        "    \"Aubergine\": \"Violet\",\n",
        "    \"Maran\": \"Marron\",\n",
        "    \"Corail\": \"Orange\",\n",
        "}\n",
        "cars.replace({\"color\": my_dict}, inplace=True)"
      ]
    },
    {
      "attachments": {},
      "cell_type": "markdown",
      "metadata": {},
      "source": [
        "If color is \"**\\***\" -> color = nan\n"
      ]
    },
    {
      "cell_type": "code",
      "execution_count": 292,
      "metadata": {},
      "outputs": [],
      "source": [
        "specified_color = cars[\"color\"] == \"*****\"\n",
        "cars[specified_color] = np.nan\n"
      ]
    },
    {
      "cell_type": "code",
      "execution_count": 293,
      "metadata": {},
      "outputs": [
        {
          "name": "stdout",
          "output_type": "stream",
          "text": [
            "distinct colors :  ['Blanc' 'Rouge' 'Noir' 'Gris' 'Beige' 'Bleu' 'Autre' 'Orange' 'Marron'\n",
            " 'Vert' 'Jaune' 'Violet' 'Bronze' 'Doré' '' 'Mauve' 'Camel' 'Multicolore']\n",
            "number of distinct colors :  17\n"
          ]
        }
      ],
      "source": [
        "colors_clean = explore_strings(cars, \"color\")\n"
      ]
    },
    {
      "attachments": {},
      "cell_type": "markdown",
      "metadata": {},
      "source": [
        "## Model\n"
      ]
    },
    {
      "cell_type": "code",
      "execution_count": 294,
      "metadata": {},
      "outputs": [
        {
          "name": "stdout",
          "output_type": "stream",
          "text": [
            "distinct models :  ['T Roc' 'Zs' 'Cerato 5P' 'Sportage' 'A4' 'Partner' 'Classe C' 'Gla' 'Q3'\n",
            " 'Classe B' 'Golf 7' 'Classe C Coupe' 'Serie 3' 'Logan Mcv' 'A3'\n",
            " 'Ecosport' 'Serie 4 Gran Coupe' '208' 'Ml' 'Clio' 'D Max' '3008' 'Polo'\n",
            " 'A5 Sportback' 'H 1' 'Cla' 'Classe E Coupe' 'Mondeo' 'Cayenne' '206 Plus'\n",
            " 'Rio 5P' 'Hs' '3' 'Serie 5' 'Tivoli' 'Compass' '206' 'Q7' '308' 'Leon'\n",
            " 'Jetta' 'Formentor' 'Macan' 'Qashqai' 'Q2' 'Serie 7' 'Tiguan' 'Fusion'\n",
            " 'H6' 'Golf 8' 'Focus' 'C3' 'A5 Coupe' 'Staria' 'Viano' 'Doblo' 'H2'\n",
            " 'Rexton' 'Jolion' 'Discovery' '2008' 'Symbol' 'Passat Cc'\n",
            " 'Discovery Sport' 'Tiggo 3' 'Classe S' 'E Pace' 'Range Rover Evoque'\n",
            " 'Ds3' 'Classe A' 'Qx56' 'Polo Sedan' 'F Pace' 'Classe E' 'Seltos' 'Iris'\n",
            " 'Patrol' 'Ateca' 'Gc 6' 'Picanto' 'Arona' 'Gs' 'Amarok' 'A3 Berline'\n",
            " 'A3 Sportback' 'Sx3' 'City' 'S5' 'C Hr' 'Mustang' 'Tipo Berline' 'Golf 6'\n",
            " 'Serie 2 Active Tourer' 'M4' 'Tipo' 'Transit' 'Megane Sedan'\n",
            " 'Punto Classic' 'Glc Coupe' 'Serie 1 5P' 'Kuv 100' 'Renegade'\n",
            " 'Partner Origin Utilitaire' 'Yaris' 'H350' 'Range Rover Sport' 'Passat'\n",
            " 'Panamera' 'Celerio' 'Grand Cherokee' 'Serie 2 Coupe' 'Range Rover Velar'\n",
            " 'Land Cruiser 76' 'Q5' 'X4' 'Korando' 'Tang' 'Tucson' 'Sorento'\n",
            " 'Serie 4 Coupe' '207' 'Tt' '508' 'Hr V' 'Octavia' 'Quoris' 'Song'\n",
            " 'Koleos' 'Ibiza' 'Ducato' 'Kuga' 'H9' 'Creta' 'Prado' 'Tunland' 'F 250'\n",
            " 'Daily Fourgon' '301' 'Kadjar' 'Bt 50' 'Hilux' 'Cx 5' 'Rio' 'Juke'\n",
            " 'Berlingo Multispace' 'Insignia' 'Fiorino' 'Duster' 'Megane' '3 Sedan'\n",
            " 'Altea' 'Ix35' 'New Beetle' '4008' 'Transit Connect' 'Land Cruiser'\n",
            " 'Grand I10' 'Pajero' '6' 'Optima' 'Cx 7' 'Leon Sc' 'Veloster' 'Ds5'\n",
            " 'Navara' 'Kyron' 'A6' 'Serie 3 Coupe' '2 Sedan' 'Baleno' 'Jumper'\n",
            " 'Partner Tepee' 'Kenbo S3' 'Ex35' '500' 'Kenbo S2' '308 Cc' 'Sunny'\n",
            " 'Cerato' 'Grand Vitara' 'Aygo' 'Dzire' 'Scorpio Suv' 'Focus Berline'\n",
            " 'Elantra' '3 Portes' 'Accent 5P' 'K2700' 'Rav 4' 'Corsa 3P'\n",
            " 'Scorpio Pick Up Dc' 'Laguna' 'Qq' 'Twingo' 'K01' 'I10' '307' 'X Type'\n",
            " 'Aveo' 'Pick Up Sc' 'C Elysee' 'Logan' 'Caddy' 'C3 Aircross' 'C1' 'Agya'\n",
            " 'Tiggo 2' 'Nemo' 'Corolla 5P' 'Cx 9' 'Leon Cupra' 'Serie 3 Cabriolet'\n",
            " 'Mirage' 'Gle Coupe' 'Range Rover' 'Grande Punto' 'Panda' 'Vitara'\n",
            " 'Attrage' 'Giulietta' 'Fiesta' '2' 'Gs4' 'Ciaz' 'A7 Sportback' 'X5'\n",
            " 'Astra' 'Arrizo 5' 'Dokker Van' 'Xj' 'Ka' 'Q3 Sportback' 'Cherokee'\n",
            " 'Tiggo 3X' 'Berlingo Utilitaire' 'Yaris Sedan' 'H3' 'Stelvio' 'Daily'\n",
            " 'Mito' 'X1' 'Touareg' 'Xc60' 'S50' 'Xe' 'Xf' 'Wrangler 2021' 'Captur'\n",
            " 'Crafter' 'Cls' 'Jumpy Fourgon' 'Classe A Berline' 'X6' '107' '404'\n",
            " 'Cruze 5P' 'Defender' 'A1 Sportback' 'C4' 'Swift' 'Glc' 'S Type'\n",
            " 'S Presso' 'Land Cruiser 79' 'Scirocco' 'A1' '500X' 'Arrizo 3' 'Cruze'\n",
            " '350' 'Glb' 'Cl' 'Serie 6 Cabriolet' 'C30' 'Cr V' 'Gt' 'M5' 'Golf 5'\n",
            " 'Puma' 'Coupe' 'Golf 4' 'Sj Samurai' 'Punto Easy' 'Micra' 'Figo' 'Autre'\n",
            " 'Vito' 'Arkana' 'Ranger' 'Kangoo' 'Fabia' 'Punto Evo' '911' 'C6' 'Bipper'\n",
            " 'Boxer' 'Spark' '300' 'Gx3' 'C5' 'Classe X' 'X Trail' 'Xenon Dc' 'Palio'\n",
            " '106' 'Doblo Combi' 'Landtrek Double Cabine' 'Grand I10 Sedan'\n",
            " 'John Cooper Works' '5' 'Expert' 'Punto Pop' 'Accent' 'Tiggo 8' 'Fortwo'\n",
            " '5008' 'Sandero Stepway' 'Tundra' 'Countryman' 'L200 Simple Cabine'\n",
            " 'Exeo' 'Trooper' 'I20' 'Sonic' 'Qashqai2' 'Saxo' '407'\n",
            " 'Serie 2 Gran Coupe' 'Crossland' 'Pickup' 'Xlv' '190' 'D Max Dc' 'Niva'\n",
            " 'King Cab' 'Actyon Sports' 'Touran' 'C4 Cactus' '208 3P' 'Ceed' 'Xuv 300'\n",
            " 'Transporter' 'C4 Picasso' '207 Cc' 'Captain T' 'Pick Up' '220' 'Scenic'\n",
            " 'L200 Double Cabine' '5 Portes' 'Cc' 'S60' 'Berlingo Van' 'Freelander'\n",
            " '270' 'Expert Combi' 'A5 Cabriolet' 'Poer' '206 Berline' 'Corsa'\n",
            " 'Ypsilon' 'Citigo' 'Cooper S' 'Scudo' 'Panda City Cross' 'S80'\n",
            " 'Celerio Populaire' 'Campo' '200' 'Terrano' 'Levante' 'Clio Classic'\n",
            " 'Sprinter' 'Avanza' 'Matiz' 'Superb' '4 Runner' 'C2' '250' 'Optra'\n",
            " 'Marea' 'Transporter Pickup' 'Mx 5' 'Slk' '156' 'Sonic 4P' '205'\n",
            " 'Santa Fe' 'Golf Cabriolet' 'Megane Coupe' 'Xenon Sc' 'Sandero' '440'\n",
            " 'Ds4' 'Bt 50 Pro' 'Master' '504' 'Uno' 'Forfour' 'Fluence'\n",
            " 'Transit Custom' '4X4' 'Talisman' 'Ax4' 'Berlingo First' 'Q5 Sportback'\n",
            " '147' 'Brio Amaze' 'X2' 'Caliber' 'F 150' 'Up' 'Clio Campus' 'E3'\n",
            " 'Escort' 'L200 Sportero' 'Asx' 'Nkr 66' 'Autre Modèle' 'Punto' 'H100'\n",
            " 'Great Wall M4' 'Range' '206+' 'E' 'Hi.Lux' 'Polo 7' 'C' 'Hr-V' '' '80'\n",
            " 'Family' 'Polo 6' 'Note' 'Beetle' 'Polo 4' \"Cee'D\" 'Gl' 'Série 1'\n",
            " 'Dongfeng S50' 'Polo 3' 'Civic' 'L 200' 'Hi.Ace' 'Xc' 'Mg' 'Epica'\n",
            " 'Corolla' 'A' 'Serie 4' 'Berlingo' 'Serie 1' 'C-Elysée' 'One'\n",
            " 'Classe Glk' 'Capture' 'Classe Cla' 'C-Elysee' 'Arosa' 'Autres' 'Gol'\n",
            " 'Vectra' 'Ax' 'Golf' 'Qq6' 'Hover' 'R11' 'C15' 'Bt-50' 'I 10' 'Nativa'\n",
            " 'Patrol Gr' 'M3' 'Classe Glc' 'Classe Sls' '240' 'Golf Plus' 'Dokker'\n",
            " 'Alto' 'D-Max' 'Renault.Clio' 'Sovreign' 'Fj' 'Volkswagen.Golf' 'I 20'\n",
            " 'L200' 'Siena' 'Classe Cls' 'Fiat.Linea' 'Bravo' 'Ssr' 'Mx3' 'Classe M'\n",
            " 'Cx-9' 'Lc' 'Lancer' 'A5' 'R5' 'R9' 'Avensis' 'Streetwise' '309' 'A7'\n",
            " 'Hi Ace' 'Cobra' 'Seven' 'Actyon' 'Megane Estate' 'Lanos' 'Express'\n",
            " 'Xc90' 'Tiggo' '308 Sw' 'Vento' 'Camaro' 'C35' 'Cooper' 'F1' 'Gk-Gs'\n",
            " 'Kadett' 'Citan' 'Classe Gla' 'Golf 2' 'Rs4' 'Alero' 'Ritmo' 'Jumpy'\n",
            " 'Mk-Gl' 'Scorpion' 'Zafira' 'Serie 3 Gt' 'Cr-V' 'Agila' 'Super 5'\n",
            " 'Bedford' 'Gk-Gl' 'Stilo' 'Leon St' 'Landwind' '407 Sw' 'Gt 40' 'Serie 2'\n",
            " 'Laguna Estate' 'Frontera' 'Maruti' '19' 'Fox' 'Wrangler' 'C25' 'S-10'\n",
            " '306' 'Volkswagen.Tiguan' 'R4' 'Yaris Verso' 'F350' 'Vivaro' 'F3' 'X3'\n",
            " 'Isuzu.Landwind' 'Classe Ml' 'Bx' 'Virage' 'Matrix' 'Classe Clk' 'Delta'\n",
            " 'Canter' 'Cx-5' \"C'Eed\" 'Pinto' 'Over.Range Rover Sport' 'Rcz' 'Combo'\n",
            " 'Ascona' 'X-Trail' 'Focus C-Max' 'Tepee' 'C8' '104' '505'\n",
            " 'Volkswagen.Polo' 'Country Man' 'Uplander' '300C' 'Pajero Sport'\n",
            " 'C3 Pluriel' '500L' 'E2000' 'B120' 'Toledo' 'H-1' '207D' 'Terios' 'Linea'\n",
            " 'Zx' 'Golf 3' 'Outlander' 'M' '.Country Man' '406' 'Amv8' 'Jimny'\n",
            " '207 Sw' 'R21' 'Carina' 'R19' 'Omega' 'Auris' 'Trafic' 'Evalia' 'Ideal'\n",
            " 'Cx7' '12' 'Espace' '2 Cv' 'S-Max' '210' 'Carry' 'Sx4' 'Smart' '500C'\n",
            " '407 Coupe' 'Xsara' 'Classe Gl' '75' 'Forland' 'Sierra' 'Amg Gt' 'Urvan'\n",
            " 'Xl7']\n",
            "number of distinct models :  628\n"
          ]
        }
      ],
      "source": [
        "models = explore_strings(cars, \"model\")\n"
      ]
    },
    {
      "cell_type": "code",
      "execution_count": 295,
      "metadata": {},
      "outputs": [
        {
          "name": "stdout",
          "output_type": "stream",
          "text": [
            "close matches of Cerato 5P: ['Cerato 5P', 'Cerato']\n",
            "close matches of A4: ['A4', 'Ax4']\n",
            "close matches of Classe C: ['Classe C', 'Classe Cla', 'Classe B', 'Classe A']\n",
            "close matches of Gla: ['Gla', 'Gl']\n",
            "close matches of Golf 7: ['Golf 7', 'Golf 8', 'Golf 6', 'Golf 5', 'Golf 4', 'Golf 2', 'Golf 3', 'Golf']\n",
            "close matches of Classe C Coupe: ['Classe C Coupe', 'Classe E Coupe']\n",
            "close matches of Serie 3: ['Serie 3', 'Serie 5', 'Serie 7', 'Serie 4', 'Serie 1', 'Serie 2', 'Serie 3 Gt']\n",
            "close matches of Serie 4 Gran Coupe: ['Serie 4 Gran Coupe', 'Serie 2 Gran Coupe', 'Serie 4 Coupe']\n",
            "close matches of 208: ['208', '2008']\n",
            "close matches of D Max: ['D Max', 'D-Max']\n",
            "close matches of 3008: ['3008', '308', '300']\n",
            "close matches of Polo: ['Polo', 'Polo 7', 'Polo 6', 'Polo 4', 'Polo 3']\n",
            "close matches of A5 Sportback: ['A5 Sportback', 'A3 Sportback', 'A7 Sportback', 'A1 Sportback', 'Q5 Sportback', 'Q3 Sportback']\n",
            "close matches of H 1: ['H 1', 'H-1']\n",
            "close matches of Cla: ['Cla', 'Cl']\n",
            "close matches of 206: ['206', '206+']\n",
            "close matches of Qashqai: ['Qashqai', 'Qashqai2']\n",
            "close matches of C3: ['C3', 'C30', 'C35']\n",
            "close matches of Passat Cc: ['Passat Cc', 'Passat']\n",
            "close matches of Tiggo 3: ['Tiggo 3', 'Tiggo 3X', 'Tiggo 2', 'Tiggo 8', 'Tiggo']\n",
            "close matches of Classe S: ['Classe S', 'Classe Sls', 'Classe Cls', 'Classe E', 'Classe X', 'Classe M', 'Classe Ml', 'Classe Gl']\n",
            "close matches of E Pace: ['E Pace', 'F Pace', 'Espace']\n",
            "close matches of Patrol: ['Patrol', 'Patrol Gr']\n",
            "close matches of Ateca: ['Ateca', 'Altea']\n",
            "close matches of Picanto: ['Picanto', 'Pinto']\n",
            "close matches of Arona: ['Arona', 'Arosa']\n",
            "close matches of Gs: ['Gs', 'Gs4']\n",
            "close matches of Amarok: ['Amarok', 'Camaro']\n",
            "close matches of Sx3: ['Sx3', 'X3']\n",
            "close matches of S5: ['S5', 'Ds5', 'S50']\n",
            "close matches of Glc Coupe: ['Glc Coupe', 'Gle Coupe']\n",
            "close matches of Serie 1 5P: ['Serie 1 5P', 'Serie 5', 'Serie 1']\n",
            "close matches of Yaris: ['Yaris', 'Auris']\n",
            "close matches of H350: ['H350', '350']\n",
            "close matches of Range Rover Sport: ['Range Rover Sport', 'Over.Range Rover Sport']\n",
            "close matches of Serie 2 Coupe: ['Serie 2 Coupe', 'Serie 4 Coupe', 'Serie 3 Coupe', 'Serie 2 Gran Coupe']\n",
            "close matches of Land Cruiser 76: ['Land Cruiser 76', 'Land Cruiser 79', 'Land Cruiser']\n",
            "close matches of X4: ['X4', '4X4', 'Ax4', 'Sx4']\n",
            "close matches of 207: ['207', '207D']\n",
            "close matches of 508: ['508', '5008']\n",
            "close matches of Hr V: ['Hr V', 'Hr-V']\n",
            "close matches of F 250: ['F 250', 'F 150']\n",
            "close matches of Bt 50: ['Bt 50', 'Bt-50']\n",
            "close matches of Hilux: ['Hilux', 'Hi.Lux']\n",
            "close matches of Cx 5: ['Cx 5', 'Cx-5']\n",
            "close matches of 3 Sedan: ['3 Sedan', '2 Sedan']\n",
            "close matches of Leon Sc: ['Leon Sc', 'Leon St']\n",
            "close matches of Kenbo S3: ['Kenbo S3', 'Kenbo S2']\n",
            "close matches of 500: ['500', '500X', '5008', '500L', '500C']\n",
            "close matches of 3 Portes: ['3 Portes', '5 Portes']\n",
            "close matches of Accent 5P: ['Accent 5P', 'Accent']\n",
            "close matches of Qq: ['Qq', 'Qq6']\n",
            "close matches of Pick Up Sc: ['Pick Up Sc', 'Pick Up']\n",
            "close matches of C Elysee: ['C Elysee', 'C-Elysee', 'C-Elysée']\n",
            "close matches of C1: ['C1', 'C15']\n",
            "close matches of Corolla 5P: ['Corolla 5P', 'Corolla']\n",
            "close matches of Cx 9: ['Cx 9', 'Cx-9']\n",
            "close matches of Serie 3 Cabriolet: ['Serie 3 Cabriolet', 'Serie 6 Cabriolet']\n",
            "close matches of Mirage: ['Mirage', 'Virage']\n",
            "close matches of Arrizo 5: ['Arrizo 5', 'Arrizo 3']\n",
            "close matches of Captur: ['Captur', 'Capture']\n",
            "close matches of Cls: ['Cls', 'Cl']\n",
            "close matches of Glc: ['Glc', 'Gl', 'Lc']\n",
            "close matches of Glb: ['Glb', 'Gl']\n",
            "close matches of Cr V: ['Cr V', 'Cr-V']\n",
            "close matches of Autre: ['Autre', 'Autres']\n",
            "close matches of Ranger: ['Ranger', 'Range', 'Wrangler']\n",
            "close matches of Gx3: ['Gx3', 'X3']\n",
            "close matches of C5: ['C5', 'C15', 'C35', 'C25']\n",
            "close matches of X Trail: ['X Trail', 'X-Trail']\n",
            "close matches of Xenon Dc: ['Xenon Dc', 'Xenon Sc']\n",
            "close matches of Countryman: ['Countryman', 'Country Man', '.Country Man']\n",
            "close matches of Pickup: ['Pickup', 'Pick Up']\n",
            "close matches of 190: ['190', '19']\n",
            "close matches of Niva: ['Niva', 'Nativa']\n",
            "close matches of Ceed: ['Ceed', \"Cee'D\", \"C'Eed\"]\n",
            "close matches of Berlingo Van: ['Berlingo Van', 'Berlingo']\n",
            "close matches of Corsa: ['Corsa', 'Cobra']\n",
            "close matches of Cooper S: ['Cooper S', 'Cooper']\n",
            "close matches of S80: ['S80', '80']\n",
            "close matches of 200: ['200', '2008', 'L200']\n",
            "close matches of C2: ['C2', 'C25']\n",
            "close matches of Asx: ['Asx', 'Ax']\n",
            "close matches of Punto: ['Punto', 'Pinto']\n",
            "close matches of Série 1: ['Série 1', 'Serie 1']\n",
            "close matches of Hi.Ace: ['Hi.Ace', 'Hi Ace']\n",
            "close matches of Classe Glk: ['Classe Glk', 'Classe Gl', 'Classe Glc', 'Classe Gla', 'Classe Clk', 'Classe Ml', 'Classe Sls', 'Classe Cls']\n",
            "close matches of Gol: ['Gol', 'Golf', 'Gl']\n",
            "close matches of M3: ['M3', 'Mx3']\n",
            "close matches of Volkswagen.Golf: ['Volkswagen.Golf', 'Volkswagen.Polo']\n",
            "close matches of R9: ['R9', 'R19']\n",
            "close matches of Gk-Gs: ['Gk-Gs', 'Gk-Gl']\n",
            "close matches of Rs4: ['Rs4', 'R4']\n",
            "close matches of 407 Sw: ['407 Sw', '207 Sw']\n",
            "close matches of F350: ['F350', '350']\n",
            "close matches of Uplander: ['Uplander', 'Outlander']\n",
            "close matches of 300C: ['300C', '300']\n",
            "97\n"
          ]
        }
      ],
      "source": [
        "already = set()\n",
        "k = 0\n",
        "for m in models:\n",
        "    if m == \"\":\n",
        "        continue\n",
        "    if m in already:\n",
        "        continue\n",
        "\n",
        "    close_matches = get_matches(cars, \"model\", m, 80)\n",
        "    already.update(set(close_matches))\n",
        "    if len(close_matches) >= 2:\n",
        "        k += 1\n",
        "        print(f\"close matches of {m}: {close_matches}\")\n",
        "\n",
        "\n",
        "print(k)\n"
      ]
    },
    {
      "attachments": {},
      "cell_type": "markdown",
      "metadata": {},
      "source": [
        "Unify and fix the values of the \"model\" column\n"
      ]
    },
    {
      "cell_type": "code",
      "execution_count": 296,
      "metadata": {},
      "outputs": [],
      "source": [
        "my_dict = {\n",
        "    \"D-Max\": \"D Max\",\n",
        "    \"H-1\": \"H 1\",\n",
        "    \"Over.Range Rover Sport\": \"Range Rover Sport\",\n",
        "    \"Hr-V\": \"Hr V\",\n",
        "    \"Bt-50\": \"Bt 50\",\n",
        "    \"Hi.Lux\": \"Hilux\",\n",
        "    \"Cx 5\": \"Cx 5\",\n",
        "    \"C-Elysee\": \"C Elysée\",\n",
        "    \"C Elysee\": \"C Elysée\",\n",
        "    \"Cx-9\": \"Cx 9\",\n",
        "    \"Autres\": \"Autre\",\n",
        "    \"X-Trail\": \"X Trail\",\n",
        "    \"Country Man\": \"Countryman\",\n",
        "    \".Country Man\": \"Countryman\",\n",
        "    \"PickUp\": \"Pickup\",\n",
        "    \"Cee'D\": \"Ceed\",\n",
        "    \"C'Eed\": \"Ceed\",\n",
        "    \"Serie 1\": \"Série 1\",\n",
        "    \"Hi.Ace\": \"Hi Ace\",\n",
        "    \"Gol\": \"Golf\",\n",
        "    \"Volkswagen.Golf\": \"Golf\",\n",
        "    \"Volkswagen.Polo\": \"Polo\",\n",
        "}\n",
        "cars.replace({\"model\": my_dict}, inplace=True)"
      ]
    },
    {
      "cell_type": "code",
      "execution_count": 297,
      "metadata": {},
      "outputs": [
        {
          "name": "stdout",
          "output_type": "stream",
          "text": [
            "distinct models :  ['T Roc' 'Zs' 'Cerato 5P' 'Sportage' 'A4' 'Partner' 'Classe C' 'Gla' 'Q3'\n",
            " 'Classe B' 'Golf 7' 'Classe C Coupe' 'Serie 3' 'Logan Mcv' 'A3'\n",
            " 'Ecosport' 'Serie 4 Gran Coupe' '208' 'Ml' 'Clio' 'D Max' '3008' 'Polo'\n",
            " 'A5 Sportback' 'H 1' 'Cla' 'Classe E Coupe' 'Mondeo' 'Cayenne' '206 Plus'\n",
            " 'Rio 5P' 'Hs' '3' 'Serie 5' 'Tivoli' 'Compass' '206' 'Q7' '308' 'Leon'\n",
            " 'Jetta' 'Formentor' 'Macan' 'Qashqai' 'Q2' 'Serie 7' 'Tiguan' 'Fusion'\n",
            " 'H6' 'Golf 8' 'Focus' 'C3' 'A5 Coupe' 'Staria' 'Viano' 'Doblo' 'H2'\n",
            " 'Rexton' 'Jolion' 'Discovery' '2008' 'Symbol' 'Passat Cc'\n",
            " 'Discovery Sport' 'Tiggo 3' 'Classe S' 'E Pace' 'Range Rover Evoque'\n",
            " 'Ds3' 'Classe A' 'Qx56' 'Polo Sedan' 'F Pace' 'Classe E' 'Seltos' 'Iris'\n",
            " 'Patrol' 'Ateca' 'Gc 6' 'Picanto' 'Arona' 'Gs' 'Amarok' 'A3 Berline'\n",
            " 'A3 Sportback' 'Sx3' 'City' 'S5' 'C Hr' 'Mustang' 'Tipo Berline' 'Golf 6'\n",
            " 'Serie 2 Active Tourer' 'M4' 'Tipo' 'Transit' 'Megane Sedan'\n",
            " 'Punto Classic' 'Glc Coupe' 'Serie 1 5P' 'Kuv 100' 'Renegade'\n",
            " 'Partner Origin Utilitaire' 'Yaris' 'H350' 'Range Rover Sport' 'Passat'\n",
            " 'Panamera' 'Celerio' 'Grand Cherokee' 'Serie 2 Coupe' 'Range Rover Velar'\n",
            " 'Land Cruiser 76' 'Q5' 'X4' 'Korando' 'Tang' 'Tucson' 'Sorento'\n",
            " 'Serie 4 Coupe' '207' 'Tt' '508' 'Hr V' 'Octavia' 'Quoris' 'Song'\n",
            " 'Koleos' 'Ibiza' 'Ducato' 'Kuga' 'H9' 'Creta' 'Prado' 'Tunland' 'F 250'\n",
            " 'Daily Fourgon' '301' 'Kadjar' 'Bt 50' 'Hilux' 'Cx 5' 'Rio' 'Juke'\n",
            " 'Berlingo Multispace' 'Insignia' 'Fiorino' 'Duster' 'Megane' '3 Sedan'\n",
            " 'Altea' 'Ix35' 'New Beetle' '4008' 'Transit Connect' 'Land Cruiser'\n",
            " 'Grand I10' 'Pajero' '6' 'Optima' 'Cx 7' 'Leon Sc' 'Veloster' 'Ds5'\n",
            " 'Navara' 'Kyron' 'A6' 'Serie 3 Coupe' '2 Sedan' 'Baleno' 'Jumper'\n",
            " 'Partner Tepee' 'Kenbo S3' 'Ex35' '500' 'Kenbo S2' '308 Cc' 'Sunny'\n",
            " 'Cerato' 'Grand Vitara' 'Aygo' 'Dzire' 'Scorpio Suv' 'Focus Berline'\n",
            " 'Elantra' '3 Portes' 'Accent 5P' 'K2700' 'Rav 4' 'Corsa 3P'\n",
            " 'Scorpio Pick Up Dc' 'Laguna' 'Qq' 'Twingo' 'K01' 'I10' '307' 'X Type'\n",
            " 'Aveo' 'Pick Up Sc' 'C Elysée' 'Logan' 'Caddy' 'C3 Aircross' 'C1' 'Agya'\n",
            " 'Tiggo 2' 'Nemo' 'Corolla 5P' 'Cx 9' 'Leon Cupra' 'Serie 3 Cabriolet'\n",
            " 'Mirage' 'Gle Coupe' 'Range Rover' 'Grande Punto' 'Panda' 'Vitara'\n",
            " 'Attrage' 'Giulietta' 'Fiesta' '2' 'Gs4' 'Ciaz' 'A7 Sportback' 'X5'\n",
            " 'Astra' 'Arrizo 5' 'Dokker Van' 'Xj' 'Ka' 'Q3 Sportback' 'Cherokee'\n",
            " 'Tiggo 3X' 'Berlingo Utilitaire' 'Yaris Sedan' 'H3' 'Stelvio' 'Daily'\n",
            " 'Mito' 'X1' 'Touareg' 'Xc60' 'S50' 'Xe' 'Xf' 'Wrangler 2021' 'Captur'\n",
            " 'Crafter' 'Cls' 'Jumpy Fourgon' 'Classe A Berline' 'X6' '107' '404'\n",
            " 'Cruze 5P' 'Defender' 'A1 Sportback' 'C4' 'Swift' 'Glc' 'S Type'\n",
            " 'S Presso' 'Land Cruiser 79' 'Scirocco' 'A1' '500X' 'Arrizo 3' 'Cruze'\n",
            " '350' 'Glb' 'Cl' 'Serie 6 Cabriolet' 'C30' 'Cr V' 'Gt' 'M5' 'Golf 5'\n",
            " 'Puma' 'Coupe' 'Golf 4' 'Sj Samurai' 'Punto Easy' 'Micra' 'Figo' 'Autre'\n",
            " 'Vito' 'Arkana' 'Ranger' 'Kangoo' 'Fabia' 'Punto Evo' '911' 'C6' 'Bipper'\n",
            " 'Boxer' 'Spark' '300' 'Gx3' 'C5' 'Classe X' 'X Trail' 'Xenon Dc' 'Palio'\n",
            " '106' 'Doblo Combi' 'Landtrek Double Cabine' 'Grand I10 Sedan'\n",
            " 'John Cooper Works' '5' 'Expert' 'Punto Pop' 'Accent' 'Tiggo 8' 'Fortwo'\n",
            " '5008' 'Sandero Stepway' 'Tundra' 'Countryman' 'L200 Simple Cabine'\n",
            " 'Exeo' 'Trooper' 'I20' 'Sonic' 'Qashqai2' 'Saxo' '407'\n",
            " 'Serie 2 Gran Coupe' 'Crossland' 'Pickup' 'Xlv' '190' 'D Max Dc' 'Niva'\n",
            " 'King Cab' 'Actyon Sports' 'Touran' 'C4 Cactus' '208 3P' 'Ceed' 'Xuv 300'\n",
            " 'Transporter' 'C4 Picasso' '207 Cc' 'Captain T' 'Pick Up' '220' 'Scenic'\n",
            " 'L200 Double Cabine' '5 Portes' 'Cc' 'S60' 'Berlingo Van' 'Freelander'\n",
            " '270' 'Expert Combi' 'A5 Cabriolet' 'Poer' '206 Berline' 'Corsa'\n",
            " 'Ypsilon' 'Citigo' 'Cooper S' 'Scudo' 'Panda City Cross' 'S80'\n",
            " 'Celerio Populaire' 'Campo' '200' 'Terrano' 'Levante' 'Clio Classic'\n",
            " 'Sprinter' 'Avanza' 'Matiz' 'Superb' '4 Runner' 'C2' '250' 'Optra'\n",
            " 'Marea' 'Transporter Pickup' 'Mx 5' 'Slk' '156' 'Sonic 4P' '205'\n",
            " 'Santa Fe' 'Golf Cabriolet' 'Megane Coupe' 'Xenon Sc' 'Sandero' '440'\n",
            " 'Ds4' 'Bt 50 Pro' 'Master' '504' 'Uno' 'Forfour' 'Fluence'\n",
            " 'Transit Custom' '4X4' 'Talisman' 'Ax4' 'Berlingo First' 'Q5 Sportback'\n",
            " '147' 'Brio Amaze' 'X2' 'Caliber' 'F 150' 'Up' 'Clio Campus' 'E3'\n",
            " 'Escort' 'L200 Sportero' 'Asx' 'Nkr 66' 'Autre Modèle' 'Punto' 'H100'\n",
            " 'Great Wall M4' 'Range' '206+' 'E' 'Polo 7' 'C' '' '80' 'Family' 'Polo 6'\n",
            " 'Note' 'Beetle' 'Polo 4' 'Gl' 'Série 1' 'Dongfeng S50' 'Polo 3' 'Civic'\n",
            " 'L 200' 'Hi Ace' 'Xc' 'Mg' 'Epica' 'Corolla' 'A' 'Serie 4' 'Berlingo'\n",
            " 'C-Elysée' 'One' 'Classe Glk' 'Capture' 'Classe Cla' 'Arosa' 'Golf'\n",
            " 'Vectra' 'Ax' 'Qq6' 'Hover' 'R11' 'C15' 'I 10' 'Nativa' 'Patrol Gr' 'M3'\n",
            " 'Classe Glc' 'Classe Sls' '240' 'Golf Plus' 'Dokker' 'Alto'\n",
            " 'Renault.Clio' 'Sovreign' 'Fj' 'I 20' 'L200' 'Siena' 'Classe Cls'\n",
            " 'Fiat.Linea' 'Bravo' 'Ssr' 'Mx3' 'Classe M' 'Lc' 'Lancer' 'A5' 'R5' 'R9'\n",
            " 'Avensis' 'Streetwise' '309' 'A7' 'Cobra' 'Seven' 'Actyon'\n",
            " 'Megane Estate' 'Lanos' 'Express' 'Xc90' 'Tiggo' '308 Sw' 'Vento'\n",
            " 'Camaro' 'C35' 'Cooper' 'F1' 'Gk-Gs' 'Kadett' 'Citan' 'Classe Gla'\n",
            " 'Golf 2' 'Rs4' 'Alero' 'Ritmo' 'Jumpy' 'Mk-Gl' 'Scorpion' 'Zafira'\n",
            " 'Serie 3 Gt' 'Cr-V' 'Agila' 'Super 5' 'Bedford' 'Gk-Gl' 'Stilo' 'Leon St'\n",
            " 'Landwind' '407 Sw' 'Gt 40' 'Serie 2' 'Laguna Estate' 'Frontera' 'Maruti'\n",
            " '19' 'Fox' 'Wrangler' 'C25' 'S-10' '306' 'Volkswagen.Tiguan' 'R4'\n",
            " 'Yaris Verso' 'F350' 'Vivaro' 'F3' 'X3' 'Isuzu.Landwind' 'Classe Ml' 'Bx'\n",
            " 'Virage' 'Matrix' 'Classe Clk' 'Delta' 'Canter' 'Cx-5' 'Pinto' 'Rcz'\n",
            " 'Combo' 'Ascona' 'Focus C-Max' 'Tepee' 'C8' '104' '505' 'Uplander' '300C'\n",
            " 'Pajero Sport' 'C3 Pluriel' '500L' 'E2000' 'B120' 'Toledo' '207D'\n",
            " 'Terios' 'Linea' 'Zx' 'Golf 3' 'Outlander' 'M' '406' 'Amv8' 'Jimny'\n",
            " '207 Sw' 'R21' 'Carina' 'R19' 'Omega' 'Auris' 'Trafic' 'Evalia' 'Ideal'\n",
            " 'Cx7' '12' 'Espace' '2 Cv' 'S-Max' '210' 'Carry' 'Sx4' 'Smart' '500C'\n",
            " '407 Coupe' 'Xsara' 'Classe Gl' '75' 'Forland' 'Sierra' 'Amg Gt' 'Urvan'\n",
            " 'Xl7']\n",
            "number of distinct models :  609\n"
          ]
        }
      ],
      "source": [
        "models_clean = explore_strings(cars, \"model\")\n"
      ]
    },
    {
      "attachments": {},
      "cell_type": "markdown",
      "metadata": {},
      "source": [
        "## Brand\n"
      ]
    },
    {
      "cell_type": "code",
      "execution_count": 298,
      "metadata": {},
      "outputs": [
        {
          "name": "stdout",
          "output_type": "stream",
          "text": [
            "distinct brands :  ['Volkswagen' 'Mg' 'Kia' 'Audi' 'Peugeot' 'Mercedes Benz' 'Bmw' 'Dacia'\n",
            " 'Ford' 'Renault' 'Isuzu' 'Hyundai' 'Porsche' 'Mazda' 'Ssangyong' 'Jeep'\n",
            " 'Seat' 'Cupra' 'Nissan' 'Haval' 'Citroen' 'Fiat' 'Land Rover' 'Chery'\n",
            " 'Jaguar' 'Infiniti' 'Wallyscar' 'Geely' 'Dongfeng' 'Honda' 'Toyota'\n",
            " 'Great Wall' 'Mahindra' 'Hyundai Trucks' 'Suzuki' 'Byd' 'Skoda' 'Foton'\n",
            " 'Iveco' 'Opel' 'Mitsubishi' 'Baic Yx' 'Mini' 'Dfsk' 'Chevrolet'\n",
            " 'Alfa Romeo' 'Gac Motor' 'Hummer' 'Volvo' 'Ds' 'Tata' 'Smart' 'Lada'\n",
            " 'Lancia' 'Maserati' 'Dodge' 'Land-Rover' 'Mercedes' '' 'Autre Marque'\n",
            " 'Mercedes-Benz' 'Autres' 'Rover' 'Ac' 'Daewoo' 'Masey Ferguson' 'Gmc'\n",
            " 'Aston Martin' 'Chrysler' 'Daihatsu' 'Man' 'Changhe']\n",
            "number of distinct brands :  71\n"
          ]
        }
      ],
      "source": [
        "brands = explore_strings(cars, \"brand\").sort()\n"
      ]
    },
    {
      "cell_type": "code",
      "execution_count": 299,
      "metadata": {},
      "outputs": [
        {
          "name": "stdout",
          "output_type": "stream",
          "text": [
            "close matches of Mercedes Benz: ['Mercedes Benz', 'Mercedes-Benz', 'Mercedes']\n",
            "close matches of Dacia: ['Dacia', 'Lancia']\n",
            "close matches of Isuzu: ['Isuzu', 'Suzuki']\n",
            "close matches of Land Rover: ['Land Rover', 'Land-Rover']\n"
          ]
        }
      ],
      "source": [
        "explore_matches(cars, \"brand\", 70)\n"
      ]
    },
    {
      "cell_type": "code",
      "execution_count": 300,
      "metadata": {},
      "outputs": [],
      "source": [
        "my_dict = {\n",
        "    \"Mercedes-Benz\": \"Mercedes Benz\",\n",
        "    \"Mercedes\": \"Mercedes Benz\",\n",
        "    \"Land-Rover\": \"Land Rover\",\n",
        "}\n",
        "cars.replace({\"brand\": my_dict}, inplace=True)\n"
      ]
    },
    {
      "cell_type": "code",
      "execution_count": 301,
      "metadata": {},
      "outputs": [
        {
          "name": "stdout",
          "output_type": "stream",
          "text": [
            "distinct brands :  ['Volkswagen' 'Mg' 'Kia' 'Audi' 'Peugeot' 'Mercedes Benz' 'Bmw' 'Dacia'\n",
            " 'Ford' 'Renault' 'Isuzu' 'Hyundai' 'Porsche' 'Mazda' 'Ssangyong' 'Jeep'\n",
            " 'Seat' 'Cupra' 'Nissan' 'Haval' 'Citroen' 'Fiat' 'Land Rover' 'Chery'\n",
            " 'Jaguar' 'Infiniti' 'Wallyscar' 'Geely' 'Dongfeng' 'Honda' 'Toyota'\n",
            " 'Great Wall' 'Mahindra' 'Hyundai Trucks' 'Suzuki' 'Byd' 'Skoda' 'Foton'\n",
            " 'Iveco' 'Opel' 'Mitsubishi' 'Baic Yx' 'Mini' 'Dfsk' 'Chevrolet'\n",
            " 'Alfa Romeo' 'Gac Motor' 'Hummer' 'Volvo' 'Ds' 'Tata' 'Smart' 'Lada'\n",
            " 'Lancia' 'Maserati' 'Dodge' '' 'Autre Marque' 'Autres' 'Rover' 'Ac'\n",
            " 'Daewoo' 'Masey Ferguson' 'Gmc' 'Aston Martin' 'Chrysler' 'Daihatsu'\n",
            " 'Man' 'Changhe']\n",
            "number of distinct brands :  68\n"
          ]
        }
      ],
      "source": [
        "brands = explore_strings(cars, \"brand\")\n"
      ]
    },
    {
      "attachments": {},
      "cell_type": "markdown",
      "metadata": {},
      "source": [
        "## Body Type\n"
      ]
    },
    {
      "cell_type": "code",
      "execution_count": 302,
      "metadata": {},
      "outputs": [
        {
          "name": "stdout",
          "output_type": "stream",
          "text": [
            "distinct body_types :  ['Autres' 'Berline' '4 X 4' 'Utilitaire' 'Compacte' 'Monospace' 'Coupé'\n",
            " 'Citadine' 'Pick Up' 'Cabriolet' '']\n",
            "number of distinct body_types :  10\n"
          ]
        }
      ],
      "source": [
        "body_types = explore_strings(cars, \"body_type\")\n"
      ]
    },
    {
      "attachments": {},
      "cell_type": "markdown",
      "metadata": {},
      "source": [
        "## Fuel\n"
      ]
    },
    {
      "cell_type": "code",
      "execution_count": 303,
      "metadata": {},
      "outputs": [
        {
          "name": "stdout",
          "output_type": "stream",
          "text": [
            "distinct fuels :  ['Essence' 'Diesel' 'Hybride (Essence/Électrique)'\n",
            " 'Hybride (Diesel/Électrique)' 'Hybride Rechargeable' '' 'Electrique'\n",
            " 'Hybride']\n",
            "number of distinct fuels :  7\n"
          ]
        }
      ],
      "source": [
        "fuels = explore_strings(cars, \"fuel\")\n"
      ]
    },
    {
      "attachments": {},
      "cell_type": "markdown",
      "metadata": {},
      "source": [
        "Unify and fix the values of the \"fuel\" column\n"
      ]
    },
    {
      "cell_type": "code",
      "execution_count": 304,
      "metadata": {},
      "outputs": [],
      "source": [
        "my_dict = {\n",
        "    \"Hybride (Essence/Électrique)\": \"Hybride\",\n",
        "    \"Hybride (Diesel/Électrique)\": \"Hybride\",\n",
        "}\n",
        "cars.replace({\"fuel\": my_dict}, inplace=True)"
      ]
    },
    {
      "cell_type": "code",
      "execution_count": 305,
      "metadata": {},
      "outputs": [
        {
          "name": "stdout",
          "output_type": "stream",
          "text": [
            "distinct fuels :  ['Essence' 'Diesel' 'Hybride' 'Hybride Rechargeable' '' 'Electrique']\n",
            "number of distinct fuels :  5\n"
          ]
        }
      ],
      "source": [
        "fuel_clean = explore_strings(cars, \"fuel\")"
      ]
    },
    {
      "attachments": {},
      "cell_type": "markdown",
      "metadata": {},
      "source": [
        "## Transmission\n"
      ]
    },
    {
      "cell_type": "code",
      "execution_count": 306,
      "metadata": {},
      "outputs": [
        {
          "name": "stdout",
          "output_type": "stream",
          "text": [
            "distinct transmissions :  ['Manuelle' 'Automatique' 'Mécanique' '']\n",
            "number of distinct transmissions :  3\n"
          ]
        }
      ],
      "source": [
        "transmissions = explore_strings(cars, \"transmission\")\n"
      ]
    },
    {
      "attachments": {},
      "cell_type": "markdown",
      "metadata": {},
      "source": [
        "Unify and fix the values of the \"transmission\" column\n"
      ]
    },
    {
      "cell_type": "code",
      "execution_count": 307,
      "metadata": {},
      "outputs": [],
      "source": [
        "my_dict = {\n",
        "    \"Mécanique\": \"Manuelle\",\n",
        "}\n",
        "cars.replace({\"transmission\": my_dict}, inplace=True)\n"
      ]
    },
    {
      "cell_type": "code",
      "execution_count": 308,
      "metadata": {},
      "outputs": [
        {
          "name": "stdout",
          "output_type": "stream",
          "text": [
            "distinct transmissions :  ['Manuelle' 'Automatique' '']\n",
            "number of distinct transmissions :  2\n"
          ]
        }
      ],
      "source": [
        "transmission_clean = explore_strings(cars, \"transmission\")\n"
      ]
    },
    {
      "attachments": {},
      "cell_type": "markdown",
      "metadata": {},
      "source": [
        "Convert the column \"engine_size\" to float\n"
      ]
    },
    {
      "cell_type": "code",
      "execution_count": 309,
      "metadata": {},
      "outputs": [],
      "source": [
        "contains_symbol = cars[\"engine_size\"].str.contains(\"[><]\") & cars[\"engine_size\"].notna()\n",
        "cars.loc[contains_symbol, \"engine_size\"] = cars.loc[\n",
        "    contains_symbol, \"engine_size\"\n",
        "].apply(lambda string: string[1:])\n",
        "cars.loc[cars[\"engine_size\"].notna(), \"engine_size\"] = cars.loc[\n",
        "    cars[\"engine_size\"].notna(), \"engine_size\"\n",
        "].apply(lambda string: string[:-1])\n",
        "cars[\"engine_size\"] = cars[\"engine_size\"].astype(np.float64)\n"
      ]
    },
    {
      "attachments": {},
      "cell_type": "markdown",
      "metadata": {},
      "source": [
        "# Dropping duplicates\n"
      ]
    },
    {
      "cell_type": "code",
      "execution_count": 310,
      "metadata": {},
      "outputs": [],
      "source": [
        "cars.drop_duplicates(inplace=True)\n"
      ]
    },
    {
      "cell_type": "code",
      "execution_count": 311,
      "metadata": {},
      "outputs": [
        {
          "name": "stdout",
          "output_type": "stream",
          "text": [
            "<class 'pandas.core.frame.DataFrame'>\n",
            "Int64Index: 6061 entries, 0 to 5880\n",
            "Data columns (total 14 columns):\n",
            " #   Column        Non-Null Count  Dtype  \n",
            "---  ------        --------------  -----  \n",
            " 0   brand         6061 non-null   object \n",
            " 1   model         6061 non-null   object \n",
            " 2   price         6059 non-null   float64\n",
            " 3   mileage       6052 non-null   float64\n",
            " 4   year          6052 non-null   object \n",
            " 5   location      6060 non-null   object \n",
            " 6   date_added    3317 non-null   object \n",
            " 7   body_type     6061 non-null   object \n",
            " 8   fuel          6061 non-null   object \n",
            " 9   power         6052 non-null   object \n",
            " 10  transmission  6061 non-null   object \n",
            " 11  color         6061 non-null   object \n",
            " 12  price_new     1939 non-null   float64\n",
            " 13  engine_size   2517 non-null   float64\n",
            "dtypes: float64(4), object(10)\n",
            "memory usage: 710.3+ KB\n"
          ]
        }
      ],
      "source": [
        "cars.to_csv(\"./new_clean_data.csv\")\n",
        "cars.info()\n"
      ]
    },
    {
      "attachments": {},
      "cell_type": "markdown",
      "metadata": {},
      "source": [
        "# Numerical Data\n"
      ]
    },
    {
      "attachments": {},
      "cell_type": "markdown",
      "metadata": {},
      "source": [
        "## Getting outliers\n"
      ]
    },
    {
      "cell_type": "code",
      "execution_count": 312,
      "metadata": {},
      "outputs": [],
      "source": [
        "def get_outliers_z_score(df, column, threshold=4):\n",
        "    mean = np.mean(df[column])\n",
        "    std = np.std(df[column])\n",
        "    return abs((df[column] - mean) / std) > threshold\n"
      ]
    },
    {
      "cell_type": "code",
      "execution_count": 313,
      "metadata": {},
      "outputs": [],
      "source": [
        "def get_outliers_iqr(df, column):\n",
        "    q1 = np.percentile(df.loc[df[column].notna(), column], 25)\n",
        "    q3 = np.percentile(df.loc[df[column].notna(), column], 75)\n",
        "\n",
        "    iqr = q3 - q1\n",
        "\n",
        "    lower_bound = q1 - 1.5 * iqr\n",
        "    upper_bound = q3 + 1.5 * iqr\n",
        "    return (df[column] > upper_bound) | (df[column] < lower_bound)\n"
      ]
    },
    {
      "attachments": {},
      "cell_type": "markdown",
      "metadata": {},
      "source": [
        "## Power\n"
      ]
    },
    {
      "attachments": {},
      "cell_type": "markdown",
      "metadata": {},
      "source": [
        "Convert N.D to nan in the \"power\" column\n"
      ]
    },
    {
      "cell_type": "code",
      "execution_count": 314,
      "metadata": {},
      "outputs": [],
      "source": [
        "power_is_ND = cars[\"power\"] == \"N.D\"\n",
        "cars.loc[power_is_ND, \"power\"] = np.nan\n"
      ]
    },
    {
      "attachments": {},
      "cell_type": "markdown",
      "metadata": {},
      "source": [
        "Convert the column \"power\" to float\n"
      ]
    },
    {
      "cell_type": "code",
      "execution_count": 315,
      "metadata": {},
      "outputs": [],
      "source": [
        "contains_CV = cars[\"power\"].str.contains(\"C\") & cars[\"power\"].notna()\n",
        "cars.loc[contains_CV, \"power\"] = cars.loc[contains_CV, \"power\"].apply(\n",
        "    lambda string: string.split()[0]\n",
        ")\n",
        "cars[\"power\"] = cars[\"power\"].astype(np.float64)\n"
      ]
    },
    {
      "attachments": {},
      "cell_type": "markdown",
      "metadata": {},
      "source": [
        "If power > 200 -> power = nan\n"
      ]
    },
    {
      "cell_type": "code",
      "execution_count": 316,
      "metadata": {},
      "outputs": [],
      "source": [
        "power_over_200 = cars[\"power\"] > 200\n",
        "cars.loc[power_over_200, \"power\"] = np.nan"
      ]
    },
    {
      "attachments": {},
      "cell_type": "markdown",
      "metadata": {},
      "source": [
        "Get Mode Power per model and change the value of power if it exceeds the iqr range per model\n"
      ]
    },
    {
      "cell_type": "code",
      "execution_count": 317,
      "metadata": {},
      "outputs": [],
      "source": [
        "model_to_power_mode = (\n",
        "    cars.groupby(\"model\")[\"power\"]\n",
        "    .apply(lambda x: x.mode()[0] if len(x.mode()) > 0 else np.nan)\n",
        "    .to_dict()\n",
        ")\n",
        "model_to_upper_bound = {}\n",
        "for model in cars[\"model\"].unique():\n",
        "    try:\n",
        "        df = cars.groupby(\"model\").get_group(model)\n",
        "    except KeyError:\n",
        "        continue\n",
        "\n",
        "    if df.empty:\n",
        "        continue\n",
        "\n",
        "    power_values = df.loc[df[\"power\"].notna(), \"power\"]\n",
        "\n",
        "    if power_values.empty:\n",
        "        continue\n",
        "\n",
        "    q1 = np.percentile(power_values, 25)\n",
        "    q3 = np.percentile(power_values, 75)\n",
        "\n",
        "    iqr = q3 - q1\n",
        "\n",
        "    upper_bound = q3 + 1.5 * iqr\n",
        "    model_to_upper_bound[model] = upper_bound\n",
        "\n",
        "for model in cars[\"model\"].unique():\n",
        "    df = cars[cars[\"model\"] == model]\n",
        "\n",
        "    power_values = df.loc[df[\"power\"].notna(), \"power\"]\n",
        "\n",
        "    if power_values.empty:\n",
        "        continue\n",
        "\n",
        "    cars.loc[(cars[\"model\"] == model) & (cars[\"power\"] >= model_to_upper_bound[model]),\n",
        "        \"power\"\n",
        "    ] = model_to_power_mode[model]"
      ]
    },
    {
      "attachments": {},
      "cell_type": "markdown",
      "metadata": {},
      "source": [
        "## Price\n"
      ]
    },
    {
      "cell_type": "code",
      "execution_count": 318,
      "metadata": {},
      "outputs": [
        {
          "name": "stdout",
          "output_type": "stream",
          "text": [
            " summary statistics\n",
            "Min: -1.0\n",
            "Mean: 22770380.76\n",
            "Max: 111111111111.0\n",
            "25th percentile: 20000.0\n",
            "Median: 39000.0\n",
            "75th percentile: 68950.0\n",
            "Interquartile range (IQR): 48950.0\n"
          ]
        },
        {
          "data": {
            "image/png": "[encoded data removed]",
            "text/plain": [
              "<Figure size 432x288 with 1 Axes>"
            ]
          },
          "metadata": {
            "needs_background": "light"
          },
          "output_type": "display_data"
        }
      ],
      "source": [
        "summary_statistics(cars[\"price\"])\n",
        "cars[\"price\"].hist(bins=4)\n",
        "plt.xscale(\"log\")\n",
        "plt.show()\n"
      ]
    },
    {
      "attachments": {},
      "cell_type": "markdown",
      "metadata": {},
      "source": [
        "price -> abs(price)\n",
        "If price is 0 -> price = nan\n"
      ]
    },
    {
      "cell_type": "code",
      "execution_count": 319,
      "metadata": {},
      "outputs": [],
      "source": [
        "cars[\"price\"] = abs(cars[\"price\"])\n",
        "price_is_0 = cars[\"price\"] <= 0\n",
        "cars.loc[price_is_0, \"price\"] = np.nan\n"
      ]
    },
    {
      "attachments": {},
      "cell_type": "markdown",
      "metadata": {},
      "source": [
        "If price over 1_000_000 -> price = nan\n"
      ]
    },
    {
      "cell_type": "code",
      "execution_count": 320,
      "metadata": {},
      "outputs": [],
      "source": [
        "price_over_1_000_000 = cars[\"price\"] >= 1e6\n",
        "cars.loc[price_over_1_000_000, \"price\"] = np.nan\n"
      ]
    },
    {
      "attachments": {},
      "cell_type": "markdown",
      "metadata": {},
      "source": [
        "If price less than 500 -> price \\*= 1000\n"
      ]
    },
    {
      "cell_type": "code",
      "execution_count": 321,
      "metadata": {},
      "outputs": [
        {
          "name": "stdout",
          "output_type": "stream",
          "text": [
            "              brand              model  year   mileage  price\n",
            "3028         Autres              Autre     2     100.0  400.0\n",
            "5550        Citroen                 C4    20     138.0  400.0\n",
            "1125  Mercedes Benz         Classe Gla  2022      50.0  400.0\n",
            "2617          Rover  Range Rover Sport  2017  120000.0  330.0\n",
            "5670     Volkswagen             Passat  2017   10000.0  200.0\n",
            "...             ...                ...   ...       ...    ...\n",
            "2499        Citroen               Nemo  2018   56000.0    3.0\n",
            "469            Fiat                Uno  1988  300000.0    2.5\n",
            "1362        Renault                 R5  1980     580.0    2.0\n",
            "5415          Isuzu            Trooper  1990      55.0    2.0\n",
            "1077        Renault             Symbol  2015  200000.0    2.0\n",
            "\n",
            "[386 rows x 5 columns]\n"
          ]
        },
        {
          "data": {
            "image/png": "[encoded data removed]",
            "text/plain": [
              "<Figure size 432x288 with 1 Axes>"
            ]
          },
          "metadata": {
            "needs_background": "light"
          },
          "output_type": "display_data"
        }
      ],
      "source": [
        "print(\n",
        "    cars.loc[\n",
        "        (cars[\"price\"] > 1) & (cars[\"price\"] < 500),\n",
        "        [\"brand\", \"model\", \"year\", \"mileage\", \"price\"],\n",
        "    ].sort_values(by=[\"price\", \"year\"], ascending=[False, True])\n",
        ")\n",
        "cars.loc[(cars[\"price\"] > 1) & (cars[\"price\"] < 500), [\"price\", \"year\"]].hist(bins=5)\n",
        "plt.show()\n"
      ]
    },
    {
      "cell_type": "code",
      "execution_count": 322,
      "metadata": {},
      "outputs": [],
      "source": [
        "# price_less_than_1000 = cars[\"price\"] <= 500\n",
        "# cars.loc[price_less_than_1000, \"price\"] *= 1000"
      ]
    },
    {
      "cell_type": "code",
      "execution_count": 323,
      "metadata": {},
      "outputs": [
        {
          "data": {
            "image/png": "[encoded data removed]",
            "text/plain": [
              "<Figure size 432x288 with 1 Axes>"
            ]
          },
          "metadata": {
            "needs_background": "light"
          },
          "output_type": "display_data"
        }
      ],
      "source": [
        "ax = sns.boxplot(\n",
        "    data=cars[[\"price\"]],\n",
        "    width=0.5,\n",
        "    orient=\"h\",\n",
        "    flierprops=dict(markeredgecolor=\"#D94D1F\"),\n",
        ")\n",
        "plt.xscale(\"log\")\n",
        "plt.show()\n"
      ]
    },
    {
      "cell_type": "code",
      "execution_count": 324,
      "metadata": {},
      "outputs": [
        {
          "data": {
            "image/png": "[encoded data removed]",
            "text/plain": [
              "<Figure size 432x288 with 1 Axes>"
            ]
          },
          "metadata": {
            "needs_background": "light"
          },
          "output_type": "display_data"
        }
      ],
      "source": [
        "cars[\"price\"].hist(bins=30)\n",
        "plt.xscale(\"log\")\n",
        "plt.show()"
      ]
    },
    {
      "cell_type": "code",
      "execution_count": 326,
      "metadata": {},
      "outputs": [
        {
          "name": "stdout",
          "output_type": "stream",
          "text": [
            "model\n",
            "                 (5025.0, 19225.0)\n",
            "104                     (nan, nan)\n",
            "106              (3250.0, 17250.0)\n",
            "107              (7862.5, 35562.5)\n",
            "12              (18000.0, 18000.0)\n",
            "                      ...         \n",
            "Yaris Verso    (-54817.5, 91490.5)\n",
            "Ypsilon         (22625.0, 35625.0)\n",
            "Zafira                (24.0, 24.0)\n",
            "Zs              (58000.0, 82000.0)\n",
            "Zx                      (5.5, 5.5)\n",
            "Name: price, Length: 610, dtype: object\n"
          ]
        }
      ],
      "source": [
        "def calIQR(x):\n",
        "    q3=x.quantile(.75)\n",
        "    q1=x.quantile(.25)\n",
        "    iqr=q3-q1\n",
        "    lower_bound=q1-1.5*iqr\n",
        "    upper_bound=q3+1.5*iqr\n",
        "    return (lower_bound,upper_bound)\n",
        "my_dict = cars.groupby(\"model\")[\"price\"].apply(calIQR)\n",
        "print(my_dict)"
      ]
    },
    {
      "cell_type": "code",
      "execution_count": 272,
      "metadata": {},
      "outputs": [
        {
          "data": {
            "image/png": "[encoded data removed]",
            "text/plain": [
              "<Figure size 432x288 with 1 Axes>"
            ]
          },
          "metadata": {
            "needs_background": "light"
          },
          "output_type": "display_data"
        },
        {
          "name": "stdout",
          "output_type": "stream",
          "text": [
            " summary statistics\n",
            "Min: 1.0\n",
            "Mean: 57167.59\n",
            "Max: 730000.0\n",
            "25th percentile: 24000.0\n",
            "Median: 41000.0\n",
            "75th percentile: 69500.0\n",
            "Interquartile range (IQR): 45500.0\n"
          ]
        }
      ],
      "source": [
        "cars[\"price\"].hist(bins=30)\n",
        "plt.yscale(\"log\")\n",
        "plt.show()\n",
        "summary_statistics(cars[\"price\"])\n"
      ]
    },
    {
      "cell_type": "code",
      "execution_count": 273,
      "metadata": {},
      "outputs": [
        {
          "data": {
            "image/png": "[encoded data removed]",
            "text/plain": [
              "<Figure size 432x288 with 1 Axes>"
            ]
          },
          "metadata": {
            "needs_background": "light"
          },
          "output_type": "display_data"
        },
        {
          "name": "stdout",
          "output_type": "stream",
          "text": [
            " summary statistics\n",
            "Min: 1.0\n",
            "Mean: 57167.59\n",
            "Max: 730000.0\n",
            "25th percentile: 24000.0\n",
            "Median: 41000.0\n",
            "75th percentile: 69500.0\n",
            "Interquartile range (IQR): 45500.0\n"
          ]
        }
      ],
      "source": [
        "cars[\"price\"].hist(bins=int((109_000.0 - 670.0) / 5_000))\n",
        "plt.yscale(\"log\")\n",
        "plt.show()\n",
        "summary_statistics(cars[\"price\"])\n"
      ]
    },
    {
      "cell_type": "code",
      "execution_count": 465,
      "metadata": {},
      "outputs": [
        {
          "data": {
            "text/html": [
              "<div>\n",
              "<style scoped>\n",
              "    .dataframe tbody tr th:only-of-type {\n",
              "        vertical-align: middle;\n",
              "    }\n",
              "\n",
              "    .dataframe tbody tr th {\n",
              "        vertical-align: top;\n",
              "    }\n",
              "\n",
              "    .dataframe thead th {\n",
              "        text-align: right;\n",
              "    }\n",
              "</style>\n",
              "<table border=\"1\" class=\"dataframe\">\n",
              "  <thead>\n",
              "    <tr style=\"text-align: right;\">\n",
              "      <th></th>\n",
              "      <th>brand</th>\n",
              "      <th>model</th>\n",
              "      <th>price</th>\n",
              "      <th>mileage</th>\n",
              "      <th>year</th>\n",
              "      <th>location</th>\n",
              "      <th>date_added</th>\n",
              "      <th>body_type</th>\n",
              "      <th>fuel</th>\n",
              "      <th>power</th>\n",
              "      <th>transmission</th>\n",
              "      <th>color</th>\n",
              "      <th>price_new</th>\n",
              "      <th>engine_size</th>\n",
              "    </tr>\n",
              "  </thead>\n",
              "  <tbody>\n",
              "    <tr>\n",
              "      <th>122</th>\n",
              "      <td>Jaguar</td>\n",
              "      <td>F Pace</td>\n",
              "      <td>450000.0</td>\n",
              "      <td>28000.0</td>\n",
              "      <td>2018.0</td>\n",
              "      <td>Tunis</td>\n",
              "      <td>2023-03-27</td>\n",
              "      <td>4 X 4</td>\n",
              "      <td>Essence</td>\n",
              "      <td>24.0</td>\n",
              "      <td>Automatique</td>\n",
              "      <td>Blanc</td>\n",
              "      <td>390000.0</td>\n",
              "      <td>NaN</td>\n",
              "    </tr>\n",
              "    <tr>\n",
              "      <th>561</th>\n",
              "      <td>Porsche</td>\n",
              "      <td>Macan</td>\n",
              "      <td>465000.0</td>\n",
              "      <td>7500.0</td>\n",
              "      <td>2022.0</td>\n",
              "      <td>Sfax</td>\n",
              "      <td>2023-03-26</td>\n",
              "      <td>4 X 4</td>\n",
              "      <td>Essence</td>\n",
              "      <td>17.0</td>\n",
              "      <td>Automatique</td>\n",
              "      <td>Bleu</td>\n",
              "      <td>427500.0</td>\n",
              "      <td>NaN</td>\n",
              "    </tr>\n",
              "    <tr>\n",
              "      <th>575</th>\n",
              "      <td>Mercedes Benz</td>\n",
              "      <td>Gle Coupe</td>\n",
              "      <td>550000.0</td>\n",
              "      <td>50000.0</td>\n",
              "      <td>2021.0</td>\n",
              "      <td>Sfax</td>\n",
              "      <td>2023-03-26</td>\n",
              "      <td>4 X 4</td>\n",
              "      <td>Essence</td>\n",
              "      <td>12.0</td>\n",
              "      <td>Automatique</td>\n",
              "      <td>Blanc</td>\n",
              "      <td>540000.0</td>\n",
              "      <td>NaN</td>\n",
              "    </tr>\n",
              "    <tr>\n",
              "      <th>641</th>\n",
              "      <td>Porsche</td>\n",
              "      <td>Cayenne</td>\n",
              "      <td>480000.0</td>\n",
              "      <td>60000.0</td>\n",
              "      <td>2020.0</td>\n",
              "      <td>Ariana</td>\n",
              "      <td>2023-03-25</td>\n",
              "      <td>4 X 4</td>\n",
              "      <td>Essence</td>\n",
              "      <td>23.0</td>\n",
              "      <td>Automatique</td>\n",
              "      <td>Noir</td>\n",
              "      <td>570000.0</td>\n",
              "      <td>NaN</td>\n",
              "    </tr>\n",
              "    <tr>\n",
              "      <th>659</th>\n",
              "      <td>Bmw</td>\n",
              "      <td>X5</td>\n",
              "      <td>485000.0</td>\n",
              "      <td>34000.0</td>\n",
              "      <td>2020.0</td>\n",
              "      <td>Tunis</td>\n",
              "      <td>2023-03-25</td>\n",
              "      <td>4 X 4</td>\n",
              "      <td>Essence</td>\n",
              "      <td>23.0</td>\n",
              "      <td>Automatique</td>\n",
              "      <td>Blanc</td>\n",
              "      <td>NaN</td>\n",
              "      <td>NaN</td>\n",
              "    </tr>\n",
              "    <tr>\n",
              "      <th>755</th>\n",
              "      <td>Land Rover</td>\n",
              "      <td>Range Rover</td>\n",
              "      <td>650000.0</td>\n",
              "      <td>62000.0</td>\n",
              "      <td>2017.0</td>\n",
              "      <td>Tunis</td>\n",
              "      <td>2023-03-23</td>\n",
              "      <td>4 X 4</td>\n",
              "      <td>Essence</td>\n",
              "      <td>43.0</td>\n",
              "      <td>Automatique</td>\n",
              "      <td>Noir</td>\n",
              "      <td>908000.0</td>\n",
              "      <td>NaN</td>\n",
              "    </tr>\n",
              "    <tr>\n",
              "      <th>817</th>\n",
              "      <td>Land Rover</td>\n",
              "      <td>Range Rover</td>\n",
              "      <td>730000.0</td>\n",
              "      <td>40000.0</td>\n",
              "      <td>2018.0</td>\n",
              "      <td>Tunis</td>\n",
              "      <td>2023-03-23</td>\n",
              "      <td>4 X 4</td>\n",
              "      <td>Diesel</td>\n",
              "      <td>19.0</td>\n",
              "      <td>Automatique</td>\n",
              "      <td>Noir</td>\n",
              "      <td>908000.0</td>\n",
              "      <td>NaN</td>\n",
              "    </tr>\n",
              "    <tr>\n",
              "      <th>905</th>\n",
              "      <td>Porsche</td>\n",
              "      <td>Cayenne</td>\n",
              "      <td>430000.0</td>\n",
              "      <td>130000.0</td>\n",
              "      <td>2015.0</td>\n",
              "      <td>Tunis</td>\n",
              "      <td>2023-03-23</td>\n",
              "      <td>4 X 4</td>\n",
              "      <td>Essence</td>\n",
              "      <td>21.0</td>\n",
              "      <td>Automatique</td>\n",
              "      <td>Gris</td>\n",
              "      <td>570000.0</td>\n",
              "      <td>NaN</td>\n",
              "    </tr>\n",
              "    <tr>\n",
              "      <th>1072</th>\n",
              "      <td>Porsche</td>\n",
              "      <td>Cayenne</td>\n",
              "      <td>485000.0</td>\n",
              "      <td>69000.0</td>\n",
              "      <td>2019.0</td>\n",
              "      <td>Ariana</td>\n",
              "      <td>2023-03-20</td>\n",
              "      <td>4 X 4</td>\n",
              "      <td>Essence</td>\n",
              "      <td>23.0</td>\n",
              "      <td>Automatique</td>\n",
              "      <td>Blanc</td>\n",
              "      <td>570000.0</td>\n",
              "      <td>NaN</td>\n",
              "    </tr>\n",
              "    <tr>\n",
              "      <th>1090</th>\n",
              "      <td>Land Rover</td>\n",
              "      <td>Range Rover Sport</td>\n",
              "      <td>520000.0</td>\n",
              "      <td>35000.0</td>\n",
              "      <td>2020.0</td>\n",
              "      <td>Tunis</td>\n",
              "      <td>2023-03-20</td>\n",
              "      <td>4 X 4</td>\n",
              "      <td>Essence</td>\n",
              "      <td>28.0</td>\n",
              "      <td>Automatique</td>\n",
              "      <td>Blanc</td>\n",
              "      <td>695000.0</td>\n",
              "      <td>NaN</td>\n",
              "    </tr>\n",
              "    <tr>\n",
              "      <th>1097</th>\n",
              "      <td>Land Rover</td>\n",
              "      <td>Range Rover Velar</td>\n",
              "      <td>475000.0</td>\n",
              "      <td>NaN</td>\n",
              "      <td>2023.0</td>\n",
              "      <td>Tunis</td>\n",
              "      <td>2023-03-20</td>\n",
              "      <td>4 X 4</td>\n",
              "      <td>Essence</td>\n",
              "      <td>15.0</td>\n",
              "      <td>Automatique</td>\n",
              "      <td>Bleu</td>\n",
              "      <td>389200.0</td>\n",
              "      <td>NaN</td>\n",
              "    </tr>\n",
              "    <tr>\n",
              "      <th>1213</th>\n",
              "      <td>Porsche</td>\n",
              "      <td>911</td>\n",
              "      <td>590000.0</td>\n",
              "      <td>59000.0</td>\n",
              "      <td>2017.0</td>\n",
              "      <td>Tunis</td>\n",
              "      <td>2023-03-16</td>\n",
              "      <td>Cabriolet</td>\n",
              "      <td>Essence</td>\n",
              "      <td>26.0</td>\n",
              "      <td>Automatique</td>\n",
              "      <td>Noir</td>\n",
              "      <td>780600.0</td>\n",
              "      <td>NaN</td>\n",
              "    </tr>\n",
              "    <tr>\n",
              "      <th>1557</th>\n",
              "      <td>Mercedes Benz</td>\n",
              "      <td>Gle Coupe</td>\n",
              "      <td>520000.0</td>\n",
              "      <td>57000.0</td>\n",
              "      <td>2017.0</td>\n",
              "      <td>Sfax</td>\n",
              "      <td>2023-02-28</td>\n",
              "      <td>Coupé</td>\n",
              "      <td>Essence</td>\n",
              "      <td>26.0</td>\n",
              "      <td>Automatique</td>\n",
              "      <td>Noir</td>\n",
              "      <td>540000.0</td>\n",
              "      <td>NaN</td>\n",
              "    </tr>\n",
              "    <tr>\n",
              "      <th>1876</th>\n",
              "      <td>Porsche</td>\n",
              "      <td>Cayenne</td>\n",
              "      <td>435000.0</td>\n",
              "      <td>40000.0</td>\n",
              "      <td>2018.0</td>\n",
              "      <td>Tunis</td>\n",
              "      <td>2023-08-02</td>\n",
              "      <td>4 X 4</td>\n",
              "      <td>Essence</td>\n",
              "      <td>21.0</td>\n",
              "      <td>Automatique</td>\n",
              "      <td>Blanc</td>\n",
              "      <td>570000.0</td>\n",
              "      <td>NaN</td>\n",
              "    </tr>\n",
              "    <tr>\n",
              "      <th>1948</th>\n",
              "      <td>Land Rover</td>\n",
              "      <td>Range Rover Velar</td>\n",
              "      <td>500000.0</td>\n",
              "      <td>NaN</td>\n",
              "      <td>2022.0</td>\n",
              "      <td>Tunis</td>\n",
              "      <td>2023-04-02</td>\n",
              "      <td>4 X 4</td>\n",
              "      <td>Essence</td>\n",
              "      <td>11.0</td>\n",
              "      <td>Automatique</td>\n",
              "      <td>Noir</td>\n",
              "      <td>389200.0</td>\n",
              "      <td>NaN</td>\n",
              "    </tr>\n",
              "    <tr>\n",
              "      <th>1992</th>\n",
              "      <td>Land Rover</td>\n",
              "      <td>Range Rover Sport</td>\n",
              "      <td>520000.0</td>\n",
              "      <td>87000.0</td>\n",
              "      <td>2019.0</td>\n",
              "      <td>Sousse</td>\n",
              "      <td>2023-01-02</td>\n",
              "      <td>4 X 4</td>\n",
              "      <td>Diesel</td>\n",
              "      <td>16.0</td>\n",
              "      <td>Automatique</td>\n",
              "      <td>Blanc</td>\n",
              "      <td>695000.0</td>\n",
              "      <td>NaN</td>\n",
              "    </tr>\n",
              "    <tr>\n",
              "      <th>2055</th>\n",
              "      <td>Porsche</td>\n",
              "      <td>Cayenne</td>\n",
              "      <td>531000.0</td>\n",
              "      <td>16000.0</td>\n",
              "      <td>2020.0</td>\n",
              "      <td>Tunis</td>\n",
              "      <td>2023-01-28</td>\n",
              "      <td>4 X 4</td>\n",
              "      <td>Essence</td>\n",
              "      <td>25.0</td>\n",
              "      <td>Automatique</td>\n",
              "      <td>Noir</td>\n",
              "      <td>570000.0</td>\n",
              "      <td>NaN</td>\n",
              "    </tr>\n",
              "    <tr>\n",
              "      <th>209</th>\n",
              "      <td>Autre Marque</td>\n",
              "      <td>Autre Modèle</td>\n",
              "      <td>500000.0</td>\n",
              "      <td>11111.0</td>\n",
              "      <td>2022.0</td>\n",
              "      <td>Ben Arous</td>\n",
              "      <td>NaT</td>\n",
              "      <td></td>\n",
              "      <td>Essence</td>\n",
              "      <td>4.0</td>\n",
              "      <td>Manuelle</td>\n",
              "      <td>Blanc</td>\n",
              "      <td>NaN</td>\n",
              "      <td>NaN</td>\n",
              "    </tr>\n",
              "    <tr>\n",
              "      <th>2406</th>\n",
              "      <td>Seat</td>\n",
              "      <td>Leon St</td>\n",
              "      <td>420000.0</td>\n",
              "      <td>NaN</td>\n",
              "      <td>2014.0</td>\n",
              "      <td>Tataouine</td>\n",
              "      <td>NaT</td>\n",
              "      <td>Compacte</td>\n",
              "      <td>Essence</td>\n",
              "      <td>51.0</td>\n",
              "      <td>Manuelle</td>\n",
              "      <td>Gris</td>\n",
              "      <td>NaN</td>\n",
              "      <td>1.2</td>\n",
              "    </tr>\n",
              "    <tr>\n",
              "      <th>3023</th>\n",
              "      <td>Citroen</td>\n",
              "      <td>Jumpy</td>\n",
              "      <td>550000.0</td>\n",
              "      <td>180000.0</td>\n",
              "      <td>2017.0</td>\n",
              "      <td>Kairouan</td>\n",
              "      <td>NaT</td>\n",
              "      <td>Compacte</td>\n",
              "      <td>Diesel</td>\n",
              "      <td>7.0</td>\n",
              "      <td>Manuelle</td>\n",
              "      <td>Marron</td>\n",
              "      <td>NaN</td>\n",
              "      <td>2.0</td>\n",
              "    </tr>\n",
              "    <tr>\n",
              "      <th>5444</th>\n",
              "      <td>Geely</td>\n",
              "      <td>Gk-Gl</td>\n",
              "      <td>580000.0</td>\n",
              "      <td>17000.0</td>\n",
              "      <td>2021.0</td>\n",
              "      <td>Sfax</td>\n",
              "      <td>NaT</td>\n",
              "      <td>4 X 4</td>\n",
              "      <td>Essence</td>\n",
              "      <td>NaN</td>\n",
              "      <td>Manuelle</td>\n",
              "      <td>Blanc</td>\n",
              "      <td>NaN</td>\n",
              "      <td>1.3</td>\n",
              "    </tr>\n",
              "  </tbody>\n",
              "</table>\n",
              "</div>"
            ],
            "text/plain": [
              "              brand              model     price   mileage    year   location  \\\n",
              "122          Jaguar             F Pace  450000.0   28000.0  2018.0      Tunis   \n",
              "561         Porsche              Macan  465000.0    7500.0  2022.0       Sfax   \n",
              "575   Mercedes Benz          Gle Coupe  550000.0   50000.0  2021.0       Sfax   \n",
              "641         Porsche            Cayenne  480000.0   60000.0  2020.0     Ariana   \n",
              "659             Bmw                 X5  485000.0   34000.0  2020.0      Tunis   \n",
              "755      Land Rover        Range Rover  650000.0   62000.0  2017.0      Tunis   \n",
              "817      Land Rover        Range Rover  730000.0   40000.0  2018.0      Tunis   \n",
              "905         Porsche            Cayenne  430000.0  130000.0  2015.0      Tunis   \n",
              "1072        Porsche            Cayenne  485000.0   69000.0  2019.0     Ariana   \n",
              "1090     Land Rover  Range Rover Sport  520000.0   35000.0  2020.0      Tunis   \n",
              "1097     Land Rover  Range Rover Velar  475000.0       NaN  2023.0      Tunis   \n",
              "1213        Porsche                911  590000.0   59000.0  2017.0      Tunis   \n",
              "1557  Mercedes Benz          Gle Coupe  520000.0   57000.0  2017.0       Sfax   \n",
              "1876        Porsche            Cayenne  435000.0   40000.0  2018.0      Tunis   \n",
              "1948     Land Rover  Range Rover Velar  500000.0       NaN  2022.0      Tunis   \n",
              "1992     Land Rover  Range Rover Sport  520000.0   87000.0  2019.0     Sousse   \n",
              "2055        Porsche            Cayenne  531000.0   16000.0  2020.0      Tunis   \n",
              "209    Autre Marque       Autre Modèle  500000.0   11111.0  2022.0  Ben Arous   \n",
              "2406           Seat            Leon St  420000.0       NaN  2014.0  Tataouine   \n",
              "3023        Citroen              Jumpy  550000.0  180000.0  2017.0   Kairouan   \n",
              "5444          Geely              Gk-Gl  580000.0   17000.0  2021.0       Sfax   \n",
              "\n",
              "     date_added  body_type     fuel  power transmission   color  price_new  \\\n",
              "122  2023-03-27      4 X 4  Essence   24.0  Automatique   Blanc   390000.0   \n",
              "561  2023-03-26      4 X 4  Essence   17.0  Automatique    Bleu   427500.0   \n",
              "575  2023-03-26      4 X 4  Essence   12.0  Automatique   Blanc   540000.0   \n",
              "641  2023-03-25      4 X 4  Essence   23.0  Automatique    Noir   570000.0   \n",
              "659  2023-03-25      4 X 4  Essence   23.0  Automatique   Blanc        NaN   \n",
              "755  2023-03-23      4 X 4  Essence   43.0  Automatique    Noir   908000.0   \n",
              "817  2023-03-23      4 X 4   Diesel   19.0  Automatique    Noir   908000.0   \n",
              "905  2023-03-23      4 X 4  Essence   21.0  Automatique    Gris   570000.0   \n",
              "1072 2023-03-20      4 X 4  Essence   23.0  Automatique   Blanc   570000.0   \n",
              "1090 2023-03-20      4 X 4  Essence   28.0  Automatique   Blanc   695000.0   \n",
              "1097 2023-03-20      4 X 4  Essence   15.0  Automatique    Bleu   389200.0   \n",
              "1213 2023-03-16  Cabriolet  Essence   26.0  Automatique    Noir   780600.0   \n",
              "1557 2023-02-28      Coupé  Essence   26.0  Automatique    Noir   540000.0   \n",
              "1876 2023-08-02      4 X 4  Essence   21.0  Automatique   Blanc   570000.0   \n",
              "1948 2023-04-02      4 X 4  Essence   11.0  Automatique    Noir   389200.0   \n",
              "1992 2023-01-02      4 X 4   Diesel   16.0  Automatique   Blanc   695000.0   \n",
              "2055 2023-01-28      4 X 4  Essence   25.0  Automatique    Noir   570000.0   \n",
              "209         NaT             Essence    4.0     Manuelle   Blanc        NaN   \n",
              "2406        NaT   Compacte  Essence   51.0     Manuelle    Gris        NaN   \n",
              "3023        NaT   Compacte   Diesel    7.0     Manuelle  Marron        NaN   \n",
              "5444        NaT      4 X 4  Essence    NaN     Manuelle   Blanc        NaN   \n",
              "\n",
              "      engine_size  \n",
              "122           NaN  \n",
              "561           NaN  \n",
              "575           NaN  \n",
              "641           NaN  \n",
              "659           NaN  \n",
              "755           NaN  \n",
              "817           NaN  \n",
              "905           NaN  \n",
              "1072          NaN  \n",
              "1090          NaN  \n",
              "1097          NaN  \n",
              "1213          NaN  \n",
              "1557          NaN  \n",
              "1876          NaN  \n",
              "1948          NaN  \n",
              "1992          NaN  \n",
              "2055          NaN  \n",
              "209           NaN  \n",
              "2406          1.2  \n",
              "3023          2.0  \n",
              "5444          1.3  "
            ]
          },
          "execution_count": 465,
          "metadata": {},
          "output_type": "execute_result"
        }
      ],
      "source": [
        "cars.loc[cars[\"price\"] > 400_000]\n"
      ]
    },
    {
      "cell_type": "code",
      "execution_count": 466,
      "metadata": {},
      "outputs": [
        {
          "data": {
            "image/png": "[encoded data removed]",
            "text/plain": [
              "<Figure size 640x480 with 1 Axes>"
            ]
          },
          "metadata": {},
          "output_type": "display_data"
        }
      ],
      "source": [
        "sns.boxplot(\n",
        "    data=cars[[\"price\"]], orient=\"h\", flierprops=dict(markeredgecolor=\"#D94D1F\")\n",
        ")\n",
        "plt.xscale(\"log\")\n",
        "\n",
        "plt.show()\n"
      ]
    },
    {
      "attachments": {},
      "cell_type": "markdown",
      "metadata": {},
      "source": [
        "## Mileage\n"
      ]
    },
    {
      "attachments": {},
      "cell_type": "markdown",
      "metadata": {},
      "source": [
        "mileage -> abs(mileage)\n"
      ]
    },
    {
      "cell_type": "code",
      "execution_count": 448,
      "metadata": {},
      "outputs": [],
      "source": [
        "cars[\"mileage\"] = abs(cars[\"mileage\"])\n"
      ]
    },
    {
      "attachments": {},
      "cell_type": "markdown",
      "metadata": {},
      "source": [
        "If mileage < 10 -> mileage = nan\n"
      ]
    },
    {
      "cell_type": "code",
      "execution_count": 449,
      "metadata": {},
      "outputs": [],
      "source": [
        "mileage_less_than_10 = cars[\"mileage\"] < 10\n",
        "cars.loc[mileage_less_than_10, \"mileage\"] = np.nan\n"
      ]
    },
    {
      "attachments": {},
      "cell_type": "markdown",
      "metadata": {},
      "source": [
        "If mileage <= 1000 -> mileage \\*= 1000\n"
      ]
    },
    {
      "cell_type": "code",
      "execution_count": 450,
      "metadata": {},
      "outputs": [],
      "source": [
        "mileage_less_than_1000 = cars[\"mileage\"] <= 1000\n",
        "cars.loc[mileage_less_than_1000, \"mileage\"] *= 1000\n"
      ]
    },
    {
      "attachments": {},
      "cell_type": "markdown",
      "metadata": {},
      "source": [
        "If mileage >= 1 000 000 -> mileage = nan\n"
      ]
    },
    {
      "cell_type": "code",
      "execution_count": 451,
      "metadata": {},
      "outputs": [],
      "source": [
        "mileage_over_1000000 = cars[\"mileage\"] >= 1000000\n",
        "cars.loc[mileage_over_1000000, \"mileage\"] = np.nan\n"
      ]
    },
    {
      "attachments": {},
      "cell_type": "markdown",
      "metadata": {},
      "source": [
        "# Dates\n"
      ]
    },
    {
      "attachments": {},
      "cell_type": "markdown",
      "metadata": {},
      "source": [
        "Turn \"date_added\" column to datetime\n"
      ]
    },
    {
      "cell_type": "code",
      "execution_count": 452,
      "metadata": {},
      "outputs": [],
      "source": [
        "contains_hyphen = cars[\"year\"].str.contains(\"-\") & cars[\"year\"].notna()\n",
        "cars.loc[contains_hyphen, \"year\"] = cars.loc[contains_hyphen, \"year\"].apply(\n",
        "    lambda string: string.split(\"-\")[1]\n",
        ")\n",
        "contains_point = cars[\"year\"].str.contains(\"[.]\") & cars[\"year\"].notna()\n",
        "cars.loc[contains_point, \"year\"] = cars.loc[contains_point, \"year\"].apply(\n",
        "    lambda string: string.split(\".\")[-1]\n",
        ")\n",
        "cars[\"year\"] = cars[\"year\"].astype(np.float64)\n"
      ]
    },
    {
      "attachments": {},
      "cell_type": "markdown",
      "metadata": {},
      "source": [
        "If 10<= year <= 23 -> year += 2000, if 60 <= year -> year += 1900, else year = nan\n"
      ]
    },
    {
      "cell_type": "code",
      "execution_count": 453,
      "metadata": {},
      "outputs": [],
      "source": [
        "year_between_0_and_23 = (cars[\"year\"] >= 10) & (cars[\"year\"] <= 23)\n",
        "cars.loc[year_between_0_and_23, \"year\"] += 2000\n",
        "year_more_than_60 = (cars[\"year\"] >= 60) & (cars[\"year\"] <= 99)\n",
        "cars.loc[year_more_than_60, \"year\"] += 1900\n",
        "correct_year = (cars[\"year\"] >= 1960) & (cars[\"year\"] <= 2023)\n",
        "cars.loc[~correct_year, \"year\"] = np.nan\n"
      ]
    },
    {
      "attachments": {},
      "cell_type": "markdown",
      "metadata": {},
      "source": [
        "Remove month from year in the \"year\" column and convert it to float\n"
      ]
    },
    {
      "cell_type": "code",
      "execution_count": 454,
      "metadata": {},
      "outputs": [
        {
          "name": "stderr",
          "output_type": "stream",
          "text": [
            "/tmp/ipykernel_7981/3095061778.py:1: UserWarning: Parsing dates in DD/MM/YYYY format when dayfirst=False (the default) was specified. This may lead to inconsistently parsed dates! Specify a format to ensure consistent parsing.\n",
            "  cars[\"date_added\"] = pd.to_datetime(cars[\"date_added\"])\n"
          ]
        }
      ],
      "source": [
        "cars[\"date_added\"] = pd.to_datetime(cars[\"date_added\"])\n"
      ]
    }
  ],
  "metadata": {
    "kernelspec": {
      "display_name": "data-science",
      "language": "python",
      "name": "python3"
    },
    "language_info": {
      "codemirror_mode": {
        "name": "ipython",
        "version": 3
      },
      "file_extension": ".py",
      "mimetype": "text/x-python",
      "name": "python",
      "nbconvert_exporter": "python",
      "pygments_lexer": "ipython3",
      "version": "3.11.3"
    },
    "orig_nbformat": 4,
    "vscode": {
      "interpreter": {
        "hash": "dc2bd3b27271d03bf2eec87812cad119e0cb1920e9796b1f5a29990c3e7b9536"
      }
    }
  },
  "nbformat": 4,
  "nbformat_minor": 2
}
