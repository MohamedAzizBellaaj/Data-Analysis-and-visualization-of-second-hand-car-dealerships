{
  "cells": [
    {
      "cell_type": "code",
      "execution_count": 299,
      "metadata": {},
      "outputs": [
        {
          "name": "stdout",
          "output_type": "stream",
          "text": [
            "<class 'pandas.core.frame.DataFrame'>\n",
            "Int64Index: 9437 entries, 0 to 5880\n",
            "Data columns (total 14 columns):\n",
            " #   Column        Non-Null Count  Dtype  \n",
            "---  ------        --------------  -----  \n",
            " 0   brand         9411 non-null   object \n",
            " 1   model         9411 non-null   object \n",
            " 2   price         9432 non-null   float64\n",
            " 3   mileage       9411 non-null   float64\n",
            " 4   year          9411 non-null   object \n",
            " 5   location      9421 non-null   object \n",
            " 6   date_added    3336 non-null   object \n",
            " 7   body_type     9191 non-null   object \n",
            " 8   fuel          9411 non-null   object \n",
            " 9   power         9411 non-null   object \n",
            " 10  transmission  9411 non-null   object \n",
            " 11  color         9400 non-null   object \n",
            " 12  price_new     1955 non-null   float64\n",
            " 13  engine_size   5855 non-null   object \n",
            "dtypes: float64(3), object(11)\n",
            "memory usage: 1.1+ MB\n"
          ]
        }
      ],
      "source": [
        "import pandas as pd\n",
        "import numpy as np\n",
        "import seaborn as sns\n",
        "import matplotlib.pyplot as plt\n",
        "from thefuzz import fuzz\n",
        "from thefuzz import process\n",
        "\n",
        "cars = pd.read_csv(\"./concatenated_data.csv\", index_col=0)\n",
        "del cars[\"description\"]\n",
        "cars.columns=['brand', 'model', 'price', 'mileage', 'year', 'location',\n",
        "'date_added', 'body_type', 'fuel', 'power', 'transmission', 'color',\n",
        "'price_new', 'engine_size']\n",
        "cars.info()\n"
      ]
    },
    {
      "attachments": {},
      "cell_type": "markdown",
      "metadata": {},
      "source": [
        "# Overview"
      ]
    },
    {
      "cell_type": "code",
      "execution_count": 300,
      "metadata": {},
      "outputs": [
        {
          "data": {
            "text/html": [
              "<div>\n",
              "<style scoped>\n",
              "    .dataframe tbody tr th:only-of-type {\n",
              "        vertical-align: middle;\n",
              "    }\n",
              "\n",
              "    .dataframe tbody tr th {\n",
              "        vertical-align: top;\n",
              "    }\n",
              "\n",
              "    .dataframe thead th {\n",
              "        text-align: right;\n",
              "    }\n",
              "</style>\n",
              "<table border=\"1\" class=\"dataframe\">\n",
              "  <thead>\n",
              "    <tr style=\"text-align: right;\">\n",
              "      <th></th>\n",
              "      <th>price</th>\n",
              "      <th>mileage</th>\n",
              "      <th>price_new</th>\n",
              "    </tr>\n",
              "  </thead>\n",
              "  <tbody>\n",
              "    <tr>\n",
              "      <th>count</th>\n",
              "      <td>9.432000e+03</td>\n",
              "      <td>9.411000e+03</td>\n",
              "      <td>1955.000000</td>\n",
              "    </tr>\n",
              "    <tr>\n",
              "      <th>mean</th>\n",
              "      <td>3.309366e+07</td>\n",
              "      <td>2.361327e+12</td>\n",
              "      <td>171507.106905</td>\n",
              "    </tr>\n",
              "    <tr>\n",
              "      <th>std</th>\n",
              "      <td>1.645900e+09</td>\n",
              "      <td>1.619689e+14</td>\n",
              "      <td>136366.008481</td>\n",
              "    </tr>\n",
              "    <tr>\n",
              "      <th>min</th>\n",
              "      <td>-1.000000e+00</td>\n",
              "      <td>-2.200000e+05</td>\n",
              "      <td>29510.000000</td>\n",
              "    </tr>\n",
              "    <tr>\n",
              "      <th>25%</th>\n",
              "      <td>8.000000e+03</td>\n",
              "      <td>2.400000e+04</td>\n",
              "      <td>79990.000000</td>\n",
              "    </tr>\n",
              "    <tr>\n",
              "      <th>50%</th>\n",
              "      <td>3.300000e+04</td>\n",
              "      <td>1.010000e+05</td>\n",
              "      <td>136480.000000</td>\n",
              "    </tr>\n",
              "    <tr>\n",
              "      <th>75%</th>\n",
              "      <td>5.992500e+04</td>\n",
              "      <td>1.800000e+05</td>\n",
              "      <td>215000.000000</td>\n",
              "    </tr>\n",
              "    <tr>\n",
              "      <th>max</th>\n",
              "      <td>1.111111e+11</td>\n",
              "      <td>1.111111e+16</td>\n",
              "      <td>908000.000000</td>\n",
              "    </tr>\n",
              "  </tbody>\n",
              "</table>\n",
              "</div>"
            ],
            "text/plain": [
              "              price       mileage      price_new\n",
              "count  9.432000e+03  9.411000e+03    1955.000000\n",
              "mean   3.309366e+07  2.361327e+12  171507.106905\n",
              "std    1.645900e+09  1.619689e+14  136366.008481\n",
              "min   -1.000000e+00 -2.200000e+05   29510.000000\n",
              "25%    8.000000e+03  2.400000e+04   79990.000000\n",
              "50%    3.300000e+04  1.010000e+05  136480.000000\n",
              "75%    5.992500e+04  1.800000e+05  215000.000000\n",
              "max    1.111111e+11  1.111111e+16  908000.000000"
            ]
          },
          "execution_count": 300,
          "metadata": {},
          "output_type": "execute_result"
        }
      ],
      "source": [
        "cars.describe()"
      ]
    },
    {
      "cell_type": "code",
      "execution_count": 301,
      "metadata": {},
      "outputs": [],
      "source": [
        "def summary_statistics(dataset):\n",
        "    print(' summary statistics')\n",
        "    mean = np.round(np.mean(dataset), 2)\n",
        "    median = np.round(np.nanmedian(dataset), 2)\n",
        "    min_value = np.round(dataset.min(), 2)\n",
        "    max_value = np.round(dataset.max(), 2)\n",
        "    q1 = np.round(dataset.quantile(0.25), 2)\n",
        "    q3 = np.round(dataset.quantile(0.75), 2)\n",
        "    # Interquartile range\n",
        "    iqr = np.round(q3 - q1, 2)\n",
        "    print('Min: %s' % min_value)\n",
        "    print('Mean: %s' % mean)\n",
        "    print('Max: %s' % max_value)\n",
        "    print('25th percentile: %s' % q1)\n",
        "    print('Median: %s' % median)\n",
        "    print('75th percentile: %s' % q3)\n",
        "    print('Interquartile range (IQR): %s' % iqr)\n",
        "    "
      ]
    },
    {
      "attachments": {},
      "cell_type": "markdown",
      "metadata": {},
      "source": [
        "# Numercal Data cleaning"
      ]
    },
    {
      "cell_type": "code",
      "execution_count": 302,
      "metadata": {},
      "outputs": [
        {
          "name": "stdout",
          "output_type": "stream",
          "text": [
            " summary statistics\n",
            "Min: -1.0\n",
            "Mean: 33093662.93\n",
            "Max: 111111111111.0\n",
            "25th percentile: 8000.0\n",
            "Median: 33000.0\n",
            "75th percentile: 59925.0\n",
            "Interquartile range (IQR): 51925.0\n"
          ]
        },
        {
          "data": {
            "image/png": "[encoded data removed]",
            "text/plain": [
              "<Figure size 432x288 with 1 Axes>"
            ]
          },
          "metadata": {
            "needs_background": "light"
          },
          "output_type": "display_data"
        }
      ],
      "source": [
        "summary_statistics(cars['price'])\n",
        "cars[\"price\"].hist(bins=4)\n",
        "plt.xscale('log')\n",
        "plt.show()"
      ]
    },
    {
      "attachments": {},
      "cell_type": "markdown",
      "metadata": {},
      "source": [
        "price -> abs(price)\n",
        "If price is 0 -> price = nan\n",
        "\n"
      ]
    },
    {
      "cell_type": "code",
      "execution_count": 303,
      "metadata": {},
      "outputs": [],
      "source": [
        "\n",
        "\n",
        "cars[\"price\"] = abs(cars[\"price\"])\n",
        "price_is_0 = cars[\"price\"] == 0\n",
        "cars.loc[price_is_0, \"price\"] = np.nan\n",
        "\n"
      ]
    },
    {
      "attachments": {},
      "cell_type": "markdown",
      "metadata": {},
      "source": [
        "If price over 1_000_000 -> price = nan"
      ]
    },
    {
      "cell_type": "code",
      "execution_count": 304,
      "metadata": {},
      "outputs": [],
      "source": [
        "\n",
        "price_over_1000000 = cars[\"price\"] >= 1e8\n",
        "cars.loc[price_over_1000000, \"price\"] = np.nan\n"
      ]
    },
    {
      "attachments": {},
      "cell_type": "markdown",
      "metadata": {},
      "source": [
        "If price less than 500 -> price *= 1000\n"
      ]
    },
    {
      "cell_type": "code",
      "execution_count": 329,
      "metadata": {},
      "outputs": [
        {
          "name": "stdout",
          "output_type": "stream",
          "text": [
            "        brand    model  year   mileage  price\n",
            "2496      BMW       X6  2008  260000.0   98.0\n",
            "4444      BMW       X6  2008  260000.0   98.0\n",
            "5731  Peugeot      301  2014     226.0   97.0\n",
            "2550     Ford     Kuga  2021   10000.0   97.0\n",
            "4498     Ford     Kuga  2021   10000.0   97.0\n",
            "...       ...      ...   ...       ...    ...\n",
            "4178  Renault       R5  1980     580.0    2.0\n",
            "5415    Isuzu  Trooper  1990      55.0    2.0\n",
            "1077  Renault   Symbol  2015  200000.0    2.0\n",
            "1945  Renault   Symbol  2015  200000.0    2.0\n",
            "3893  Renault   Symbol  2015  200000.0    2.0\n",
            "\n",
            "[758 rows x 5 columns]\n"
          ]
        },
        {
          "data": {
            "image/png": "[encoded data removed]",
            "text/plain": [
              "<Figure size 432x288 with 1 Axes>"
            ]
          },
          "metadata": {
            "needs_background": "light"
          },
          "output_type": "display_data"
        }
      ],
      "source": [
        "\n",
        "print(cars.loc[(cars[\"price\"] >1) & (cars[\"price\"] <100),[\"brand\",\"model\",\"year\",\"mileage\",\"price\"]].sort_values(by=[\"price\",\"year\"], ascending=[False,True]))\n",
        "cars.loc[(cars[\"price\"] >1) & (cars[\"price\"] <100),[\"price\",\"year\"]].hist(bins=5)\n",
        "plt.show()\n",
        "# price_less_than_1000 = cars[\"price\"] <= 500\n",
        "# cars.loc[price_less_than_1000, \"price\"] *= 1000\n"
      ]
    },
    {
      "cell_type": "code",
      "execution_count": 306,
      "metadata": {},
      "outputs": [
        {
          "data": {
            "image/png": "[encoded data removed]",
            "text/plain": [
              "<Figure size 432x288 with 1 Axes>"
            ]
          },
          "metadata": {
            "needs_background": "light"
          },
          "output_type": "display_data"
        }
      ],
      "source": [
        "\n",
        "ax = sns.boxplot(data=cars[[\"price\"]],width=0.5,orient='h', flierprops=dict(markeredgecolor=\"#D94D1F\"))\n",
        "plt.xscale('log')\n",
        "plt.show()"
      ]
    },
    {
      "cell_type": "code",
      "execution_count": 307,
      "metadata": {},
      "outputs": [
        {
          "data": {
            "image/png": "[encoded data removed]",
            "text/plain": [
              "<Figure size 432x288 with 1 Axes>"
            ]
          },
          "metadata": {
            "needs_background": "light"
          },
          "output_type": "display_data"
        }
      ],
      "source": [
        "cars[\"price\"].hist(bins=30)\n",
        "# plt.xscale('log')\n",
        "plt.show()"
      ]
    },
    {
      "attachments": {},
      "cell_type": "markdown",
      "metadata": {},
      "source": [
        "Eliminating outliers"
      ]
    },
    {
      "cell_type": "code",
      "execution_count": 318,
      "metadata": {},
      "outputs": [],
      "source": [
        "def eliminate_outilers_z_score(df,column,threshold=4):\n",
        "    mean = np.mean(df[column])\n",
        "    std = np.std(df[column])\n",
        "    outliers= abs((df[column]-mean)/std)> threshold\n",
        "    df.loc[outliers,column]=np.nan"
      ]
    },
    {
      "cell_type": "code",
      "execution_count": 314,
      "metadata": {},
      "outputs": [],
      "source": [
        "def eliminate_outilers_IQR(df,column):\n",
        "    q1 = np.percentile(df.loc[df[column].notna(), column], 25)\n",
        "    q3 = np.percentile(df.loc[df[column].notna(), column], 75)\n",
        "\n",
        "    iqr = q3 - q1\n",
        "\n",
        "    lower_bound = q1 - 1.5 * iqr\n",
        "    upper_bound = q3 + 1.5 * iqr\n",
        "    outliers= (df[column ] > upper_bound)| (df[column ] < lower_bound)\n",
        "    df.loc[outliers,column]=np.nan\n",
        "\n"
      ]
    },
    {
      "cell_type": "code",
      "execution_count": 315,
      "metadata": {},
      "outputs": [
        {
          "data": {
            "image/png": "[encoded data removed]",
            "text/plain": [
              "<Figure size 432x288 with 1 Axes>"
            ]
          },
          "metadata": {
            "needs_background": "light"
          },
          "output_type": "display_data"
        },
        {
          "name": "stdout",
          "output_type": "stream",
          "text": [
            " summary statistics\n",
            "Min: 1.0\n",
            "Mean: 91374.36\n",
            "Max: 14000000.0\n",
            "25th percentile: 18000.0\n",
            "Median: 35000.0\n",
            "75th percentile: 62500.0\n",
            "Interquartile range (IQR): 44500.0\n"
          ]
        }
      ],
      "source": [
        "cars[\"price\"].hist(bins=30)\n",
        "plt.yscale('log')\n",
        "plt.show()\n",
        "summary_statistics(cars[\"price\"])\n"
      ]
    },
    {
      "cell_type": "code",
      "execution_count": 326,
      "metadata": {},
      "outputs": [],
      "source": [
        "\n",
        "eliminate_outilers_IQR(cars,\"price\")"
      ]
    },
    {
      "cell_type": "code",
      "execution_count": 327,
      "metadata": {},
      "outputs": [
        {
          "data": {
            "image/png": "[encoded data removed]",
            "text/plain": [
              "<Figure size 432x288 with 1 Axes>"
            ]
          },
          "metadata": {
            "needs_background": "light"
          },
          "output_type": "display_data"
        },
        {
          "name": "stdout",
          "output_type": "stream",
          "text": [
            " summary statistics\n",
            "Min: 1.0\n",
            "Mean: 35447.7\n",
            "Max: 114500.0\n",
            "25th percentile: 16000.0\n",
            "Median: 32500.0\n",
            "75th percentile: 51000.0\n",
            "Interquartile range (IQR): 35000.0\n"
          ]
        }
      ],
      "source": [
        "cars[\"price\"].hist(bins=int((109000.0-670.0)/5_000))\n",
        "plt.yscale('log')\n",
        "plt.show()\n",
        "summary_statistics(cars[\"price\"])\n"
      ]
    },
    {
      "cell_type": "code",
      "execution_count": null,
      "metadata": {},
      "outputs": [],
      "source": [
        "cars.loc[cars[\"price\"] > 400_000]\n"
      ]
    },
    {
      "cell_type": "code",
      "execution_count": 287,
      "metadata": {},
      "outputs": [
        {
          "data": {
            "image/png": "[encoded data removed]",
            "text/plain": [
              "<Figure size 432x288 with 1 Axes>"
            ]
          },
          "metadata": {
            "needs_background": "light"
          },
          "output_type": "display_data"
        }
      ],
      "source": [
        "sns.boxplot(data=cars[[\"price\"]], orient=\"h\", flierprops=dict(markeredgecolor=\"#D94D1F\"))\n",
        "plt.xscale('log')\n",
        "\n",
        "plt.show()\n"
      ]
    },
    {
      "attachments": {},
      "cell_type": "markdown",
      "metadata": {},
      "source": [
        "kilometrage -> abs(kilometrage)"
      ]
    },
    {
      "cell_type": "code",
      "execution_count": null,
      "metadata": {},
      "outputs": [],
      "source": [
        "\n",
        "cars[\"mileage\"] = abs(cars[\"mileage\"])\n"
      ]
    },
    {
      "attachments": {},
      "cell_type": "markdown",
      "metadata": {},
      "source": [
        "If mileage < 10 -> mileage = nan"
      ]
    },
    {
      "cell_type": "code",
      "execution_count": null,
      "metadata": {},
      "outputs": [],
      "source": [
        "\n",
        "mileage_less_than_10 = cars[\"mileage\"] < 10\n",
        "cars.loc[mileage_less_than_10, \"mileage\"] = np.nan\n"
      ]
    },
    {
      "attachments": {},
      "cell_type": "markdown",
      "metadata": {},
      "source": [
        "If mileage <= 1000 -> mileage *= 1000"
      ]
    },
    {
      "cell_type": "code",
      "execution_count": null,
      "metadata": {},
      "outputs": [],
      "source": [
        "\n",
        "mileage_less_than_1000 = cars[\"mileage\"] <= 1000\n",
        "cars.loc[mileage_less_than_1000, \"mileage\"] *= 1000"
      ]
    },
    {
      "attachments": {},
      "cell_type": "markdown",
      "metadata": {},
      "source": [
        "If mileage >= 1 000 000 -> mileage = nan"
      ]
    },
    {
      "cell_type": "code",
      "execution_count": null,
      "metadata": {},
      "outputs": [],
      "source": [
        "\n",
        "mileage_over_1000000 = cars[\"mileage\"] >= 1000000\n",
        "cars.loc[mileage_over_1000000, \"mileage\"] = np.nan\n"
      ]
    },
    {
      "attachments": {},
      "cell_type": "markdown",
      "metadata": {},
      "source": [
        "# String formatting "
      ]
    },
    {
      "attachments": {},
      "cell_type": "markdown",
      "metadata": {},
      "source": [
        "Applying str.title() to each column\n"
      ]
    },
    {
      "cell_type": "code",
      "execution_count": null,
      "metadata": {},
      "outputs": [],
      "source": [
        "\n",
        "for col in cars.columns:\n",
        "    if cars[col].dtype == \"object\":\n",
        "        cars[col] = cars[col].str.title()\n"
      ]
    },
    {
      "attachments": {},
      "cell_type": "markdown",
      "metadata": {},
      "source": [
        "## location"
      ]
    },
    {
      "attachments": {},
      "cell_type": "markdown",
      "metadata": {},
      "source": [
        "Exploring the values of \"location\" column\n"
      ]
    },
    {
      "cell_type": "code",
      "execution_count": null,
      "metadata": {},
      "outputs": [],
      "source": [
        "\n",
        "location_values = cars[\"location\"].unique()\n",
        "print(location_values, len(location_values))\n"
      ]
    },
    {
      "attachments": {},
      "cell_type": "markdown",
      "metadata": {},
      "source": [
        "Unify and fix the values of the \"location\" column\n"
      ]
    },
    {
      "cell_type": "code",
      "execution_count": null,
      "metadata": {},
      "outputs": [],
      "source": [
        "\n",
        "my_dict = {\n",
        "    \"Béja\": \"Beja\",\n",
        "    \"La Manouba\": \"Manouba\",\n",
        "    \"Gabès\": \"Gabes\",\n",
        "    \"Médenine\": \"Medenine\",\n",
        "    \"Kébili\": \"Kebili\",\n",
        "}\n",
        "cars.replace({\"location\": my_dict}, inplace=True)\n"
      ]
    },
    {
      "attachments": {},
      "cell_type": "markdown",
      "metadata": {},
      "source": [
        "## color"
      ]
    },
    {
      "cell_type": "code",
      "execution_count": null,
      "metadata": {},
      "outputs": [],
      "source": [
        "#specifying the field datatype\n",
        "cars.color=cars.color.astype(str)\n",
        "# Exploring the values of the \"color\" column\n",
        "colors = cars[\"color\"].unique()\n",
        "print(colors, len(colors))\n",
        "len(cars[cars[\"color\"].isna()])\n"
      ]
    },
    {
      "cell_type": "code",
      "execution_count": null,
      "metadata": {},
      "outputs": [],
      "source": [
        "#get all the words that match \"gris\"\n",
        "matches = process.extract(\"gris\", colors, limit=20, scorer=fuzz.token_sort_ratio)\n",
        "#take a look at them to choose min_ratio\n",
        "matches"
      ]
    },
    {
      "cell_type": "code",
      "execution_count": null,
      "metadata": {},
      "outputs": [],
      "source": [
        "colors_gris = [\"gris\" if c.lower().startswith(\"gris\") else c for c in colors]\n",
        "\n",
        "colors_gris=[c[:-4] if c.lower().endswith(\"gris\")  else c for c in colors_gris]\n",
        "colors_gris\n",
        "matches = process.extract(\"Gris a\", colors, limit=30, scorer=fuzz.token_sort_ratio)\n",
        "score = fuzz.token_sort_ratio(\"gris \", \"Gris Anthracite\")\n",
        "print(score)\n",
        "matches"
      ]
    },
    {
      "cell_type": "code",
      "execution_count": null,
      "metadata": {},
      "outputs": [],
      "source": [
        "def replace_matches_in_column(df, column, string_to_match, min_ratio = 47):\n",
        "    # get a list of unique strings\n",
        "    strings = df[column].unique()\n",
        "    \n",
        "    # get the top 10 closest matches to our input string\n",
        "    matches = process.extract(string_to_match, strings, \n",
        "                                         limit=10, scorer=fuzz.token_sort_ratio)\n",
        "\n",
        "    # only get matches with a ratio > 90\n",
        "    close_matches = [matches[0] for matches in matches if matches[1] >= min_ratio]\n",
        "\n",
        "    # get the rows of all the close matches in our dataframe\n",
        "    rows_with_matches = df[column].isin(close_matches)\n",
        "\n",
        "    # replace all rows with close matches with the input matches \n",
        "    df.loc[rows_with_matches, column] = string_to_match\n",
        "    \n",
        "    # let us know the function's done\n",
        "    print(\"All done!\")\n",
        "    print(strings, len(strings))"
      ]
    },
    {
      "cell_type": "code",
      "execution_count": null,
      "metadata": {},
      "outputs": [],
      "source": [
        "\n",
        "def replace_colors(df,column, color):\n",
        "    shades= [c for c in column if c.lower().strip().startswith(color) ]\n",
        "    rows_with_matches=df[\"color\"].isin(shades)\n",
        "    df.loc[rows_with_matches, \"color\"]=color\n",
        "     "
      ]
    },
    {
      "cell_type": "code",
      "execution_count": null,
      "metadata": {},
      "outputs": [],
      "source": [
        "replace_colors(cars,colors,\"gris\")\n",
        "replace_colors(cars,colors,\"bleu\")\n",
        "replace_colors(cars,colors,\"blanc\")\n",
        "replace_colors(cars,colors,\"vert\")\n",
        "replace_colors(cars,colors,\"rouge\")\n",
        "replace_colors(cars,colors,\"noir\")\n"
      ]
    },
    {
      "cell_type": "code",
      "execution_count": null,
      "metadata": {},
      "outputs": [],
      "source": [
        "colors = cars[\"color\"].unique()\n",
        "print(colors, len(colors))\n",
        "len(cars[cars[\"color\"].isna()])"
      ]
    },
    {
      "attachments": {},
      "cell_type": "markdown",
      "metadata": {},
      "source": [
        "Unify and fix the values of the \"color\" column\n"
      ]
    },
    {
      "cell_type": "code",
      "execution_count": null,
      "metadata": {},
      "outputs": [],
      "source": [
        "my_dict = {\n",
        "    \"Argent\": \"Gris\",\n",
        "    \"Feuille D'Argent\": \"Gris\",\n",
        "    \"Titanium\": \"Gris\",\n",
        "    \"Miel\": \"Doré\",\n",
        "    \"Champagne\": \"Jaune\",\n",
        "    \"Grenadine\": \"Rouge\",\n",
        "    \"Rouge Bordeaux\": \"Rouge\",\n",
        "    \"Mauve Gris\": \"Mauve\",\n",
        "    \"Aubergine\": \"Violet\",\n",
        "    \"Maran\": \"Marron\",\n",
        "    \"Corail\": \"Orange\",\n",
        "}\n",
        "cars.replace({\"color\": my_dict}, inplace=True)\n",
        "colors = cars[\"color\"].unique()\n",
        "print(colors, len(colors))\n",
        "len(cars[cars[\"color\"].isna()])\n"
      ]
    },
    {
      "cell_type": "code",
      "execution_count": null,
      "metadata": {},
      "outputs": [],
      "source": [
        "\n",
        "# my_dict = {\n",
        "#     \"Blanche\": \"Blanc\",\n",
        "#     \"Blanc Cristal\": \"Blanc\",\n",
        "#     \"Grise\": \"Gris\",\n",
        "#     \"Gris Métallisé\": \"Gris\",\n",
        "#     \"Grise Metalisee\": \"Gris\",\n",
        "#     \"Grise Métallisée\": \"Gris\",\n",
        "#     \"Gris Clair Métallisé\": \"Gris\",\n",
        "#     \"Gris Foncé\": \"Gris\",\n",
        "#     \"Gris Charbon\": \"Gris\",\n",
        "#     \"Gris Magnetic\": \"Gris\",\n",
        "#     \"Bleu Gris\": \"Bleu\",\n",
        "#     \"Bleu/Gris\": \"Bleu\",\n",
        "#     \"Bleu Roi\": \"Bleu\",\n",
        "#     \"Bleu Métallisée\": \"Bleu\",\n",
        "#     \"Gris Titanium\": \"Argent\",\n",
        "#     \"Gris Titanuim\": \"Argent\",\n",
        "#     \"Gris Argent\": \"Argent\",\n",
        "#     \"Feuille D'Argent\": \"Argent\",\n",
        "#     \"Titanium\": \"Argent\",\n",
        "#     \"Miel\": \"Jaune\",\n",
        "#     \"Champagne\": \"Jaune\",\n",
        "#     \"Grenadine\": \"Rouge\",\n",
        "#     \"Rouge Bordeaux\": \"Rouge\",\n",
        "#     \"Mauve Gris\": \"Violet\",\n",
        "#     \"Aubergine\": \"Violet\",\n",
        "#     \"Noire\": \"Noir\",\n",
        "#     \"Maran\": \"Marron\",\n",
        "#     \"Corail\": \"Orange\",\n",
        "# }\n",
        "# cars.replace({\"color\": my_dict}, inplace=True)\n"
      ]
    },
    {
      "attachments": {},
      "cell_type": "markdown",
      "metadata": {},
      "source": [
        "If color is \"*****\" -> color = nan\n"
      ]
    },
    {
      "cell_type": "code",
      "execution_count": null,
      "metadata": {},
      "outputs": [],
      "source": [
        "\n",
        "specified_color = cars[\"color\"] == \"*****\"\n",
        "cars[specified_color] = np.nan"
      ]
    },
    {
      "attachments": {},
      "cell_type": "markdown",
      "metadata": {},
      "source": [
        "## model"
      ]
    },
    {
      "attachments": {},
      "cell_type": "markdown",
      "metadata": {},
      "source": [
        "## brand"
      ]
    },
    {
      "attachments": {},
      "cell_type": "markdown",
      "metadata": {},
      "source": [
        "## body work"
      ]
    },
    {
      "attachments": {},
      "cell_type": "markdown",
      "metadata": {},
      "source": [
        "Convert N.D to nan in the \"power\" column"
      ]
    },
    {
      "cell_type": "code",
      "execution_count": null,
      "metadata": {},
      "outputs": [],
      "source": [
        "\n",
        "power_is_ND = cars[\"power\"] == \"N.D\"\n",
        "cars.loc[power_is_ND, \"power\"] = np.nan"
      ]
    },
    {
      "attachments": {},
      "cell_type": "markdown",
      "metadata": {},
      "source": [
        "Convert the column \"power\" to float"
      ]
    },
    {
      "cell_type": "code",
      "execution_count": null,
      "metadata": {},
      "outputs": [],
      "source": [
        "\n",
        "contains_CV = cars[\"power\"].str.contains(\"C\") & cars[\"power\"].notna()\n",
        "cars.loc[contains_CV, \"power\"] = cars.loc[contains_CV, \"power\"].apply(\n",
        "    lambda string: string.split()[0]\n",
        ")\n",
        "cars[\"power\"] = cars[\"power\"].astype(np.float64)\n"
      ]
    },
    {
      "attachments": {},
      "cell_type": "markdown",
      "metadata": {},
      "source": [
        "If power > 200 -> power = nan"
      ]
    },
    {
      "cell_type": "code",
      "execution_count": null,
      "metadata": {},
      "outputs": [],
      "source": [
        "\n",
        "power_over_200 = cars[\"power\"] > 200\n",
        "cars.loc[power_over_200, \"power\"] = np.nan\n"
      ]
    },
    {
      "attachments": {},
      "cell_type": "markdown",
      "metadata": {},
      "source": [
        "Convert the column \"engine_size\" to float"
      ]
    },
    {
      "cell_type": "code",
      "execution_count": null,
      "metadata": {},
      "outputs": [],
      "source": [
        "contains_symbol = cars[\"engine_size\"].str.contains(\"[><]\") & cars[\"engine_size\"].notna()\n",
        "cars.loc[contains_symbol, \"engine_size\"] = cars.loc[contains_symbol, \"engine_size\"].apply(\n",
        "    lambda string: string[1:]\n",
        ")\n",
        "cars.loc[cars[\"engine_size\"].notna(), \"engine_size\"] = cars.loc[\n",
        "    cars[\"engine_size\"].notna(), \"engine_size\"\n",
        "].apply(lambda string: string[:-1])\n",
        "cars[\"engine_size\"] = cars[\"engine_size\"].astype(np.float64)\n"
      ]
    },
    {
      "attachments": {},
      "cell_type": "markdown",
      "metadata": {},
      "source": [
        "# Dates"
      ]
    },
    {
      "attachments": {},
      "cell_type": "markdown",
      "metadata": {},
      "source": [
        "Turn \"date_added\" column to datetime"
      ]
    },
    {
      "cell_type": "code",
      "execution_count": null,
      "metadata": {},
      "outputs": [],
      "source": [
        "\n",
        "contains_hyphen = cars[\"year\"].str.contains(\"-\") & cars[\"year\"].notna()\n",
        "cars.loc[contains_hyphen, \"year\"] = cars.loc[contains_hyphen, \"year\"].apply(\n",
        "    lambda string: string.split(\"-\")[1]\n",
        ")\n",
        "contains_point = cars[\"year\"].str.contains(\"[.]\") & cars[\"year\"].notna()\n",
        "cars.loc[contains_point, \"year\"] = cars.loc[contains_point, \"year\"].apply(\n",
        "    lambda string: string.split(\".\")[-1]\n",
        ")\n",
        "cars[\"year\"] = cars[\"year\"].astype(np.float64)"
      ]
    },
    {
      "attachments": {},
      "cell_type": "markdown",
      "metadata": {},
      "source": [
        "If 10<= year <= 23 -> year += 2000, if 60 <= year -> year += 1900, else year = nan"
      ]
    },
    {
      "cell_type": "code",
      "execution_count": null,
      "metadata": {},
      "outputs": [],
      "source": [
        "\n",
        "year_between_0_and_23 = (cars[\"year\"] >= 10) & (cars[\"year\"] <= 23)\n",
        "cars.loc[year_between_0_and_23, \"year\"] += 2000\n",
        "year_more_than_60 = (cars[\"year\"] >= 60) & (cars[\"year\"] <= 99)\n",
        "cars.loc[year_more_than_60, \"year\"] += 1900\n",
        "correct_year = (cars[\"year\"] >= 1960) & (cars[\"year\"] <= 2023)\n",
        "cars.loc[~correct_year, \"year\"] = np.nan\n"
      ]
    },
    {
      "attachments": {},
      "cell_type": "markdown",
      "metadata": {},
      "source": [
        "Remove month from year in the \"year\" column and convert it to float"
      ]
    },
    {
      "cell_type": "code",
      "execution_count": null,
      "metadata": {},
      "outputs": [],
      "source": [
        "\n",
        "cars[\"date_added\"] = pd.to_datetime(cars[\"date_added\"])"
      ]
    },
    {
      "attachments": {},
      "cell_type": "markdown",
      "metadata": {},
      "source": [
        "# Dropping duplicates"
      ]
    },
    {
      "cell_type": "code",
      "execution_count": null,
      "metadata": {},
      "outputs": [],
      "source": [
        "\n",
        "cars.drop_duplicates(inplace=True)\n"
      ]
    },
    {
      "cell_type": "code",
      "execution_count": null,
      "metadata": {},
      "outputs": [],
      "source": [
        "cars.to_csv(\"./new_clean_data.csv\")\n",
        "cars.info()\n"
      ]
    }
  ],
  "metadata": {
    "kernelspec": {
      "display_name": "data-science",
      "language": "python",
      "name": "python3"
    },
    "language_info": {
      "codemirror_mode": {
        "name": "ipython",
        "version": 3
      },
      "file_extension": ".py",
      "mimetype": "text/x-python",
      "name": "python",
      "nbconvert_exporter": "python",
      "pygments_lexer": "ipython3",
      "version": "3.10.2"
    },
    "orig_nbformat": 4,
    "vscode": {
      "interpreter": {
        "hash": "dc2bd3b27271d03bf2eec87812cad119e0cb1920e9796b1f5a29990c3e7b9536"
      }
    }
  },
  "nbformat": 4,
  "nbformat_minor": 2
}
