{
  "cells": [
    {
      "cell_type": "code",
      "execution_count": null,
      "metadata": {},
      "outputs": [],
      "source": [
        "import pandas as pd\n",
        "import numpy as np\n",
        "import seaborn as sns\n",
        "import matplotlib.pyplot as plt\n",
        "from thefuzz import fuzz\n",
        "from thefuzz import process\n",
        "\n",
        "cars = pd.read_csv(\"./concatenated_data.csv\", index_col=0)\n",
        "del cars[\"description\"]\n",
        "cars.columns = [\n",
        "    \"brand\",\n",
        "    \"model\",\n",
        "    \"price\",\n",
        "    \"mileage\",\n",
        "    \"year\",\n",
        "    \"location\",\n",
        "    \"date_added\",\n",
        "    \"body_type\",\n",
        "    \"fuel\",\n",
        "    \"power\",\n",
        "    \"transmission\",\n",
        "    \"color\",\n",
        "    \"price_new\",\n",
        "    \"engine_size\",\n",
        "]\n",
        "cars.info()\n"
      ]
    },
    {
      "attachments": {},
      "cell_type": "markdown",
      "metadata": {},
      "source": [
        "# Overview\n"
      ]
    },
    {
      "cell_type": "code",
      "execution_count": null,
      "metadata": {},
      "outputs": [],
      "source": [
        "cars.describe()"
      ]
    },
    {
      "cell_type": "code",
      "execution_count": null,
      "metadata": {},
      "outputs": [],
      "source": [
        "def summary_statistics(dataset):\n",
        "    print(\" summary statistics\")\n",
        "    mean = np.round(np.mean(dataset), 2)\n",
        "    median = np.round(np.nanmedian(dataset), 2)\n",
        "    min_value = np.round(dataset.min(), 2)\n",
        "    max_value = np.round(dataset.max(), 2)\n",
        "    q1 = np.round(dataset.quantile(0.25), 2)\n",
        "    q3 = np.round(dataset.quantile(0.75), 2)\n",
        "    # Interquartile range\n",
        "    iqr = np.round(q3 - q1, 2)\n",
        "    print(\"Min: %s\" % min_value)\n",
        "    print(\"Mean: %s\" % mean)\n",
        "    print(\"Max: %s\" % max_value)\n",
        "    print(\"25th percentile: %s\" % q1)\n",
        "    print(\"Median: %s\" % median)\n",
        "    print(\"75th percentile: %s\" % q3)\n",
        "    print(\"Interquartile range (IQR): %s\" % iqr)\n"
      ]
    },
    {
      "attachments": {},
      "cell_type": "markdown",
      "metadata": {},
      "source": [
        "# Strings\n"
      ]
    },
    {
      "attachments": {},
      "cell_type": "markdown",
      "metadata": {},
      "source": [
        "Applying str.title() to each column and specifying the field datatype\n"
      ]
    },
    {
      "cell_type": "code",
      "execution_count": null,
      "metadata": {},
      "outputs": [],
      "source": [
        "for col in cars.columns:\n",
        "    if cars[col].dtype == \"object\":\n",
        "        cars[col] = cars[col].str.title()\n"
      ]
    },
    {
      "cell_type": "code",
      "execution_count": null,
      "metadata": {},
      "outputs": [],
      "source": [
        "def explore_strings(df, column):\n",
        "    # Specifying the field datatype\n",
        "    df[column] = df[column].fillna(\"\").astype(str)\n",
        "    strings = df[column].unique()\n",
        "    print(f\"distinct {column}s : \", strings)\n",
        "    print(f\"number of distinct {column}s : \", len(strings) - 1)  # do not count \"\"\n",
        "    return strings\n"
      ]
    },
    {
      "attachments": {},
      "cell_type": "markdown",
      "metadata": {},
      "source": [
        "## Location\n"
      ]
    },
    {
      "attachments": {},
      "cell_type": "markdown",
      "metadata": {},
      "source": [
        "Exploring the values of \"location\" column\n"
      ]
    },
    {
      "cell_type": "code",
      "execution_count": null,
      "metadata": {},
      "outputs": [],
      "source": [
        "locations = explore_strings(cars, \"location\")\n"
      ]
    },
    {
      "cell_type": "code",
      "execution_count": null,
      "metadata": {},
      "outputs": [],
      "source": [
        "def get_matches(df, column, string_to_match, min_ratio=50):\n",
        "    strings = df[column].unique()\n",
        "\n",
        "    # get the top 10 closest matches to our input string\n",
        "    matches = process.extract(\n",
        "        string_to_match, strings, limit=10, scorer=fuzz.token_sort_ratio\n",
        "    )\n",
        "    # only get matches with a ratio >= min_ratio\n",
        "    close_matches = [matches[0] for matches in matches if matches[1] >= min_ratio]\n",
        "    return close_matches\n"
      ]
    },
    {
      "cell_type": "code",
      "execution_count": null,
      "metadata": {},
      "outputs": [],
      "source": [
        "def explore_matches(df, column, ratio=60):\n",
        "    strings = df[column].unique()\n",
        "    seen = set()\n",
        "    for s in strings:\n",
        "        if s in seen:\n",
        "            continue\n",
        "        if s == \"\":\n",
        "            continue\n",
        "        close_matches = get_matches(df, column, s, ratio)\n",
        "        seen.update(close_matches)\n",
        "        if len(close_matches) >= 2:\n",
        "            print(f\"close matches of {s}: {close_matches}\")\n"
      ]
    },
    {
      "cell_type": "code",
      "execution_count": null,
      "metadata": {},
      "outputs": [],
      "source": [
        "explore_matches(cars, \"location\")\n"
      ]
    },
    {
      "attachments": {},
      "cell_type": "markdown",
      "metadata": {},
      "source": [
        "Unify and fix the values of the \"location\" column\n"
      ]
    },
    {
      "cell_type": "code",
      "execution_count": null,
      "metadata": {},
      "outputs": [],
      "source": [
        "my_dict = {\"La Manouba\": \"Manouba\", \"Gabès\": \"Gabes\"}\n",
        "cars.replace({\"location\": my_dict}, inplace=True)\n"
      ]
    },
    {
      "cell_type": "code",
      "execution_count": null,
      "metadata": {},
      "outputs": [],
      "source": [
        "locations = explore_strings(cars, \"location\")\n"
      ]
    },
    {
      "attachments": {},
      "cell_type": "markdown",
      "metadata": {},
      "source": [
        "## Color\n"
      ]
    },
    {
      "cell_type": "code",
      "execution_count": null,
      "metadata": {},
      "outputs": [],
      "source": [
        "colors = explore_strings(cars, \"color\")\n"
      ]
    },
    {
      "attachments": {},
      "cell_type": "markdown",
      "metadata": {},
      "source": [
        "Brouillon\n"
      ]
    },
    {
      "cell_type": "code",
      "execution_count": null,
      "metadata": {},
      "outputs": [],
      "source": [
        "# get all the words that match \"gris\"\n",
        "matches = process.extract(\"gris\", colors, limit=20, scorer=fuzz.token_sort_ratio)\n",
        "# take a look at them to choose min_ratio\n",
        "matches\n"
      ]
    },
    {
      "cell_type": "code",
      "execution_count": null,
      "metadata": {},
      "outputs": [],
      "source": [
        "colors_gris = [\"gris\" if c.lower().startswith(\"gris\") else c for c in colors]\n",
        "\n",
        "colors_gris = [c[:-4] if c.lower().endswith(\"gris\") else c for c in colors_gris]\n",
        "\n",
        "matches = process.extract(\"Gris a\", colors, limit=30, scorer=fuzz.token_sort_ratio)\n",
        "score = fuzz.token_sort_ratio(\"gris \", \"Gris Anthracite\")\n",
        "print(score)\n",
        "matches"
      ]
    },
    {
      "cell_type": "code",
      "execution_count": null,
      "metadata": {},
      "outputs": [],
      "source": [
        "def replace_matches_in_column(df, column, string_to_match, min_ratio=47):\n",
        "    # only get matches with a ratio > 90\n",
        "    close_matches = get_matches(df, column, string_to_match, min_ratio)\n",
        "\n",
        "    # get the rows of all the close matches in our dataframe\n",
        "    rows_with_matches = df[column].isin(close_matches)\n",
        "\n",
        "    # replace all rows with close matches with the input matches\n",
        "    df.loc[rows_with_matches, column] = string_to_match\n",
        "\n",
        "    # let us know the function's done\n",
        "    print(\"All done!\")\n"
      ]
    },
    {
      "cell_type": "code",
      "execution_count": null,
      "metadata": {},
      "outputs": [],
      "source": [
        "def replace_colors(df, column, color):\n",
        "    shades = [c for c in column if c.lower().strip().startswith(color)]\n",
        "    rows_with_matches = df[\"color\"].isin(shades)\n",
        "    df.loc[rows_with_matches, \"color\"] = color.title()\n"
      ]
    },
    {
      "cell_type": "code",
      "execution_count": null,
      "metadata": {},
      "outputs": [],
      "source": [
        "replace_colors(cars, colors, \"gris\")\n",
        "replace_colors(cars, colors, \"bleu\")\n",
        "replace_colors(cars, colors, \"blanc\")\n",
        "replace_colors(cars, colors, \"vert\")\n",
        "replace_colors(cars, colors, \"rouge\")\n",
        "replace_colors(cars, colors, \"noir\")"
      ]
    },
    {
      "attachments": {},
      "cell_type": "markdown",
      "metadata": {},
      "source": [
        "Unify and fix the values of the \"color\" column\n"
      ]
    },
    {
      "cell_type": "code",
      "execution_count": null,
      "metadata": {},
      "outputs": [],
      "source": [
        "my_dict = {\n",
        "    \"Argent\": \"Gris\",\n",
        "    \"Feuille D'Argent\": \"Gris\",\n",
        "    \"Titanium\": \"Gris\",\n",
        "    \"Miel\": \"Doré\",\n",
        "    \"Champagne\": \"Jaune\",\n",
        "    \"Grenadine\": \"Rouge\",\n",
        "    \"Rouge Bordeaux\": \"Rouge\",\n",
        "    \"Mauve Gris\": \"Mauve\",\n",
        "    \"Aubergine\": \"Violet\",\n",
        "    \"Maran\": \"Marron\",\n",
        "    \"Corail\": \"Orange\",\n",
        "}\n",
        "cars.replace({\"color\": my_dict}, inplace=True)"
      ]
    },
    {
      "attachments": {},
      "cell_type": "markdown",
      "metadata": {},
      "source": [
        "If color is \"**\\***\" -> color = nan\n"
      ]
    },
    {
      "cell_type": "code",
      "execution_count": null,
      "metadata": {},
      "outputs": [],
      "source": [
        "specified_color = cars[\"color\"] == \"*****\"\n",
        "cars[specified_color] = np.nan\n"
      ]
    },
    {
      "cell_type": "code",
      "execution_count": null,
      "metadata": {},
      "outputs": [],
      "source": [
        "colors_clean = explore_strings(cars, \"color\")\n"
      ]
    },
    {
      "attachments": {},
      "cell_type": "markdown",
      "metadata": {},
      "source": [
        "## Model\n"
      ]
    },
    {
      "cell_type": "code",
      "execution_count": null,
      "metadata": {},
      "outputs": [],
      "source": [
        "models = explore_strings(cars, \"model\")\n"
      ]
    },
    {
      "cell_type": "code",
      "execution_count": null,
      "metadata": {},
      "outputs": [],
      "source": [
        "already = set()\n",
        "k = 0\n",
        "for m in models:\n",
        "    if m == \"\":\n",
        "        continue\n",
        "    if m in already:\n",
        "        continue\n",
        "\n",
        "    close_matches = get_matches(cars, \"model\", m, 80)\n",
        "    already.update(set(close_matches))\n",
        "    if len(close_matches) >= 2:\n",
        "        k += 1\n",
        "        print(f\"close matches of {m}: {close_matches}\")\n",
        "\n",
        "\n",
        "print(k)\n"
      ]
    },
    {
      "attachments": {},
      "cell_type": "markdown",
      "metadata": {},
      "source": [
        "Unify and fix the values of the \"model\" column\n"
      ]
    },
    {
      "cell_type": "code",
      "execution_count": null,
      "metadata": {},
      "outputs": [],
      "source": [
        "my_dict = {\n",
        "    \"D-Max\": \"D Max\",\n",
        "    \"H-1\": \"H 1\",\n",
        "    \"Over.Range Rover Sport\": \"Range Rover Sport\",\n",
        "    \"Hr-V\": \"Hr V\",\n",
        "    \"Bt-50\": \"Bt 50\",\n",
        "    \"Hi.Lux\": \"Hilux\",\n",
        "    \"Cx 5\": \"Cx 5\",\n",
        "    \"C-Elysee\": \"C Elysée\",\n",
        "    \"C Elysee\": \"C Elysée\",\n",
        "    \"Cx-9\": \"Cx 9\",\n",
        "    \"Autres\": \"Autre\",\n",
        "    \"X-Trail\": \"X Trail\",\n",
        "    \"Country Man\": \"Countryman\",\n",
        "    \".Country Man\": \"Countryman\",\n",
        "    \"PickUp\": \"Pickup\",\n",
        "    \"Cee'D\": \"Ceed\",\n",
        "    \"C'Eed\": \"Ceed\",\n",
        "    \"Serie 1\": \"Série 1\",\n",
        "    \"Hi.Ace\": \"Hi Ace\",\n",
        "    \"Gol\": \"Golf\",\n",
        "    \"Volkswagen.Golf\": \"Golf\",\n",
        "    \"Volkswagen.Polo\": \"Polo\",\n",
        "}\n",
        "cars.replace({\"model\": my_dict}, inplace=True)"
      ]
    },
    {
      "cell_type": "code",
      "execution_count": null,
      "metadata": {},
      "outputs": [],
      "source": [
        "models_clean = explore_strings(cars, \"model\")\n"
      ]
    },
    {
      "attachments": {},
      "cell_type": "markdown",
      "metadata": {},
      "source": [
        "## Brand\n"
      ]
    },
    {
      "cell_type": "code",
      "execution_count": null,
      "metadata": {},
      "outputs": [],
      "source": [
        "brands = explore_strings(cars, \"brand\").sort()\n"
      ]
    },
    {
      "cell_type": "code",
      "execution_count": null,
      "metadata": {},
      "outputs": [],
      "source": [
        "explore_matches(cars, \"brand\", 70)\n"
      ]
    },
    {
      "cell_type": "code",
      "execution_count": null,
      "metadata": {},
      "outputs": [],
      "source": [
        "my_dict = {\n",
        "    \"Mercedes-Benz\": \"Mercedes Benz\",\n",
        "    \"Mercedes\": \"Mercedes Benz\",\n",
        "    \"Land-Rover\": \"Land Rover\",\n",
        "}\n",
        "cars.replace({\"brand\": my_dict}, inplace=True)\n"
      ]
    },
    {
      "cell_type": "code",
      "execution_count": null,
      "metadata": {},
      "outputs": [],
      "source": [
        "brands = explore_strings(cars, \"brand\")\n"
      ]
    },
    {
      "attachments": {},
      "cell_type": "markdown",
      "metadata": {},
      "source": [
        "## Body Type\n"
      ]
    },
    {
      "cell_type": "code",
      "execution_count": null,
      "metadata": {},
      "outputs": [],
      "source": [
        "body_types = explore_strings(cars, \"body_type\")\n"
      ]
    },
    {
      "attachments": {},
      "cell_type": "markdown",
      "metadata": {},
      "source": [
        "## Fuel\n"
      ]
    },
    {
      "cell_type": "code",
      "execution_count": null,
      "metadata": {},
      "outputs": [],
      "source": [
        "fuels = explore_strings(cars, \"fuel\")\n"
      ]
    },
    {
      "attachments": {},
      "cell_type": "markdown",
      "metadata": {},
      "source": [
        "Unify and fix the values of the \"fuel\" column\n"
      ]
    },
    {
      "cell_type": "code",
      "execution_count": null,
      "metadata": {},
      "outputs": [],
      "source": [
        "my_dict = {\n",
        "    \"Hybride (Essence/Électrique)\": \"Hybride\",\n",
        "    \"Hybride (Diesel/Électrique)\": \"Hybride\",\n",
        "}\n",
        "cars.replace({\"fuel\": my_dict}, inplace=True)"
      ]
    },
    {
      "cell_type": "code",
      "execution_count": null,
      "metadata": {},
      "outputs": [],
      "source": [
        "fuel_clean = explore_strings(cars, \"fuel\")"
      ]
    },
    {
      "attachments": {},
      "cell_type": "markdown",
      "metadata": {},
      "source": [
        "## Transmission\n"
      ]
    },
    {
      "cell_type": "code",
      "execution_count": null,
      "metadata": {},
      "outputs": [],
      "source": [
        "transmissions = explore_strings(cars, \"transmission\")\n"
      ]
    },
    {
      "attachments": {},
      "cell_type": "markdown",
      "metadata": {},
      "source": [
        "Unify and fix the values of the \"transmission\" column\n"
      ]
    },
    {
      "cell_type": "code",
      "execution_count": null,
      "metadata": {},
      "outputs": [],
      "source": [
        "my_dict = {\n",
        "    \"Mécanique\": \"Manuelle\",\n",
        "}\n",
        "cars.replace({\"transmission\": my_dict}, inplace=True)\n"
      ]
    },
    {
      "cell_type": "code",
      "execution_count": null,
      "metadata": {},
      "outputs": [],
      "source": [
        "transmission_clean = explore_strings(cars, \"transmission\")\n"
      ]
    },
    {
      "attachments": {},
      "cell_type": "markdown",
      "metadata": {},
      "source": [
        "Convert the column \"engine_size\" to float\n"
      ]
    },
    {
      "attachments": {},
      "cell_type": "markdown",
      "metadata": {},
      "source": []
    },
    {
      "attachments": {},
      "cell_type": "markdown",
      "metadata": {},
      "source": []
    },
    {
      "cell_type": "code",
      "execution_count": null,
      "metadata": {},
      "outputs": [],
      "source": [
        "contains_symbol = cars[\"engine_size\"].str.contains(\"[><]\") & cars[\"engine_size\"].notna()\n",
        "cars.loc[contains_symbol, \"engine_size\"] = cars.loc[\n",
        "    contains_symbol, \"engine_size\"\n",
        "].apply(lambda string: string[1:])\n",
        "cars.loc[cars[\"engine_size\"].notna(), \"engine_size\"] = cars.loc[\n",
        "    cars[\"engine_size\"].notna(), \"engine_size\"\n",
        "].apply(lambda string: string[:-1])\n",
        "cars[\"engine_size\"] = cars[\"engine_size\"].astype(np.float64)\n"
      ]
    },
    {
      "attachments": {},
      "cell_type": "markdown",
      "metadata": {},
      "source": [
        "'' to nan"
      ]
    },
    {
      "cell_type": "code",
      "execution_count": null,
      "metadata": {},
      "outputs": [],
      "source": [
        "cars = cars.replace('', np.nan)\n",
        "# cars.info()\n",
        "\n",
        "# print( cars[\"color\"].unique())"
      ]
    },
    {
      "attachments": {},
      "cell_type": "markdown",
      "metadata": {},
      "source": [
        "# Dropping duplicates\n"
      ]
    },
    {
      "cell_type": "code",
      "execution_count": null,
      "metadata": {},
      "outputs": [],
      "source": [
        "cars.drop_duplicates(inplace=True)\n"
      ]
    },
    {
      "cell_type": "code",
      "execution_count": null,
      "metadata": {},
      "outputs": [],
      "source": [
        "cars.to_csv(\"./new_clean_data.csv\")\n",
        "cars.info()\n"
      ]
    },
    {
      "attachments": {},
      "cell_type": "markdown",
      "metadata": {},
      "source": [
        "# Dates\n"
      ]
    },
    {
      "attachments": {},
      "cell_type": "markdown",
      "metadata": {},
      "source": [
        "Turn \"date_added\" column to datetime\n"
      ]
    },
    {
      "cell_type": "code",
      "execution_count": null,
      "metadata": {},
      "outputs": [],
      "source": [
        "contains_hyphen = cars[\"year\"].str.contains(\"-\") & cars[\"year\"].notna()\n",
        "cars.loc[contains_hyphen, \"year\"] = cars.loc[contains_hyphen, \"year\"].apply(\n",
        "    lambda string: string.split(\"-\")[1]\n",
        ")\n",
        "contains_point = cars[\"year\"].str.contains(\"[.]\") & cars[\"year\"].notna()\n",
        "cars.loc[contains_point, \"year\"] = cars.loc[contains_point, \"year\"].apply(\n",
        "    lambda string: string.split(\".\")[-1]\n",
        ")\n",
        "cars[\"year\"] = cars[\"year\"].astype(np.float64)\n"
      ]
    },
    {
      "attachments": {},
      "cell_type": "markdown",
      "metadata": {},
      "source": [
        "If 10<= year <= 23 -> year += 2000, if 60 <= year -> year += 1900, else year = nan\n"
      ]
    },
    {
      "cell_type": "code",
      "execution_count": null,
      "metadata": {},
      "outputs": [],
      "source": [
        "year_between_0_and_23 = (cars[\"year\"] >= 10) & (cars[\"year\"] <= 23)\n",
        "cars.loc[year_between_0_and_23, \"year\"] += 2000\n",
        "year_more_than_60 = (cars[\"year\"] >= 60) & (cars[\"year\"] <= 99)\n",
        "cars.loc[year_more_than_60, \"year\"] += 1900\n",
        "correct_year = (cars[\"year\"] >= 1960) & (cars[\"year\"] <= 2023)\n",
        "cars.loc[~correct_year, \"year\"] = np.nan\n"
      ]
    },
    {
      "attachments": {},
      "cell_type": "markdown",
      "metadata": {},
      "source": [
        "Remove month from year in the \"year\" column and convert it to float\n"
      ]
    },
    {
      "cell_type": "code",
      "execution_count": null,
      "metadata": {},
      "outputs": [],
      "source": [
        "cars[\"date_added\"] = pd.to_datetime(cars[\"date_added\"])\n"
      ]
    },
    {
      "attachments": {},
      "cell_type": "markdown",
      "metadata": {},
      "source": [
        "EDA"
      ]
    },
    {
      "cell_type": "code",
      "execution_count": null,
      "metadata": {},
      "outputs": [],
      "source": [
        "# year_between_0_and_23 = (cars[\"year\"] >= 10) & (cars[\"year\"] <= 23)\n",
        "# cars.loc[year_between_0_and_23, \"year\"] += 2000\n",
        "years=cars[\"year\"].sort_values().unique()\n",
        "years"
      ]
    },
    {
      "attachments": {},
      "cell_type": "markdown",
      "metadata": {},
      "source": [
        "# Numerical Data\n"
      ]
    },
    {
      "attachments": {},
      "cell_type": "markdown",
      "metadata": {},
      "source": [
        "## Mileage\n"
      ]
    },
    {
      "attachments": {},
      "cell_type": "markdown",
      "metadata": {},
      "source": [
        "mileage -> abs(mileage)\n"
      ]
    },
    {
      "cell_type": "code",
      "execution_count": null,
      "metadata": {},
      "outputs": [],
      "source": [
        "cars[\"mileage\"] = abs(cars[\"mileage\"])\n"
      ]
    },
    {
      "attachments": {},
      "cell_type": "markdown",
      "metadata": {},
      "source": [
        "If mileage < 10 -> mileage = nan\n"
      ]
    },
    {
      "cell_type": "code",
      "execution_count": null,
      "metadata": {},
      "outputs": [],
      "source": [
        "mileage_less_than_10 = cars[\"mileage\"] < 10\n",
        "cars.loc[mileage_less_than_10, \"mileage\"] = np.nan\n"
      ]
    },
    {
      "attachments": {},
      "cell_type": "markdown",
      "metadata": {},
      "source": [
        "If mileage <= 1000 -> mileage \\*= 1000\n"
      ]
    },
    {
      "cell_type": "code",
      "execution_count": null,
      "metadata": {},
      "outputs": [],
      "source": [
        "mileage_less_than_1000 = cars[\"mileage\"] <= 1000\n",
        "cars.loc[mileage_less_than_1000, \"mileage\"] *= 1000\n"
      ]
    },
    {
      "attachments": {},
      "cell_type": "markdown",
      "metadata": {},
      "source": [
        "If mileage >= 1 000 000 -> mileage = nan\n"
      ]
    },
    {
      "cell_type": "code",
      "execution_count": null,
      "metadata": {},
      "outputs": [],
      "source": [
        "mileage_over_1000000 = cars[\"mileage\"] >= 1000000\n",
        "cars.loc[mileage_over_1000000, \"mileage\"] = np.nan\n"
      ]
    },
    {
      "cell_type": "code",
      "execution_count": null,
      "metadata": {},
      "outputs": [],
      "source": [
        "mileage_over_1000000 = cars[\"mileage\"] <5000\n",
        "cars.loc[mileage_over_1000000, [\"model\",\"price\",\"mileage\", \"year\"]].sort_values(by=\"mileage\", ascending=False)\n",
        "\n",
        "# conclusion : milegae < 4000 & year <= 2020 -> np.nan "
      ]
    },
    {
      "cell_type": "code",
      "execution_count": null,
      "metadata": {},
      "outputs": [],
      "source": [
        "mileage_under_4000 = cars[\"mileage\"] <4000\n",
        "old=cars[\"year\"]< 2020\n",
        "cars.loc[mileage_under_4000 & old, [\"model\",\"price\",\"mileage\", \"year\"]].sort_values(by=\"mileage\", ascending=False)\n"
      ]
    },
    {
      "cell_type": "code",
      "execution_count": null,
      "metadata": {},
      "outputs": [],
      "source": [
        "cars.loc[mileage_under_4000 & old, \"mileage\"]=np.nan\n"
      ]
    },
    {
      "attachments": {},
      "cell_type": "markdown",
      "metadata": {},
      "source": [
        "## Getting outliers\n"
      ]
    },
    {
      "cell_type": "code",
      "execution_count": null,
      "metadata": {},
      "outputs": [],
      "source": [
        "def get_outliers_z_score(df, column, threshold=4):\n",
        "    mean = np.mean(df[column])\n",
        "    std = np.std(df[column])\n",
        "    return abs((df[column] - mean) / std) > threshold\n"
      ]
    },
    {
      "cell_type": "code",
      "execution_count": null,
      "metadata": {},
      "outputs": [],
      "source": [
        "def get_outliers_iqr(df, column):\n",
        "    q1 = np.percentile(df.loc[df[column].notna(), column], 25)\n",
        "    q3 = np.percentile(df.loc[df[column].notna(), column], 75)\n",
        "\n",
        "    iqr = q3 - q1\n",
        "\n",
        "    lower_bound = q1 - 1.5 * iqr\n",
        "    upper_bound = q3 + 1.5 * iqr\n",
        "    return (df[column] > upper_bound) | (df[column] < lower_bound)\n"
      ]
    },
    {
      "attachments": {},
      "cell_type": "markdown",
      "metadata": {},
      "source": [
        "## Power\n"
      ]
    },
    {
      "attachments": {},
      "cell_type": "markdown",
      "metadata": {},
      "source": [
        "Convert N.D to nan in the \"power\" column\n"
      ]
    },
    {
      "cell_type": "code",
      "execution_count": null,
      "metadata": {},
      "outputs": [],
      "source": [
        "power_is_ND = cars[\"power\"] == \"N.D\"\n",
        "cars.loc[power_is_ND, \"power\"] = np.nan\n"
      ]
    },
    {
      "attachments": {},
      "cell_type": "markdown",
      "metadata": {},
      "source": [
        "Convert the column \"power\" to float\n"
      ]
    },
    {
      "cell_type": "code",
      "execution_count": null,
      "metadata": {},
      "outputs": [],
      "source": [
        "contains_CV = cars[\"power\"].str.contains(\"C\") & cars[\"power\"].notna()\n",
        "cars.loc[contains_CV, \"power\"] = cars.loc[contains_CV, \"power\"].apply(\n",
        "    lambda string: string.split()[0]\n",
        ")\n",
        "cars[\"power\"] = cars[\"power\"].astype(np.float64)\n"
      ]
    },
    {
      "attachments": {},
      "cell_type": "markdown",
      "metadata": {},
      "source": [
        "If power > 200 -> power = nan\n"
      ]
    },
    {
      "cell_type": "code",
      "execution_count": null,
      "metadata": {},
      "outputs": [],
      "source": [
        "power_over_200 = cars[\"power\"] > 200\n",
        "cars.loc[power_over_200, \"power\"] = np.nan"
      ]
    },
    {
      "attachments": {},
      "cell_type": "markdown",
      "metadata": {},
      "source": [
        "Get Mode Power per model and change the value of power if it exceeds the iqr range per model\n"
      ]
    },
    {
      "cell_type": "code",
      "execution_count": null,
      "metadata": {},
      "outputs": [],
      "source": [
        "model_to_power_mode = (\n",
        "    cars.groupby(\"model\")[\"power\"]\n",
        "    .apply(lambda x: x.mode()[0] if len(x.mode()) > 0 else np.nan)\n",
        "    .to_dict()\n",
        ")\n",
        "model_to_upper_bound = {}\n",
        "for model in cars[\"model\"].unique():\n",
        "    try:\n",
        "        df = cars.groupby(\"model\").get_group(model)\n",
        "    except KeyError:\n",
        "        continue\n",
        "\n",
        "    if df.empty:\n",
        "        continue\n",
        "\n",
        "    power_values = df.loc[df[\"power\"].notna(), \"power\"]\n",
        "\n",
        "    if power_values.empty:\n",
        "        continue\n",
        "\n",
        "    q1 = np.percentile(power_values, 25)\n",
        "    q3 = np.percentile(power_values, 75)\n",
        "\n",
        "    iqr = q3 - q1\n",
        "\n",
        "    upper_bound = q3 + 1.5 * iqr\n",
        "    model_to_upper_bound[model] = upper_bound\n",
        "\n",
        "for model in cars[\"model\"].unique():\n",
        "    df = cars[cars[\"model\"] == model]\n",
        "\n",
        "    power_values = df.loc[df[\"power\"].notna(), \"power\"]\n",
        "\n",
        "    if power_values.empty:\n",
        "        continue\n",
        "\n",
        "    cars.loc[(cars[\"model\"] == model) & (cars[\"power\"] >= model_to_upper_bound[model]),\n",
        "        \"power\"\n",
        "    ] = model_to_power_mode[model]"
      ]
    },
    {
      "attachments": {},
      "cell_type": "markdown",
      "metadata": {},
      "source": [
        "## Price\n"
      ]
    },
    {
      "cell_type": "code",
      "execution_count": null,
      "metadata": {},
      "outputs": [],
      "source": [
        "summary_statistics(cars[\"price\"])\n",
        "cars[\"price\"].hist(bins=4)\n",
        "plt.xscale(\"log\")\n",
        "plt.show()\n"
      ]
    },
    {
      "attachments": {},
      "cell_type": "markdown",
      "metadata": {},
      "source": [
        "price -> abs(price)\n",
        "If price is 0 -> price = nan\n"
      ]
    },
    {
      "cell_type": "code",
      "execution_count": null,
      "metadata": {},
      "outputs": [],
      "source": [
        "cars[\"price\"] = abs(cars[\"price\"])\n",
        "price_is_0 = cars[\"price\"] <= 0\n",
        "cars.loc[price_is_0, \"price\"] = np.nan\n"
      ]
    },
    {
      "attachments": {},
      "cell_type": "markdown",
      "metadata": {},
      "source": [
        "If price over 1_000_000 -> price = nan\n"
      ]
    },
    {
      "cell_type": "code",
      "execution_count": null,
      "metadata": {},
      "outputs": [],
      "source": [
        "price_over_1_000_000 = cars[\"price\"] >= 1e6\n",
        "cars.loc[price_over_1_000_000, \"price\"] = np.nan\n",
        "\n"
      ]
    },
    {
      "attachments": {},
      "cell_type": "markdown",
      "metadata": {},
      "source": [
        "If price less than 500 -> price \\*= 1000\n"
      ]
    },
    {
      "cell_type": "code",
      "execution_count": null,
      "metadata": {},
      "outputs": [],
      "source": [
        "print(\n",
        "    cars.loc[\n",
        "        (cars[\"model\"] ==\"206\") & (cars[\"price\"] < 100000),\n",
        "        [\"brand\", \"model\", \"year\", \"mileage\", \"price\"],\n",
        "    ].sort_values(by=[\"price\", \"year\"], ascending=[False, True])\n",
        ")\n",
        "cars.loc[(cars[\"price\"] > 1) & (cars[\"price\"] < 500), [\"price\", \"year\"]].hist(bins=5)\n",
        "plt.show()\n"
      ]
    },
    {
      "cell_type": "code",
      "execution_count": null,
      "metadata": {},
      "outputs": [],
      "source": [
        "price_less_than_1000 = cars[\"price\"] <= 500\n",
        "cars.loc[price_less_than_1000, \"price\"] *= 1000"
      ]
    },
    {
      "cell_type": "code",
      "execution_count": null,
      "metadata": {},
      "outputs": [],
      "source": [
        "ax = sns.boxplot(\n",
        "    data=cars[[\"price\"]],\n",
        "    width=0.5,\n",
        "    orient=\"h\",\n",
        "    flierprops=dict(markeredgecolor=\"#D94D1F\"),\n",
        ")\n",
        "plt.xscale(\"log\")\n",
        "plt.show()\n"
      ]
    },
    {
      "attachments": {},
      "cell_type": "markdown",
      "metadata": {},
      "source": [
        "price < 4000 -> np.nan"
      ]
    },
    {
      "cell_type": "code",
      "execution_count": null,
      "metadata": {},
      "outputs": [],
      "source": [
        "uncoherent_pattern=(cars[\"price\"] ==1234) | (cars[\"price\"] ==1111) | (cars[\"price\"] <=1000)\n",
        "data=cars.loc[uncoherent_pattern,\n",
        "        [\"brand\", \"model\", \"year\", \"mileage\", \"price\"],\n",
        "    ].sort_values(by=[\"price\",\"year\"], ascending=[True, True])\n",
        "print(data)\n",
        "cars.loc[uncoherent_pattern,\n",
        "        \"price\",\n",
        "    ]=np.nan"
      ]
    },
    {
      "cell_type": "code",
      "execution_count": null,
      "metadata": {},
      "outputs": [],
      "source": [
        "\n",
        "under_4000=(cars[\"price\"] <=4000)\n",
        "\n",
        "data=cars.loc[under_4000,\n",
        "        [\"brand\", \"model\", \"year\", \"mileage\", \"price\"],\n",
        "    ].sort_values(by=[\"year\",\"price\"], ascending=[False, True])\n",
        "print(data)\n",
        "plt.hist(data[\"year\"], bins=7, alpha=0.5, label=model)\n",
        "\n",
        "\n"
      ]
    },
    {
      "cell_type": "code",
      "execution_count": null,
      "metadata": {},
      "outputs": [],
      "source": [
        "recent=cars[\"year\"]>2000\n",
        "cars.loc[under_4000 & recent,\n",
        "        [\"price\"],\n",
        "    ]=np.nan"
      ]
    },
    {
      "attachments": {},
      "cell_type": "markdown",
      "metadata": {},
      "source": [
        "price grouped by model"
      ]
    },
    {
      "cell_type": "code",
      "execution_count": null,
      "metadata": {},
      "outputs": [],
      "source": [
        "def calIQR(x):\n",
        "    q3=x.quantile(.75)\n",
        "    q1=x.quantile(.25)\n",
        "    iqr=q3-q1\n",
        "    lower_bound=q1-1.5*iqr\n",
        "    upper_bound=q3+1.5*iqr\n",
        "    return (lower_bound,upper_bound)\n",
        "\n",
        "def callZscore(x):\n",
        "    mean = np.mean(x, axis=0)\n",
        "    std = np.std(x,axis=0)\n",
        "    return abs((x - mean) / std)\n",
        "    # return zscore(x)\n",
        "\n",
        "    \n",
        "\n",
        "\n"
      ]
    },
    {
      "attachments": {},
      "cell_type": "markdown",
      "metadata": {},
      "source": [
        "IQR"
      ]
    },
    {
      "cell_type": "code",
      "execution_count": null,
      "metadata": {},
      "outputs": [],
      "source": [
        "cars_grouped=cars.groupby(\"model\")\n",
        "bounds = cars_grouped[\"price\"].apply(calIQR)\n",
        "# print(my_dict)"
      ]
    },
    {
      "cell_type": "code",
      "execution_count": null,
      "metadata": {},
      "outputs": [],
      "source": [
        "\n",
        "def histogram_by_model(grouped,model,column):\n",
        "    grouped=cars.groupby(\"model\")\n",
        "    rows=grouped.get_group(model)\n",
        "    summary_statistics(rows[column])\n",
        "\n",
        "    plt.hist(rows[column], bins=7, alpha=0.5, label=model)\n",
        "\n",
        "def boxplot_by_model(grouped,model,column):\n",
        "    grouped=cars.groupby(\"model\")\n",
        "\n",
        "    rows=grouped.get_group(model)\n",
        "    sns.boxplot(\n",
        "    data=rows[[column]], orient=\"h\", flierprops=dict(markeredgecolor=\"#D94D1F\")\n",
        ")\n",
        "\n",
        "    plt.show()\n",
        "\n"
      ]
    },
    {
      "cell_type": "code",
      "execution_count": null,
      "metadata": {},
      "outputs": [],
      "source": [
        "model=\"206\"\n",
        "histogram_by_model(cars_grouped,model,\"price\")\n",
        "# boxplot_by_model(cars_grouped,model,\"price\")"
      ]
    },
    {
      "cell_type": "code",
      "execution_count": null,
      "metadata": {},
      "outputs": [],
      "source": [
        "\n",
        "models=cars['model'].unique()\n",
        "lower=bounds[model][0]\n",
        "upper=bounds[model][1]\n",
        "\n",
        "# print(lower,upper)\n",
        "\n",
        "cars.loc[(cars[\"model\"] == model) & ((cars[\"price\"] < lower) | (cars[\"price\"] > upper )),\n",
        "            \"price\"\n",
        "        ] = np.nan\n",
        "\n",
        "\n",
        "sum=0\n",
        "for model in models:\n",
        "    if  model not in bounds.keys()  : \n",
        "        continue\n",
        "\n",
        "    if str(bounds[model][0]) == 'nan':\n",
        "        continue\n",
        "    lower=bounds[model][0]\n",
        "    upper=bounds[model][1]\n",
        "   \n",
        "    print(lower,upper)\n",
        "    out=cars.loc[(cars[\"model\"] == model) & ((cars[\"price\"] < lower) | (cars[\"price\"] > upper )),\n",
        "            \"price\"\n",
        "        ] \n",
        "    sum+=out.shape[0]\n",
        "    out=np.nan\n",
        "    \n",
        "        \n",
        "print(sum)\n",
        "# boxplot_by_model(cars_grouped,\"Rio\",\"price\")\n",
        "# histogram_by_model(cars_grouped,model,\"price\")\n",
        "\n"
      ]
    },
    {
      "cell_type": "code",
      "execution_count": null,
      "metadata": {},
      "outputs": [],
      "source": [
        "\n",
        "data=cars.loc[(cars[\"price\"] <4000) ,\n",
        "        [\"brand\", \"model\", \"year\", \"mileage\", \"price\"],\n",
        "    ].sort_values(by=[\"price\", \"year\"], ascending=[False, True])\n",
        "print(data\n",
        "    \n",
        ")\n"
      ]
    },
    {
      "attachments": {},
      "cell_type": "markdown",
      "metadata": {},
      "source": [
        "## z_score\n"
      ]
    },
    {
      "cell_type": "code",
      "execution_count": null,
      "metadata": {},
      "outputs": [],
      "source": [
        "models=cars[\"model\"].unique()\n",
        "threshold=2\n",
        "for model in models:\n",
        "    if str(model) =='nan' : \n",
        "        continue \n",
        "    df=cars_grouped.get_group(model)\n",
        "    df[\"z_score\"]=callZscore(df[\"price\"])\n",
        "    above_threshold=df[\"z_score\"]> threshold\n",
        "    outliers=df.loc[above_threshold,[\"z_score\",\"price\",\"year\",\"mileage\",\"price_new\"]]\n",
        "    indices=outliers.index.tolist()\n",
        "    cars.loc[indices,\"price\" ]= np.nan\n",
        "\n",
        "    \n",
        "\n",
        "\n"
      ]
    },
    {
      "cell_type": "code",
      "execution_count": null,
      "metadata": {},
      "outputs": [],
      "source": [
        "cars[\"price\"].hist(bins=20)\n",
        "plt.yscale(\"log\")\n",
        "plt.show()\n",
        "summary_statistics(cars[\"price\"])\n"
      ]
    },
    {
      "cell_type": "code",
      "execution_count": null,
      "metadata": {},
      "outputs": [],
      "source": [
        "category1=cars.loc[cars[\"price\"]<100_000,\"price\"]\n",
        "category2=cars.loc[cars[\"price\"]>=100_000,\"price\"]\n",
        "category1.hist(bins=10)\n",
        "plt.yscale(\"log\")\n",
        "plt.show()\n",
        "summary_statistics(category1)\n"
      ]
    },
    {
      "cell_type": "code",
      "execution_count": null,
      "metadata": {},
      "outputs": [],
      "source": [
        "cars.loc[cars[\"price\"] > 400_000,[\"brand\", \"model\", \"year\", \"price\"]]\n"
      ]
    },
    {
      "cell_type": "code",
      "execution_count": null,
      "metadata": {},
      "outputs": [],
      "source": [
        "sns.boxplot(\n",
        "    data=cars[[\"price\"]], orient=\"h\", flierprops=dict(markeredgecolor=\"#D94D1F\")\n",
        ")\n",
        "plt.xscale(\"log\")\n",
        "\n",
        "plt.show()\n"
      ]
    }
  ],
  "metadata": {
    "kernelspec": {
      "display_name": "data-science",
      "language": "python",
      "name": "python3"
    },
    "language_info": {
      "codemirror_mode": {
        "name": "ipython",
        "version": 3
      },
      "file_extension": ".py",
      "mimetype": "text/x-python",
      "name": "python",
      "nbconvert_exporter": "python",
      "pygments_lexer": "ipython3",
      "version": "3.10.2"
    },
    "orig_nbformat": 4,
    "vscode": {
      "interpreter": {
        "hash": "dc2bd3b27271d03bf2eec87812cad119e0cb1920e9796b1f5a29990c3e7b9536"
      }
    }
  },
  "nbformat": 4,
  "nbformat_minor": 2
}
